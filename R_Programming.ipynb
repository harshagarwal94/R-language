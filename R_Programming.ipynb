{
  "nbformat": 4,
  "nbformat_minor": 0,
  "metadata": {
    "colab": {
      "provenance": []
    },
    "kernelspec": {
      "display_name": "R",
      "name": "ir"
    }
  },
  "cells": [
    {
      "cell_type": "markdown",
      "metadata": {
        "id": "Ici9NFEhrKUz"
      },
      "source": [
        "**https://colab.research.google.com/notebook#create=true&language=r**"
      ]
    },
    {
      "cell_type": "markdown",
      "metadata": {
        "id": "qx9f1bFxrYPr"
      },
      "source": [
        "**Open this link in your browser to create a new notebook with R Kernel**"
      ]
    },
    {
      "cell_type": "markdown",
      "metadata": {
        "id": "gf3jOOQwTIYz"
      },
      "source": [
        "1. **R Studio**\n",
        "# 2. Google CoLab"
      ]
    },
    {
      "cell_type": "markdown",
      "metadata": {
        "id": "wPImfLUwrc26"
      },
      "source": [
        "**To mount google drive:**"
      ]
    },
    {
      "cell_type": "code",
      "metadata": {
        "colab": {
          "base_uri": "https://localhost:8080/"
        },
        "id": "UTVIH8Umq84c",
        "outputId": "1989c436-163d-44b4-862c-391eb345da09"
      },
      "source": [
        "x <- 42\n",
        "print(x)"
      ],
      "execution_count": null,
      "outputs": [
        {
          "output_type": "stream",
          "text": [
            "[1] 42\n"
          ],
          "name": "stdout"
        }
      ]
    },
    {
      "cell_type": "code",
      "metadata": {
        "colab": {
          "base_uri": "https://localhost:8080/",
          "height": 34
        },
        "id": "-mY5Eal9x_hb",
        "outputId": "4faea441-4337-4b15-87e4-8d8ad5f6e809"
      },
      "source": [
        "x <- 6\n",
        "class(x)"
      ],
      "execution_count": null,
      "outputs": [
        {
          "output_type": "display_data",
          "data": {
            "text/plain": [
              "[1] \"numeric\""
            ],
            "text/latex": "'numeric'",
            "text/markdown": "'numeric'",
            "text/html": [
              "'numeric'"
            ]
          },
          "metadata": {}
        }
      ]
    },
    {
      "cell_type": "markdown",
      "metadata": {
        "id": "mvvOABflm-X5"
      },
      "source": [
        "**The R manual defines a vector as “a single entity consisting of a collection of things.” A collection of numbers, for example, is a numeric vector — the first five integer numbers form a numeric vector of length 5. **"
      ]
    },
    {
      "cell_type": "code",
      "metadata": {
        "colab": {
          "base_uri": "https://localhost:8080/",
          "height": 34
        },
        "id": "pr7F9oGuykWo",
        "outputId": "064addb3-52df-45fe-dfaf-85fd910fae78"
      },
      "source": [
        "x <- c(76, 72, NA, 100, 63)\n",
        "x"
      ],
      "execution_count": null,
      "outputs": [
        {
          "output_type": "display_data",
          "data": {
            "text/plain": [
              "[1]  76  72  NA 100  63"
            ],
            "text/latex": "\\begin{enumerate*}\n\\item 76\n\\item 72\n\\item <NA>\n\\item 100\n\\item 63\n\\end{enumerate*}\n",
            "text/markdown": "1. 76\n2. 72\n3. &lt;NA&gt;\n4. 100\n5. 63\n\n\n",
            "text/html": [
              "<style>\n",
              ".list-inline {list-style: none; margin:0; padding: 0}\n",
              ".list-inline>li {display: inline-block}\n",
              ".list-inline>li:not(:last-child)::after {content: \"\\00b7\"; padding: 0 .5ex}\n",
              "</style>\n",
              "<ol class=list-inline><li>76</li><li>72</li><li>&lt;NA&gt;</li><li>100</li><li>63</li></ol>\n"
            ]
          },
          "metadata": {}
        }
      ]
    },
    {
      "cell_type": "code",
      "metadata": {
        "colab": {
          "base_uri": "https://localhost:8080/",
          "height": 130
        },
        "id": "zRVWaajgzjpS",
        "outputId": "19faa838-0309-4fd2-8ec3-46cf517879b2"
      },
      "source": [
        "x <- vector(\"list\", length = 5) \n",
        "x"
      ],
      "execution_count": null,
      "outputs": [
        {
          "output_type": "display_data",
          "data": {
            "text/plain": [
              "[[1]]\n",
              "NULL\n",
              "\n",
              "[[2]]\n",
              "NULL\n",
              "\n",
              "[[3]]\n",
              "NULL\n",
              "\n",
              "[[4]]\n",
              "NULL\n",
              "\n",
              "[[5]]\n",
              "NULL\n"
            ],
            "text/latex": "\\begin{enumerate}\n\\item NULL\n\\item NULL\n\\item NULL\n\\item NULL\n\\item NULL\n\\end{enumerate}\n",
            "text/markdown": "1. NULL\n2. NULL\n3. NULL\n4. NULL\n5. NULL\n\n\n",
            "text/html": [
              "<ol>\n",
              "\t<li>NULL</li>\n",
              "\t<li>NULL</li>\n",
              "\t<li>NULL</li>\n",
              "\t<li>NULL</li>\n",
              "\t<li>NULL</li>\n",
              "</ol>\n"
            ]
          },
          "metadata": {}
        }
      ]
    },
    {
      "cell_type": "code",
      "metadata": {
        "colab": {
          "base_uri": "https://localhost:8080/"
        },
        "id": "8WMGGOpfr0rN",
        "outputId": "fd1f7f46-fb8c-4dd9-99c5-ae4eae532a74"
      },
      "source": [
        "install.packages(\"googledrive\")\n",
        "library(\"googledrive\")\n",
        "\n",
        "if (file.exists(\"/usr/local/lib/python3.6/dist-packages/google/colab/_ipython.py\")){ \n",
        "  install.packages(\"R.utils\")\n",
        "  library(\"R.utils\")\n",
        "  library(\"httr\")\n",
        "  my_check <- function() {return(TRUE)}\n",
        "  reassignInPackage(\"is_interactive\", pkgName = \"httr\", my_check)\n",
        "  options(rlang_interactive=TRUE)\n",
        "}      "
      ],
      "execution_count": null,
      "outputs": [
        {
          "output_type": "stream",
          "text": [
            "Installing package into ‘/usr/local/lib/R/site-library’\n",
            "(as ‘lib’ is unspecified)\n",
            "\n",
            "also installing the dependency ‘gargle’\n",
            "\n",
            "\n",
            "Installing package into ‘/usr/local/lib/R/site-library’\n",
            "(as ‘lib’ is unspecified)\n",
            "\n",
            "also installing the dependencies ‘R.oo’, ‘R.methodsS3’\n",
            "\n",
            "\n",
            "Loading required package: R.oo\n",
            "\n",
            "Loading required package: R.methodsS3\n",
            "\n",
            "R.methodsS3 v1.8.1 (2020-08-26 16:20:06 UTC) successfully loaded. See ?R.methodsS3 for help.\n",
            "\n",
            "R.oo v1.24.0 (2020-08-26 16:11:58 UTC) successfully loaded. See ?R.oo for help.\n",
            "\n",
            "\n",
            "Attaching package: ‘R.oo’\n",
            "\n",
            "\n",
            "The following object is masked from ‘package:R.methodsS3’:\n",
            "\n",
            "    throw\n",
            "\n",
            "\n",
            "The following objects are masked from ‘package:methods’:\n",
            "\n",
            "    getClasses, getMethods\n",
            "\n",
            "\n",
            "The following objects are masked from ‘package:base’:\n",
            "\n",
            "    attach, detach, load, save\n",
            "\n",
            "\n",
            "R.utils v2.10.1 (2020-08-26 22:50:31 UTC) successfully loaded. See ?R.utils for help.\n",
            "\n",
            "\n",
            "Attaching package: ‘R.utils’\n",
            "\n",
            "\n",
            "The following object is masked from ‘package:utils’:\n",
            "\n",
            "    timestamp\n",
            "\n",
            "\n",
            "The following objects are masked from ‘package:base’:\n",
            "\n",
            "    cat, commandArgs, getOption, inherits, isOpen, nullfile, parse,\n",
            "    warnings\n",
            "\n",
            "\n"
          ],
          "name": "stderr"
        }
      ]
    },
    {
      "cell_type": "markdown",
      "metadata": {
        "id": "3_GS-UId7l3H"
      },
      "source": [
        "**Install libraries**"
      ]
    },
    {
      "cell_type": "code",
      "metadata": {
        "colab": {
          "base_uri": "https://localhost:8080/"
        },
        "id": "u-vGD7wV7hkt",
        "outputId": "846b2ba9-8a95-433c-fd89-2500b2d36b65"
      },
      "source": [
        "Sys.setenv(PATH= paste(\"/conda/bin\" , Sys.getenv(\"PATH\"), sep = \":\" ) )\n",
        "install.packages('ggmap', repos='http://cran.rstudio.com/')\n",
        "\n",
        "install.packages('codetools', repos='http://cran.rstudio.com/')"
      ],
      "execution_count": null,
      "outputs": [
        {
          "output_type": "stream",
          "text": [
            "Installing package into ‘/usr/local/lib/R/site-library’\n",
            "(as ‘lib’ is unspecified)\n",
            "\n",
            "also installing the dependencies ‘sp’, ‘RgoogleMaps’, ‘png’, ‘plyr’, ‘rjson’, ‘jpeg’, ‘bitops’\n",
            "\n",
            "\n",
            "Installing package into ‘/usr/local/lib/R/site-library’\n",
            "(as ‘lib’ is unspecified)\n",
            "\n"
          ],
          "name": "stderr"
        }
      ]
    },
    {
      "cell_type": "code",
      "metadata": {
        "colab": {
          "base_uri": "https://localhost:8080/"
        },
        "id": "-p8lT8lWr1ti",
        "outputId": "136be0d2-fd2f-40aa-cead-bd48df3b6ba1"
      },
      "source": [
        "drive_auth(use_oob = TRUE, cache = TRUE)"
      ],
      "execution_count": null,
      "outputs": [
        {
          "output_type": "stream",
          "text": [
            "Please point your browser to the following url: \n",
            "\n",
            "https://accounts.google.com/o/oauth2/auth?client_id=603366585132-0l3n5tr582q443rnomebdeeo0156b2bc.apps.googleusercontent.com&scope=https%3A%2F%2Fwww.googleapis.com%2Fauth%2Fdrive%20https%3A%2F%2Fwww.googleapis.com%2Fauth%2Fuserinfo.email&redirect_uri=urn%3Aietf%3Awg%3Aoauth%3A2.0%3Aoob&response_type=code\n",
            "\n"
          ],
          "name": "stderr"
        },
        {
          "output_type": "stream",
          "text": [
            "Enter authorization code: 4/1AY0e-g6GR_C5X3j8yb_vH_yyWktvDuubtV7A4Z-xmipJ2EY7UKyPA910QF0\n"
          ],
          "name": "stdout"
        }
      ]
    },
    {
      "cell_type": "code",
      "metadata": {
        "colab": {
          "base_uri": "https://localhost:8080/",
          "height": 52
        },
        "id": "pvuB4heNs13S",
        "outputId": "e5976101-93d7-483c-afc1-112608c7dc04"
      },
      "source": [
        "myString <- \"Welcome to AICTE STTP Last day Session\"\n",
        "print ( myString)\n",
        "\"Hello, World!\""
      ],
      "execution_count": null,
      "outputs": [
        {
          "output_type": "stream",
          "name": "stdout",
          "text": [
            "[1] \"Welcome to AICTE STTP Last day Session\"\n"
          ]
        },
        {
          "output_type": "display_data",
          "data": {
            "text/plain": [
              "[1] \"Hello, World!\""
            ],
            "text/latex": "'Hello, World!'",
            "text/markdown": "'Hello, World!'",
            "text/html": [
              "'Hello, World!'"
            ]
          },
          "metadata": {}
        }
      ]
    },
    {
      "cell_type": "markdown",
      "metadata": {
        "id": "xUOAA5wCAnfm"
      },
      "source": [
        "**Logical**"
      ]
    },
    {
      "cell_type": "code",
      "metadata": {
        "colab": {
          "base_uri": "https://localhost:8080/"
        },
        "id": "ewV61K0-_b2i",
        "outputId": "946d9c89-fa41-42bd-aa3a-68b2847a02a0"
      },
      "source": [
        "v <- TRUE \n",
        "print(class(v))\n"
      ],
      "execution_count": null,
      "outputs": [
        {
          "output_type": "stream",
          "text": [
            "[1] \"logical\"\n"
          ],
          "name": "stdout"
        }
      ]
    },
    {
      "cell_type": "code",
      "metadata": {
        "colab": {
          "base_uri": "https://localhost:8080/"
        },
        "id": "zN9k6oiRUJ4X",
        "outputId": "adf37fdc-5bdb-4cba-cbaa-1eb40f18c8ba"
      },
      "source": [
        "print(v)"
      ],
      "execution_count": null,
      "outputs": [
        {
          "output_type": "stream",
          "text": [
            "[1] TRUE\n"
          ],
          "name": "stdout"
        }
      ]
    },
    {
      "cell_type": "markdown",
      "metadata": {
        "id": "yPhFAxvQAqCm"
      },
      "source": [
        "**Numeric**"
      ]
    },
    {
      "cell_type": "code",
      "metadata": {
        "colab": {
          "base_uri": "https://localhost:8080/"
        },
        "id": "evd1U7xNAPgi",
        "outputId": "734995c8-820f-4fc0-8f91-c8c96aa2c418"
      },
      "source": [
        "v <- 23.5\n",
        "print(class(v))"
      ],
      "execution_count": null,
      "outputs": [
        {
          "output_type": "stream",
          "text": [
            "[1] \"numeric\"\n"
          ],
          "name": "stdout"
        }
      ]
    },
    {
      "cell_type": "markdown",
      "metadata": {
        "id": "Otp2XLXBAuR-"
      },
      "source": [
        "**Integer**"
      ]
    },
    {
      "cell_type": "code",
      "metadata": {
        "colab": {
          "base_uri": "https://localhost:8080/"
        },
        "id": "Ju6yBWf6ATMx",
        "outputId": "867764d1-63b7-453d-e7cb-1df93491324d"
      },
      "source": [
        "v <- 2021L\n",
        "print(class(v))"
      ],
      "execution_count": null,
      "outputs": [
        {
          "output_type": "stream",
          "name": "stdout",
          "text": [
            "[1] \"integer\"\n"
          ]
        }
      ]
    },
    {
      "cell_type": "code",
      "metadata": {
        "colab": {
          "base_uri": "https://localhost:8080/"
        },
        "id": "gG2tuhgFUP2i",
        "outputId": "bbc3a861-e05b-455e-a2c2-5a2500e12069"
      },
      "source": [
        "print(v)"
      ],
      "execution_count": null,
      "outputs": [
        {
          "output_type": "stream",
          "text": [
            "[1] 2\n"
          ],
          "name": "stdout"
        }
      ]
    },
    {
      "cell_type": "markdown",
      "metadata": {
        "id": "sb8ZZtv3Aytq"
      },
      "source": [
        "**Complex**"
      ]
    },
    {
      "cell_type": "code",
      "metadata": {
        "colab": {
          "base_uri": "https://localhost:8080/"
        },
        "id": "7fxQr217AXqs",
        "outputId": "1fd13c10-d01a-4ebf-84c1-3ddaade4a9c0"
      },
      "source": [
        "v <- 2.2+5.5i\n",
        "print(class(v))"
      ],
      "execution_count": null,
      "outputs": [
        {
          "output_type": "stream",
          "name": "stdout",
          "text": [
            "[1] \"complex\"\n"
          ]
        }
      ]
    },
    {
      "cell_type": "code",
      "metadata": {
        "colab": {
          "base_uri": "https://localhost:8080/"
        },
        "id": "loTgM_tEUVv7",
        "outputId": "3e74d21f-9b15-4e35-ca25-bbe021147ef9"
      },
      "source": [
        "print(v)"
      ],
      "execution_count": null,
      "outputs": [
        {
          "output_type": "stream",
          "name": "stdout",
          "text": [
            "[1] 2.2+5.5i\n"
          ]
        }
      ]
    },
    {
      "cell_type": "markdown",
      "metadata": {
        "id": "oGBdI2X7A3-K"
      },
      "source": [
        "**Character**"
      ]
    },
    {
      "cell_type": "code",
      "metadata": {
        "colab": {
          "base_uri": "https://localhost:8080/"
        },
        "id": "mlJoZvhLAaXZ",
        "outputId": "92eedeef-9774-47cc-f6d4-c9420d0e3255"
      },
      "source": [
        "v <- \"TRUE\"\n",
        "print(class(v))"
      ],
      "execution_count": null,
      "outputs": [
        {
          "output_type": "stream",
          "text": [
            "[1] \"character\"\n"
          ],
          "name": "stdout"
        }
      ]
    },
    {
      "cell_type": "code",
      "metadata": {
        "colab": {
          "base_uri": "https://localhost:8080/"
        },
        "id": "r96ERii5UdU4",
        "outputId": "f1bb93e1-ea97-4cf0-d01a-e1c3d637a451"
      },
      "source": [
        "print(v)"
      ],
      "execution_count": null,
      "outputs": [
        {
          "output_type": "stream",
          "text": [
            "[1] \"TRUE\"\n"
          ],
          "name": "stdout"
        }
      ]
    },
    {
      "cell_type": "markdown",
      "metadata": {
        "id": "gcuUNhQaA-tS"
      },
      "source": [
        "**Raw**"
      ]
    },
    {
      "cell_type": "markdown",
      "metadata": {
        "id": "8eZjxCrLnVnA"
      },
      "source": [
        "A raw vector is used to represent a \"raw\" sequence of bytes. Each byte is a value between 0 and 255. There are no NA values."
      ]
    },
    {
      "cell_type": "code",
      "metadata": {
        "colab": {
          "base_uri": "https://localhost:8080/"
        },
        "id": "qvVaGWgcAdpc",
        "outputId": "5cdbb581-b7fa-42f6-b245-705d43ec3772"
      },
      "source": [
        "\n",
        "v <- charToRaw(\"Hello\")\n",
        "print(class(v))"
      ],
      "execution_count": null,
      "outputs": [
        {
          "output_type": "stream",
          "text": [
            "[1] \"raw\"\n"
          ],
          "name": "stdout"
        }
      ]
    },
    {
      "cell_type": "markdown",
      "metadata": {
        "id": "M_a6PHqs26ZS"
      },
      "source": [
        "Base value is different not the base 10"
      ]
    },
    {
      "cell_type": "code",
      "metadata": {
        "colab": {
          "base_uri": "https://localhost:8080/"
        },
        "id": "_vnYxGpbUhPg",
        "outputId": "d8cb9518-c195-4266-ae3d-26307d31646b"
      },
      "source": [
        "print(v)"
      ],
      "execution_count": null,
      "outputs": [
        {
          "output_type": "stream",
          "text": [
            "[1] 48 65 6c 6c 6f\n"
          ],
          "name": "stdout"
        }
      ]
    },
    {
      "cell_type": "markdown",
      "metadata": {
        "id": "qUmBAay8BFN7"
      },
      "source": [
        "**Vectors**"
      ]
    },
    {
      "cell_type": "markdown",
      "metadata": {
        "id": "BlPumP4JETMq"
      },
      "source": [
        "**Atomic vectors, of which there are six types: logical, integer, double, character, complex, and raw. Integer and double vectors are collectively known as numeric vectors.**"
      ]
    },
    {
      "cell_type": "code",
      "metadata": {
        "colab": {
          "base_uri": "https://localhost:8080/"
        },
        "id": "LSH7Q5XoBEQk",
        "outputId": "292fcc38-18a1-4dfd-fa2e-67b30c92f35c"
      },
      "source": [
        "# Create a vector.\n",
        "apple <- c('red','green',\"yellow\")\n",
        "print(apple)\n",
        "\n",
        "# Get the class of the vector.\n",
        "print(class(apple))"
      ],
      "execution_count": null,
      "outputs": [
        {
          "output_type": "stream",
          "text": [
            "[1] \"red\"    \"green\"  \"yellow\"\n",
            "[1] \"character\"\n"
          ],
          "name": "stdout"
        }
      ]
    },
    {
      "cell_type": "markdown",
      "metadata": {
        "id": "TaAtPmBHBRD3"
      },
      "source": [
        "**Lists**\n",
        "A list is an R-object which can contain many different types of elements inside it like vectors, functions and even another list inside it."
      ]
    },
    {
      "cell_type": "code",
      "metadata": {
        "colab": {
          "base_uri": "https://localhost:8080/"
        },
        "id": "4zU9hqFiBesD",
        "outputId": "7b0eba47-5f95-4a68-b590-304accd089c8"
      },
      "source": [
        "# Create a list.\n",
        "list1 <- list(c(2,5,3),21.3,sin)\n",
        "\n",
        "# Print the list.\n",
        "print(list1)"
      ],
      "execution_count": null,
      "outputs": [
        {
          "output_type": "stream",
          "name": "stdout",
          "text": [
            "[[1]]\n",
            "[1] 2 5 3\n",
            "\n",
            "[[2]]\n",
            "[1] 21.3\n",
            "\n",
            "[[3]]\n",
            "function (x)  .Primitive(\"sin\")\n",
            "\n"
          ]
        }
      ]
    },
    {
      "cell_type": "code",
      "metadata": {
        "colab": {
          "base_uri": "https://localhost:8080/",
          "height": 130
        },
        "id": "_V_DOdAU3clk",
        "outputId": "c9d4d245-ed54-4850-81ab-23db89e4f0e6"
      },
      "source": [
        "pdata <- list(\"Lakshmi\", 67.5, 44, print(\"Coimbatore\"))\n",
        "pdata"
      ],
      "execution_count": null,
      "outputs": [
        {
          "output_type": "stream",
          "name": "stdout",
          "text": [
            "[1] \"Coimbatore\"\n"
          ]
        },
        {
          "output_type": "display_data",
          "data": {
            "text/plain": [
              "[[1]]\n",
              "[1] \"Lakshmi\"\n",
              "\n",
              "[[2]]\n",
              "[1] 67.5\n",
              "\n",
              "[[3]]\n",
              "[1] 44\n",
              "\n",
              "[[4]]\n",
              "[1] \"Coimbatore\"\n"
            ],
            "text/latex": "\\begin{enumerate}\n\\item 'Lakshmi'\n\\item 67.5\n\\item 44\n\\item 'Coimbatore'\n\\end{enumerate}\n",
            "text/markdown": "1. 'Lakshmi'\n2. 67.5\n3. 44\n4. 'Coimbatore'\n\n\n",
            "text/html": [
              "<ol>\n",
              "\t<li>'Lakshmi'</li>\n",
              "\t<li>67.5</li>\n",
              "\t<li>44</li>\n",
              "\t<li>'Coimbatore'</li>\n",
              "</ol>\n"
            ]
          },
          "metadata": {}
        }
      ]
    },
    {
      "cell_type": "markdown",
      "metadata": {
        "id": "iEytRR4EBmbM"
      },
      "source": [
        "**Matrices**\n",
        "A matrix is a two-dimensional rectangular data set. It can be created using a vector input to the matrix function."
      ]
    },
    {
      "cell_type": "code",
      "metadata": {
        "colab": {
          "base_uri": "https://localhost:8080/"
        },
        "id": "HLXSZgX9BiuL",
        "outputId": "41a7cb78-1593-4ea8-c899-9585606de28a"
      },
      "source": [
        "# Create a matrix.\n",
        "M = matrix( c('a','a','b','c','b','a'), nrow = 3, ncol = 2, byrow = FALSE)\n",
        "print(M)"
      ],
      "execution_count": null,
      "outputs": [
        {
          "output_type": "stream",
          "name": "stdout",
          "text": [
            "     [,1] [,2]\n",
            "[1,] \"a\"  \"c\" \n",
            "[2,] \"a\"  \"b\" \n",
            "[3,] \"b\"  \"a\" \n"
          ]
        }
      ]
    },
    {
      "cell_type": "code",
      "metadata": {
        "colab": {
          "base_uri": "https://localhost:8080/"
        },
        "id": "Mncp2JN24ODE",
        "outputId": "665eff69-c659-4639-84e0-882d8d2f1e33"
      },
      "source": [
        "# Create a matrix.\n",
        "M = matrix( c('a','a','b','c','b','a'), nrow = 3, ncol = 2, byrow = TRUE)\n",
        "print(M)"
      ],
      "execution_count": null,
      "outputs": [
        {
          "output_type": "stream",
          "name": "stdout",
          "text": [
            "     [,1] [,2]\n",
            "[1,] \"a\"  \"a\" \n",
            "[2,] \"b\"  \"c\" \n",
            "[3,] \"b\"  \"a\" \n"
          ]
        }
      ]
    },
    {
      "cell_type": "code",
      "metadata": {
        "id": "w01JF2S-WCtJ",
        "colab": {
          "base_uri": "https://localhost:8080/"
        },
        "outputId": "318efb9d-3675-4870-e5a2-180ef47d80c3"
      },
      "source": [
        "help(matrix)"
      ],
      "execution_count": null,
      "outputs": [
        {
          "output_type": "stream",
          "name": "stderr",
          "text": [
            "Warning message in seq_len(head.end.idx):\n",
            "“first element used of 'length.out' argument”\n",
            "ERROR while rich displaying an object: Error in seq_len(head.end.idx): argument must be coercible to non-negative integer\n",
            "\n",
            "Traceback:\n",
            "1. FUN(X[[i]], ...)\n",
            "2. tryCatch(withCallingHandlers({\n",
            " .     if (!mime %in% names(repr::mime2repr)) \n",
            " .         stop(\"No repr_* for mimetype \", mime, \" in repr::mime2repr\")\n",
            " .     rpr <- repr::mime2repr[[mime]](obj)\n",
            " .     if (is.null(rpr)) \n",
            " .         return(NULL)\n",
            " .     prepare_content(is.raw(rpr), rpr)\n",
            " . }, error = error_handler), error = outer_handler)\n",
            "3. tryCatchList(expr, classes, parentenv, handlers)\n",
            "4. tryCatchOne(expr, names, parentenv, handlers[[1L]])\n",
            "5. doTryCatch(return(expr), name, parentenv, handler)\n",
            "6. withCallingHandlers({\n",
            " .     if (!mime %in% names(repr::mime2repr)) \n",
            " .         stop(\"No repr_* for mimetype \", mime, \" in repr::mime2repr\")\n",
            " .     rpr <- repr::mime2repr[[mime]](obj)\n",
            " .     if (is.null(rpr)) \n",
            " .         return(NULL)\n",
            " .     prepare_content(is.raw(rpr), rpr)\n",
            " . }, error = error_handler)\n",
            "7. repr::mime2repr[[mime]](obj)\n",
            "8. repr_html.help_files_with_topic(obj)\n",
            "9. repr_help_files_with_topic_generic(obj, Rd2HTML)\n"
          ]
        }
      ]
    },
    {
      "cell_type": "markdown",
      "metadata": {
        "id": "u9O9vQoYBxox"
      },
      "source": [
        "**Arrays**\n",
        "While matrices are confined to two dimensions, arrays can be of any number of dimensions. "
      ]
    },
    {
      "cell_type": "code",
      "metadata": {
        "colab": {
          "base_uri": "https://localhost:8080/"
        },
        "id": "b53ZBcoOBsGV",
        "outputId": "42caf718-7266-48b6-e924-2d69ad4bc9e4"
      },
      "source": [
        "# Create an array.\n",
        "a <- array(c('green','yellow'),dim = c(3,3,2))\n",
        "print(a)"
      ],
      "execution_count": null,
      "outputs": [
        {
          "output_type": "stream",
          "name": "stdout",
          "text": [
            ", , 1\n",
            "\n",
            "     [,1]     [,2]     [,3]    \n",
            "[1,] \"green\"  \"yellow\" \"green\" \n",
            "[2,] \"yellow\" \"green\"  \"yellow\"\n",
            "[3,] \"green\"  \"yellow\" \"green\" \n",
            "\n",
            ", , 2\n",
            "\n",
            "     [,1]     [,2]     [,3]    \n",
            "[1,] \"yellow\" \"green\"  \"yellow\"\n",
            "[2,] \"green\"  \"yellow\" \"green\" \n",
            "[3,] \"yellow\" \"green\"  \"yellow\"\n",
            "\n"
          ]
        }
      ]
    },
    {
      "cell_type": "markdown",
      "metadata": {
        "id": "PTA9QAYA2zil"
      },
      "source": [
        "# **Monday 13-09-2021**"
      ]
    },
    {
      "cell_type": "markdown",
      "metadata": {
        "id": "CbY_w1Hf6gwc"
      },
      "source": [
        "Most Reliable Study or Reference Material\n",
        "\n",
        "https://www.rdocumentation.org/"
      ]
    },
    {
      "cell_type": "code",
      "metadata": {
        "colab": {
          "base_uri": "https://localhost:8080/",
          "height": 52
        },
        "id": "Ks8rTKOFMni0",
        "outputId": "1de59a1a-c6b4-42ab-b6da-7ead38ab5ae4"
      },
      "source": [
        "input_read <- readline() #Accept only the character\n",
        "input_read"
      ],
      "execution_count": null,
      "outputs": [
        {
          "name": "stdout",
          "output_type": "stream",
          "text": [
            "Welcome you all to my session\n"
          ]
        },
        {
          "output_type": "display_data",
          "data": {
            "text/plain": [
              "[1] \"Welcome you all to my session\""
            ],
            "text/latex": "'Welcome you all to my session'",
            "text/markdown": "'Welcome you all to my session'",
            "text/html": [
              "'Welcome you all to my session'"
            ]
          },
          "metadata": {}
        }
      ]
    },
    {
      "cell_type": "code",
      "metadata": {
        "colab": {
          "base_uri": "https://localhost:8080/",
          "height": 79
        },
        "id": "H5cDWYlPM5nx",
        "outputId": "7337c493-0d71-4d06-b3d8-6b3a42ecf2bb"
      },
      "source": [
        "input_read2 <- readline()\n",
        "input_read2 <- strsplit(input_read2,\"o\")\n",
        "input_read2"
      ],
      "execution_count": null,
      "outputs": [
        {
          "name": "stdout",
          "output_type": "stream",
          "text": [
            "Welcome you all to my session\n"
          ]
        },
        {
          "output_type": "display_data",
          "data": {
            "text/plain": [
              "[[1]]\n",
              "[1] \"Welc\"      \"me y\"      \"u all t\"   \" my sessi\" \"n\"        \n"
            ],
            "text/latex": "\\begin{enumerate}\n\\item \\begin{enumerate*}\n\\item 'Welc'\n\\item 'me y'\n\\item 'u all t'\n\\item ' my sessi'\n\\item 'n'\n\\end{enumerate*}\n\n\\end{enumerate}\n",
            "text/markdown": "1. 1. 'Welc'\n2. 'me y'\n3. 'u all t'\n4. ' my sessi'\n5. 'n'\n\n\n\n\n\n",
            "text/html": [
              "<ol>\n",
              "\t<li><style>\n",
              ".list-inline {list-style: none; margin:0; padding: 0}\n",
              ".list-inline>li {display: inline-block}\n",
              ".list-inline>li:not(:last-child)::after {content: \"\\00b7\"; padding: 0 .5ex}\n",
              "</style>\n",
              "<ol class=list-inline><li>'Welc'</li><li>'me y'</li><li>'u all t'</li><li>' my sessi'</li><li>'n'</li></ol>\n",
              "</li>\n",
              "</ol>\n"
            ]
          },
          "metadata": {}
        }
      ]
    },
    {
      "cell_type": "code",
      "metadata": {
        "colab": {
          "base_uri": "https://localhost:8080/",
          "height": 62
        },
        "id": "rySxCUgVUUas",
        "outputId": "1b9f1d21-0151-4ddc-e8c7-8d1f6e69a671"
      },
      "source": [
        "input_read2 <- strsplit(\"Welcome you all to my session\",\"o\")\n",
        "input_read2"
      ],
      "execution_count": null,
      "outputs": [
        {
          "output_type": "display_data",
          "data": {
            "text/plain": [
              "[[1]]\n",
              "[1] \"Welc\"      \"me y\"      \"u all t\"   \" my sessi\" \"n\"        \n"
            ],
            "text/latex": "\\begin{enumerate}\n\\item \\begin{enumerate*}\n\\item 'Welc'\n\\item 'me y'\n\\item 'u all t'\n\\item ' my sessi'\n\\item 'n'\n\\end{enumerate*}\n\n\\end{enumerate}\n",
            "text/markdown": "1. 1. 'Welc'\n2. 'me y'\n3. 'u all t'\n4. ' my sessi'\n5. 'n'\n\n\n\n\n\n",
            "text/html": [
              "<ol>\n",
              "\t<li><style>\n",
              ".list-inline {list-style: none; margin:0; padding: 0}\n",
              ".list-inline>li {display: inline-block}\n",
              ".list-inline>li:not(:last-child)::after {content: \"\\00b7\"; padding: 0 .5ex}\n",
              "</style>\n",
              "<ol class=list-inline><li>'Welc'</li><li>'me y'</li><li>'u all t'</li><li>' my sessi'</li><li>'n'</li></ol>\n",
              "</li>\n",
              "</ol>\n"
            ]
          },
          "metadata": {}
        }
      ]
    },
    {
      "cell_type": "code",
      "metadata": {
        "colab": {
          "base_uri": "https://localhost:8080/",
          "height": 115
        },
        "id": "jv-ZutrwNLjk",
        "outputId": "bfefe69d-dd66-4b0b-90b7-dfb7cc746e61"
      },
      "source": [
        "input_read <- readline()\n",
        "input_read+1"
      ],
      "execution_count": null,
      "outputs": [
        {
          "name": "stdout",
          "output_type": "stream",
          "text": [
            "45\n"
          ]
        },
        {
          "output_type": "error",
          "ename": "ERROR",
          "evalue": "ignored",
          "traceback": [
            "Error in input_read + 1: non-numeric argument to binary operator\nTraceback:\n"
          ]
        }
      ]
    },
    {
      "cell_type": "code",
      "metadata": {
        "colab": {
          "base_uri": "https://localhost:8080/",
          "height": 52
        },
        "id": "F4SmML4qNhj5",
        "outputId": "4e77235a-da9e-4ea9-a527-f658bbb6a1bc"
      },
      "source": [
        "input_read <- as.integer(readline()) #Cooercision or external type conversion\n",
        "input_read+1"
      ],
      "execution_count": null,
      "outputs": [
        {
          "name": "stdout",
          "output_type": "stream",
          "text": [
            "2021\n"
          ]
        },
        {
          "output_type": "display_data",
          "data": {
            "text/plain": [
              "[1] 2022"
            ],
            "text/latex": "2022",
            "text/markdown": "2022",
            "text/html": [
              "2022"
            ]
          },
          "metadata": {}
        }
      ]
    },
    {
      "cell_type": "code",
      "metadata": {
        "colab": {
          "base_uri": "https://localhost:8080/",
          "height": 52
        },
        "id": "utVb-tk5VmPP",
        "outputId": "76588aeb-9743-440a-9254-5f623d2f3b1b"
      },
      "source": [
        "weight<- as.numeric(readline()) #Cooercision or external type conversion\n",
        "weight+1.5"
      ],
      "execution_count": null,
      "outputs": [
        {
          "name": "stdout",
          "output_type": "stream",
          "text": [
            "67.7\n"
          ]
        },
        {
          "output_type": "display_data",
          "data": {
            "text/plain": [
              "[1] 69.2"
            ],
            "text/latex": "69.2",
            "text/markdown": "69.2",
            "text/html": [
              "69.2"
            ]
          },
          "metadata": {}
        }
      ]
    },
    {
      "cell_type": "code",
      "metadata": {
        "colab": {
          "base_uri": "https://localhost:8080/"
        },
        "id": "EYWIuY-vO4ZV",
        "outputId": "841a8679-254d-4f4b-a740-1efe53087a38"
      },
      "source": [
        "cat(\"the incremented value is\",input_read+2)"
      ],
      "execution_count": null,
      "outputs": [
        {
          "output_type": "stream",
          "name": "stdout",
          "text": [
            "the incremented value is 2023"
          ]
        }
      ]
    },
    {
      "cell_type": "code",
      "metadata": {
        "colab": {
          "base_uri": "https://localhost:8080/"
        },
        "id": "SEeVuX_PWhKY",
        "outputId": "c81d569a-4b07-4e31-e53d-c5df066c4e0c"
      },
      "source": [
        "r=6\n",
        "print(pi*r*2)"
      ],
      "execution_count": null,
      "outputs": [
        {
          "output_type": "stream",
          "name": "stdout",
          "text": [
            "[1] 37.69911\n"
          ]
        }
      ]
    },
    {
      "cell_type": "code",
      "metadata": {
        "colab": {
          "base_uri": "https://localhost:8080/"
        },
        "id": "NDlUM_Bj-bZz",
        "outputId": "0cffe5cc-4a21-4133-84c6-180458a9aaf7"
      },
      "source": [
        "# Built-in constants\n",
        "print(pi)\n",
        "print(month.name)\n",
        "print(letters)\n",
        "print(LETTERS)\n",
        "print(month.abb)"
      ],
      "execution_count": null,
      "outputs": [
        {
          "output_type": "stream",
          "name": "stdout",
          "text": [
            "[1] 3.141593\n",
            " [1] \"January\"   \"February\"  \"March\"     \"April\"     \"May\"       \"June\"     \n",
            " [7] \"July\"      \"August\"    \"September\" \"October\"   \"November\"  \"December\" \n",
            " [1] \"a\" \"b\" \"c\" \"d\" \"e\" \"f\" \"g\" \"h\" \"i\" \"j\" \"k\" \"l\" \"m\" \"n\" \"o\" \"p\" \"q\" \"r\" \"s\"\n",
            "[20] \"t\" \"u\" \"v\" \"w\" \"x\" \"y\" \"z\"\n",
            " [1] \"A\" \"B\" \"C\" \"D\" \"E\" \"F\" \"G\" \"H\" \"I\" \"J\" \"K\" \"L\" \"M\" \"N\" \"O\" \"P\" \"Q\" \"R\" \"S\"\n",
            "[20] \"T\" \"U\" \"V\" \"W\" \"X\" \"Y\" \"Z\"\n",
            " [1] \"Jan\" \"Feb\" \"Mar\" \"Apr\" \"May\" \"Jun\" \"Jul\" \"Aug\" \"Sep\" \"Oct\" \"Nov\" \"Dec\"\n"
          ]
        }
      ]
    },
    {
      "cell_type": "code",
      "metadata": {
        "colab": {
          "base_uri": "https://localhost:8080/",
          "height": 136
        },
        "id": "02yVly_W-wBt",
        "outputId": "5b4828e8-e933-4381-cca7-83fd815ebd3f"
      },
      "source": [
        "# mathematical operators\n",
        "5+5 \n",
        "5-5\n",
        "5*5\n",
        "35/10\n",
        "5^3\n",
        "5%%2  # modulo\n",
        "35%/%10 # Integer Division"
      ],
      "execution_count": null,
      "outputs": [
        {
          "output_type": "display_data",
          "data": {
            "text/plain": [
              "[1] 10"
            ],
            "text/latex": "10",
            "text/markdown": "10",
            "text/html": [
              "10"
            ]
          },
          "metadata": {}
        },
        {
          "output_type": "display_data",
          "data": {
            "text/plain": [
              "[1] 0"
            ],
            "text/latex": "0",
            "text/markdown": "0",
            "text/html": [
              "0"
            ]
          },
          "metadata": {}
        },
        {
          "output_type": "display_data",
          "data": {
            "text/plain": [
              "[1] 25"
            ],
            "text/latex": "25",
            "text/markdown": "25",
            "text/html": [
              "25"
            ]
          },
          "metadata": {}
        },
        {
          "output_type": "display_data",
          "data": {
            "text/plain": [
              "[1] 3.5"
            ],
            "text/latex": "3.5",
            "text/markdown": "3.5",
            "text/html": [
              "3.5"
            ]
          },
          "metadata": {}
        },
        {
          "output_type": "display_data",
          "data": {
            "text/plain": [
              "[1] 125"
            ],
            "text/latex": "125",
            "text/markdown": "125",
            "text/html": [
              "125"
            ]
          },
          "metadata": {}
        },
        {
          "output_type": "display_data",
          "data": {
            "text/plain": [
              "[1] 1"
            ],
            "text/latex": "1",
            "text/markdown": "1",
            "text/html": [
              "1"
            ]
          },
          "metadata": {}
        },
        {
          "output_type": "display_data",
          "data": {
            "text/plain": [
              "[1] 3"
            ],
            "text/latex": "3",
            "text/markdown": "3",
            "text/html": [
              "3"
            ]
          },
          "metadata": {}
        }
      ]
    },
    {
      "cell_type": "code",
      "metadata": {
        "colab": {
          "base_uri": "https://localhost:8080/",
          "height": 119
        },
        "id": "6OHLA77o-0Zv",
        "outputId": "7cbe7bc9-e677-4c18-98b8-3b281170178f"
      },
      "source": [
        "# Relational operators\n",
        "5>=2\n",
        "5>2\n",
        "2<5\n",
        "4<=9\n",
        "8==8\n",
        "8!=8"
      ],
      "execution_count": null,
      "outputs": [
        {
          "output_type": "display_data",
          "data": {
            "text/plain": [
              "[1] TRUE"
            ],
            "text/latex": "TRUE",
            "text/markdown": "TRUE",
            "text/html": [
              "TRUE"
            ]
          },
          "metadata": {}
        },
        {
          "output_type": "display_data",
          "data": {
            "text/plain": [
              "[1] TRUE"
            ],
            "text/latex": "TRUE",
            "text/markdown": "TRUE",
            "text/html": [
              "TRUE"
            ]
          },
          "metadata": {}
        },
        {
          "output_type": "display_data",
          "data": {
            "text/plain": [
              "[1] TRUE"
            ],
            "text/latex": "TRUE",
            "text/markdown": "TRUE",
            "text/html": [
              "TRUE"
            ]
          },
          "metadata": {}
        },
        {
          "output_type": "display_data",
          "data": {
            "text/plain": [
              "[1] TRUE"
            ],
            "text/latex": "TRUE",
            "text/markdown": "TRUE",
            "text/html": [
              "TRUE"
            ]
          },
          "metadata": {}
        },
        {
          "output_type": "display_data",
          "data": {
            "text/plain": [
              "[1] TRUE"
            ],
            "text/latex": "TRUE",
            "text/markdown": "TRUE",
            "text/html": [
              "TRUE"
            ]
          },
          "metadata": {}
        },
        {
          "output_type": "display_data",
          "data": {
            "text/plain": [
              "[1] FALSE"
            ],
            "text/latex": "FALSE",
            "text/markdown": "FALSE",
            "text/html": [
              "FALSE"
            ]
          },
          "metadata": {}
        }
      ]
    },
    {
      "cell_type": "code",
      "metadata": {
        "colab": {
          "base_uri": "https://localhost:8080/",
          "height": 68
        },
        "id": "aFx6Hf4D-3Ub",
        "outputId": "aec3cac0-f6f9-49f0-8607-32994991ab77"
      },
      "source": [
        "#Logical operators\n",
        "!1\n",
        "(5>3)&(6<4)\n",
        "(5>3)|(6<4)"
      ],
      "execution_count": null,
      "outputs": [
        {
          "output_type": "display_data",
          "data": {
            "text/plain": [
              "[1] FALSE"
            ],
            "text/latex": "FALSE",
            "text/markdown": "FALSE",
            "text/html": [
              "FALSE"
            ]
          },
          "metadata": {}
        },
        {
          "output_type": "display_data",
          "data": {
            "text/plain": [
              "[1] FALSE"
            ],
            "text/latex": "FALSE",
            "text/markdown": "FALSE",
            "text/html": [
              "FALSE"
            ]
          },
          "metadata": {}
        },
        {
          "output_type": "display_data",
          "data": {
            "text/plain": [
              "[1] TRUE"
            ],
            "text/latex": "TRUE",
            "text/markdown": "TRUE",
            "text/html": [
              "TRUE"
            ]
          },
          "metadata": {}
        }
      ]
    },
    {
      "cell_type": "code",
      "metadata": {
        "colab": {
          "base_uri": "https://localhost:8080/",
          "height": 68
        },
        "id": "hFDHSzK--6EH",
        "outputId": "9204474a-912e-43c4-8e6e-68a1a7ad9e18"
      },
      "source": [
        "# Operator precedence and \n",
        "5+6*3\n",
        "5+4*3^2\n",
        "(5+2)^2"
      ],
      "execution_count": null,
      "outputs": [
        {
          "output_type": "display_data",
          "data": {
            "text/plain": [
              "[1] 23"
            ],
            "text/latex": "23",
            "text/markdown": "23",
            "text/html": [
              "23"
            ]
          },
          "metadata": {}
        },
        {
          "output_type": "display_data",
          "data": {
            "text/plain": [
              "[1] 41"
            ],
            "text/latex": "41",
            "text/markdown": "41",
            "text/html": [
              "41"
            ]
          },
          "metadata": {}
        },
        {
          "output_type": "display_data",
          "data": {
            "text/plain": [
              "[1] 49"
            ],
            "text/latex": "49",
            "text/markdown": "49",
            "text/html": [
              "49"
            ]
          },
          "metadata": {}
        }
      ]
    },
    {
      "cell_type": "code",
      "metadata": {
        "colab": {
          "base_uri": "https://localhost:8080/",
          "height": 85
        },
        "id": "lGqF7HTx-8qn",
        "outputId": "b0e802d9-c24c-426a-c11a-73d8d3b94a4d"
      },
      "source": [
        "#associativity\n",
        "5^2 # right to left associativity\n",
        "10%%3 # left to right associativity\n",
        "5/2/2 # left to right\n",
        "5/(2/2) # change the associativity"
      ],
      "execution_count": null,
      "outputs": [
        {
          "output_type": "display_data",
          "data": {
            "text/plain": [
              "[1] 25"
            ],
            "text/latex": "25",
            "text/markdown": "25",
            "text/html": [
              "25"
            ]
          },
          "metadata": {}
        },
        {
          "output_type": "display_data",
          "data": {
            "text/plain": [
              "[1] 1"
            ],
            "text/latex": "1",
            "text/markdown": "1",
            "text/html": [
              "1"
            ]
          },
          "metadata": {}
        },
        {
          "output_type": "display_data",
          "data": {
            "text/plain": [
              "[1] 1.25"
            ],
            "text/latex": "1.25",
            "text/markdown": "1.25",
            "text/html": [
              "1.25"
            ]
          },
          "metadata": {}
        },
        {
          "output_type": "display_data",
          "data": {
            "text/plain": [
              "[1] 5"
            ],
            "text/latex": "5",
            "text/markdown": "5",
            "text/html": [
              "5"
            ]
          },
          "metadata": {}
        }
      ]
    },
    {
      "cell_type": "markdown",
      "metadata": {
        "id": "H1MCEP-e7Xu6"
      },
      "source": [
        "# **Wednesday 15-09-2021**"
      ]
    },
    {
      "cell_type": "markdown",
      "metadata": {
        "id": "j1U2mRnWXpoN"
      },
      "source": [
        "**Unlike some other languages, R does not support multi-line comments or comment blocks.**"
      ]
    },
    {
      "cell_type": "code",
      "metadata": {
        "colab": {
          "base_uri": "https://localhost:8080/",
          "height": 34
        },
        "id": "UBVbrRyNYa4j",
        "outputId": "f1b87d12-59d5-4991-82ad-df1bf30b7093"
      },
      "source": [
        "Sys.Date()#Current Date"
      ],
      "execution_count": null,
      "outputs": [
        {
          "output_type": "display_data",
          "data": {
            "text/plain": [
              "[1] \"2021-09-15\""
            ],
            "text/latex": "2021-09-15",
            "text/markdown": "2021-09-15",
            "text/html": [
              "<time datetime=\"2021-09-15\">2021-09-15</time>"
            ]
          },
          "metadata": {}
        }
      ]
    },
    {
      "cell_type": "code",
      "metadata": {
        "colab": {
          "base_uri": "https://localhost:8080/",
          "height": 34
        },
        "id": "0sRKzHraYf4o",
        "outputId": "5f50faec-1ef3-4a35-f7a0-af00178b2c6a"
      },
      "source": [
        "Sys.time()#Current Time"
      ],
      "execution_count": null,
      "outputs": [
        {
          "output_type": "display_data",
          "data": {
            "text/plain": [
              "[1] \"2021-09-15 03:25:56 UTC\""
            ]
          },
          "metadata": {}
        }
      ]
    },
    {
      "cell_type": "code",
      "metadata": {
        "colab": {
          "base_uri": "https://localhost:8080/",
          "height": 34
        },
        "id": "NiN4CldvYA7f",
        "outputId": "e570a065-1401-491d-a086-4b736cb0b604"
      },
      "source": [
        "nchar(\"R Language\")"
      ],
      "execution_count": null,
      "outputs": [
        {
          "output_type": "display_data",
          "data": {
            "text/plain": [
              "[1] 10"
            ],
            "text/latex": "10",
            "text/markdown": "10",
            "text/html": [
              "10"
            ]
          },
          "metadata": {}
        }
      ]
    },
    {
      "cell_type": "code",
      "metadata": {
        "colab": {
          "base_uri": "https://localhost:8080/"
        },
        "id": "tl-7IbYofyL7",
        "outputId": "eb711128-e7c5-47ee-941b-380c0c0eba32"
      },
      "source": [
        "z=\"R Language\"\n",
        "print(nchar(z))"
      ],
      "execution_count": null,
      "outputs": [
        {
          "output_type": "stream",
          "name": "stdout",
          "text": [
            "[1] 10\n"
          ]
        }
      ]
    },
    {
      "cell_type": "code",
      "metadata": {
        "colab": {
          "base_uri": "https://localhost:8080/",
          "height": 85
        },
        "id": "UZVw3A99_AkM",
        "outputId": "b462986c-98e4-4310-e803-967d6ce32a4e"
      },
      "source": [
        "# mathematical functions\n",
        "25^2\n",
        "sqrt(25)\n",
        "abs(-5.6) # to get absolute value of a number\n",
        "factorial(3) # finding the value of 3!"
      ],
      "execution_count": null,
      "outputs": [
        {
          "output_type": "display_data",
          "data": {
            "text/plain": [
              "[1] 625"
            ],
            "text/latex": "625",
            "text/markdown": "625",
            "text/html": [
              "625"
            ]
          },
          "metadata": {}
        },
        {
          "output_type": "display_data",
          "data": {
            "text/plain": [
              "[1] 5"
            ],
            "text/latex": "5",
            "text/markdown": "5",
            "text/html": [
              "5"
            ]
          },
          "metadata": {}
        },
        {
          "output_type": "display_data",
          "data": {
            "text/plain": [
              "[1] 5.6"
            ],
            "text/latex": "5.6",
            "text/markdown": "5.6",
            "text/html": [
              "5.6"
            ]
          },
          "metadata": {}
        },
        {
          "output_type": "display_data",
          "data": {
            "text/plain": [
              "[1] 6"
            ],
            "text/latex": "6",
            "text/markdown": "6",
            "text/html": [
              "6"
            ]
          },
          "metadata": {}
        }
      ]
    },
    {
      "cell_type": "code",
      "metadata": {
        "colab": {
          "base_uri": "https://localhost:8080/",
          "height": 85
        },
        "id": "lRDPGxia_CuC",
        "outputId": "b257f28a-3514-4ff1-87ea-86cdd839400e"
      },
      "source": [
        "# log functions\n",
        "log(5) # base=e\n",
        "log(5, base = 3) # user defined base\n",
        "log10(5) # base 10\n",
        "log2(5) # base 2"
      ],
      "execution_count": null,
      "outputs": [
        {
          "output_type": "display_data",
          "data": {
            "text/plain": [
              "[1] 1.609438"
            ],
            "text/latex": "1.6094379124341",
            "text/markdown": "1.6094379124341",
            "text/html": [
              "1.6094379124341"
            ]
          },
          "metadata": {}
        },
        {
          "output_type": "display_data",
          "data": {
            "text/plain": [
              "[1] 1.464974"
            ],
            "text/latex": "1.46497352071793",
            "text/markdown": "1.46497352071793",
            "text/html": [
              "1.46497352071793"
            ]
          },
          "metadata": {}
        },
        {
          "output_type": "display_data",
          "data": {
            "text/plain": [
              "[1] 0.69897"
            ],
            "text/latex": "0.698970004336019",
            "text/markdown": "0.698970004336019",
            "text/html": [
              "0.698970004336019"
            ]
          },
          "metadata": {}
        },
        {
          "output_type": "display_data",
          "data": {
            "text/plain": [
              "[1] 2.321928"
            ],
            "text/latex": "2.32192809488736",
            "text/markdown": "2.32192809488736",
            "text/html": [
              "2.32192809488736"
            ]
          },
          "metadata": {}
        }
      ]
    },
    {
      "cell_type": "code",
      "metadata": {
        "colab": {
          "base_uri": "https://localhost:8080/",
          "height": 51
        },
        "id": "kk3lNwV1_FFm",
        "outputId": "82aeac23-03ce-470e-c609-98b522252026"
      },
      "source": [
        "# assignment operator\n",
        "a <- 1\n",
        "A = 10\n",
        "a\n",
        "A"
      ],
      "execution_count": null,
      "outputs": [
        {
          "output_type": "display_data",
          "data": {
            "text/plain": [
              "[1] 1"
            ],
            "text/latex": "1",
            "text/markdown": "1",
            "text/html": [
              "1"
            ]
          },
          "metadata": {}
        },
        {
          "output_type": "display_data",
          "data": {
            "text/plain": [
              "[1] 10"
            ],
            "text/latex": "10",
            "text/markdown": "10",
            "text/html": [
              "10"
            ]
          },
          "metadata": {}
        }
      ]
    },
    {
      "cell_type": "code",
      "metadata": {
        "colab": {
          "base_uri": "https://localhost:8080/",
          "height": 34
        },
        "id": "jf78KcAd_HBa",
        "outputId": "e73ddf72-96f1-4e57-efb1-efd08afd77bc"
      },
      "source": [
        "# available files in the working directory\n",
        "dir()"
      ],
      "execution_count": null,
      "outputs": [
        {
          "output_type": "display_data",
          "data": {
            "text/plain": [
              "[1] \"sample_data\""
            ],
            "text/latex": "'sample\\_data'",
            "text/markdown": "'sample_data'",
            "text/html": [
              "'sample_data'"
            ]
          },
          "metadata": {}
        }
      ]
    },
    {
      "cell_type": "code",
      "metadata": {
        "colab": {
          "base_uri": "https://localhost:8080/",
          "height": 51
        },
        "id": "HHbjZiy4_Kuc",
        "outputId": "21fbb9de-959b-4f0a-f56a-78069ceae441"
      },
      "source": [
        "\n",
        "#list of all the objects created in the workspace\n",
        "ls()\n",
        "objects()\n",
        "a <- 10\n",
        "b <- 20"
      ],
      "execution_count": null,
      "outputs": [
        {
          "output_type": "display_data",
          "data": {
            "text/plain": [
              "[1] \"a\" \"A\" \"d\" \"z\""
            ],
            "text/latex": "\\begin{enumerate*}\n\\item 'a'\n\\item 'A'\n\\item 'd'\n\\item 'z'\n\\end{enumerate*}\n",
            "text/markdown": "1. 'a'\n2. 'A'\n3. 'd'\n4. 'z'\n\n\n",
            "text/html": [
              "<style>\n",
              ".list-inline {list-style: none; margin:0; padding: 0}\n",
              ".list-inline>li {display: inline-block}\n",
              ".list-inline>li:not(:last-child)::after {content: \"\\00b7\"; padding: 0 .5ex}\n",
              "</style>\n",
              "<ol class=list-inline><li>'a'</li><li>'A'</li><li>'d'</li><li>'z'</li></ol>\n"
            ]
          },
          "metadata": {}
        },
        {
          "output_type": "display_data",
          "data": {
            "text/plain": [
              "[1] \"a\" \"A\" \"d\" \"z\""
            ],
            "text/latex": "\\begin{enumerate*}\n\\item 'a'\n\\item 'A'\n\\item 'd'\n\\item 'z'\n\\end{enumerate*}\n",
            "text/markdown": "1. 'a'\n2. 'A'\n3. 'd'\n4. 'z'\n\n\n",
            "text/html": [
              "<style>\n",
              ".list-inline {list-style: none; margin:0; padding: 0}\n",
              ".list-inline>li {display: inline-block}\n",
              ".list-inline>li:not(:last-child)::after {content: \"\\00b7\"; padding: 0 .5ex}\n",
              "</style>\n",
              "<ol class=list-inline><li>'a'</li><li>'A'</li><li>'d'</li><li>'z'</li></ol>\n"
            ]
          },
          "metadata": {}
        }
      ]
    },
    {
      "cell_type": "code",
      "metadata": {
        "colab": {
          "base_uri": "https://localhost:8080/",
          "height": 85
        },
        "id": "MxiKuhcT_SMu",
        "outputId": "499ca285-5345-461e-9c1a-358f10e07a97"
      },
      "source": [
        "# Arithmetic operations between vectors occur elementwise\n",
        "a <- c(2,3,4) # c=concatenate\n",
        "b <- c(10, 20, 10)\n",
        "a+b\n",
        "a*b\n",
        "a/b\n",
        "a^2"
      ],
      "execution_count": null,
      "outputs": [
        {
          "output_type": "display_data",
          "data": {
            "text/plain": [
              "[1] 12 23 14"
            ],
            "text/latex": "\\begin{enumerate*}\n\\item 12\n\\item 23\n\\item 14\n\\end{enumerate*}\n",
            "text/markdown": "1. 12\n2. 23\n3. 14\n\n\n",
            "text/html": [
              "<style>\n",
              ".list-inline {list-style: none; margin:0; padding: 0}\n",
              ".list-inline>li {display: inline-block}\n",
              ".list-inline>li:not(:last-child)::after {content: \"\\00b7\"; padding: 0 .5ex}\n",
              "</style>\n",
              "<ol class=list-inline><li>12</li><li>23</li><li>14</li></ol>\n"
            ]
          },
          "metadata": {}
        },
        {
          "output_type": "display_data",
          "data": {
            "text/plain": [
              "[1] 20 60 40"
            ],
            "text/latex": "\\begin{enumerate*}\n\\item 20\n\\item 60\n\\item 40\n\\end{enumerate*}\n",
            "text/markdown": "1. 20\n2. 60\n3. 40\n\n\n",
            "text/html": [
              "<style>\n",
              ".list-inline {list-style: none; margin:0; padding: 0}\n",
              ".list-inline>li {display: inline-block}\n",
              ".list-inline>li:not(:last-child)::after {content: \"\\00b7\"; padding: 0 .5ex}\n",
              "</style>\n",
              "<ol class=list-inline><li>20</li><li>60</li><li>40</li></ol>\n"
            ]
          },
          "metadata": {}
        },
        {
          "output_type": "display_data",
          "data": {
            "text/plain": [
              "[1] 0.20 0.15 0.40"
            ],
            "text/latex": "\\begin{enumerate*}\n\\item 0.2\n\\item 0.15\n\\item 0.4\n\\end{enumerate*}\n",
            "text/markdown": "1. 0.2\n2. 0.15\n3. 0.4\n\n\n",
            "text/html": [
              "<style>\n",
              ".list-inline {list-style: none; margin:0; padding: 0}\n",
              ".list-inline>li {display: inline-block}\n",
              ".list-inline>li:not(:last-child)::after {content: \"\\00b7\"; padding: 0 .5ex}\n",
              "</style>\n",
              "<ol class=list-inline><li>0.2</li><li>0.15</li><li>0.4</li></ol>\n"
            ]
          },
          "metadata": {}
        },
        {
          "output_type": "display_data",
          "data": {
            "text/plain": [
              "[1]  4  9 16"
            ],
            "text/latex": "\\begin{enumerate*}\n\\item 4\n\\item 9\n\\item 16\n\\end{enumerate*}\n",
            "text/markdown": "1. 4\n2. 9\n3. 16\n\n\n",
            "text/html": [
              "<style>\n",
              ".list-inline {list-style: none; margin:0; padding: 0}\n",
              ".list-inline>li {display: inline-block}\n",
              ".list-inline>li:not(:last-child)::after {content: \"\\00b7\"; padding: 0 .5ex}\n",
              "</style>\n",
              "<ol class=list-inline><li>4</li><li>9</li><li>16</li></ol>\n"
            ]
          },
          "metadata": {}
        }
      ]
    },
    {
      "cell_type": "code",
      "metadata": {
        "colab": {
          "base_uri": "https://localhost:8080/",
          "height": 191
        },
        "id": "n4g3DSIFhTHK",
        "outputId": "0941c05c-4475-4dec-fed6-5e327c11ec9f"
      },
      "source": [
        "# Arithmetic operations between vectors occur elementwise\n",
        "a <- c(2,3,4,80) # c=concatenate\n",
        "b <- c(10, 20, 10)\n",
        "a+b\n",
        "a*b\n",
        "a/b\n",
        "a^2"
      ],
      "execution_count": null,
      "outputs": [
        {
          "output_type": "stream",
          "name": "stderr",
          "text": [
            "Warning message in a + b:\n",
            "“longer object length is not a multiple of shorter object length”\n"
          ]
        },
        {
          "output_type": "display_data",
          "data": {
            "text/plain": [
              "[1] 12 23 14 90"
            ],
            "text/latex": "\\begin{enumerate*}\n\\item 12\n\\item 23\n\\item 14\n\\item 90\n\\end{enumerate*}\n",
            "text/markdown": "1. 12\n2. 23\n3. 14\n4. 90\n\n\n",
            "text/html": [
              "<style>\n",
              ".list-inline {list-style: none; margin:0; padding: 0}\n",
              ".list-inline>li {display: inline-block}\n",
              ".list-inline>li:not(:last-child)::after {content: \"\\00b7\"; padding: 0 .5ex}\n",
              "</style>\n",
              "<ol class=list-inline><li>12</li><li>23</li><li>14</li><li>90</li></ol>\n"
            ]
          },
          "metadata": {}
        },
        {
          "output_type": "stream",
          "name": "stderr",
          "text": [
            "Warning message in a * b:\n",
            "“longer object length is not a multiple of shorter object length”\n"
          ]
        },
        {
          "output_type": "display_data",
          "data": {
            "text/plain": [
              "[1]  20  60  40 800"
            ],
            "text/latex": "\\begin{enumerate*}\n\\item 20\n\\item 60\n\\item 40\n\\item 800\n\\end{enumerate*}\n",
            "text/markdown": "1. 20\n2. 60\n3. 40\n4. 800\n\n\n",
            "text/html": [
              "<style>\n",
              ".list-inline {list-style: none; margin:0; padding: 0}\n",
              ".list-inline>li {display: inline-block}\n",
              ".list-inline>li:not(:last-child)::after {content: \"\\00b7\"; padding: 0 .5ex}\n",
              "</style>\n",
              "<ol class=list-inline><li>20</li><li>60</li><li>40</li><li>800</li></ol>\n"
            ]
          },
          "metadata": {}
        },
        {
          "output_type": "stream",
          "name": "stderr",
          "text": [
            "Warning message in a/b:\n",
            "“longer object length is not a multiple of shorter object length”\n"
          ]
        },
        {
          "output_type": "display_data",
          "data": {
            "text/plain": [
              "[1] 0.20 0.15 0.40 8.00"
            ],
            "text/latex": "\\begin{enumerate*}\n\\item 0.2\n\\item 0.15\n\\item 0.4\n\\item 8\n\\end{enumerate*}\n",
            "text/markdown": "1. 0.2\n2. 0.15\n3. 0.4\n4. 8\n\n\n",
            "text/html": [
              "<style>\n",
              ".list-inline {list-style: none; margin:0; padding: 0}\n",
              ".list-inline>li {display: inline-block}\n",
              ".list-inline>li:not(:last-child)::after {content: \"\\00b7\"; padding: 0 .5ex}\n",
              "</style>\n",
              "<ol class=list-inline><li>0.2</li><li>0.15</li><li>0.4</li><li>8</li></ol>\n"
            ]
          },
          "metadata": {}
        },
        {
          "output_type": "display_data",
          "data": {
            "text/plain": [
              "[1]    4    9   16 6400"
            ],
            "text/latex": "\\begin{enumerate*}\n\\item 4\n\\item 9\n\\item 16\n\\item 6400\n\\end{enumerate*}\n",
            "text/markdown": "1. 4\n2. 9\n3. 16\n4. 6400\n\n\n",
            "text/html": [
              "<style>\n",
              ".list-inline {list-style: none; margin:0; padding: 0}\n",
              ".list-inline>li {display: inline-block}\n",
              ".list-inline>li:not(:last-child)::after {content: \"\\00b7\"; padding: 0 .5ex}\n",
              "</style>\n",
              "<ol class=list-inline><li>4</li><li>9</li><li>16</li><li>6400</li></ol>\n"
            ]
          },
          "metadata": {}
        }
      ]
    },
    {
      "cell_type": "code",
      "metadata": {
        "colab": {
          "base_uri": "https://localhost:8080/",
          "height": 191
        },
        "id": "lL5pBVObjvuX",
        "outputId": "ab8f224a-aab3-48ad-bf20-4030ed380c69"
      },
      "source": [
        "# Arithmetic operations between vectors occur elementwise\n",
        "a <- c(2,3,4,80) # c=concatenate\n",
        "b <- c(10, 20, 5) #Unequal vector size\n",
        "a+b #Repeats with the first element \n",
        "a*b #Repeats with the first element\n",
        "a/b #Repeats with the first element\n",
        "a^2 #Repeats with the first element"
      ],
      "execution_count": null,
      "outputs": [
        {
          "output_type": "stream",
          "name": "stderr",
          "text": [
            "Warning message in a + b:\n",
            "“longer object length is not a multiple of shorter object length”\n"
          ]
        },
        {
          "output_type": "display_data",
          "data": {
            "text/plain": [
              "[1] 12 23  9 90"
            ],
            "text/latex": "\\begin{enumerate*}\n\\item 12\n\\item 23\n\\item 9\n\\item 90\n\\end{enumerate*}\n",
            "text/markdown": "1. 12\n2. 23\n3. 9\n4. 90\n\n\n",
            "text/html": [
              "<style>\n",
              ".list-inline {list-style: none; margin:0; padding: 0}\n",
              ".list-inline>li {display: inline-block}\n",
              ".list-inline>li:not(:last-child)::after {content: \"\\00b7\"; padding: 0 .5ex}\n",
              "</style>\n",
              "<ol class=list-inline><li>12</li><li>23</li><li>9</li><li>90</li></ol>\n"
            ]
          },
          "metadata": {}
        },
        {
          "output_type": "stream",
          "name": "stderr",
          "text": [
            "Warning message in a * b:\n",
            "“longer object length is not a multiple of shorter object length”\n"
          ]
        },
        {
          "output_type": "display_data",
          "data": {
            "text/plain": [
              "[1]  20  60  20 800"
            ],
            "text/latex": "\\begin{enumerate*}\n\\item 20\n\\item 60\n\\item 20\n\\item 800\n\\end{enumerate*}\n",
            "text/markdown": "1. 20\n2. 60\n3. 20\n4. 800\n\n\n",
            "text/html": [
              "<style>\n",
              ".list-inline {list-style: none; margin:0; padding: 0}\n",
              ".list-inline>li {display: inline-block}\n",
              ".list-inline>li:not(:last-child)::after {content: \"\\00b7\"; padding: 0 .5ex}\n",
              "</style>\n",
              "<ol class=list-inline><li>20</li><li>60</li><li>20</li><li>800</li></ol>\n"
            ]
          },
          "metadata": {}
        },
        {
          "output_type": "stream",
          "name": "stderr",
          "text": [
            "Warning message in a/b:\n",
            "“longer object length is not a multiple of shorter object length”\n"
          ]
        },
        {
          "output_type": "display_data",
          "data": {
            "text/plain": [
              "[1] 0.20 0.15 0.80 8.00"
            ],
            "text/latex": "\\begin{enumerate*}\n\\item 0.2\n\\item 0.15\n\\item 0.8\n\\item 8\n\\end{enumerate*}\n",
            "text/markdown": "1. 0.2\n2. 0.15\n3. 0.8\n4. 8\n\n\n",
            "text/html": [
              "<style>\n",
              ".list-inline {list-style: none; margin:0; padding: 0}\n",
              ".list-inline>li {display: inline-block}\n",
              ".list-inline>li:not(:last-child)::after {content: \"\\00b7\"; padding: 0 .5ex}\n",
              "</style>\n",
              "<ol class=list-inline><li>0.2</li><li>0.15</li><li>0.8</li><li>8</li></ol>\n"
            ]
          },
          "metadata": {}
        },
        {
          "output_type": "display_data",
          "data": {
            "text/plain": [
              "[1]    4    9   16 6400"
            ],
            "text/latex": "\\begin{enumerate*}\n\\item 4\n\\item 9\n\\item 16\n\\item 6400\n\\end{enumerate*}\n",
            "text/markdown": "1. 4\n2. 9\n3. 16\n4. 6400\n\n\n",
            "text/html": [
              "<style>\n",
              ".list-inline {list-style: none; margin:0; padding: 0}\n",
              ".list-inline>li {display: inline-block}\n",
              ".list-inline>li:not(:last-child)::after {content: \"\\00b7\"; padding: 0 .5ex}\n",
              "</style>\n",
              "<ol class=list-inline><li>4</li><li>9</li><li>16</li><li>6400</li></ol>\n"
            ]
          },
          "metadata": {}
        }
      ]
    },
    {
      "cell_type": "code",
      "metadata": {
        "colab": {
          "base_uri": "https://localhost:8080/"
        },
        "id": "qsWs-K1U_fUs",
        "outputId": "4a188973-49b9-4d96-f23b-5833b9d0b40e"
      },
      "source": [
        "# help\n",
        "help(sqrt)"
      ],
      "execution_count": null,
      "outputs": [
        {
          "output_type": "stream",
          "name": "stderr",
          "text": [
            "Warning message in seq_len(head.end.idx):\n",
            "“first element used of 'length.out' argument”\n",
            "ERROR while rich displaying an object: Error in seq_len(head.end.idx): argument must be coercible to non-negative integer\n",
            "\n",
            "Traceback:\n",
            "1. FUN(X[[i]], ...)\n",
            "2. tryCatch(withCallingHandlers({\n",
            " .     if (!mime %in% names(repr::mime2repr)) \n",
            " .         stop(\"No repr_* for mimetype \", mime, \" in repr::mime2repr\")\n",
            " .     rpr <- repr::mime2repr[[mime]](obj)\n",
            " .     if (is.null(rpr)) \n",
            " .         return(NULL)\n",
            " .     prepare_content(is.raw(rpr), rpr)\n",
            " . }, error = error_handler), error = outer_handler)\n",
            "3. tryCatchList(expr, classes, parentenv, handlers)\n",
            "4. tryCatchOne(expr, names, parentenv, handlers[[1L]])\n",
            "5. doTryCatch(return(expr), name, parentenv, handler)\n",
            "6. withCallingHandlers({\n",
            " .     if (!mime %in% names(repr::mime2repr)) \n",
            " .         stop(\"No repr_* for mimetype \", mime, \" in repr::mime2repr\")\n",
            " .     rpr <- repr::mime2repr[[mime]](obj)\n",
            " .     if (is.null(rpr)) \n",
            " .         return(NULL)\n",
            " .     prepare_content(is.raw(rpr), rpr)\n",
            " . }, error = error_handler)\n",
            "7. repr::mime2repr[[mime]](obj)\n",
            "8. repr_html.help_files_with_topic(obj)\n",
            "9. repr_help_files_with_topic_generic(obj, Rd2HTML)\n"
          ]
        }
      ]
    },
    {
      "cell_type": "code",
      "metadata": {
        "colab": {
          "base_uri": "https://localhost:8080/"
        },
        "id": "tyUoSOXN_-zy",
        "outputId": "927e1347-177e-4a14-c9f7-d5bbbef86e7b"
      },
      "source": [
        "example(mean)"
      ],
      "execution_count": null,
      "outputs": [
        {
          "output_type": "stream",
          "name": "stdout",
          "text": [
            "\n",
            "mean> x <- c(0:10, 50)\n",
            "\n",
            "mean> xm <- mean(x)\n",
            "\n",
            "mean> c(xm, mean(x, trim = 0.10))\n",
            "[1] 8.75 5.50\n"
          ]
        }
      ]
    },
    {
      "cell_type": "code",
      "metadata": {
        "colab": {
          "base_uri": "https://localhost:8080/",
          "height": 52
        },
        "id": "OuZ0vkaakyrd",
        "outputId": "17ed2851-29b3-43c0-81fd-a24aee159b07"
      },
      "source": [
        "x <- c(0:10, 50)\n",
        "x\n",
        "print(mean(x))"
      ],
      "execution_count": null,
      "outputs": [
        {
          "output_type": "display_data",
          "data": {
            "text/plain": [
              " [1]  0  1  2  3  4  5  6  7  8  9 10 50"
            ],
            "text/latex": "\\begin{enumerate*}\n\\item 0\n\\item 1\n\\item 2\n\\item 3\n\\item 4\n\\item 5\n\\item 6\n\\item 7\n\\item 8\n\\item 9\n\\item 10\n\\item 50\n\\end{enumerate*}\n",
            "text/markdown": "1. 0\n2. 1\n3. 2\n4. 3\n5. 4\n6. 5\n7. 6\n8. 7\n9. 8\n10. 9\n11. 10\n12. 50\n\n\n",
            "text/html": [
              "<style>\n",
              ".list-inline {list-style: none; margin:0; padding: 0}\n",
              ".list-inline>li {display: inline-block}\n",
              ".list-inline>li:not(:last-child)::after {content: \"\\00b7\"; padding: 0 .5ex}\n",
              "</style>\n",
              "<ol class=list-inline><li>0</li><li>1</li><li>2</li><li>3</li><li>4</li><li>5</li><li>6</li><li>7</li><li>8</li><li>9</li><li>10</li><li>50</li></ol>\n"
            ]
          },
          "metadata": {}
        },
        {
          "output_type": "stream",
          "name": "stdout",
          "text": [
            "[1] 8.75\n"
          ]
        }
      ]
    },
    {
      "cell_type": "code",
      "metadata": {
        "colab": {
          "base_uri": "https://localhost:8080/",
          "height": 613
        },
        "id": "EkREunEiklvh",
        "outputId": "c2697933-9105-4544-aad3-17550c489194"
      },
      "source": [
        "example(sqrt)"
      ],
      "execution_count": null,
      "outputs": [
        {
          "output_type": "stream",
          "name": "stdout",
          "text": [
            "\n",
            "sqrt> require(stats) # for spline\n",
            "\n",
            "sqrt> require(graphics)\n",
            "\n",
            "sqrt> xx <- -9:9\n",
            "\n",
            "sqrt> plot(xx, sqrt(abs(xx)),  col = \"red\")\n",
            "\n",
            "sqrt> lines(spline(xx, sqrt(abs(xx)), n=101), col = \"pink\")\n"
          ]
        },
        {
          "output_type": "display_data",
          "data": {
            "image/png": "[encoded data removed]",
            "text/plain": [
              "plot without title"
            ]
          },
          "metadata": {
            "image/png": {
              "width": 420,
              "height": 420
            }
          }
        }
      ]
    },
    {
      "cell_type": "code",
      "metadata": {
        "colab": {
          "base_uri": "https://localhost:8080/",
          "height": 188
        },
        "id": "Ok-_-mP-AAzD",
        "outputId": "70517066-af25-4225-a657-cb1d2996a866"
      },
      "source": [
        "#______________________________________________________________\n",
        "#vector - most basic object in R. \n",
        "#A vector is an order of collection of elements of the same basic type\n",
        "# Numeric, character, and logical vector\n",
        "\n",
        "# Different ways of creating  a vector\n",
        "a <-  2:10\n",
        "a\n",
        "a <- 30:1\n",
        "a\n",
        "a <- c(1,2,5,8) # c=concatenation\n",
        "a\n",
        "b <- seq(from=2,to=10,by=2)\n",
        "b\n",
        "c <- seq(1,10,3) # all positional argument\n",
        "c\n",
        "d <- seq(from=-5,length=51,by=0.2) # named argument,order is irrelevant\n",
        "d\n",
        "d <- seq(2,22,length.out = 7) # Desired length of the seq \n",
        "#Generates the sequence with a pattern\n",
        "d\n",
        "e <- numeric() # an empty vector of mode numeric\n",
        "f <- character() # an empty vector of mode character\n",
        "\n",
        "r <- rep(1, 10) # replicate\n",
        "r"
      ],
      "execution_count": null,
      "outputs": [
        {
          "output_type": "display_data",
          "data": {
            "text/plain": [
              "[1]  2  3  4  5  6  7  8  9 10"
            ],
            "text/latex": "\\begin{enumerate*}\n\\item 2\n\\item 3\n\\item 4\n\\item 5\n\\item 6\n\\item 7\n\\item 8\n\\item 9\n\\item 10\n\\end{enumerate*}\n",
            "text/markdown": "1. 2\n2. 3\n3. 4\n4. 5\n5. 6\n6. 7\n7. 8\n8. 9\n9. 10\n\n\n",
            "text/html": [
              "<style>\n",
              ".list-inline {list-style: none; margin:0; padding: 0}\n",
              ".list-inline>li {display: inline-block}\n",
              ".list-inline>li:not(:last-child)::after {content: \"\\00b7\"; padding: 0 .5ex}\n",
              "</style>\n",
              "<ol class=list-inline><li>2</li><li>3</li><li>4</li><li>5</li><li>6</li><li>7</li><li>8</li><li>9</li><li>10</li></ol>\n"
            ]
          },
          "metadata": {}
        },
        {
          "output_type": "display_data",
          "data": {
            "text/plain": [
              " [1] 30 29 28 27 26 25 24 23 22 21 20 19 18 17 16 15 14 13 12 11 10  9  8  7  6\n",
              "[26]  5  4  3  2  1"
            ],
            "text/latex": "\\begin{enumerate*}\n\\item 30\n\\item 29\n\\item 28\n\\item 27\n\\item 26\n\\item 25\n\\item 24\n\\item 23\n\\item 22\n\\item 21\n\\item 20\n\\item 19\n\\item 18\n\\item 17\n\\item 16\n\\item 15\n\\item 14\n\\item 13\n\\item 12\n\\item 11\n\\item 10\n\\item 9\n\\item 8\n\\item 7\n\\item 6\n\\item 5\n\\item 4\n\\item 3\n\\item 2\n\\item 1\n\\end{enumerate*}\n",
            "text/markdown": "1. 30\n2. 29\n3. 28\n4. 27\n5. 26\n6. 25\n7. 24\n8. 23\n9. 22\n10. 21\n11. 20\n12. 19\n13. 18\n14. 17\n15. 16\n16. 15\n17. 14\n18. 13\n19. 12\n20. 11\n21. 10\n22. 9\n23. 8\n24. 7\n25. 6\n26. 5\n27. 4\n28. 3\n29. 2\n30. 1\n\n\n",
            "text/html": [
              "<style>\n",
              ".list-inline {list-style: none; margin:0; padding: 0}\n",
              ".list-inline>li {display: inline-block}\n",
              ".list-inline>li:not(:last-child)::after {content: \"\\00b7\"; padding: 0 .5ex}\n",
              "</style>\n",
              "<ol class=list-inline><li>30</li><li>29</li><li>28</li><li>27</li><li>26</li><li>25</li><li>24</li><li>23</li><li>22</li><li>21</li><li>20</li><li>19</li><li>18</li><li>17</li><li>16</li><li>15</li><li>14</li><li>13</li><li>12</li><li>11</li><li>10</li><li>9</li><li>8</li><li>7</li><li>6</li><li>5</li><li>4</li><li>3</li><li>2</li><li>1</li></ol>\n"
            ]
          },
          "metadata": {}
        },
        {
          "output_type": "display_data",
          "data": {
            "text/plain": [
              "[1] 1 2 5 8"
            ],
            "text/latex": "\\begin{enumerate*}\n\\item 1\n\\item 2\n\\item 5\n\\item 8\n\\end{enumerate*}\n",
            "text/markdown": "1. 1\n2. 2\n3. 5\n4. 8\n\n\n",
            "text/html": [
              "<style>\n",
              ".list-inline {list-style: none; margin:0; padding: 0}\n",
              ".list-inline>li {display: inline-block}\n",
              ".list-inline>li:not(:last-child)::after {content: \"\\00b7\"; padding: 0 .5ex}\n",
              "</style>\n",
              "<ol class=list-inline><li>1</li><li>2</li><li>5</li><li>8</li></ol>\n"
            ]
          },
          "metadata": {}
        },
        {
          "output_type": "display_data",
          "data": {
            "text/plain": [
              "[1]  2  4  6  8 10"
            ],
            "text/latex": "\\begin{enumerate*}\n\\item 2\n\\item 4\n\\item 6\n\\item 8\n\\item 10\n\\end{enumerate*}\n",
            "text/markdown": "1. 2\n2. 4\n3. 6\n4. 8\n5. 10\n\n\n",
            "text/html": [
              "<style>\n",
              ".list-inline {list-style: none; margin:0; padding: 0}\n",
              ".list-inline>li {display: inline-block}\n",
              ".list-inline>li:not(:last-child)::after {content: \"\\00b7\"; padding: 0 .5ex}\n",
              "</style>\n",
              "<ol class=list-inline><li>2</li><li>4</li><li>6</li><li>8</li><li>10</li></ol>\n"
            ]
          },
          "metadata": {}
        },
        {
          "output_type": "display_data",
          "data": {
            "text/plain": [
              "[1]  1  4  7 10"
            ],
            "text/latex": "\\begin{enumerate*}\n\\item 1\n\\item 4\n\\item 7\n\\item 10\n\\end{enumerate*}\n",
            "text/markdown": "1. 1\n2. 4\n3. 7\n4. 10\n\n\n",
            "text/html": [
              "<style>\n",
              ".list-inline {list-style: none; margin:0; padding: 0}\n",
              ".list-inline>li {display: inline-block}\n",
              ".list-inline>li:not(:last-child)::after {content: \"\\00b7\"; padding: 0 .5ex}\n",
              "</style>\n",
              "<ol class=list-inline><li>1</li><li>4</li><li>7</li><li>10</li></ol>\n"
            ]
          },
          "metadata": {}
        },
        {
          "output_type": "display_data",
          "data": {
            "text/plain": [
              " [1] -5.0 -4.8 -4.6 -4.4 -4.2 -4.0 -3.8 -3.6 -3.4 -3.2 -3.0 -2.8 -2.6 -2.4 -2.2\n",
              "[16] -2.0 -1.8 -1.6 -1.4 -1.2 -1.0 -0.8 -0.6 -0.4 -0.2  0.0  0.2  0.4  0.6  0.8\n",
              "[31]  1.0  1.2  1.4  1.6  1.8  2.0  2.2  2.4  2.6  2.8  3.0  3.2  3.4  3.6  3.8\n",
              "[46]  4.0  4.2  4.4  4.6  4.8  5.0"
            ],
            "text/latex": "\\begin{enumerate*}\n\\item -5\n\\item -4.8\n\\item -4.6\n\\item -4.4\n\\item -4.2\n\\item -4\n\\item -3.8\n\\item -3.6\n\\item -3.4\n\\item -3.2\n\\item -3\n\\item -2.8\n\\item -2.6\n\\item -2.4\n\\item -2.2\n\\item -2\n\\item -1.8\n\\item -1.6\n\\item -1.4\n\\item -1.2\n\\item -1\n\\item -0.8\n\\item -0.6\n\\item -0.399999999999999\n\\item -0.199999999999999\n\\item 0\n\\item 0.2\n\\item 0.4\n\\item 0.600000000000001\n\\item 0.800000000000001\n\\item 1\n\\item 1.2\n\\item 1.4\n\\item 1.6\n\\item 1.8\n\\item 2\n\\item 2.2\n\\item 2.4\n\\item 2.6\n\\item 2.8\n\\item 3\n\\item 3.2\n\\item 3.4\n\\item 3.6\n\\item 3.8\n\\item 4\n\\item 4.2\n\\item 4.4\n\\item 4.6\n\\item 4.8\n\\item 5\n\\end{enumerate*}\n",
            "text/markdown": "1. -5\n2. -4.8\n3. -4.6\n4. -4.4\n5. -4.2\n6. -4\n7. -3.8\n8. -3.6\n9. -3.4\n10. -3.2\n11. -3\n12. -2.8\n13. -2.6\n14. -2.4\n15. -2.2\n16. -2\n17. -1.8\n18. -1.6\n19. -1.4\n20. -1.2\n21. -1\n22. -0.8\n23. -0.6\n24. -0.399999999999999\n25. -0.199999999999999\n26. 0\n27. 0.2\n28. 0.4\n29. 0.600000000000001\n30. 0.800000000000001\n31. 1\n32. 1.2\n33. 1.4\n34. 1.6\n35. 1.8\n36. 2\n37. 2.2\n38. 2.4\n39. 2.6\n40. 2.8\n41. 3\n42. 3.2\n43. 3.4\n44. 3.6\n45. 3.8\n46. 4\n47. 4.2\n48. 4.4\n49. 4.6\n50. 4.8\n51. 5\n\n\n",
            "text/html": [
              "<style>\n",
              ".list-inline {list-style: none; margin:0; padding: 0}\n",
              ".list-inline>li {display: inline-block}\n",
              ".list-inline>li:not(:last-child)::after {content: \"\\00b7\"; padding: 0 .5ex}\n",
              "</style>\n",
              "<ol class=list-inline><li>-5</li><li>-4.8</li><li>-4.6</li><li>-4.4</li><li>-4.2</li><li>-4</li><li>-3.8</li><li>-3.6</li><li>-3.4</li><li>-3.2</li><li>-3</li><li>-2.8</li><li>-2.6</li><li>-2.4</li><li>-2.2</li><li>-2</li><li>-1.8</li><li>-1.6</li><li>-1.4</li><li>-1.2</li><li>-1</li><li>-0.8</li><li>-0.6</li><li>-0.399999999999999</li><li>-0.199999999999999</li><li>0</li><li>0.2</li><li>0.4</li><li>0.600000000000001</li><li>0.800000000000001</li><li>1</li><li>1.2</li><li>1.4</li><li>1.6</li><li>1.8</li><li>2</li><li>2.2</li><li>2.4</li><li>2.6</li><li>2.8</li><li>3</li><li>3.2</li><li>3.4</li><li>3.6</li><li>3.8</li><li>4</li><li>4.2</li><li>4.4</li><li>4.6</li><li>4.8</li><li>5</li></ol>\n"
            ]
          },
          "metadata": {}
        },
        {
          "output_type": "display_data",
          "data": {
            "text/plain": [
              "[1]  1.00  3.25  5.50  7.75 10.00"
            ],
            "text/latex": "\\begin{enumerate*}\n\\item 1\n\\item 3.25\n\\item 5.5\n\\item 7.75\n\\item 10\n\\end{enumerate*}\n",
            "text/markdown": "1. 1\n2. 3.25\n3. 5.5\n4. 7.75\n5. 10\n\n\n",
            "text/html": [
              "<style>\n",
              ".list-inline {list-style: none; margin:0; padding: 0}\n",
              ".list-inline>li {display: inline-block}\n",
              ".list-inline>li:not(:last-child)::after {content: \"\\00b7\"; padding: 0 .5ex}\n",
              "</style>\n",
              "<ol class=list-inline><li>1</li><li>3.25</li><li>5.5</li><li>7.75</li><li>10</li></ol>\n"
            ]
          },
          "metadata": {}
        },
        {
          "output_type": "display_data",
          "data": {
            "text/plain": [
              " [1] 1 1 1 1 1 1 1 1 1 1"
            ],
            "text/latex": "\\begin{enumerate*}\n\\item 1\n\\item 1\n\\item 1\n\\item 1\n\\item 1\n\\item 1\n\\item 1\n\\item 1\n\\item 1\n\\item 1\n\\end{enumerate*}\n",
            "text/markdown": "1. 1\n2. 1\n3. 1\n4. 1\n5. 1\n6. 1\n7. 1\n8. 1\n9. 1\n10. 1\n\n\n",
            "text/html": [
              "<style>\n",
              ".list-inline {list-style: none; margin:0; padding: 0}\n",
              ".list-inline>li {display: inline-block}\n",
              ".list-inline>li:not(:last-child)::after {content: \"\\00b7\"; padding: 0 .5ex}\n",
              "</style>\n",
              "<ol class=list-inline><li>1</li><li>1</li><li>1</li><li>1</li><li>1</li><li>1</li><li>1</li><li>1</li><li>1</li><li>1</li></ol>\n"
            ]
          },
          "metadata": {}
        }
      ]
    },
    {
      "cell_type": "code",
      "metadata": {
        "colab": {
          "base_uri": "https://localhost:8080/",
          "height": 34
        },
        "id": "q02-FjvAAO0F",
        "outputId": "2f408935-da11-4c73-8b81-8daf2c8bb1da"
      },
      "source": [
        "# named vector\n",
        "country <- c(\"India\"=100,\"Pakistan\"=50,\"China\"=125) # naming entries of a vector\n",
        "country"
      ],
      "execution_count": null,
      "outputs": [
        {
          "output_type": "display_data",
          "data": {
            "text/plain": [
              "   India Pakistan    China \n",
              "     100       50      125 "
            ],
            "text/latex": "\\begin{description*}\n\\item[India] 100\n\\item[Pakistan] 50\n\\item[China] 125\n\\end{description*}\n",
            "text/markdown": "India\n:   100Pakistan\n:   50China\n:   125\n\n",
            "text/html": [
              "<style>\n",
              ".dl-inline {width: auto; margin:0; padding: 0}\n",
              ".dl-inline>dt, .dl-inline>dd {float: none; width: auto; display: inline-block}\n",
              ".dl-inline>dt::after {content: \":\\0020\"; padding-right: .5ex}\n",
              ".dl-inline>dt:not(:first-of-type) {padding-left: .5ex}\n",
              "</style><dl class=dl-inline><dt>India</dt><dd>100</dd><dt>Pakistan</dt><dd>50</dd><dt>China</dt><dd>125</dd></dl>\n"
            ]
          },
          "metadata": {}
        }
      ]
    },
    {
      "cell_type": "code",
      "metadata": {
        "colab": {
          "base_uri": "https://localhost:8080/",
          "height": 34
        },
        "id": "ArJyE5yJARLN",
        "outputId": "e7b0ae22-ca8c-40e2-9f37-be6c575cb1ea"
      },
      "source": [
        "population <- c(100,50,125)\n",
        "country <- c(\"India\",\"Pakistan\",\"China\")\n",
        "names(population) <- country # use names()function to assign names to entries\n",
        "population"
      ],
      "execution_count": null,
      "outputs": [
        {
          "output_type": "display_data",
          "data": {
            "text/plain": [
              "   India Pakistan    China \n",
              "     100       50      125 "
            ],
            "text/latex": "\\begin{description*}\n\\item[India] 100\n\\item[Pakistan] 50\n\\item[China] 125\n\\end{description*}\n",
            "text/markdown": "India\n:   100Pakistan\n:   50China\n:   125\n\n",
            "text/html": [
              "<style>\n",
              ".dl-inline {width: auto; margin:0; padding: 0}\n",
              ".dl-inline>dt, .dl-inline>dd {float: none; width: auto; display: inline-block}\n",
              ".dl-inline>dt::after {content: \":\\0020\"; padding-right: .5ex}\n",
              ".dl-inline>dt:not(:first-of-type) {padding-left: .5ex}\n",
              "</style><dl class=dl-inline><dt>India</dt><dd>100</dd><dt>Pakistan</dt><dd>50</dd><dt>China</dt><dd>125</dd></dl>\n"
            ]
          },
          "metadata": {}
        }
      ]
    },
    {
      "cell_type": "code",
      "metadata": {
        "colab": {
          "base_uri": "https://localhost:8080/",
          "height": 51
        },
        "id": "LISj2g1JAVT_",
        "outputId": "d57b6fcb-e4b9-4dbf-90c7-6ff6e232f0c1"
      },
      "source": [
        "# character vector\n",
        "v <- c(\"cat\", \"dog\", \"Camel\") \n",
        "v\n",
        "u <-c(\"cat\",5,\"dog\") # coerce all elements of same general type\n",
        "u"
      ],
      "execution_count": null,
      "outputs": [
        {
          "output_type": "display_data",
          "data": {
            "text/plain": [
              "[1] \"cat\"   \"dog\"   \"Camel\""
            ],
            "text/latex": "\\begin{enumerate*}\n\\item 'cat'\n\\item 'dog'\n\\item 'Camel'\n\\end{enumerate*}\n",
            "text/markdown": "1. 'cat'\n2. 'dog'\n3. 'Camel'\n\n\n",
            "text/html": [
              "<style>\n",
              ".list-inline {list-style: none; margin:0; padding: 0}\n",
              ".list-inline>li {display: inline-block}\n",
              ".list-inline>li:not(:last-child)::after {content: \"\\00b7\"; padding: 0 .5ex}\n",
              "</style>\n",
              "<ol class=list-inline><li>'cat'</li><li>'dog'</li><li>'Camel'</li></ol>\n"
            ]
          },
          "metadata": {}
        },
        {
          "output_type": "display_data",
          "data": {
            "text/plain": [
              "[1] \"cat\" \"5\"   \"dog\""
            ],
            "text/latex": "\\begin{enumerate*}\n\\item 'cat'\n\\item '5'\n\\item 'dog'\n\\end{enumerate*}\n",
            "text/markdown": "1. 'cat'\n2. '5'\n3. 'dog'\n\n\n",
            "text/html": [
              "<style>\n",
              ".list-inline {list-style: none; margin:0; padding: 0}\n",
              ".list-inline>li {display: inline-block}\n",
              ".list-inline>li:not(:last-child)::after {content: \"\\00b7\"; padding: 0 .5ex}\n",
              "</style>\n",
              "<ol class=list-inline><li>'cat'</li><li>'5'</li><li>'dog'</li></ol>\n"
            ]
          },
          "metadata": {}
        }
      ]
    },
    {
      "cell_type": "code",
      "metadata": {
        "colab": {
          "base_uri": "https://localhost:8080/",
          "height": 52
        },
        "id": "w-1Ax4IHqc5N",
        "outputId": "9f1ac1fb-c3f5-41ef-d5e8-4fd05c0f4747"
      },
      "source": [
        "n <- c(1,2,3,4)\n",
        "n\n",
        "print(c(1,2,3,4,\"Python\"))"
      ],
      "execution_count": null,
      "outputs": [
        {
          "output_type": "display_data",
          "data": {
            "text/plain": [
              "[1] 1 2 3 4"
            ],
            "text/latex": "\\begin{enumerate*}\n\\item 1\n\\item 2\n\\item 3\n\\item 4\n\\end{enumerate*}\n",
            "text/markdown": "1. 1\n2. 2\n3. 3\n4. 4\n\n\n",
            "text/html": [
              "<style>\n",
              ".list-inline {list-style: none; margin:0; padding: 0}\n",
              ".list-inline>li {display: inline-block}\n",
              ".list-inline>li:not(:last-child)::after {content: \"\\00b7\"; padding: 0 .5ex}\n",
              "</style>\n",
              "<ol class=list-inline><li>1</li><li>2</li><li>3</li><li>4</li></ol>\n"
            ]
          },
          "metadata": {}
        },
        {
          "output_type": "stream",
          "name": "stdout",
          "text": [
            "[1] \"1\"      \"2\"      \"3\"      \"4\"      \"Python\"\n"
          ]
        }
      ]
    },
    {
      "cell_type": "code",
      "metadata": {
        "colab": {
          "base_uri": "https://localhost:8080/",
          "height": 69
        },
        "id": "ZpqqUPtdqwtq",
        "outputId": "65633643-e578-429b-fa8b-492cf31e8874"
      },
      "source": [
        "as.integer(c(1,2,3,4,\"Python\"))"
      ],
      "execution_count": null,
      "outputs": [
        {
          "output_type": "stream",
          "name": "stderr",
          "text": [
            "Warning message in eval(expr, envir, enclos):\n",
            "“NAs introduced by coercion”\n"
          ]
        },
        {
          "output_type": "display_data",
          "data": {
            "text/plain": [
              "[1]  1  2  3  4 NA"
            ],
            "text/latex": "\\begin{enumerate*}\n\\item 1\n\\item 2\n\\item 3\n\\item 4\n\\item <NA>\n\\end{enumerate*}\n",
            "text/markdown": "1. 1\n2. 2\n3. 3\n4. 4\n5. &lt;NA&gt;\n\n\n",
            "text/html": [
              "<style>\n",
              ".list-inline {list-style: none; margin:0; padding: 0}\n",
              ".list-inline>li {display: inline-block}\n",
              ".list-inline>li:not(:last-child)::after {content: \"\\00b7\"; padding: 0 .5ex}\n",
              "</style>\n",
              "<ol class=list-inline><li>1</li><li>2</li><li>3</li><li>4</li><li>&lt;NA&gt;</li></ol>\n"
            ]
          },
          "metadata": {}
        }
      ]
    },
    {
      "cell_type": "code",
      "metadata": {
        "colab": {
          "base_uri": "https://localhost:8080/",
          "height": 34
        },
        "id": "AQ1HpPOJAZLu",
        "outputId": "6962d845-b0cb-4c1b-f306-1927fbfe7ac8"
      },
      "source": [
        "# creating a logical vector\n",
        "k= c(5,4,6,7)\n",
        "d <- (k< 5)\n",
        "d"
      ],
      "execution_count": null,
      "outputs": [
        {
          "output_type": "display_data",
          "data": {
            "text/plain": [
              "[1] FALSE  TRUE FALSE FALSE"
            ],
            "text/latex": "\\begin{enumerate*}\n\\item FALSE\n\\item TRUE\n\\item FALSE\n\\item FALSE\n\\end{enumerate*}\n",
            "text/markdown": "1. FALSE\n2. TRUE\n3. FALSE\n4. FALSE\n\n\n",
            "text/html": [
              "<style>\n",
              ".list-inline {list-style: none; margin:0; padding: 0}\n",
              ".list-inline>li {display: inline-block}\n",
              ".list-inline>li:not(:last-child)::after {content: \"\\00b7\"; padding: 0 .5ex}\n",
              "</style>\n",
              "<ol class=list-inline><li>FALSE</li><li>TRUE</li><li>FALSE</li><li>FALSE</li></ol>\n"
            ]
          },
          "metadata": {}
        }
      ]
    },
    {
      "cell_type": "code",
      "metadata": {
        "colab": {
          "base_uri": "https://localhost:8080/",
          "height": 85
        },
        "id": "XaA8cWD4AbvW",
        "outputId": "d5de42c5-c5d0-41be-8da9-5242904c48d7"
      },
      "source": [
        "# Arithmetic operations between vectors occur elementwise\n",
        "a <- c(2,3,4) # c=concatenate\n",
        "b <- c(10, 20, 10)\n",
        "a+b\n",
        "a*b\n",
        "a/b\n",
        "a^2"
      ],
      "execution_count": null,
      "outputs": [
        {
          "output_type": "display_data",
          "data": {
            "text/plain": [
              "[1] 12 23 14"
            ],
            "text/latex": "\\begin{enumerate*}\n\\item 12\n\\item 23\n\\item 14\n\\end{enumerate*}\n",
            "text/markdown": "1. 12\n2. 23\n3. 14\n\n\n",
            "text/html": [
              "<style>\n",
              ".list-inline {list-style: none; margin:0; padding: 0}\n",
              ".list-inline>li {display: inline-block}\n",
              ".list-inline>li:not(:last-child)::after {content: \"\\00b7\"; padding: 0 .5ex}\n",
              "</style>\n",
              "<ol class=list-inline><li>12</li><li>23</li><li>14</li></ol>\n"
            ]
          },
          "metadata": {}
        },
        {
          "output_type": "display_data",
          "data": {
            "text/plain": [
              "[1] 20 60 40"
            ],
            "text/latex": "\\begin{enumerate*}\n\\item 20\n\\item 60\n\\item 40\n\\end{enumerate*}\n",
            "text/markdown": "1. 20\n2. 60\n3. 40\n\n\n",
            "text/html": [
              "<style>\n",
              ".list-inline {list-style: none; margin:0; padding: 0}\n",
              ".list-inline>li {display: inline-block}\n",
              ".list-inline>li:not(:last-child)::after {content: \"\\00b7\"; padding: 0 .5ex}\n",
              "</style>\n",
              "<ol class=list-inline><li>20</li><li>60</li><li>40</li></ol>\n"
            ]
          },
          "metadata": {}
        },
        {
          "output_type": "display_data",
          "data": {
            "text/plain": [
              "[1] 0.20 0.15 0.40"
            ],
            "text/latex": "\\begin{enumerate*}\n\\item 0.2\n\\item 0.15\n\\item 0.4\n\\end{enumerate*}\n",
            "text/markdown": "1. 0.2\n2. 0.15\n3. 0.4\n\n\n",
            "text/html": [
              "<style>\n",
              ".list-inline {list-style: none; margin:0; padding: 0}\n",
              ".list-inline>li {display: inline-block}\n",
              ".list-inline>li:not(:last-child)::after {content: \"\\00b7\"; padding: 0 .5ex}\n",
              "</style>\n",
              "<ol class=list-inline><li>0.2</li><li>0.15</li><li>0.4</li></ol>\n"
            ]
          },
          "metadata": {}
        },
        {
          "output_type": "display_data",
          "data": {
            "text/plain": [
              "[1]  4  9 16"
            ],
            "text/latex": "\\begin{enumerate*}\n\\item 4\n\\item 9\n\\item 16\n\\end{enumerate*}\n",
            "text/markdown": "1. 4\n2. 9\n3. 16\n\n\n",
            "text/html": [
              "<style>\n",
              ".list-inline {list-style: none; margin:0; padding: 0}\n",
              ".list-inline>li {display: inline-block}\n",
              ".list-inline>li:not(:last-child)::after {content: \"\\00b7\"; padding: 0 .5ex}\n",
              "</style>\n",
              "<ol class=list-inline><li>4</li><li>9</li><li>16</li></ol>\n"
            ]
          },
          "metadata": {}
        }
      ]
    },
    {
      "cell_type": "code",
      "metadata": {
        "colab": {
          "base_uri": "https://localhost:8080/",
          "height": 69
        },
        "id": "A8jPosgjAfXO",
        "outputId": "615a10d9-0a46-4ab6-e4c0-a84bc04b50b6"
      },
      "source": [
        "d <- c(10,15,20,30,40,50,60)\n",
        "v <- a+d # Shorter vectors in the expression are recycled as often as need be\n",
        "         #(perhaps fractionally) until they match the length of the longest vector\n",
        "v"
      ],
      "execution_count": null,
      "outputs": [
        {
          "output_type": "stream",
          "name": "stderr",
          "text": [
            "Warning message in a + d:\n",
            "“longer object length is not a multiple of shorter object length”\n"
          ]
        },
        {
          "output_type": "display_data",
          "data": {
            "text/plain": [
              "[1] 12 18 24 32 43 54 62"
            ],
            "text/latex": "\\begin{enumerate*}\n\\item 12\n\\item 18\n\\item 24\n\\item 32\n\\item 43\n\\item 54\n\\item 62\n\\end{enumerate*}\n",
            "text/markdown": "1. 12\n2. 18\n3. 24\n4. 32\n5. 43\n6. 54\n7. 62\n\n\n",
            "text/html": [
              "<style>\n",
              ".list-inline {list-style: none; margin:0; padding: 0}\n",
              ".list-inline>li {display: inline-block}\n",
              ".list-inline>li:not(:last-child)::after {content: \"\\00b7\"; padding: 0 .5ex}\n",
              "</style>\n",
              "<ol class=list-inline><li>12</li><li>18</li><li>24</li><li>32</li><li>43</li><li>54</li><li>62</li></ol>\n"
            ]
          },
          "metadata": {}
        }
      ]
    },
    {
      "cell_type": "markdown",
      "metadata": {
        "id": "sZ5PH13Ysa43"
      },
      "source": [
        "# **Friday 17-09-2021**"
      ]
    },
    {
      "cell_type": "markdown",
      "metadata": {
        "id": "DCWWdmhbqgvK"
      },
      "source": [
        "**There are 32 keywords / reserved words in R.**"
      ]
    },
    {
      "cell_type": "code",
      "metadata": {
        "colab": {
          "base_uri": "https://localhost:8080/",
          "height": 34
        },
        "id": "iTI-D4-LqlLF",
        "outputId": "cf13ddbe-c70b-4d8c-8af9-04a3a0ac9c6f"
      },
      "source": [
        "x<-3.22154\n",
        "format(round(x, 2), nsmall = 2)"
      ],
      "execution_count": null,
      "outputs": [
        {
          "output_type": "display_data",
          "data": {
            "text/plain": [
              "[1] \"3.22\""
            ],
            "text/latex": "'3.22'",
            "text/markdown": "'3.22'",
            "text/html": [
              "'3.22'"
            ]
          },
          "metadata": {}
        }
      ]
    },
    {
      "cell_type": "code",
      "metadata": {
        "colab": {
          "base_uri": "https://localhost:8080/",
          "height": 34
        },
        "id": "Lax-VpkKqyFn",
        "outputId": "05482d8f-2f1e-4b8c-df86-d529387eef6f"
      },
      "source": [
        "x<-3.22154\n",
        "format(round(x, 4), nsmall = 2)"
      ],
      "execution_count": null,
      "outputs": [
        {
          "output_type": "display_data",
          "data": {
            "text/plain": [
              "[1] \"3.2215\""
            ],
            "text/latex": "'3.2215'",
            "text/markdown": "'3.2215'",
            "text/html": [
              "'3.2215'"
            ]
          },
          "metadata": {}
        }
      ]
    },
    {
      "cell_type": "code",
      "metadata": {
        "colab": {
          "base_uri": "https://localhost:8080/",
          "height": 34
        },
        "id": "BC2FGzzXvCfR",
        "outputId": "f05ab09a-7866-49de-db13-10e7718d7bc1"
      },
      "source": [
        "round(x, 3)"
      ],
      "execution_count": null,
      "outputs": [
        {
          "output_type": "display_data",
          "data": {
            "text/plain": [
              "[1] 3.222"
            ],
            "text/latex": "3.222",
            "text/markdown": "3.222",
            "text/html": [
              "3.222"
            ]
          },
          "metadata": {}
        }
      ]
    },
    {
      "cell_type": "code",
      "metadata": {
        "colab": {
          "base_uri": "https://localhost:8080/",
          "height": 34
        },
        "id": "fGaAvc8eq89V",
        "outputId": "d1883752-db68-41fb-8616-8b638a6c87f1"
      },
      "source": [
        "options(digits = 16)\n",
        "20/6"
      ],
      "execution_count": null,
      "outputs": [
        {
          "output_type": "display_data",
          "data": {
            "text/plain": [
              "[1] 3.333333333333333"
            ],
            "text/latex": "3.33333333333333",
            "text/markdown": "3.33333333333333",
            "text/html": [
              "3.33333333333333"
            ]
          },
          "metadata": {}
        }
      ]
    },
    {
      "cell_type": "markdown",
      "metadata": {
        "id": "nPxxvfrSrAvB"
      },
      "source": [
        "**We know that 20/6 is a repeating decimal, We can change the number of digits displayed with options. This will make the number after the decimal point to extend for the required amount.**"
      ]
    },
    {
      "cell_type": "markdown",
      "metadata": {
        "id": "1bsCRjFjrRbd"
      },
      "source": [
        "**Collection of objects currently stored in R IDE is called as Workspace**"
      ]
    },
    {
      "cell_type": "markdown",
      "metadata": {
        "id": "oRPCcziwxohw"
      },
      "source": [
        "**Caution**\n",
        "While copying a code from word file, internet and powerpoint the ASCII value of \" and ' will become different.\n",
        "The above context is applicable for all the langauges. \n"
      ]
    },
    {
      "cell_type": "markdown",
      "metadata": {
        "id": "K-eoccdcrwZe"
      },
      "source": [
        "What is the output?\n",
        "\n",
        "paste(\"Everyone\", \"is\", “a” , \"coder\")\n",
        "\n",
        "cat(\"Everyone\", \"is\", \"a\", “programmer”,sep=\"*\")"
      ]
    },
    {
      "cell_type": "code",
      "metadata": {
        "colab": {
          "base_uri": "https://localhost:8080/",
          "height": 69
        },
        "id": "SWet2Wutwqcq",
        "outputId": "3fe2eb72-2b23-4d15-dce5-d2de21ca302d"
      },
      "source": [
        "cat(\"Everyone\", \"is\", \"a\", \"programmer\")\n",
        "\n",
        "paste(\"Everyone\", \"is\", \"a\" , \"coder\")\n",
        "\n",
        "cat(\"Everyone\", \"is\", \"a\", \"programmer\",sep=\"*\")\n"
      ],
      "execution_count": null,
      "outputs": [
        {
          "output_type": "stream",
          "name": "stdout",
          "text": [
            "Everyone is a programmer"
          ]
        },
        {
          "output_type": "display_data",
          "data": {
            "text/plain": [
              "[1] \"Everyone is a coder\""
            ],
            "text/latex": "'Everyone is a coder'",
            "text/markdown": "'Everyone is a coder'",
            "text/html": [
              "'Everyone is a coder'"
            ]
          },
          "metadata": {}
        },
        {
          "output_type": "stream",
          "name": "stdout",
          "text": [
            "Everyone*is*a*programmer"
          ]
        }
      ]
    },
    {
      "cell_type": "code",
      "metadata": {
        "colab": {
          "base_uri": "https://localhost:8080/",
          "height": 136
        },
        "id": "6-kZbCAfAi7e",
        "outputId": "6ff5e15b-5da1-430c-fdf8-de34646f358a"
      },
      "source": [
        "# Accessing a subset of vector in different ways \n",
        "x <- c(10,20,NA,45,78)\n",
        "x[1] #Vector the index value starts from 1\n",
        "x[2:4]     # vector of positive integer quantities\n",
        "x[-c(4,3)] # vector of negative integer quantities\n",
        "x[!is.na(x)] # logical vector\n",
        "x[is.na(x)] # logical vector\n",
        "x[(!is.na(x)) & x>10]\n",
        "y <- c(\"A\"=10,\"B\"=20,\"C\"=30) \n",
        "y[c(\"A\",\"C\")] # vector of character string  "
      ],
      "execution_count": null,
      "outputs": [
        {
          "output_type": "display_data",
          "data": {
            "text/plain": [
              "[1] 10"
            ],
            "text/latex": "10",
            "text/markdown": "10",
            "text/html": [
              "10"
            ]
          },
          "metadata": {}
        },
        {
          "output_type": "display_data",
          "data": {
            "text/plain": [
              "[1] 20 NA 45"
            ],
            "text/latex": "\\begin{enumerate*}\n\\item 20\n\\item <NA>\n\\item 45\n\\end{enumerate*}\n",
            "text/markdown": "1. 20\n2. &lt;NA&gt;\n3. 45\n\n\n",
            "text/html": [
              "<style>\n",
              ".list-inline {list-style: none; margin:0; padding: 0}\n",
              ".list-inline>li {display: inline-block}\n",
              ".list-inline>li:not(:last-child)::after {content: \"\\00b7\"; padding: 0 .5ex}\n",
              "</style>\n",
              "<ol class=list-inline><li>20</li><li>&lt;NA&gt;</li><li>45</li></ol>\n"
            ]
          },
          "metadata": {}
        },
        {
          "output_type": "display_data",
          "data": {
            "text/plain": [
              "[1] 10 20 78"
            ],
            "text/latex": "\\begin{enumerate*}\n\\item 10\n\\item 20\n\\item 78\n\\end{enumerate*}\n",
            "text/markdown": "1. 10\n2. 20\n3. 78\n\n\n",
            "text/html": [
              "<style>\n",
              ".list-inline {list-style: none; margin:0; padding: 0}\n",
              ".list-inline>li {display: inline-block}\n",
              ".list-inline>li:not(:last-child)::after {content: \"\\00b7\"; padding: 0 .5ex}\n",
              "</style>\n",
              "<ol class=list-inline><li>10</li><li>20</li><li>78</li></ol>\n"
            ]
          },
          "metadata": {}
        },
        {
          "output_type": "display_data",
          "data": {
            "text/plain": [
              "[1] 10 20 45 78"
            ],
            "text/latex": "\\begin{enumerate*}\n\\item 10\n\\item 20\n\\item 45\n\\item 78\n\\end{enumerate*}\n",
            "text/markdown": "1. 10\n2. 20\n3. 45\n4. 78\n\n\n",
            "text/html": [
              "<style>\n",
              ".list-inline {list-style: none; margin:0; padding: 0}\n",
              ".list-inline>li {display: inline-block}\n",
              ".list-inline>li:not(:last-child)::after {content: \"\\00b7\"; padding: 0 .5ex}\n",
              "</style>\n",
              "<ol class=list-inline><li>10</li><li>20</li><li>45</li><li>78</li></ol>\n"
            ]
          },
          "metadata": {}
        },
        {
          "output_type": "display_data",
          "data": {
            "text/plain": [
              "[1] NA"
            ],
            "text/latex": "<NA>",
            "text/markdown": "&lt;NA&gt;",
            "text/html": [
              "&lt;NA&gt;"
            ]
          },
          "metadata": {}
        },
        {
          "output_type": "display_data",
          "data": {
            "text/plain": [
              "[1] 20 45 78"
            ],
            "text/latex": "\\begin{enumerate*}\n\\item 20\n\\item 45\n\\item 78\n\\end{enumerate*}\n",
            "text/markdown": "1. 20\n2. 45\n3. 78\n\n\n",
            "text/html": [
              "<style>\n",
              ".list-inline {list-style: none; margin:0; padding: 0}\n",
              ".list-inline>li {display: inline-block}\n",
              ".list-inline>li:not(:last-child)::after {content: \"\\00b7\"; padding: 0 .5ex}\n",
              "</style>\n",
              "<ol class=list-inline><li>20</li><li>45</li><li>78</li></ol>\n"
            ]
          },
          "metadata": {}
        },
        {
          "output_type": "display_data",
          "data": {
            "text/plain": [
              " A  C \n",
              "10 30 "
            ],
            "text/latex": "\\begin{description*}\n\\item[A] 10\n\\item[C] 30\n\\end{description*}\n",
            "text/markdown": "A\n:   10C\n:   30\n\n",
            "text/html": [
              "<style>\n",
              ".dl-inline {width: auto; margin:0; padding: 0}\n",
              ".dl-inline>dt, .dl-inline>dd {float: none; width: auto; display: inline-block}\n",
              ".dl-inline>dt::after {content: \":\\0020\"; padding-right: .5ex}\n",
              ".dl-inline>dt:not(:first-of-type) {padding-left: .5ex}\n",
              "</style><dl class=dl-inline><dt>A</dt><dd>10</dd><dt>C</dt><dd>30</dd></dl>\n"
            ]
          },
          "metadata": {}
        }
      ]
    },
    {
      "cell_type": "code",
      "metadata": {
        "colab": {
          "base_uri": "https://localhost:8080/",
          "height": 121
        },
        "id": "WPLr166IAlwl",
        "outputId": "c600f074-3cf7-49f1-f82c-07f51156fab2"
      },
      "source": [
        "# vector coersion\n",
        "a <- 1:6\n",
        "b <- as.character(a)\n",
        "b\n",
        "as.numeric(b)\n",
        "print(b)\n",
        "x<- c(5,\"smile\",10)\n",
        "as.numeric(x) # NA(missing value) by coersion of string,\"smile\""
      ],
      "execution_count": null,
      "outputs": [
        {
          "output_type": "display_data",
          "data": {
            "text/plain": [
              "[1] \"1\" \"2\" \"3\" \"4\" \"5\" \"6\""
            ],
            "text/latex": "\\begin{enumerate*}\n\\item '1'\n\\item '2'\n\\item '3'\n\\item '4'\n\\item '5'\n\\item '6'\n\\end{enumerate*}\n",
            "text/markdown": "1. '1'\n2. '2'\n3. '3'\n4. '4'\n5. '5'\n6. '6'\n\n\n",
            "text/html": [
              "<style>\n",
              ".list-inline {list-style: none; margin:0; padding: 0}\n",
              ".list-inline>li {display: inline-block}\n",
              ".list-inline>li:not(:last-child)::after {content: \"\\00b7\"; padding: 0 .5ex}\n",
              "</style>\n",
              "<ol class=list-inline><li>'1'</li><li>'2'</li><li>'3'</li><li>'4'</li><li>'5'</li><li>'6'</li></ol>\n"
            ]
          },
          "metadata": {}
        },
        {
          "output_type": "display_data",
          "data": {
            "text/plain": [
              "[1] 1 2 3 4 5 6"
            ],
            "text/latex": "\\begin{enumerate*}\n\\item 1\n\\item 2\n\\item 3\n\\item 4\n\\item 5\n\\item 6\n\\end{enumerate*}\n",
            "text/markdown": "1. 1\n2. 2\n3. 3\n4. 4\n5. 5\n6. 6\n\n\n",
            "text/html": [
              "<style>\n",
              ".list-inline {list-style: none; margin:0; padding: 0}\n",
              ".list-inline>li {display: inline-block}\n",
              ".list-inline>li:not(:last-child)::after {content: \"\\00b7\"; padding: 0 .5ex}\n",
              "</style>\n",
              "<ol class=list-inline><li>1</li><li>2</li><li>3</li><li>4</li><li>5</li><li>6</li></ol>\n"
            ]
          },
          "metadata": {}
        },
        {
          "output_type": "stream",
          "name": "stdout",
          "text": [
            "[1] \"1\" \"2\" \"3\" \"4\" \"5\" \"6\"\n"
          ]
        },
        {
          "output_type": "stream",
          "name": "stderr",
          "text": [
            "Warning message in eval(expr, envir, enclos):\n",
            "“NAs introduced by coercion”\n"
          ]
        },
        {
          "output_type": "display_data",
          "data": {
            "text/plain": [
              "[1]  5 NA 10"
            ],
            "text/latex": "\\begin{enumerate*}\n\\item 5\n\\item <NA>\n\\item 10\n\\end{enumerate*}\n",
            "text/markdown": "1. 5\n2. &lt;NA&gt;\n3. 10\n\n\n",
            "text/html": [
              "<style>\n",
              ".list-inline {list-style: none; margin:0; padding: 0}\n",
              ".list-inline>li {display: inline-block}\n",
              ".list-inline>li:not(:last-child)::after {content: \"\\00b7\"; padding: 0 .5ex}\n",
              "</style>\n",
              "<ol class=list-inline><li>5</li><li>&lt;NA&gt;</li><li>10</li></ol>\n"
            ]
          },
          "metadata": {}
        }
      ]
    },
    {
      "cell_type": "code",
      "metadata": {
        "colab": {
          "base_uri": "https://localhost:8080/",
          "height": 51
        },
        "id": "KI7S5GkVAwc6",
        "outputId": "1d8dd1e4-0abb-4be2-ba98-4c9b9c9f4f6f"
      },
      "source": [
        "# sorting a vector\n",
        "x <- c(9,5,4,12,11,7,3)\n",
        "sort(x)\n",
        "sort(x,decreasing = TRUE)"
      ],
      "execution_count": null,
      "outputs": [
        {
          "output_type": "display_data",
          "data": {
            "text/plain": [
              "[1]  3  4  5  7  9 11 12"
            ],
            "text/latex": "\\begin{enumerate*}\n\\item 3\n\\item 4\n\\item 5\n\\item 7\n\\item 9\n\\item 11\n\\item 12\n\\end{enumerate*}\n",
            "text/markdown": "1. 3\n2. 4\n3. 5\n4. 7\n5. 9\n6. 11\n7. 12\n\n\n",
            "text/html": [
              "<style>\n",
              ".list-inline {list-style: none; margin:0; padding: 0}\n",
              ".list-inline>li {display: inline-block}\n",
              ".list-inline>li:not(:last-child)::after {content: \"\\00b7\"; padding: 0 .5ex}\n",
              "</style>\n",
              "<ol class=list-inline><li>3</li><li>4</li><li>5</li><li>7</li><li>9</li><li>11</li><li>12</li></ol>\n"
            ]
          },
          "metadata": {}
        },
        {
          "output_type": "display_data",
          "data": {
            "text/plain": [
              "[1] 12 11  9  7  5  4  3"
            ],
            "text/latex": "\\begin{enumerate*}\n\\item 12\n\\item 11\n\\item 9\n\\item 7\n\\item 5\n\\item 4\n\\item 3\n\\end{enumerate*}\n",
            "text/markdown": "1. 12\n2. 11\n3. 9\n4. 7\n5. 5\n6. 4\n7. 3\n\n\n",
            "text/html": [
              "<style>\n",
              ".list-inline {list-style: none; margin:0; padding: 0}\n",
              ".list-inline>li {display: inline-block}\n",
              ".list-inline>li:not(:last-child)::after {content: \"\\00b7\"; padding: 0 .5ex}\n",
              "</style>\n",
              "<ol class=list-inline><li>12</li><li>11</li><li>9</li><li>7</li><li>5</li><li>4</li><li>3</li></ol>\n"
            ]
          },
          "metadata": {}
        }
      ]
    },
    {
      "cell_type": "code",
      "metadata": {
        "colab": {
          "base_uri": "https://localhost:8080/",
          "height": 68
        },
        "id": "BWUN154_AzXk",
        "outputId": "385201f6-70a3-418d-ed0a-c97f0bba61aa"
      },
      "source": [
        "y <- c(9,4,5) # 9-1, 4-2, 5-3\n",
        "# 4, 5, 9\n",
        "# 2, 3, 1\n",
        "ind <- order(y) # returns index that puts y in order\n",
        "ind  #After sorting the original index is considered\n",
        "y[ind] #Sorting\n",
        "rank(y)  # ranking of the original vector"
      ],
      "execution_count": null,
      "outputs": [
        {
          "output_type": "display_data",
          "data": {
            "text/plain": [
              "[1] 2 3 1"
            ],
            "text/latex": "\\begin{enumerate*}\n\\item 2\n\\item 3\n\\item 1\n\\end{enumerate*}\n",
            "text/markdown": "1. 2\n2. 3\n3. 1\n\n\n",
            "text/html": [
              "<style>\n",
              ".list-inline {list-style: none; margin:0; padding: 0}\n",
              ".list-inline>li {display: inline-block}\n",
              ".list-inline>li:not(:last-child)::after {content: \"\\00b7\"; padding: 0 .5ex}\n",
              "</style>\n",
              "<ol class=list-inline><li>2</li><li>3</li><li>1</li></ol>\n"
            ]
          },
          "metadata": {}
        },
        {
          "output_type": "display_data",
          "data": {
            "text/plain": [
              "[1] 4 5 9"
            ],
            "text/latex": "\\begin{enumerate*}\n\\item 4\n\\item 5\n\\item 9\n\\end{enumerate*}\n",
            "text/markdown": "1. 4\n2. 5\n3. 9\n\n\n",
            "text/html": [
              "<style>\n",
              ".list-inline {list-style: none; margin:0; padding: 0}\n",
              ".list-inline>li {display: inline-block}\n",
              ".list-inline>li:not(:last-child)::after {content: \"\\00b7\"; padding: 0 .5ex}\n",
              "</style>\n",
              "<ol class=list-inline><li>4</li><li>5</li><li>9</li></ol>\n"
            ]
          },
          "metadata": {}
        },
        {
          "output_type": "display_data",
          "data": {
            "text/plain": [
              "[1] 3 1 2"
            ],
            "text/latex": "\\begin{enumerate*}\n\\item 3\n\\item 1\n\\item 2\n\\end{enumerate*}\n",
            "text/markdown": "1. 3\n2. 1\n3. 2\n\n\n",
            "text/html": [
              "<style>\n",
              ".list-inline {list-style: none; margin:0; padding: 0}\n",
              ".list-inline>li {display: inline-block}\n",
              ".list-inline>li:not(:last-child)::after {content: \"\\00b7\"; padding: 0 .5ex}\n",
              "</style>\n",
              "<ol class=list-inline><li>3</li><li>1</li><li>2</li></ol>\n"
            ]
          },
          "metadata": {}
        }
      ]
    },
    {
      "cell_type": "code",
      "metadata": {
        "colab": {
          "base_uri": "https://localhost:8080/",
          "height": 348
        },
        "id": "m5zG8VhiA2Ds",
        "outputId": "e0edcec8-1f9c-4be4-d5c0-6a86cfbc1382"
      },
      "source": [
        "#__________________________________________________________________\n",
        "#Matrix is a two dimensional data structure \n",
        "#Elements of matrix are of same data type\n",
        "m <- matrix(1:12,nrow=3,ncol=4) # matrix creation is column wise\n",
        "m\n",
        "print(m+m) # Elementwise addition\n",
        "print(m-m) # Elementwise substrction\n",
        "print(m*m) # Elementwise multiplication \n",
        "# Matrix element squaring\n",
        "#matrix(1:12,nrow=3,byrow = TRUE) # matrix row wise"
      ],
      "execution_count": null,
      "outputs": [
        {
          "output_type": "display_data",
          "data": {
            "text/plain": [
              "     [,1] [,2] [,3] [,4]\n",
              "[1,] 1    4    7    10  \n",
              "[2,] 2    5    8    11  \n",
              "[3,] 3    6    9    12  "
            ],
            "text/latex": "A matrix: 3 × 4 of type int\n\\begin{tabular}{llll}\n\t 1 & 4 & 7 & 10\\\\\n\t 2 & 5 & 8 & 11\\\\\n\t 3 & 6 & 9 & 12\\\\\n\\end{tabular}\n",
            "text/markdown": "\nA matrix: 3 × 4 of type int\n\n| 1 | 4 | 7 | 10 |\n| 2 | 5 | 8 | 11 |\n| 3 | 6 | 9 | 12 |\n\n",
            "text/html": [
              "<table class=\"dataframe\">\n",
              "<caption>A matrix: 3 × 4 of type int</caption>\n",
              "<tbody>\n",
              "\t<tr><td>1</td><td>4</td><td>7</td><td>10</td></tr>\n",
              "\t<tr><td>2</td><td>5</td><td>8</td><td>11</td></tr>\n",
              "\t<tr><td>3</td><td>6</td><td>9</td><td>12</td></tr>\n",
              "</tbody>\n",
              "</table>\n"
            ]
          },
          "metadata": {}
        },
        {
          "output_type": "stream",
          "name": "stdout",
          "text": [
            "     [,1] [,2] [,3] [,4]\n",
            "[1,]    2    8   14   20\n",
            "[2,]    4   10   16   22\n",
            "[3,]    6   12   18   24\n",
            "     [,1] [,2] [,3] [,4]\n",
            "[1,]    0    0    0    0\n",
            "[2,]    0    0    0    0\n",
            "[3,]    0    0    0    0\n",
            "     [,1] [,2] [,3] [,4]\n",
            "[1,]    1   16   49  100\n",
            "[2,]    4   25   64  121\n",
            "[3,]    9   36   81  144\n"
          ]
        }
      ]
    },
    {
      "cell_type": "code",
      "metadata": {
        "colab": {
          "base_uri": "https://localhost:8080/",
          "height": 180
        },
        "id": "5oegWNOY4ts0",
        "outputId": "6396550d-89d2-46a5-b079-5a2feec23b70"
      },
      "source": [
        "#__________________________________________________________________\n",
        "#Matrix is a two dimensional data structure \n",
        "#Elements of matrix are of same data type\n",
        "m <- matrix(1:10,nrow=3,ncol=4) # matrix creation is column wise\n",
        "m"
      ],
      "execution_count": null,
      "outputs": [
        {
          "output_type": "stream",
          "name": "stderr",
          "text": [
            "Warning message in matrix(1:10, nrow = 3, ncol = 4):\n",
            "“data length [10] is not a sub-multiple or multiple of the number of rows [3]”\n"
          ]
        },
        {
          "output_type": "display_data",
          "data": {
            "text/plain": [
              "     [,1] [,2] [,3] [,4]\n",
              "[1,] 1    4    7    10  \n",
              "[2,] 2    5    8     1  \n",
              "[3,] 3    6    9     2  "
            ],
            "text/latex": "A matrix: 3 × 4 of type int\n\\begin{tabular}{llll}\n\t 1 & 4 & 7 & 10\\\\\n\t 2 & 5 & 8 &  1\\\\\n\t 3 & 6 & 9 &  2\\\\\n\\end{tabular}\n",
            "text/markdown": "\nA matrix: 3 × 4 of type int\n\n| 1 | 4 | 7 | 10 |\n| 2 | 5 | 8 |  1 |\n| 3 | 6 | 9 |  2 |\n\n",
            "text/html": [
              "<table class=\"dataframe\">\n",
              "<caption>A matrix: 3 × 4 of type int</caption>\n",
              "<tbody>\n",
              "\t<tr><td>1</td><td>4</td><td>7</td><td>10</td></tr>\n",
              "\t<tr><td>2</td><td>5</td><td>8</td><td> 1</td></tr>\n",
              "\t<tr><td>3</td><td>6</td><td>9</td><td> 2</td></tr>\n",
              "</tbody>\n",
              "</table>\n"
            ]
          },
          "metadata": {}
        }
      ]
    },
    {
      "cell_type": "code",
      "metadata": {
        "colab": {
          "base_uri": "https://localhost:8080/",
          "height": 180
        },
        "id": "lsrQTaxg5IfX",
        "outputId": "fda73343-5ac5-43ca-f26d-13d8e8fc0b09"
      },
      "source": [
        "#__________________________________________________________________\n",
        "#Matrix is a two dimensional data structure \n",
        "#Elements of matrix are of same data type\n",
        "m <- matrix(1:10,ncol=4, nrow=3) # matrix creation is column wise\n",
        "m"
      ],
      "execution_count": null,
      "outputs": [
        {
          "output_type": "stream",
          "name": "stderr",
          "text": [
            "Warning message in matrix(1:10, ncol = 4, nrow = 3):\n",
            "“data length [10] is not a sub-multiple or multiple of the number of rows [3]”\n"
          ]
        },
        {
          "output_type": "display_data",
          "data": {
            "text/plain": [
              "     [,1] [,2] [,3] [,4]\n",
              "[1,] 1    4    7    10  \n",
              "[2,] 2    5    8     1  \n",
              "[3,] 3    6    9     2  "
            ],
            "text/latex": "A matrix: 3 × 4 of type int\n\\begin{tabular}{llll}\n\t 1 & 4 & 7 & 10\\\\\n\t 2 & 5 & 8 &  1\\\\\n\t 3 & 6 & 9 &  2\\\\\n\\end{tabular}\n",
            "text/markdown": "\nA matrix: 3 × 4 of type int\n\n| 1 | 4 | 7 | 10 |\n| 2 | 5 | 8 |  1 |\n| 3 | 6 | 9 |  2 |\n\n",
            "text/html": [
              "<table class=\"dataframe\">\n",
              "<caption>A matrix: 3 × 4 of type int</caption>\n",
              "<tbody>\n",
              "\t<tr><td>1</td><td>4</td><td>7</td><td>10</td></tr>\n",
              "\t<tr><td>2</td><td>5</td><td>8</td><td> 1</td></tr>\n",
              "\t<tr><td>3</td><td>6</td><td>9</td><td> 2</td></tr>\n",
              "</tbody>\n",
              "</table>\n"
            ]
          },
          "metadata": {}
        }
      ]
    },
    {
      "cell_type": "code",
      "metadata": {
        "colab": {
          "base_uri": "https://localhost:8080/",
          "height": 161
        },
        "id": "OeeqlxggYVgH",
        "outputId": "da8c9228-9854-4ce4-8d14-a3c31ce2c054"
      },
      "source": [
        "d <- diag(5, nrow=3, ncol=3)\n",
        "d"
      ],
      "execution_count": null,
      "outputs": [
        {
          "output_type": "display_data",
          "data": {
            "text/plain": [
              "     [,1] [,2] [,3]\n",
              "[1,] 5    0    0   \n",
              "[2,] 0    5    0   \n",
              "[3,] 0    0    5   "
            ],
            "text/latex": "A matrix: 3 × 3 of type dbl\n\\begin{tabular}{lll}\n\t 5 & 0 & 0\\\\\n\t 0 & 5 & 0\\\\\n\t 0 & 0 & 5\\\\\n\\end{tabular}\n",
            "text/markdown": "\nA matrix: 3 × 3 of type dbl\n\n| 5 | 0 | 0 |\n| 0 | 5 | 0 |\n| 0 | 0 | 5 |\n\n",
            "text/html": [
              "<table class=\"dataframe\">\n",
              "<caption>A matrix: 3 × 3 of type dbl</caption>\n",
              "<tbody>\n",
              "\t<tr><td>5</td><td>0</td><td>0</td></tr>\n",
              "\t<tr><td>0</td><td>5</td><td>0</td></tr>\n",
              "\t<tr><td>0</td><td>0</td><td>5</td></tr>\n",
              "</tbody>\n",
              "</table>\n"
            ]
          },
          "metadata": {}
        }
      ]
    },
    {
      "cell_type": "code",
      "metadata": {
        "colab": {
          "base_uri": "https://localhost:8080/",
          "height": 128
        },
        "id": "oLvn2ruwA4nP",
        "outputId": "f703d57c-8402-4be2-bece-ff6e31101714"
      },
      "source": [
        "# naming rows and columns of the matrix\n",
        "lax=matrix(60:65,nrow = 2,dimnames = list(c(\"student1\",\"student2\"),c(\"math\",\"physics\",\"chemistry\")))\n",
        "lax"
      ],
      "execution_count": null,
      "outputs": [
        {
          "output_type": "display_data",
          "data": {
            "text/plain": [
              "         math physics chemistry\n",
              "student1 60   62      64       \n",
              "student2 61   63      65       "
            ],
            "text/latex": "A matrix: 2 × 3 of type int\n\\begin{tabular}{r|lll}\n  & math & physics & chemistry\\\\\n\\hline\n\tstudent1 & 60 & 62 & 64\\\\\n\tstudent2 & 61 & 63 & 65\\\\\n\\end{tabular}\n",
            "text/markdown": "\nA matrix: 2 × 3 of type int\n\n| <!--/--> | math | physics | chemistry |\n|---|---|---|---|\n| student1 | 60 | 62 | 64 |\n| student2 | 61 | 63 | 65 |\n\n",
            "text/html": [
              "<table class=\"dataframe\">\n",
              "<caption>A matrix: 2 × 3 of type int</caption>\n",
              "<thead>\n",
              "\t<tr><th></th><th scope=col>math</th><th scope=col>physics</th><th scope=col>chemistry</th></tr>\n",
              "</thead>\n",
              "<tbody>\n",
              "\t<tr><th scope=row>student1</th><td>60</td><td>62</td><td>64</td></tr>\n",
              "\t<tr><th scope=row>student2</th><td>61</td><td>63</td><td>65</td></tr>\n",
              "</tbody>\n",
              "</table>\n"
            ]
          },
          "metadata": {}
        }
      ]
    },
    {
      "cell_type": "code",
      "metadata": {
        "colab": {
          "base_uri": "https://localhost:8080/",
          "height": 144
        },
        "id": "BEX2sv26A8Kw",
        "outputId": "0f35367f-df9f-4cda-9ea7-8836917d0023"
      },
      "source": [
        "#check attributes or dimensions of a matrix\n",
        "attributes(lax)\n"
      ],
      "execution_count": null,
      "outputs": [
        {
          "output_type": "display_data",
          "data": {
            "text/plain": [
              "$dim\n",
              "[1] 2 3\n",
              "\n",
              "$dimnames\n",
              "$dimnames[[1]]\n",
              "[1] \"student1\" \"student2\"\n",
              "\n",
              "$dimnames[[2]]\n",
              "[1] \"math\"      \"physics\"   \"chemistry\"\n",
              "\n"
            ],
            "text/latex": "\\begin{description}\n\\item[\\$dim] \\begin{enumerate*}\n\\item 2\n\\item 3\n\\end{enumerate*}\n\n\\item[\\$dimnames] \\begin{enumerate}\n\\item \\begin{enumerate*}\n\\item 'student1'\n\\item 'student2'\n\\end{enumerate*}\n\n\\item \\begin{enumerate*}\n\\item 'math'\n\\item 'physics'\n\\item 'chemistry'\n\\end{enumerate*}\n\n\\end{enumerate}\n\n\\end{description}\n",
            "text/markdown": "$dim\n:   1. 2\n2. 3\n\n\n\n$dimnames\n:   1. 1. 'student1'\n2. 'student2'\n\n\n\n2. 1. 'math'\n2. 'physics'\n3. 'chemistry'\n\n\n\n\n\n\n\n\n",
            "text/html": [
              "<dl>\n",
              "\t<dt>$dim</dt>\n",
              "\t\t<dd><style>\n",
              ".list-inline {list-style: none; margin:0; padding: 0}\n",
              ".list-inline>li {display: inline-block}\n",
              ".list-inline>li:not(:last-child)::after {content: \"\\00b7\"; padding: 0 .5ex}\n",
              "</style>\n",
              "<ol class=list-inline><li>2</li><li>3</li></ol>\n",
              "</dd>\n",
              "\t<dt>$dimnames</dt>\n",
              "\t\t<dd><ol>\n",
              "\t<li><style>\n",
              ".list-inline {list-style: none; margin:0; padding: 0}\n",
              ".list-inline>li {display: inline-block}\n",
              ".list-inline>li:not(:last-child)::after {content: \"\\00b7\"; padding: 0 .5ex}\n",
              "</style>\n",
              "<ol class=list-inline><li>'student1'</li><li>'student2'</li></ol>\n",
              "</li>\n",
              "\t<li><style>\n",
              ".list-inline {list-style: none; margin:0; padding: 0}\n",
              ".list-inline>li {display: inline-block}\n",
              ".list-inline>li:not(:last-child)::after {content: \"\\00b7\"; padding: 0 .5ex}\n",
              "</style>\n",
              "<ol class=list-inline><li>'math'</li><li>'physics'</li><li>'chemistry'</li></ol>\n",
              "</li>\n",
              "</ol>\n",
              "</dd>\n",
              "</dl>\n"
            ]
          },
          "metadata": {}
        }
      ]
    },
    {
      "cell_type": "code",
      "metadata": {
        "colab": {
          "base_uri": "https://localhost:8080/",
          "height": 68
        },
        "id": "8_V5383u7y49",
        "outputId": "0e2778d5-4c5e-4d1c-8d59-968ea7d680fd"
      },
      "source": [
        "dim(lax)\n",
        "nrow(lax)\n",
        "ncol(lax)"
      ],
      "execution_count": null,
      "outputs": [
        {
          "output_type": "display_data",
          "data": {
            "text/plain": [
              "[1] 2 3"
            ],
            "text/latex": "\\begin{enumerate*}\n\\item 2\n\\item 3\n\\end{enumerate*}\n",
            "text/markdown": "1. 2\n2. 3\n\n\n",
            "text/html": [
              "<style>\n",
              ".list-inline {list-style: none; margin:0; padding: 0}\n",
              ".list-inline>li {display: inline-block}\n",
              ".list-inline>li:not(:last-child)::after {content: \"\\00b7\"; padding: 0 .5ex}\n",
              "</style>\n",
              "<ol class=list-inline><li>2</li><li>3</li></ol>\n"
            ]
          },
          "metadata": {}
        },
        {
          "output_type": "display_data",
          "data": {
            "text/plain": [
              "[1] 2"
            ],
            "text/latex": "2",
            "text/markdown": "2",
            "text/html": [
              "2"
            ]
          },
          "metadata": {}
        },
        {
          "output_type": "display_data",
          "data": {
            "text/plain": [
              "[1] 3"
            ],
            "text/latex": "3",
            "text/markdown": "3",
            "text/html": [
              "3"
            ]
          },
          "metadata": {}
        }
      ]
    },
    {
      "cell_type": "code",
      "metadata": {
        "colab": {
          "base_uri": "https://localhost:8080/",
          "height": 147
        },
        "id": "dtbo1QTsA-7p",
        "outputId": "18cfdb2d-117c-4bc4-a109-4742e75f6670"
      },
      "source": [
        "# create a matrix from a vector\n",
        "m3 <- 1:6 #Vector\n",
        "m3\n",
        "dim(m3)=c(2,3)\n",
        "m3"
      ],
      "execution_count": null,
      "outputs": [
        {
          "output_type": "display_data",
          "data": {
            "text/plain": [
              "[1] 1 2 3 4 5 6"
            ],
            "text/latex": "\\begin{enumerate*}\n\\item 1\n\\item 2\n\\item 3\n\\item 4\n\\item 5\n\\item 6\n\\end{enumerate*}\n",
            "text/markdown": "1. 1\n2. 2\n3. 3\n4. 4\n5. 5\n6. 6\n\n\n",
            "text/html": [
              "<style>\n",
              ".list-inline {list-style: none; margin:0; padding: 0}\n",
              ".list-inline>li {display: inline-block}\n",
              ".list-inline>li:not(:last-child)::after {content: \"\\00b7\"; padding: 0 .5ex}\n",
              "</style>\n",
              "<ol class=list-inline><li>1</li><li>2</li><li>3</li><li>4</li><li>5</li><li>6</li></ol>\n"
            ]
          },
          "metadata": {}
        },
        {
          "output_type": "display_data",
          "data": {
            "text/plain": [
              "     [,1] [,2] [,3]\n",
              "[1,] 1    3    5   \n",
              "[2,] 2    4    6   "
            ],
            "text/latex": "A matrix: 2 × 3 of type int\n\\begin{tabular}{lll}\n\t 1 & 3 & 5\\\\\n\t 2 & 4 & 6\\\\\n\\end{tabular}\n",
            "text/markdown": "\nA matrix: 2 × 3 of type int\n\n| 1 | 3 | 5 |\n| 2 | 4 | 6 |\n\n",
            "text/html": [
              "<table class=\"dataframe\">\n",
              "<caption>A matrix: 2 × 3 of type int</caption>\n",
              "<tbody>\n",
              "\t<tr><td>1</td><td>3</td><td>5</td></tr>\n",
              "\t<tr><td>2</td><td>4</td><td>6</td></tr>\n",
              "</tbody>\n",
              "</table>\n"
            ]
          },
          "metadata": {}
        }
      ]
    },
    {
      "cell_type": "code",
      "metadata": {
        "colab": {
          "base_uri": "https://localhost:8080/",
          "height": 383
        },
        "id": "83VfqzHVBBSW",
        "outputId": "d4224d40-56ff-4d20-bf9d-66defb5c94c7"
      },
      "source": [
        "# create a matrix by binding columns or rows\n",
        "x=1:6\n",
        "y=11:16\n",
        "T=cbind(x,y) # create by column\n",
        "T\n",
        "L=rbind(x,y) # create by row\n",
        "L"
      ],
      "execution_count": null,
      "outputs": [
        {
          "output_type": "display_data",
          "data": {
            "text/plain": [
              "     x y \n",
              "[1,] 1 11\n",
              "[2,] 2 12\n",
              "[3,] 3 13\n",
              "[4,] 4 14\n",
              "[5,] 5 15\n",
              "[6,] 6 16"
            ],
            "text/latex": "A matrix: 6 × 2 of type int\n\\begin{tabular}{ll}\n x & y\\\\\n\\hline\n\t 1 & 11\\\\\n\t 2 & 12\\\\\n\t 3 & 13\\\\\n\t 4 & 14\\\\\n\t 5 & 15\\\\\n\t 6 & 16\\\\\n\\end{tabular}\n",
            "text/markdown": "\nA matrix: 6 × 2 of type int\n\n| x | y |\n|---|---|\n| 1 | 11 |\n| 2 | 12 |\n| 3 | 13 |\n| 4 | 14 |\n| 5 | 15 |\n| 6 | 16 |\n\n",
            "text/html": [
              "<table class=\"dataframe\">\n",
              "<caption>A matrix: 6 × 2 of type int</caption>\n",
              "<thead>\n",
              "\t<tr><th scope=col>x</th><th scope=col>y</th></tr>\n",
              "</thead>\n",
              "<tbody>\n",
              "\t<tr><td>1</td><td>11</td></tr>\n",
              "\t<tr><td>2</td><td>12</td></tr>\n",
              "\t<tr><td>3</td><td>13</td></tr>\n",
              "\t<tr><td>4</td><td>14</td></tr>\n",
              "\t<tr><td>5</td><td>15</td></tr>\n",
              "\t<tr><td>6</td><td>16</td></tr>\n",
              "</tbody>\n",
              "</table>\n"
            ]
          },
          "metadata": {}
        },
        {
          "output_type": "display_data",
          "data": {
            "text/plain": [
              "  [,1] [,2] [,3] [,4] [,5] [,6]\n",
              "x  1    2    3    4    5    6  \n",
              "y 11   12   13   14   15   16  "
            ],
            "text/latex": "A matrix: 2 × 6 of type int\n\\begin{tabular}{r|llllll}\n\tx &  1 &  2 &  3 &  4 &  5 &  6\\\\\n\ty & 11 & 12 & 13 & 14 & 15 & 16\\\\\n\\end{tabular}\n",
            "text/markdown": "\nA matrix: 2 × 6 of type int\n\n| x |  1 |  2 |  3 |  4 |  5 |  6 |\n| y | 11 | 12 | 13 | 14 | 15 | 16 |\n\n",
            "text/html": [
              "<table class=\"dataframe\">\n",
              "<caption>A matrix: 2 × 6 of type int</caption>\n",
              "<tbody>\n",
              "\t<tr><th scope=row>x</th><td> 1</td><td> 2</td><td> 3</td><td> 4</td><td> 5</td><td> 6</td></tr>\n",
              "\t<tr><th scope=row>y</th><td>11</td><td>12</td><td>13</td><td>14</td><td>15</td><td>16</td></tr>\n",
              "</tbody>\n",
              "</table>\n"
            ]
          },
          "metadata": {}
        }
      ]
    },
    {
      "cell_type": "code",
      "metadata": {
        "colab": {
          "base_uri": "https://localhost:8080/",
          "height": 322
        },
        "id": "GVpUiOnCBEox",
        "outputId": "3dec9487-efe6-40af-e670-259b6d7b631a"
      },
      "source": [
        "# Access elements of a matrix\n",
        "m <- matrix(1:12,nrow = 3)\n",
        "m\n",
        "m[1,2]        # 1st row,2nd column\n",
        "m[c(1,2),4]   # 1st and 2nd row,4th column\n",
        "m[,1]         # All rows,1st column\n",
        "m[,]          # All rows and all columns"
      ],
      "execution_count": null,
      "outputs": [
        {
          "output_type": "display_data",
          "data": {
            "text/plain": [
              "     [,1] [,2] [,3] [,4]\n",
              "[1,] 1    4    7    10  \n",
              "[2,] 2    5    8    11  \n",
              "[3,] 3    6    9    12  "
            ],
            "text/latex": "A matrix: 3 × 4 of type int\n\\begin{tabular}{llll}\n\t 1 & 4 & 7 & 10\\\\\n\t 2 & 5 & 8 & 11\\\\\n\t 3 & 6 & 9 & 12\\\\\n\\end{tabular}\n",
            "text/markdown": "\nA matrix: 3 × 4 of type int\n\n| 1 | 4 | 7 | 10 |\n| 2 | 5 | 8 | 11 |\n| 3 | 6 | 9 | 12 |\n\n",
            "text/html": [
              "<table class=\"dataframe\">\n",
              "<caption>A matrix: 3 × 4 of type int</caption>\n",
              "<tbody>\n",
              "\t<tr><td>1</td><td>4</td><td>7</td><td>10</td></tr>\n",
              "\t<tr><td>2</td><td>5</td><td>8</td><td>11</td></tr>\n",
              "\t<tr><td>3</td><td>6</td><td>9</td><td>12</td></tr>\n",
              "</tbody>\n",
              "</table>\n"
            ]
          },
          "metadata": {}
        },
        {
          "output_type": "display_data",
          "data": {
            "text/plain": [
              "[1] 4"
            ],
            "text/latex": "4",
            "text/markdown": "4",
            "text/html": [
              "4"
            ]
          },
          "metadata": {}
        },
        {
          "output_type": "display_data",
          "data": {
            "text/plain": [
              "[1] 10 11"
            ],
            "text/latex": "\\begin{enumerate*}\n\\item 10\n\\item 11\n\\end{enumerate*}\n",
            "text/markdown": "1. 10\n2. 11\n\n\n",
            "text/html": [
              "<style>\n",
              ".list-inline {list-style: none; margin:0; padding: 0}\n",
              ".list-inline>li {display: inline-block}\n",
              ".list-inline>li:not(:last-child)::after {content: \"\\00b7\"; padding: 0 .5ex}\n",
              "</style>\n",
              "<ol class=list-inline><li>10</li><li>11</li></ol>\n"
            ]
          },
          "metadata": {}
        },
        {
          "output_type": "display_data",
          "data": {
            "text/plain": [
              "[1] 1 2 3"
            ],
            "text/latex": "\\begin{enumerate*}\n\\item 1\n\\item 2\n\\item 3\n\\end{enumerate*}\n",
            "text/markdown": "1. 1\n2. 2\n3. 3\n\n\n",
            "text/html": [
              "<style>\n",
              ".list-inline {list-style: none; margin:0; padding: 0}\n",
              ".list-inline>li {display: inline-block}\n",
              ".list-inline>li:not(:last-child)::after {content: \"\\00b7\"; padding: 0 .5ex}\n",
              "</style>\n",
              "<ol class=list-inline><li>1</li><li>2</li><li>3</li></ol>\n"
            ]
          },
          "metadata": {}
        },
        {
          "output_type": "display_data",
          "data": {
            "text/plain": [
              "     [,1] [,2] [,3] [,4]\n",
              "[1,] 1    4    7    10  \n",
              "[2,] 2    5    8    11  \n",
              "[3,] 3    6    9    12  "
            ],
            "text/latex": "A matrix: 3 × 4 of type int\n\\begin{tabular}{llll}\n\t 1 & 4 & 7 & 10\\\\\n\t 2 & 5 & 8 & 11\\\\\n\t 3 & 6 & 9 & 12\\\\\n\\end{tabular}\n",
            "text/markdown": "\nA matrix: 3 × 4 of type int\n\n| 1 | 4 | 7 | 10 |\n| 2 | 5 | 8 | 11 |\n| 3 | 6 | 9 | 12 |\n\n",
            "text/html": [
              "<table class=\"dataframe\">\n",
              "<caption>A matrix: 3 × 4 of type int</caption>\n",
              "<tbody>\n",
              "\t<tr><td>1</td><td>4</td><td>7</td><td>10</td></tr>\n",
              "\t<tr><td>2</td><td>5</td><td>8</td><td>11</td></tr>\n",
              "\t<tr><td>3</td><td>6</td><td>9</td><td>12</td></tr>\n",
              "</tbody>\n",
              "</table>\n"
            ]
          },
          "metadata": {}
        }
      ]
    },
    {
      "cell_type": "code",
      "metadata": {
        "colab": {
          "base_uri": "https://localhost:8080/",
          "height": 430
        },
        "id": "jX387Z-cBHW_",
        "outputId": "f2204a7c-7d4a-4715-f777-59394e0fccce"
      },
      "source": [
        "#Modifying a matrix\n",
        "m[1,2] <- 100\n",
        "m\n",
        "m[m>10] <- 200 # modifying elements greater  than 10\n",
        "m\n",
        "dim(m) <- c(4,3) # modifying dimensions of a matrix\n",
        "m"
      ],
      "execution_count": null,
      "outputs": [
        {
          "output_type": "display_data",
          "data": {
            "text/plain": [
              "     [,1] [,2] [,3] [,4]\n",
              "[1,] 1    100  7    10  \n",
              "[2,] 2      5  8    11  \n",
              "[3,] 3      6  9    12  "
            ],
            "text/latex": "A matrix: 3 × 4 of type dbl\n\\begin{tabular}{llll}\n\t 1 & 100 & 7 & 10\\\\\n\t 2 &   5 & 8 & 11\\\\\n\t 3 &   6 & 9 & 12\\\\\n\\end{tabular}\n",
            "text/markdown": "\nA matrix: 3 × 4 of type dbl\n\n| 1 | 100 | 7 | 10 |\n| 2 |   5 | 8 | 11 |\n| 3 |   6 | 9 | 12 |\n\n",
            "text/html": [
              "<table class=\"dataframe\">\n",
              "<caption>A matrix: 3 × 4 of type dbl</caption>\n",
              "<tbody>\n",
              "\t<tr><td>1</td><td>100</td><td>7</td><td>10</td></tr>\n",
              "\t<tr><td>2</td><td>  5</td><td>8</td><td>11</td></tr>\n",
              "\t<tr><td>3</td><td>  6</td><td>9</td><td>12</td></tr>\n",
              "</tbody>\n",
              "</table>\n"
            ]
          },
          "metadata": {}
        },
        {
          "output_type": "display_data",
          "data": {
            "text/plain": [
              "     [,1] [,2] [,3] [,4]\n",
              "[1,] 1    200  7     10 \n",
              "[2,] 2      5  8    200 \n",
              "[3,] 3      6  9    200 "
            ],
            "text/latex": "A matrix: 3 × 4 of type dbl\n\\begin{tabular}{llll}\n\t 1 & 200 & 7 &  10\\\\\n\t 2 &   5 & 8 & 200\\\\\n\t 3 &   6 & 9 & 200\\\\\n\\end{tabular}\n",
            "text/markdown": "\nA matrix: 3 × 4 of type dbl\n\n| 1 | 200 | 7 |  10 |\n| 2 |   5 | 8 | 200 |\n| 3 |   6 | 9 | 200 |\n\n",
            "text/html": [
              "<table class=\"dataframe\">\n",
              "<caption>A matrix: 3 × 4 of type dbl</caption>\n",
              "<tbody>\n",
              "\t<tr><td>1</td><td>200</td><td>7</td><td> 10</td></tr>\n",
              "\t<tr><td>2</td><td>  5</td><td>8</td><td>200</td></tr>\n",
              "\t<tr><td>3</td><td>  6</td><td>9</td><td>200</td></tr>\n",
              "</tbody>\n",
              "</table>\n"
            ]
          },
          "metadata": {}
        },
        {
          "output_type": "display_data",
          "data": {
            "text/plain": [
              "     [,1] [,2] [,3]\n",
              "[1,]   1  5      9 \n",
              "[2,]   2  6     10 \n",
              "[3,]   3  7    200 \n",
              "[4,] 200  8    200 "
            ],
            "text/latex": "A matrix: 4 × 3 of type dbl\n\\begin{tabular}{lll}\n\t   1 & 5 &   9\\\\\n\t   2 & 6 &  10\\\\\n\t   3 & 7 & 200\\\\\n\t 200 & 8 & 200\\\\\n\\end{tabular}\n",
            "text/markdown": "\nA matrix: 4 × 3 of type dbl\n\n|   1 | 5 |   9 |\n|   2 | 6 |  10 |\n|   3 | 7 | 200 |\n| 200 | 8 | 200 |\n\n",
            "text/html": [
              "<table class=\"dataframe\">\n",
              "<caption>A matrix: 4 × 3 of type dbl</caption>\n",
              "<tbody>\n",
              "\t<tr><td>  1</td><td>5</td><td>  9</td></tr>\n",
              "\t<tr><td>  2</td><td>6</td><td> 10</td></tr>\n",
              "\t<tr><td>  3</td><td>7</td><td>200</td></tr>\n",
              "\t<tr><td>200</td><td>8</td><td>200</td></tr>\n",
              "</tbody>\n",
              "</table>\n"
            ]
          },
          "metadata": {}
        }
      ]
    },
    {
      "cell_type": "code",
      "metadata": {
        "colab": {
          "base_uri": "https://localhost:8080/",
          "height": 560
        },
        "id": "ogjZzn2UBKGc",
        "outputId": "aaacf8fd-89cb-4fb0-94d4-24ef84a38a5b"
      },
      "source": [
        "# matrix multiplication vs element wise multiplication\n",
        "m1 <- matrix(1:9,nrow = 3)\n",
        "m1\n",
        "m2 <- matrix(1:9,nrow = 3)\n",
        "m2\n",
        "m1*m2 # element-wise multiplication\n",
        "m1%*%m2 # matrix multiplication"
      ],
      "execution_count": null,
      "outputs": [
        {
          "output_type": "display_data",
          "data": {
            "text/plain": [
              "     [,1] [,2] [,3]\n",
              "[1,] 1    4    7   \n",
              "[2,] 2    5    8   \n",
              "[3,] 3    6    9   "
            ],
            "text/latex": "A matrix: 3 × 3 of type int\n\\begin{tabular}{lll}\n\t 1 & 4 & 7\\\\\n\t 2 & 5 & 8\\\\\n\t 3 & 6 & 9\\\\\n\\end{tabular}\n",
            "text/markdown": "\nA matrix: 3 × 3 of type int\n\n| 1 | 4 | 7 |\n| 2 | 5 | 8 |\n| 3 | 6 | 9 |\n\n",
            "text/html": [
              "<table class=\"dataframe\">\n",
              "<caption>A matrix: 3 × 3 of type int</caption>\n",
              "<tbody>\n",
              "\t<tr><td>1</td><td>4</td><td>7</td></tr>\n",
              "\t<tr><td>2</td><td>5</td><td>8</td></tr>\n",
              "\t<tr><td>3</td><td>6</td><td>9</td></tr>\n",
              "</tbody>\n",
              "</table>\n"
            ]
          },
          "metadata": {}
        },
        {
          "output_type": "display_data",
          "data": {
            "text/plain": [
              "     [,1] [,2] [,3]\n",
              "[1,] 1    4    7   \n",
              "[2,] 2    5    8   \n",
              "[3,] 3    6    9   "
            ],
            "text/latex": "A matrix: 3 × 3 of type int\n\\begin{tabular}{lll}\n\t 1 & 4 & 7\\\\\n\t 2 & 5 & 8\\\\\n\t 3 & 6 & 9\\\\\n\\end{tabular}\n",
            "text/markdown": "\nA matrix: 3 × 3 of type int\n\n| 1 | 4 | 7 |\n| 2 | 5 | 8 |\n| 3 | 6 | 9 |\n\n",
            "text/html": [
              "<table class=\"dataframe\">\n",
              "<caption>A matrix: 3 × 3 of type int</caption>\n",
              "<tbody>\n",
              "\t<tr><td>1</td><td>4</td><td>7</td></tr>\n",
              "\t<tr><td>2</td><td>5</td><td>8</td></tr>\n",
              "\t<tr><td>3</td><td>6</td><td>9</td></tr>\n",
              "</tbody>\n",
              "</table>\n"
            ]
          },
          "metadata": {}
        },
        {
          "output_type": "display_data",
          "data": {
            "text/plain": [
              "     [,1] [,2] [,3]\n",
              "[1,] 1    16   49  \n",
              "[2,] 4    25   64  \n",
              "[3,] 9    36   81  "
            ],
            "text/latex": "A matrix: 3 × 3 of type int\n\\begin{tabular}{lll}\n\t 1 & 16 & 49\\\\\n\t 4 & 25 & 64\\\\\n\t 9 & 36 & 81\\\\\n\\end{tabular}\n",
            "text/markdown": "\nA matrix: 3 × 3 of type int\n\n| 1 | 16 | 49 |\n| 4 | 25 | 64 |\n| 9 | 36 | 81 |\n\n",
            "text/html": [
              "<table class=\"dataframe\">\n",
              "<caption>A matrix: 3 × 3 of type int</caption>\n",
              "<tbody>\n",
              "\t<tr><td>1</td><td>16</td><td>49</td></tr>\n",
              "\t<tr><td>4</td><td>25</td><td>64</td></tr>\n",
              "\t<tr><td>9</td><td>36</td><td>81</td></tr>\n",
              "</tbody>\n",
              "</table>\n"
            ]
          },
          "metadata": {}
        },
        {
          "output_type": "display_data",
          "data": {
            "text/plain": [
              "     [,1] [,2] [,3]\n",
              "[1,] 30   66   102 \n",
              "[2,] 36   81   126 \n",
              "[3,] 42   96   150 "
            ],
            "text/latex": "A matrix: 3 × 3 of type dbl\n\\begin{tabular}{lll}\n\t 30 & 66 & 102\\\\\n\t 36 & 81 & 126\\\\\n\t 42 & 96 & 150\\\\\n\\end{tabular}\n",
            "text/markdown": "\nA matrix: 3 × 3 of type dbl\n\n| 30 | 66 | 102 |\n| 36 | 81 | 126 |\n| 42 | 96 | 150 |\n\n",
            "text/html": [
              "<table class=\"dataframe\">\n",
              "<caption>A matrix: 3 × 3 of type dbl</caption>\n",
              "<tbody>\n",
              "\t<tr><td>30</td><td>66</td><td>102</td></tr>\n",
              "\t<tr><td>36</td><td>81</td><td>126</td></tr>\n",
              "\t<tr><td>42</td><td>96</td><td>150</td></tr>\n",
              "</tbody>\n",
              "</table>\n"
            ]
          },
          "metadata": {}
        }
      ]
    },
    {
      "cell_type": "markdown",
      "metadata": {
        "id": "xhBicPfB-ph9"
      },
      "source": [
        "# Monday 20-09-2021\n",
        "\n",
        "# Mock Test (10 MCQ's) \n",
        "\n",
        "Quizziz \n",
        "Instaneous Assessment "
      ]
    },
    {
      "cell_type": "markdown",
      "metadata": {
        "id": "grgOjd-DMA0x"
      },
      "source": [
        "Three different ways to assign the value to the variable. "
      ]
    },
    {
      "cell_type": "code",
      "metadata": {
        "colab": {
          "base_uri": "https://localhost:8080/",
          "height": 69
        },
        "id": "y7pP2z1ZK3Xo",
        "outputId": "ab9757b9-9708-48ff-ed53-17ade2c22dcc"
      },
      "source": [
        "t <-10\n",
        "t\n",
        "100 -> s\n",
        "s\n",
        "assign(\"r\", 110)\n",
        "r"
      ],
      "execution_count": null,
      "outputs": [
        {
          "output_type": "display_data",
          "data": {
            "text/plain": [
              "[1] 10"
            ],
            "text/latex": "10",
            "text/markdown": "10",
            "text/html": [
              "10"
            ]
          },
          "metadata": {}
        },
        {
          "output_type": "display_data",
          "data": {
            "text/plain": [
              "[1] 100"
            ],
            "text/latex": "100",
            "text/markdown": "100",
            "text/html": [
              "100"
            ]
          },
          "metadata": {}
        },
        {
          "output_type": "display_data",
          "data": {
            "text/plain": [
              "[1] 110"
            ],
            "text/latex": "110",
            "text/markdown": "110",
            "text/html": [
              "110"
            ]
          },
          "metadata": {}
        }
      ]
    },
    {
      "cell_type": "code",
      "metadata": {
        "colab": {
          "base_uri": "https://localhost:8080/",
          "height": 259
        },
        "id": "-WmTwN0IBNOl",
        "outputId": "918dacbc-a145-4d51-a42b-2494fa4354c8"
      },
      "source": [
        "# know the class, type or mode of an object\n",
        "m <- matrix(1:15,nrow = 5)\n",
        "m\n",
        "#Storage represtation\n",
        "#Three different ways to know the data type\n",
        "class(m) #From the perspective of the OOP\n",
        "typeof(m) #This represents the memory  from the R perspective\n",
        "mode(m) #This represents from the compiler designers point of view"
      ],
      "execution_count": null,
      "outputs": [
        {
          "output_type": "display_data",
          "data": {
            "text/plain": [
              "     [,1] [,2] [,3]\n",
              "[1,] 1     6   11  \n",
              "[2,] 2     7   12  \n",
              "[3,] 3     8   13  \n",
              "[4,] 4     9   14  \n",
              "[5,] 5    10   15  "
            ],
            "text/latex": "A matrix: 5 × 3 of type int\n\\begin{tabular}{lll}\n\t 1 &  6 & 11\\\\\n\t 2 &  7 & 12\\\\\n\t 3 &  8 & 13\\\\\n\t 4 &  9 & 14\\\\\n\t 5 & 10 & 15\\\\\n\\end{tabular}\n",
            "text/markdown": "\nA matrix: 5 × 3 of type int\n\n| 1 |  6 | 11 |\n| 2 |  7 | 12 |\n| 3 |  8 | 13 |\n| 4 |  9 | 14 |\n| 5 | 10 | 15 |\n\n",
            "text/html": [
              "<table class=\"dataframe\">\n",
              "<caption>A matrix: 5 × 3 of type int</caption>\n",
              "<tbody>\n",
              "\t<tr><td>1</td><td> 6</td><td>11</td></tr>\n",
              "\t<tr><td>2</td><td> 7</td><td>12</td></tr>\n",
              "\t<tr><td>3</td><td> 8</td><td>13</td></tr>\n",
              "\t<tr><td>4</td><td> 9</td><td>14</td></tr>\n",
              "\t<tr><td>5</td><td>10</td><td>15</td></tr>\n",
              "</tbody>\n",
              "</table>\n"
            ]
          },
          "metadata": {}
        },
        {
          "output_type": "display_data",
          "data": {
            "text/plain": [
              "[1] \"matrix\" \"array\" "
            ],
            "text/latex": "\\begin{enumerate*}\n\\item 'matrix'\n\\item 'array'\n\\end{enumerate*}\n",
            "text/markdown": "1. 'matrix'\n2. 'array'\n\n\n",
            "text/html": [
              "<style>\n",
              ".list-inline {list-style: none; margin:0; padding: 0}\n",
              ".list-inline>li {display: inline-block}\n",
              ".list-inline>li:not(:last-child)::after {content: \"\\00b7\"; padding: 0 .5ex}\n",
              "</style>\n",
              "<ol class=list-inline><li>'matrix'</li><li>'array'</li></ol>\n"
            ]
          },
          "metadata": {}
        },
        {
          "output_type": "display_data",
          "data": {
            "text/plain": [
              "[1] \"integer\""
            ],
            "text/latex": "'integer'",
            "text/markdown": "'integer'",
            "text/html": [
              "'integer'"
            ]
          },
          "metadata": {}
        },
        {
          "output_type": "display_data",
          "data": {
            "text/plain": [
              "[1] \"numeric\""
            ],
            "text/latex": "'numeric'",
            "text/markdown": "'numeric'",
            "text/html": [
              "'numeric'"
            ]
          },
          "metadata": {}
        }
      ]
    },
    {
      "cell_type": "markdown",
      "metadata": {
        "id": "sVu5R0ESNDpI"
      },
      "source": [
        "Array is the basic and important data structure. \n",
        "Depending upon the dimension which you mentione it will be converted into another data type.\n",
        "\n",
        "If the dimension of the array is 1, it will be converted to vector data type.\n",
        "\n",
        "If the dimension of the array is 2, it will be converted to matric data type.\n",
        "\n",
        "If the dimension of the array is >2, it will be converted into multi dimensional data type."
      ]
    },
    {
      "cell_type": "markdown",
      "metadata": {
        "id": "DLSIWi9jg-rl"
      },
      "source": [
        "**An array is a vector with one or more dimensions. So, an array with one dimension is (almost) the same as a vector. An array with two dimensions is (almost) the same as a matrix. An array with three or more dimensions is an n-dimensional array.**"
      ]
    },
    {
      "cell_type": "markdown",
      "metadata": {
        "id": "FOthcgzOhekH"
      },
      "source": [
        "# vector is special cases for 1 dimension arrays\n",
        "\n",
        "# matrix is a special case for 2 dimensions arrays\n",
        "\n",
        "# array can also have any dimension level (including 1 and 2). "
      ]
    },
    {
      "cell_type": "code",
      "metadata": {
        "colab": {
          "base_uri": "https://localhost:8080/",
          "height": 34
        },
        "id": "hSYxis9aBP1q",
        "outputId": "2a4a9c8b-e1d8-4634-85ed-1b6f51b502fb"
      },
      "source": [
        "#Array Creation\n",
        "z <- array(1:12)\n",
        "z"
      ],
      "execution_count": null,
      "outputs": [
        {
          "output_type": "display_data",
          "data": {
            "text/plain": [
              " [1]  1  2  3  4  5  6  7  8  9 10 11 12"
            ],
            "text/latex": "\\begin{enumerate*}\n\\item 1\n\\item 2\n\\item 3\n\\item 4\n\\item 5\n\\item 6\n\\item 7\n\\item 8\n\\item 9\n\\item 10\n\\item 11\n\\item 12\n\\end{enumerate*}\n",
            "text/markdown": "1. 1\n2. 2\n3. 3\n4. 4\n5. 5\n6. 6\n7. 7\n8. 8\n9. 9\n10. 10\n11. 11\n12. 12\n\n\n",
            "text/html": [
              "<style>\n",
              ".list-inline {list-style: none; margin:0; padding: 0}\n",
              ".list-inline>li {display: inline-block}\n",
              ".list-inline>li:not(:last-child)::after {content: \"\\00b7\"; padding: 0 .5ex}\n",
              "</style>\n",
              "<ol class=list-inline><li>1</li><li>2</li><li>3</li><li>4</li><li>5</li><li>6</li><li>7</li><li>8</li><li>9</li><li>10</li><li>11</li><li>12</li></ol>\n"
            ]
          },
          "metadata": {}
        }
      ]
    },
    {
      "cell_type": "code",
      "metadata": {
        "colab": {
          "base_uri": "https://localhost:8080/",
          "height": 69
        },
        "id": "fRKWzgxqOobQ",
        "outputId": "7de1539d-25af-4ee0-c4b9-7b141cfc134c"
      },
      "source": [
        "class(z) #From the perspective of the OOP\n",
        "typeof(z) #This represents the memory  from the R perspective\n",
        "mode(z) #This represents from the compiler designers point of view"
      ],
      "execution_count": null,
      "outputs": [
        {
          "output_type": "display_data",
          "data": {
            "text/plain": [
              "[1] \"array\""
            ],
            "text/latex": "'array'",
            "text/markdown": "'array'",
            "text/html": [
              "'array'"
            ]
          },
          "metadata": {}
        },
        {
          "output_type": "display_data",
          "data": {
            "text/plain": [
              "[1] \"integer\""
            ],
            "text/latex": "'integer'",
            "text/markdown": "'integer'",
            "text/html": [
              "'integer'"
            ]
          },
          "metadata": {}
        },
        {
          "output_type": "display_data",
          "data": {
            "text/plain": [
              "[1] \"numeric\""
            ],
            "text/latex": "'numeric'",
            "text/markdown": "'numeric'",
            "text/html": [
              "'numeric'"
            ]
          },
          "metadata": {}
        }
      ]
    },
    {
      "cell_type": "code",
      "metadata": {
        "colab": {
          "base_uri": "https://localhost:8080/",
          "height": 34
        },
        "id": "jR8YF1IqPg1Z",
        "outputId": "d4f0ae30-94c1-454f-cc00-1dbc03fb806f"
      },
      "source": [
        "p =\"female\"\n",
        "p"
      ],
      "execution_count": null,
      "outputs": [
        {
          "output_type": "display_data",
          "data": {
            "text/plain": [
              "[1] \"female\""
            ],
            "text/latex": "'female'",
            "text/markdown": "'female'",
            "text/html": [
              "'female'"
            ]
          },
          "metadata": {}
        }
      ]
    },
    {
      "cell_type": "code",
      "metadata": {
        "colab": {
          "base_uri": "https://localhost:8080/",
          "height": 69
        },
        "id": "7s9jbw8GPwHo",
        "outputId": "f6238767-dc6a-452a-ed3a-68a3b7586644"
      },
      "source": [
        "class(p) #From the perspective of the OOP\n",
        "typeof(p) #This represents the memory  from the R perspective\n",
        "mode(p) #This represents from the compiler designers point of view"
      ],
      "execution_count": null,
      "outputs": [
        {
          "output_type": "display_data",
          "data": {
            "text/plain": [
              "[1] \"character\""
            ],
            "text/latex": "'character'",
            "text/markdown": "'character'",
            "text/html": [
              "'character'"
            ]
          },
          "metadata": {}
        },
        {
          "output_type": "display_data",
          "data": {
            "text/plain": [
              "[1] \"character\""
            ],
            "text/latex": "'character'",
            "text/markdown": "'character'",
            "text/html": [
              "'character'"
            ]
          },
          "metadata": {}
        },
        {
          "output_type": "display_data",
          "data": {
            "text/plain": [
              "[1] \"character\""
            ],
            "text/latex": "'character'",
            "text/markdown": "'character'",
            "text/html": [
              "'character'"
            ]
          },
          "metadata": {}
        }
      ]
    },
    {
      "cell_type": "code",
      "metadata": {
        "colab": {
          "base_uri": "https://localhost:8080/",
          "height": 228
        },
        "id": "yqIn9bC6hwwe",
        "outputId": "1dd02b4e-f5cc-40e7-b71b-735c9214da8f"
      },
      "source": [
        "x <- matrix(1:10, 2)\n",
        "x\n",
        "y <- array(1:10, c(2, 5))\n",
        "y\n",
        "identical(x, y)"
      ],
      "execution_count": null,
      "outputs": [
        {
          "output_type": "display_data",
          "data": {
            "text/plain": [
              "     [,1] [,2] [,3] [,4] [,5]\n",
              "[1,] 1    3    5    7     9  \n",
              "[2,] 2    4    6    8    10  "
            ],
            "text/latex": "A matrix: 2 × 5 of type int\n\\begin{tabular}{lllll}\n\t 1 & 3 & 5 & 7 &  9\\\\\n\t 2 & 4 & 6 & 8 & 10\\\\\n\\end{tabular}\n",
            "text/markdown": "\nA matrix: 2 × 5 of type int\n\n| 1 | 3 | 5 | 7 |  9 |\n| 2 | 4 | 6 | 8 | 10 |\n\n",
            "text/html": [
              "<table class=\"dataframe\">\n",
              "<caption>A matrix: 2 × 5 of type int</caption>\n",
              "<tbody>\n",
              "\t<tr><td>1</td><td>3</td><td>5</td><td>7</td><td> 9</td></tr>\n",
              "\t<tr><td>2</td><td>4</td><td>6</td><td>8</td><td>10</td></tr>\n",
              "</tbody>\n",
              "</table>\n"
            ]
          },
          "metadata": {}
        },
        {
          "output_type": "display_data",
          "data": {
            "text/plain": [
              "     [,1] [,2] [,3] [,4] [,5]\n",
              "[1,] 1    3    5    7     9  \n",
              "[2,] 2    4    6    8    10  "
            ],
            "text/latex": "A matrix: 2 × 5 of type int\n\\begin{tabular}{lllll}\n\t 1 & 3 & 5 & 7 &  9\\\\\n\t 2 & 4 & 6 & 8 & 10\\\\\n\\end{tabular}\n",
            "text/markdown": "\nA matrix: 2 × 5 of type int\n\n| 1 | 3 | 5 | 7 |  9 |\n| 2 | 4 | 6 | 8 | 10 |\n\n",
            "text/html": [
              "<table class=\"dataframe\">\n",
              "<caption>A matrix: 2 × 5 of type int</caption>\n",
              "<tbody>\n",
              "\t<tr><td>1</td><td>3</td><td>5</td><td>7</td><td> 9</td></tr>\n",
              "\t<tr><td>2</td><td>4</td><td>6</td><td>8</td><td>10</td></tr>\n",
              "</tbody>\n",
              "</table>\n"
            ]
          },
          "metadata": {}
        },
        {
          "output_type": "display_data",
          "data": {
            "text/plain": [
              "[1] TRUE"
            ],
            "text/latex": "TRUE",
            "text/markdown": "TRUE",
            "text/html": [
              "TRUE"
            ]
          },
          "metadata": {}
        }
      ]
    },
    {
      "cell_type": "code",
      "metadata": {
        "colab": {
          "base_uri": "https://localhost:8080/",
          "height": 148
        },
        "id": "-h02YGzcQPjD",
        "outputId": "992423b5-69df-4432-eb96-b701c6117252"
      },
      "source": [
        "x <- matrix(1:10, 2)\n",
        "x\n",
        "y <- array(1:10)\n",
        "y\n",
        "identical(x, y)"
      ],
      "execution_count": null,
      "outputs": [
        {
          "output_type": "display_data",
          "data": {
            "text/plain": [
              "     [,1] [,2] [,3] [,4] [,5]\n",
              "[1,] 1    3    5    7     9  \n",
              "[2,] 2    4    6    8    10  "
            ],
            "text/latex": "A matrix: 2 × 5 of type int\n\\begin{tabular}{lllll}\n\t 1 & 3 & 5 & 7 &  9\\\\\n\t 2 & 4 & 6 & 8 & 10\\\\\n\\end{tabular}\n",
            "text/markdown": "\nA matrix: 2 × 5 of type int\n\n| 1 | 3 | 5 | 7 |  9 |\n| 2 | 4 | 6 | 8 | 10 |\n\n",
            "text/html": [
              "<table class=\"dataframe\">\n",
              "<caption>A matrix: 2 × 5 of type int</caption>\n",
              "<tbody>\n",
              "\t<tr><td>1</td><td>3</td><td>5</td><td>7</td><td> 9</td></tr>\n",
              "\t<tr><td>2</td><td>4</td><td>6</td><td>8</td><td>10</td></tr>\n",
              "</tbody>\n",
              "</table>\n"
            ]
          },
          "metadata": {}
        },
        {
          "output_type": "display_data",
          "data": {
            "text/plain": [
              " [1]  1  2  3  4  5  6  7  8  9 10"
            ],
            "text/latex": "\\begin{enumerate*}\n\\item 1\n\\item 2\n\\item 3\n\\item 4\n\\item 5\n\\item 6\n\\item 7\n\\item 8\n\\item 9\n\\item 10\n\\end{enumerate*}\n",
            "text/markdown": "1. 1\n2. 2\n3. 3\n4. 4\n5. 5\n6. 6\n7. 7\n8. 8\n9. 9\n10. 10\n\n\n",
            "text/html": [
              "<style>\n",
              ".list-inline {list-style: none; margin:0; padding: 0}\n",
              ".list-inline>li {display: inline-block}\n",
              ".list-inline>li:not(:last-child)::after {content: \"\\00b7\"; padding: 0 .5ex}\n",
              "</style>\n",
              "<ol class=list-inline><li>1</li><li>2</li><li>3</li><li>4</li><li>5</li><li>6</li><li>7</li><li>8</li><li>9</li><li>10</li></ol>\n"
            ]
          },
          "metadata": {}
        },
        {
          "output_type": "display_data",
          "data": {
            "text/plain": [
              "[1] FALSE"
            ],
            "text/latex": "FALSE",
            "text/markdown": "FALSE",
            "text/html": [
              "FALSE"
            ]
          },
          "metadata": {}
        }
      ]
    },
    {
      "cell_type": "markdown",
      "metadata": {
        "id": "3XU-gm9iRAZ2"
      },
      "source": [
        "All the valid data types of R programming is accepted within the data structure List."
      ]
    },
    {
      "cell_type": "code",
      "metadata": {
        "colab": {
          "base_uri": "https://localhost:8080/"
        },
        "id": "KcJEnymGBTOK",
        "outputId": "6afd5422-03cf-41e3-c358-c31bf8d127f6"
      },
      "source": [
        "#___________________________________________________________________\n",
        "# List - object consisting of an ordered collection of objects known as its components\n",
        "# components of list may be of different type and different length\n",
        "lis1 <- list(\"a\"=3.57,\"b\"=FALSE,\"c\"=1:10,\"d\"=\"smile\")\n",
        "str(lis1)"
      ],
      "execution_count": null,
      "outputs": [
        {
          "output_type": "stream",
          "name": "stdout",
          "text": [
            "List of 4\n",
            " $ a: num 3.57\n",
            " $ b: logi FALSE\n",
            " $ c: int [1:10] 1 2 3 4 5 6 7 8 9 10\n",
            " $ d: chr \"smile\"\n"
          ]
        }
      ]
    },
    {
      "cell_type": "code",
      "metadata": {
        "colab": {
          "base_uri": "https://localhost:8080/",
          "height": 448
        },
        "id": "FWkXedmwBVhf",
        "outputId": "2b18ce2d-f12c-45df-cf23-ffb61d8114f2"
      },
      "source": [
        "lis2 <- list(1:5,\"age\",c(1,10,15),list(5,6)) \n",
        "lis2\n",
        "str(lis2)\n",
        "names(lis2) <- c(\"sequence\",\"Character\",\"vector\",\"innerlist\") # name the elements of list \n",
        "lis2 "
      ],
      "execution_count": null,
      "outputs": [
        {
          "output_type": "display_data",
          "data": {
            "text/plain": [
              "[[1]]\n",
              "[1] 1 2 3 4 5\n",
              "\n",
              "[[2]]\n",
              "[1] \"age\"\n",
              "\n",
              "[[3]]\n",
              "[1]  1 10 15\n",
              "\n",
              "[[4]]\n",
              "[[4]][[1]]\n",
              "[1] 5\n",
              "\n",
              "[[4]][[2]]\n",
              "[1] 6\n",
              "\n"
            ],
            "text/latex": "\\begin{enumerate}\n\\item \\begin{enumerate*}\n\\item 1\n\\item 2\n\\item 3\n\\item 4\n\\item 5\n\\end{enumerate*}\n\n\\item 'age'\n\\item \\begin{enumerate*}\n\\item 1\n\\item 10\n\\item 15\n\\end{enumerate*}\n\n\\item \\begin{enumerate}\n\\item 5\n\\item 6\n\\end{enumerate}\n\n\\end{enumerate}\n",
            "text/markdown": "1. 1. 1\n2. 2\n3. 3\n4. 4\n5. 5\n\n\n\n2. 'age'\n3. 1. 1\n2. 10\n3. 15\n\n\n\n4. 1. 5\n2. 6\n\n\n\n\n\n",
            "text/html": [
              "<ol>\n",
              "\t<li><style>\n",
              ".list-inline {list-style: none; margin:0; padding: 0}\n",
              ".list-inline>li {display: inline-block}\n",
              ".list-inline>li:not(:last-child)::after {content: \"\\00b7\"; padding: 0 .5ex}\n",
              "</style>\n",
              "<ol class=list-inline><li>1</li><li>2</li><li>3</li><li>4</li><li>5</li></ol>\n",
              "</li>\n",
              "\t<li>'age'</li>\n",
              "\t<li><style>\n",
              ".list-inline {list-style: none; margin:0; padding: 0}\n",
              ".list-inline>li {display: inline-block}\n",
              ".list-inline>li:not(:last-child)::after {content: \"\\00b7\"; padding: 0 .5ex}\n",
              "</style>\n",
              "<ol class=list-inline><li>1</li><li>10</li><li>15</li></ol>\n",
              "</li>\n",
              "\t<li><ol>\n",
              "\t<li>5</li>\n",
              "\t<li>6</li>\n",
              "</ol>\n",
              "</li>\n",
              "</ol>\n"
            ]
          },
          "metadata": {}
        },
        {
          "output_type": "stream",
          "name": "stdout",
          "text": [
            "List of 4\n",
            " $ : int [1:5] 1 2 3 4 5\n",
            " $ : chr \"age\"\n",
            " $ : num [1:3] 1 10 15\n",
            " $ :List of 2\n",
            "  ..$ : num 5\n",
            "  ..$ : num 6\n"
          ]
        },
        {
          "output_type": "display_data",
          "data": {
            "text/plain": [
              "$sequence\n",
              "[1] 1 2 3 4 5\n",
              "\n",
              "$Character\n",
              "[1] \"age\"\n",
              "\n",
              "$vector\n",
              "[1]  1 10 15\n",
              "\n",
              "$innerlist\n",
              "$innerlist[[1]]\n",
              "[1] 5\n",
              "\n",
              "$innerlist[[2]]\n",
              "[1] 6\n",
              "\n"
            ],
            "text/latex": "\\begin{description}\n\\item[\\$sequence] \\begin{enumerate*}\n\\item 1\n\\item 2\n\\item 3\n\\item 4\n\\item 5\n\\end{enumerate*}\n\n\\item[\\$Character] 'age'\n\\item[\\$vector] \\begin{enumerate*}\n\\item 1\n\\item 10\n\\item 15\n\\end{enumerate*}\n\n\\item[\\$innerlist] \\begin{enumerate}\n\\item 5\n\\item 6\n\\end{enumerate}\n\n\\end{description}\n",
            "text/markdown": "$sequence\n:   1. 1\n2. 2\n3. 3\n4. 4\n5. 5\n\n\n\n$Character\n:   'age'\n$vector\n:   1. 1\n2. 10\n3. 15\n\n\n\n$innerlist\n:   1. 5\n2. 6\n\n\n\n\n\n",
            "text/html": [
              "<dl>\n",
              "\t<dt>$sequence</dt>\n",
              "\t\t<dd><style>\n",
              ".list-inline {list-style: none; margin:0; padding: 0}\n",
              ".list-inline>li {display: inline-block}\n",
              ".list-inline>li:not(:last-child)::after {content: \"\\00b7\"; padding: 0 .5ex}\n",
              "</style>\n",
              "<ol class=list-inline><li>1</li><li>2</li><li>3</li><li>4</li><li>5</li></ol>\n",
              "</dd>\n",
              "\t<dt>$Character</dt>\n",
              "\t\t<dd>'age'</dd>\n",
              "\t<dt>$vector</dt>\n",
              "\t\t<dd><style>\n",
              ".list-inline {list-style: none; margin:0; padding: 0}\n",
              ".list-inline>li {display: inline-block}\n",
              ".list-inline>li:not(:last-child)::after {content: \"\\00b7\"; padding: 0 .5ex}\n",
              "</style>\n",
              "<ol class=list-inline><li>1</li><li>10</li><li>15</li></ol>\n",
              "</dd>\n",
              "\t<dt>$innerlist</dt>\n",
              "\t\t<dd><ol>\n",
              "\t<li>5</li>\n",
              "\t<li>6</li>\n",
              "</ol>\n",
              "</dd>\n",
              "</dl>\n"
            ]
          },
          "metadata": {}
        }
      ]
    },
    {
      "cell_type": "code",
      "metadata": {
        "colab": {
          "base_uri": "https://localhost:8080/",
          "height": 34
        },
        "id": "0OEMGCgMTY1a",
        "outputId": "7ef161f5-c241-4c53-c608-ec66204c5af2"
      },
      "source": [
        "lis2[[1]]"
      ],
      "execution_count": null,
      "outputs": [
        {
          "output_type": "display_data",
          "data": {
            "text/plain": [
              "[1] 1 2 3 4 5"
            ],
            "text/latex": "\\begin{enumerate*}\n\\item 1\n\\item 2\n\\item 3\n\\item 4\n\\item 5\n\\end{enumerate*}\n",
            "text/markdown": "1. 1\n2. 2\n3. 3\n4. 4\n5. 5\n\n\n",
            "text/html": [
              "<style>\n",
              ".list-inline {list-style: none; margin:0; padding: 0}\n",
              ".list-inline>li {display: inline-block}\n",
              ".list-inline>li:not(:last-child)::after {content: \"\\00b7\"; padding: 0 .5ex}\n",
              "</style>\n",
              "<ol class=list-inline><li>1</li><li>2</li><li>3</li><li>4</li><li>5</li></ol>\n"
            ]
          },
          "metadata": {}
        }
      ]
    },
    {
      "cell_type": "code",
      "metadata": {
        "colab": {
          "base_uri": "https://localhost:8080/",
          "height": 34
        },
        "id": "VibDIyh4BXpj",
        "outputId": "299ecb4a-25c8-437e-bc2e-098633403039"
      },
      "source": [
        "# List indexing-using [[]] double square bracket\n",
        "lis <-list(\"name\"=\"Arya\",\"gender\"=\"Male\",\"age\"=18,\"score\"=70.5)\n",
        "lis[[1]] #To Access the vlaue of the list element"
      ],
      "execution_count": null,
      "outputs": [
        {
          "output_type": "display_data",
          "data": {
            "text/plain": [
              "[1] \"Arya\""
            ],
            "text/latex": "'Arya'",
            "text/markdown": "'Arya'",
            "text/html": [
              "'Arya'"
            ]
          },
          "metadata": {}
        }
      ]
    },
    {
      "cell_type": "code",
      "metadata": {
        "colab": {
          "base_uri": "https://localhost:8080/",
          "height": 34
        },
        "id": "NjvOiadnS9kt",
        "outputId": "94b1f630-2553-476f-dd04-2fa88addce40"
      },
      "source": [
        "lis[1] #To access the fist object"
      ],
      "execution_count": null,
      "outputs": [
        {
          "output_type": "display_data",
          "data": {
            "text/plain": [
              "$name\n",
              "[1] \"Arya\"\n"
            ],
            "text/latex": "\\textbf{\\$name} = 'Arya'",
            "text/markdown": "**$name** = 'Arya'",
            "text/html": [
              "<strong>$name</strong> = 'Arya'"
            ]
          },
          "metadata": {}
        }
      ]
    },
    {
      "cell_type": "code",
      "metadata": {
        "colab": {
          "base_uri": "https://localhost:8080/",
          "height": 34
        },
        "id": "VmuW66G0SwT6",
        "outputId": "bf3db7da-6dc5-4d8c-dca5-0701953320c8"
      },
      "source": [
        "lis[3]"
      ],
      "execution_count": null,
      "outputs": [
        {
          "output_type": "display_data",
          "data": {
            "text/plain": [
              "$age\n",
              "[1] 18\n"
            ],
            "text/latex": "\\textbf{\\$age} = 18",
            "text/markdown": "**$age** = 18",
            "text/html": [
              "<strong>$age</strong> = 18"
            ]
          },
          "metadata": {}
        }
      ]
    },
    {
      "cell_type": "code",
      "metadata": {
        "colab": {
          "base_uri": "https://localhost:8080/",
          "height": 51
        },
        "id": "4jmbfnYXBap_",
        "outputId": "20898fb0-33ae-4900-816c-67aba8827c8c"
      },
      "source": [
        "lis[[\"gender\"]] # indexing list when the component has a name\n",
        "lis$gender\n"
      ],
      "execution_count": null,
      "outputs": [
        {
          "output_type": "display_data",
          "data": {
            "text/plain": [
              "[1] \"Male\""
            ],
            "text/latex": "'Male'",
            "text/markdown": "'Male'",
            "text/html": [
              "'Male'"
            ]
          },
          "metadata": {}
        },
        {
          "output_type": "display_data",
          "data": {
            "text/plain": [
              "[1] \"Male\""
            ],
            "text/latex": "'Male'",
            "text/markdown": "'Male'",
            "text/html": [
              "'Male'"
            ]
          },
          "metadata": {}
        }
      ]
    },
    {
      "cell_type": "code",
      "metadata": {
        "id": "oD1W5-16TlFm"
      },
      "source": [
        "demolist <- list(10, \"f\", \"Python\", 12.5)"
      ],
      "execution_count": null,
      "outputs": []
    },
    {
      "cell_type": "code",
      "metadata": {
        "colab": {
          "base_uri": "https://localhost:8080/",
          "height": 62
        },
        "id": "jUq5u2tTTv-L",
        "outputId": "be14b6b6-8d6b-470a-bdc2-17082c79a2c5"
      },
      "source": [
        "demolist[1]"
      ],
      "execution_count": null,
      "outputs": [
        {
          "output_type": "display_data",
          "data": {
            "text/plain": [
              "[[1]]\n",
              "[1] 10\n"
            ],
            "text/latex": "\\begin{enumerate}\n\\item 10\n\\end{enumerate}\n",
            "text/markdown": "1. 10\n\n\n",
            "text/html": [
              "<ol>\n",
              "\t<li>10</li>\n",
              "</ol>\n"
            ]
          },
          "metadata": {}
        }
      ]
    },
    {
      "cell_type": "code",
      "metadata": {
        "colab": {
          "base_uri": "https://localhost:8080/",
          "height": 34
        },
        "id": "e7k1IQvmT0ic",
        "outputId": "ad51058c-fa3b-407d-ee95-ef9deb8384d4"
      },
      "source": [
        "demolist[[1]]"
      ],
      "execution_count": null,
      "outputs": [
        {
          "output_type": "display_data",
          "data": {
            "text/plain": [
              "[1] 10"
            ],
            "text/latex": "10",
            "text/markdown": "10",
            "text/html": [
              "10"
            ]
          },
          "metadata": {}
        }
      ]
    },
    {
      "cell_type": "markdown",
      "metadata": {
        "id": "QRXPRjgfVntH"
      },
      "source": [
        "Summary\n",
        "**List with name**\n",
        "In list without names single square bracket will directly fetch the corresponding value and the name present in the given position (& index).\n",
        "\n",
        "whereas, using double square bracket will give only the value of the element in the specified position.\n",
        "\n",
        "**List without name**\n",
        "In list with names, accessing a list element using single sqaure bracket will give the entire object present in the specified position along with the object index.\n",
        "\n",
        "whereas, using double square bracket will give only the value of the element in the specified position. **(There is no difference between with name & without name)**\n",
        "\n"
      ]
    },
    {
      "cell_type": "code",
      "metadata": {
        "id": "m_olNVRqBcyh"
      },
      "source": [
        "# list slicing-using the single square bracket \"[]\" operator.\n",
        "n <- 5 \n",
        "s <- c(\"aa\", \"bb\", \"cc\", \"dd\", \"ee\") \n",
        "b <-  c(TRUE, FALSE, TRUE, FALSE, FALSE) "
      ],
      "execution_count": null,
      "outputs": []
    },
    {
      "cell_type": "code",
      "metadata": {
        "colab": {
          "base_uri": "https://localhost:8080/",
          "height": 228
        },
        "id": "lFos7h4kBnx0",
        "outputId": "5ca18e6f-dbd9-47d8-8653-e9eab8696913"
      },
      "source": [
        "x <-  list(n, s, b, 3)   # x contains copies of n, s, b\n",
        "L <- x[[1]] # a slice containing the first component of x\n",
        "print(L)\n",
        "typeof(L)\n",
        "x[c(2,4)]# a slice containing the second and fourth members of x.\n",
        "x[c(TRUE,FALSE,TRUE,FALSE)] # slice containing first and third member of the list\n",
        "x[-4] #  a slice containg all members of the list excepting the 4th member\n"
      ],
      "execution_count": null,
      "outputs": [
        {
          "output_type": "stream",
          "name": "stdout",
          "text": [
            "[1] 5\n"
          ]
        },
        {
          "output_type": "display_data",
          "data": {
            "text/plain": [
              "[1] \"double\""
            ],
            "text/latex": "'double'",
            "text/markdown": "'double'",
            "text/html": [
              "'double'"
            ]
          },
          "metadata": {}
        },
        {
          "output_type": "display_data",
          "data": {
            "text/plain": [
              "[[1]]\n",
              "[1] \"aa\" \"bb\" \"cc\" \"dd\" \"ee\"\n",
              "\n",
              "[[2]]\n",
              "[1] 3\n"
            ],
            "text/latex": "\\begin{enumerate}\n\\item \\begin{enumerate*}\n\\item 'aa'\n\\item 'bb'\n\\item 'cc'\n\\item 'dd'\n\\item 'ee'\n\\end{enumerate*}\n\n\\item 3\n\\end{enumerate}\n",
            "text/markdown": "1. 1. 'aa'\n2. 'bb'\n3. 'cc'\n4. 'dd'\n5. 'ee'\n\n\n\n2. 3\n\n\n",
            "text/html": [
              "<ol>\n",
              "\t<li><style>\n",
              ".list-inline {list-style: none; margin:0; padding: 0}\n",
              ".list-inline>li {display: inline-block}\n",
              ".list-inline>li:not(:last-child)::after {content: \"\\00b7\"; padding: 0 .5ex}\n",
              "</style>\n",
              "<ol class=list-inline><li>'aa'</li><li>'bb'</li><li>'cc'</li><li>'dd'</li><li>'ee'</li></ol>\n",
              "</li>\n",
              "\t<li>3</li>\n",
              "</ol>\n"
            ]
          },
          "metadata": {}
        },
        {
          "output_type": "display_data",
          "data": {
            "text/plain": [
              "[[1]]\n",
              "[1] 5\n",
              "\n",
              "[[2]]\n",
              "[1]  TRUE FALSE  TRUE FALSE FALSE\n"
            ],
            "text/latex": "\\begin{enumerate}\n\\item 5\n\\item \\begin{enumerate*}\n\\item TRUE\n\\item FALSE\n\\item TRUE\n\\item FALSE\n\\item FALSE\n\\end{enumerate*}\n\n\\end{enumerate}\n",
            "text/markdown": "1. 5\n2. 1. TRUE\n2. FALSE\n3. TRUE\n4. FALSE\n5. FALSE\n\n\n\n\n\n",
            "text/html": [
              "<ol>\n",
              "\t<li>5</li>\n",
              "\t<li><style>\n",
              ".list-inline {list-style: none; margin:0; padding: 0}\n",
              ".list-inline>li {display: inline-block}\n",
              ".list-inline>li:not(:last-child)::after {content: \"\\00b7\"; padding: 0 .5ex}\n",
              "</style>\n",
              "<ol class=list-inline><li>TRUE</li><li>FALSE</li><li>TRUE</li><li>FALSE</li><li>FALSE</li></ol>\n",
              "</li>\n",
              "</ol>\n"
            ]
          },
          "metadata": {}
        },
        {
          "output_type": "display_data",
          "data": {
            "text/plain": [
              "[[1]]\n",
              "[1] 5\n",
              "\n",
              "[[2]]\n",
              "[1] \"aa\" \"bb\" \"cc\" \"dd\" \"ee\"\n",
              "\n",
              "[[3]]\n",
              "[1]  TRUE FALSE  TRUE FALSE FALSE\n"
            ],
            "text/latex": "\\begin{enumerate}\n\\item 5\n\\item \\begin{enumerate*}\n\\item 'aa'\n\\item 'bb'\n\\item 'cc'\n\\item 'dd'\n\\item 'ee'\n\\end{enumerate*}\n\n\\item \\begin{enumerate*}\n\\item TRUE\n\\item FALSE\n\\item TRUE\n\\item FALSE\n\\item FALSE\n\\end{enumerate*}\n\n\\end{enumerate}\n",
            "text/markdown": "1. 5\n2. 1. 'aa'\n2. 'bb'\n3. 'cc'\n4. 'dd'\n5. 'ee'\n\n\n\n3. 1. TRUE\n2. FALSE\n3. TRUE\n4. FALSE\n5. FALSE\n\n\n\n\n\n",
            "text/html": [
              "<ol>\n",
              "\t<li>5</li>\n",
              "\t<li><style>\n",
              ".list-inline {list-style: none; margin:0; padding: 0}\n",
              ".list-inline>li {display: inline-block}\n",
              ".list-inline>li:not(:last-child)::after {content: \"\\00b7\"; padding: 0 .5ex}\n",
              "</style>\n",
              "<ol class=list-inline><li>'aa'</li><li>'bb'</li><li>'cc'</li><li>'dd'</li><li>'ee'</li></ol>\n",
              "</li>\n",
              "\t<li><style>\n",
              ".list-inline {list-style: none; margin:0; padding: 0}\n",
              ".list-inline>li {display: inline-block}\n",
              ".list-inline>li:not(:last-child)::after {content: \"\\00b7\"; padding: 0 .5ex}\n",
              "</style>\n",
              "<ol class=list-inline><li>TRUE</li><li>FALSE</li><li>TRUE</li><li>FALSE</li><li>FALSE</li></ol>\n",
              "</li>\n",
              "</ol>\n"
            ]
          },
          "metadata": {}
        }
      ]
    },
    {
      "cell_type": "code",
      "metadata": {
        "colab": {
          "base_uri": "https://localhost:8080/",
          "height": 34
        },
        "id": "ChH8Y9ZPb97W",
        "outputId": "1761703e-bbe6-4708-b29a-e53b95b16b73"
      },
      "source": [
        "x <- c(T, F)\n",
        "x"
      ],
      "execution_count": null,
      "outputs": [
        {
          "output_type": "display_data",
          "data": {
            "text/plain": [
              "[1]  TRUE FALSE"
            ],
            "text/latex": "\\begin{enumerate*}\n\\item TRUE\n\\item FALSE\n\\end{enumerate*}\n",
            "text/markdown": "1. TRUE\n2. FALSE\n\n\n",
            "text/html": [
              "<style>\n",
              ".list-inline {list-style: none; margin:0; padding: 0}\n",
              ".list-inline>li {display: inline-block}\n",
              ".list-inline>li:not(:last-child)::after {content: \"\\00b7\"; padding: 0 .5ex}\n",
              "</style>\n",
              "<ol class=list-inline><li>TRUE</li><li>FALSE</li></ol>\n"
            ]
          },
          "metadata": {}
        }
      ]
    },
    {
      "cell_type": "code",
      "metadata": {
        "colab": {
          "base_uri": "https://localhost:8080/",
          "height": 34
        },
        "id": "t33RGgCWcEaD",
        "outputId": "ddf6d54d-8d6b-48e8-8540-5eda8e3d6bbf"
      },
      "source": [
        "x <- c(TRUE, FALSE)\n",
        "x"
      ],
      "execution_count": null,
      "outputs": [
        {
          "output_type": "display_data",
          "data": {
            "text/plain": [
              "[1]  TRUE FALSE"
            ],
            "text/latex": "\\begin{enumerate*}\n\\item TRUE\n\\item FALSE\n\\end{enumerate*}\n",
            "text/markdown": "1. TRUE\n2. FALSE\n\n\n",
            "text/html": [
              "<style>\n",
              ".list-inline {list-style: none; margin:0; padding: 0}\n",
              ".list-inline>li {display: inline-block}\n",
              ".list-inline>li:not(:last-child)::after {content: \"\\00b7\"; padding: 0 .5ex}\n",
              "</style>\n",
              "<ol class=list-inline><li>TRUE</li><li>FALSE</li></ol>\n"
            ]
          },
          "metadata": {}
        }
      ]
    },
    {
      "cell_type": "code",
      "metadata": {
        "colab": {
          "base_uri": "https://localhost:8080/",
          "height": 34
        },
        "id": "HH1tQuAEcGzq",
        "outputId": "f4d75b69-a2e9-48b8-f525-58d1ce49dc51"
      },
      "source": [
        "x <- c(1+0i, 2+4i)\n",
        "x"
      ],
      "execution_count": null,
      "outputs": [
        {
          "output_type": "display_data",
          "data": {
            "text/plain": [
              "[1] 1+0i 2+4i"
            ],
            "text/latex": "\\begin{enumerate*}\n\\item 1+0i\n\\item 2+4i\n\\end{enumerate*}\n",
            "text/markdown": "1. 1+0i\n2. 2+4i\n\n\n",
            "text/html": [
              "<style>\n",
              ".list-inline {list-style: none; margin:0; padding: 0}\n",
              ".list-inline>li {display: inline-block}\n",
              ".list-inline>li:not(:last-child)::after {content: \"\\00b7\"; padding: 0 .5ex}\n",
              "</style>\n",
              "<ol class=list-inline><li>1+0i</li><li>2+4i</li></ol>\n"
            ]
          },
          "metadata": {}
        }
      ]
    },
    {
      "cell_type": "code",
      "metadata": {
        "colab": {
          "base_uri": "https://localhost:8080/"
        },
        "id": "H2lgyKF9cgbc",
        "outputId": "8c5a02b9-f6c0-4490-b4cf-f2c119796564"
      },
      "source": [
        "if(6)\n",
        "   print(\"if part\")\n"
      ],
      "execution_count": null,
      "outputs": [
        {
          "output_type": "stream",
          "name": "stdout",
          "text": [
            "[1] \"if part\"\n"
          ]
        }
      ]
    },
    {
      "cell_type": "markdown",
      "metadata": {
        "id": "2kczILTkXzvy"
      },
      "source": [
        "# 22-09-2021\n",
        "# Wednesday"
      ]
    },
    {
      "cell_type": "code",
      "metadata": {
        "colab": {
          "base_uri": "https://localhost:8080/",
          "height": 243
        },
        "id": "jR01J8ndBrru",
        "outputId": "1cdbbb05-3b20-4cc5-ab40-cf5c9845db9e"
      },
      "source": [
        "# Add,modify, and remove elements of a list\n",
        "li <- list(4,\"a\",10)\n",
        "li\n",
        "li[[1]] <- 500\n",
        "li[[4]] <- 100 # Add\n",
        "li\n",
        "li[4]] <- NULL # remove\n",
        "li"
      ],
      "execution_count": null,
      "outputs": [
        {
          "output_type": "display_data",
          "data": {
            "text/plain": [
              "[[1]]\n",
              "[1] 4\n",
              "\n",
              "[[2]]\n",
              "[1] \"a\"\n",
              "\n",
              "[[3]]\n",
              "[1] 10\n"
            ],
            "text/latex": "\\begin{enumerate}\n\\item 4\n\\item 'a'\n\\item 10\n\\end{enumerate}\n",
            "text/markdown": "1. 4\n2. 'a'\n3. 10\n\n\n",
            "text/html": [
              "<ol>\n",
              "\t<li>4</li>\n",
              "\t<li>'a'</li>\n",
              "\t<li>10</li>\n",
              "</ol>\n"
            ]
          },
          "metadata": {}
        },
        {
          "output_type": "display_data",
          "data": {
            "text/plain": [
              "[[1]]\n",
              "[1] 500\n",
              "\n",
              "[[2]]\n",
              "[1] \"a\"\n",
              "\n",
              "[[3]]\n",
              "[1] 10\n",
              "\n",
              "[[4]]\n",
              "[1] 100\n"
            ],
            "text/latex": "\\begin{enumerate}\n\\item 500\n\\item 'a'\n\\item 10\n\\item 100\n\\end{enumerate}\n",
            "text/markdown": "1. 500\n2. 'a'\n3. 10\n4. 100\n\n\n",
            "text/html": [
              "<ol>\n",
              "\t<li>500</li>\n",
              "\t<li>'a'</li>\n",
              "\t<li>10</li>\n",
              "\t<li>100</li>\n",
              "</ol>\n"
            ]
          },
          "metadata": {}
        },
        {
          "output_type": "display_data",
          "data": {
            "text/plain": [
              "[[1]]\n",
              "[1] 500\n",
              "\n",
              "[[2]]\n",
              "[1] \"a\"\n",
              "\n",
              "[[3]]\n",
              "[1] 10\n"
            ],
            "text/latex": "\\begin{enumerate}\n\\item 500\n\\item 'a'\n\\item 10\n\\end{enumerate}\n",
            "text/markdown": "1. 500\n2. 'a'\n3. 10\n\n\n",
            "text/html": [
              "<ol>\n",
              "\t<li>500</li>\n",
              "\t<li>'a'</li>\n",
              "\t<li>10</li>\n",
              "</ol>\n"
            ]
          },
          "metadata": {}
        }
      ]
    },
    {
      "cell_type": "code",
      "metadata": {
        "colab": {
          "base_uri": "https://localhost:8080/",
          "height": 34
        },
        "id": "kGgKEmW524FI",
        "outputId": "324f7a47-0a1b-425f-b769-8075a7ab0795"
      },
      "source": [
        "# R is  case sensitive\n",
        "X <- 10  # Capital X\n",
        "x <- 20\n",
        "x==X    # Small x  "
      ],
      "execution_count": null,
      "outputs": [
        {
          "output_type": "display_data",
          "data": {
            "text/plain": [
              "[1] FALSE"
            ],
            "text/latex": "FALSE",
            "text/markdown": "FALSE",
            "text/html": [
              "FALSE"
            ]
          },
          "metadata": {}
        }
      ]
    },
    {
      "cell_type": "code",
      "metadata": {
        "colab": {
          "base_uri": "https://localhost:8080/",
          "height": 34
        },
        "id": "VK7jyt-pf93x",
        "outputId": "43575080-4084-4ff0-96d7-c1866062b9d8"
      },
      "source": [
        "x"
      ],
      "execution_count": null,
      "outputs": [
        {
          "output_type": "display_data",
          "data": {
            "text/plain": [
              "[1] 20"
            ],
            "text/latex": "20",
            "text/markdown": "20",
            "text/html": [
              "20"
            ]
          },
          "metadata": {}
        }
      ]
    },
    {
      "cell_type": "code",
      "metadata": {
        "colab": {
          "base_uri": "https://localhost:8080/",
          "height": 541
        },
        "id": "i_VDeJzxfuK6",
        "outputId": "d8268f59-1201-49d8-b624-08101032d4d5"
      },
      "source": [
        "ls"
      ],
      "execution_count": null,
      "outputs": [
        {
          "output_type": "display_data",
          "data": {
            "text/plain": [
              "function (name, pos = -1L, envir = as.environment(pos), all.names = FALSE, \n",
              "    pattern, sorted = TRUE) \n",
              "{\n",
              "    if (!missing(name)) {\n",
              "        pos <- tryCatch(name, error = function(e) e)\n",
              "        if (inherits(pos, \"error\")) {\n",
              "            name <- substitute(name)\n",
              "            if (!is.character(name)) \n",
              "                name <- deparse(name)\n",
              "            warning(gettextf(\"%s converted to character string\", \n",
              "                sQuote(name)), domain = NA)\n",
              "            pos <- name\n",
              "        }\n",
              "    }\n",
              "    all.names <- .Internal(ls(envir, all.names, sorted))\n",
              "    if (!missing(pattern)) {\n",
              "        if ((ll <- length(grep(\"[\", pattern, fixed = TRUE))) && \n",
              "            ll != length(grep(\"]\", pattern, fixed = TRUE))) {\n",
              "            if (pattern == \"[\") {\n",
              "                pattern <- \"\\\\[\"\n",
              "                warning(\"replaced regular expression pattern '[' by  '\\\\\\\\['\")\n",
              "            }\n",
              "            else if (length(grep(\"[^\\\\\\\\]\\\\[<-\", pattern))) {\n",
              "                pattern <- sub(\"\\\\[<-\", \"\\\\\\\\\\\\[<-\", pattern)\n",
              "                warning(\"replaced '[<-' by '\\\\\\\\[<-' in regular expression pattern\")\n",
              "            }\n",
              "        }\n",
              "        grep(pattern, all.names, value = TRUE)\n",
              "    }\n",
              "    else all.names\n",
              "}\n",
              "<bytecode: 0x561d459962e0>\n",
              "<environment: namespace:base>"
            ],
            "text/latex": "\\begin{minted}{r}\nfunction (name, pos = -1L, envir = as.environment(pos), all.names = FALSE, \n    pattern, sorted = TRUE) \n\\{\n    if (!missing(name)) \\{\n        pos <- tryCatch(name, error = function(e) e)\n        if (inherits(pos, \"error\")) \\{\n            name <- substitute(name)\n            if (!is.character(name)) \n                name <- deparse(name)\n            warning(gettextf(\"\\%s converted to character string\", \n                sQuote(name)), domain = NA)\n            pos <- name\n        \\}\n    \\}\n    all.names <- .Internal(ls(envir, all.names, sorted))\n    if (!missing(pattern)) \\{\n        if ((ll <- length(grep(\"{[}\", pattern, fixed = TRUE))) \\&\\& \n            ll != length(grep(\"{]}\", pattern, fixed = TRUE))) \\{\n            if (pattern == \"{[}\") \\{\n                pattern <- \"\\textbackslash{}\\textbackslash{}{[}\"\n                warning(\"replaced regular expression pattern '{[}' by  '\\textbackslash{}\\textbackslash{}\\textbackslash{}\\textbackslash{}{[}'\")\n            \\}\n            else if (length(grep(\"{[}\\textasciicircum{}\\textbackslash{}\\textbackslash{}\\textbackslash{}\\textbackslash{}{]}\\textbackslash{}\\textbackslash{}{[}<-\", pattern))) \\{\n                pattern <- sub(\"\\textbackslash{}\\textbackslash{}{[}<-\", \"\\textbackslash{}\\textbackslash{}\\textbackslash{}\\textbackslash{}\\textbackslash{}\\textbackslash{}{[}<-\", pattern)\n                warning(\"replaced '{[}<-' by '\\textbackslash{}\\textbackslash{}\\textbackslash{}\\textbackslash{}{[}<-' in regular expression pattern\")\n            \\}\n        \\}\n        grep(pattern, all.names, value = TRUE)\n    \\}\n    else all.names\n\\}\n\\end{minted}",
            "text/markdown": "```r\nfunction (name, pos = -1L, envir = as.environment(pos), all.names = FALSE, \n    pattern, sorted = TRUE) \n{\n    if (!missing(name)) {\n        pos <- tryCatch(name, error = function(e) e)\n        if (inherits(pos, \"error\")) {\n            name <- substitute(name)\n            if (!is.character(name)) \n                name <- deparse(name)\n            warning(gettextf(\"%s converted to character string\", \n                sQuote(name)), domain = NA)\n            pos <- name\n        }\n    }\n    all.names <- .Internal(ls(envir, all.names, sorted))\n    if (!missing(pattern)) {\n        if ((ll <- length(grep(\"[\", pattern, fixed = TRUE))) && \n            ll != length(grep(\"]\", pattern, fixed = TRUE))) {\n            if (pattern == \"[\") {\n                pattern <- \"\\\\[\"\n                warning(\"replaced regular expression pattern '[' by  '\\\\\\\\['\")\n            }\n            else if (length(grep(\"[^\\\\\\\\]\\\\[<-\", pattern))) {\n                pattern <- sub(\"\\\\[<-\", \"\\\\\\\\\\\\[<-\", pattern)\n                warning(\"replaced '[<-' by '\\\\\\\\[<-' in regular expression pattern\")\n            }\n        }\n        grep(pattern, all.names, value = TRUE)\n    }\n    else all.names\n}\n```",
            "text/html": [
              "<pre class=language-r><code>function (name, pos = -1L, envir = as.environment(pos), all.names = FALSE, \n",
              "<span style=white-space:pre-wrap>    pattern, sorted = TRUE) </span>\n",
              "{\n",
              "<span style=white-space:pre-wrap>    if (!missing(name)) {</span>\n",
              "<span style=white-space:pre-wrap>        pos &lt;- tryCatch(name, error = function(e) e)</span>\n",
              "<span style=white-space:pre-wrap>        if (inherits(pos, \"error\")) {</span>\n",
              "<span style=white-space:pre-wrap>            name &lt;- substitute(name)</span>\n",
              "<span style=white-space:pre-wrap>            if (!is.character(name)) </span>\n",
              "<span style=white-space:pre-wrap>                name &lt;- deparse(name)</span>\n",
              "<span style=white-space:pre-wrap>            warning(gettextf(\"%s converted to character string\", </span>\n",
              "<span style=white-space:pre-wrap>                sQuote(name)), domain = NA)</span>\n",
              "<span style=white-space:pre-wrap>            pos &lt;- name</span>\n",
              "<span style=white-space:pre-wrap>        }</span>\n",
              "<span style=white-space:pre-wrap>    }</span>\n",
              "<span style=white-space:pre-wrap>    all.names &lt;- .Internal(ls(envir, all.names, sorted))</span>\n",
              "<span style=white-space:pre-wrap>    if (!missing(pattern)) {</span>\n",
              "<span style=white-space:pre-wrap>        if ((ll &lt;- length(grep(\"[\", pattern, fixed = TRUE))) &amp;&amp; </span>\n",
              "<span style=white-space:pre-wrap>            ll != length(grep(\"]\", pattern, fixed = TRUE))) {</span>\n",
              "<span style=white-space:pre-wrap>            if (pattern == \"[\") {</span>\n",
              "<span style=white-space:pre-wrap>                pattern &lt;- \"\\\\[\"</span>\n",
              "<span style=white-space:pre-wrap>                warning(\"replaced regular expression pattern '[' by  '\\\\\\\\['\")</span>\n",
              "<span style=white-space:pre-wrap>            }</span>\n",
              "<span style=white-space:pre-wrap>            else if (length(grep(\"[^\\\\\\\\]\\\\[&lt;-\", pattern))) {</span>\n",
              "<span style=white-space:pre-wrap>                pattern &lt;- sub(\"\\\\[&lt;-\", \"\\\\\\\\\\\\[&lt;-\", pattern)</span>\n",
              "<span style=white-space:pre-wrap>                warning(\"replaced '[&lt;-' by '\\\\\\\\[&lt;-' in regular expression pattern\")</span>\n",
              "<span style=white-space:pre-wrap>            }</span>\n",
              "<span style=white-space:pre-wrap>        }</span>\n",
              "<span style=white-space:pre-wrap>        grep(pattern, all.names, value = TRUE)</span>\n",
              "<span style=white-space:pre-wrap>    }</span>\n",
              "<span style=white-space:pre-wrap>    else all.names</span>\n",
              "}</code></pre>"
            ]
          },
          "metadata": {}
        }
      ]
    },
    {
      "cell_type": "code",
      "metadata": {
        "colab": {
          "base_uri": "https://localhost:8080/"
        },
        "id": "uqfXwBLo247I",
        "outputId": "11fa8f07-b3bf-4837-a9b7-68694c8b1400"
      },
      "source": [
        "# Reserved words(Cannot be used as identifier)\n",
        "help(reserved)\n",
        "?reserved"
      ],
      "execution_count": null,
      "outputs": [
        {
          "output_type": "stream",
          "name": "stderr",
          "text": [
            "Warning message in seq_len(head.end.idx):\n",
            "“first element used of 'length.out' argument”\n",
            "ERROR while rich displaying an object: Error in seq_len(head.end.idx): argument must be coercible to non-negative integer\n",
            "\n",
            "Traceback:\n",
            "1. FUN(X[[i]], ...)\n",
            "2. tryCatch(withCallingHandlers({\n",
            " .     if (!mime %in% names(repr::mime2repr)) \n",
            " .         stop(\"No repr_* for mimetype \", mime, \" in repr::mime2repr\")\n",
            " .     rpr <- repr::mime2repr[[mime]](obj)\n",
            " .     if (is.null(rpr)) \n",
            " .         return(NULL)\n",
            " .     prepare_content(is.raw(rpr), rpr)\n",
            " . }, error = error_handler), error = outer_handler)\n",
            "3. tryCatchList(expr, classes, parentenv, handlers)\n",
            "4. tryCatchOne(expr, names, parentenv, handlers[[1L]])\n",
            "5. doTryCatch(return(expr), name, parentenv, handler)\n",
            "6. withCallingHandlers({\n",
            " .     if (!mime %in% names(repr::mime2repr)) \n",
            " .         stop(\"No repr_* for mimetype \", mime, \" in repr::mime2repr\")\n",
            " .     rpr <- repr::mime2repr[[mime]](obj)\n",
            " .     if (is.null(rpr)) \n",
            " .         return(NULL)\n",
            " .     prepare_content(is.raw(rpr), rpr)\n",
            " . }, error = error_handler)\n",
            "7. repr::mime2repr[[mime]](obj)\n",
            "8. repr_html.help_files_with_topic(obj)\n",
            "9. repr_help_files_with_topic_generic(obj, Rd2HTML)\n",
            "Warning message in seq_len(head.end.idx):\n",
            "“first element used of 'length.out' argument”\n",
            "ERROR while rich displaying an object: Error in seq_len(head.end.idx): argument must be coercible to non-negative integer\n",
            "\n",
            "Traceback:\n",
            "1. FUN(X[[i]], ...)\n",
            "2. tryCatch(withCallingHandlers({\n",
            " .     if (!mime %in% names(repr::mime2repr)) \n",
            " .         stop(\"No repr_* for mimetype \", mime, \" in repr::mime2repr\")\n",
            " .     rpr <- repr::mime2repr[[mime]](obj)\n",
            " .     if (is.null(rpr)) \n",
            " .         return(NULL)\n",
            " .     prepare_content(is.raw(rpr), rpr)\n",
            " . }, error = error_handler), error = outer_handler)\n",
            "3. tryCatchList(expr, classes, parentenv, handlers)\n",
            "4. tryCatchOne(expr, names, parentenv, handlers[[1L]])\n",
            "5. doTryCatch(return(expr), name, parentenv, handler)\n",
            "6. withCallingHandlers({\n",
            " .     if (!mime %in% names(repr::mime2repr)) \n",
            " .         stop(\"No repr_* for mimetype \", mime, \" in repr::mime2repr\")\n",
            " .     rpr <- repr::mime2repr[[mime]](obj)\n",
            " .     if (is.null(rpr)) \n",
            " .         return(NULL)\n",
            " .     prepare_content(is.raw(rpr), rpr)\n",
            " . }, error = error_handler)\n",
            "7. repr::mime2repr[[mime]](obj)\n",
            "8. repr_html.help_files_with_topic(obj)\n",
            "9. repr_help_files_with_topic_generic(obj, Rd2HTML)\n"
          ]
        }
      ]
    },
    {
      "cell_type": "code",
      "metadata": {
        "id": "HrZ5GZMD_yWD",
        "colab": {
          "base_uri": "https://localhost:8080/",
          "height": 34
        },
        "outputId": "a348c3d6-09f3-4b5a-b915-f7d79c01f2fd"
      },
      "source": [
        "# remove object(s) from working memory\n",
        "rm(x)\n",
        "ls()\n",
        "rm(list=ls()) # remove all objects of workspace"
      ],
      "execution_count": null,
      "outputs": [
        {
          "output_type": "display_data",
          "data": {
            "text/plain": [
              "[1] \"X\""
            ],
            "text/latex": "'X'",
            "text/markdown": "'X'",
            "text/html": [
              "'X'"
            ]
          },
          "metadata": {}
        }
      ]
    },
    {
      "cell_type": "code",
      "metadata": {
        "colab": {
          "base_uri": "https://localhost:8080/",
          "height": 97
        },
        "id": "DoR0Az4bf3cg",
        "outputId": "69d69bbd-7bae-40a2-c7c4-b40bc540c1b4"
      },
      "source": [
        "x"
      ],
      "execution_count": null,
      "outputs": [
        {
          "output_type": "error",
          "ename": "ERROR",
          "evalue": "ignored",
          "traceback": [
            "Error in eval(expr, envir, enclos): object 'x' not found\nTraceback:\n"
          ]
        }
      ]
    },
    {
      "cell_type": "markdown",
      "metadata": {
        "id": "kwybJQSr6stL"
      },
      "source": [
        "# typeof determines the (R internal) type or storage mode of any object"
      ]
    },
    {
      "cell_type": "code",
      "metadata": {
        "colab": {
          "base_uri": "https://localhost:8080/",
          "height": 119
        },
        "id": "iNTdnfWS3MAS",
        "outputId": "dd2606f4-df9e-4c2b-8643-b06136bd9ad8"
      },
      "source": [
        "# Numeric,Character,Built-in constants\n",
        "\n",
        "# Numeric(Double-double precision float,integer,complex)\n",
        "typeof(5.0)\n",
        "mode(5.0)\n",
        "class(5.0)\n",
        "typeof(5L) # integer\n",
        "typeof(\"What is your name?\")\n",
        "y <- as.double(4L) # coersion or explicit conversion\n",
        "typeof(y)"
      ],
      "execution_count": null,
      "outputs": [
        {
          "output_type": "display_data",
          "data": {
            "text/plain": [
              "[1] \"double\""
            ],
            "text/latex": "'double'",
            "text/markdown": "'double'",
            "text/html": [
              "'double'"
            ]
          },
          "metadata": {}
        },
        {
          "output_type": "display_data",
          "data": {
            "text/plain": [
              "[1] \"numeric\""
            ],
            "text/latex": "'numeric'",
            "text/markdown": "'numeric'",
            "text/html": [
              "'numeric'"
            ]
          },
          "metadata": {}
        },
        {
          "output_type": "display_data",
          "data": {
            "text/plain": [
              "[1] \"numeric\""
            ],
            "text/latex": "'numeric'",
            "text/markdown": "'numeric'",
            "text/html": [
              "'numeric'"
            ]
          },
          "metadata": {}
        },
        {
          "output_type": "display_data",
          "data": {
            "text/plain": [
              "[1] \"integer\""
            ],
            "text/latex": "'integer'",
            "text/markdown": "'integer'",
            "text/html": [
              "'integer'"
            ]
          },
          "metadata": {}
        },
        {
          "output_type": "display_data",
          "data": {
            "text/plain": [
              "[1] \"character\""
            ],
            "text/latex": "'character'",
            "text/markdown": "'character'",
            "text/html": [
              "'character'"
            ]
          },
          "metadata": {}
        },
        {
          "output_type": "display_data",
          "data": {
            "text/plain": [
              "[1] \"double\""
            ],
            "text/latex": "'double'",
            "text/markdown": "'double'",
            "text/html": [
              "'double'"
            ]
          },
          "metadata": {}
        }
      ]
    },
    {
      "cell_type": "markdown",
      "metadata": {
        "id": "zRVwMdCh52to"
      },
      "source": [
        "The class() is used to define/identify what \"type\" an object is from the point of view of object-oriented programming in R. \n",
        "\n",
        "typeof() gives the \"type\" of object from R's point of view\n",
        "\n",
        "mode() is from the R Compiler Developer's point of view. "
      ]
    },
    {
      "cell_type": "code",
      "metadata": {
        "colab": {
          "base_uri": "https://localhost:8080/"
        },
        "id": "uGjNHL337bWf",
        "outputId": "06bd9868-96d5-476e-bb2b-d0ca8d4f8e89"
      },
      "source": [
        "x <- 1L\n",
        "print(c(class(x), mode(x), storage.mode(x), typeof(x)))"
      ],
      "execution_count": null,
      "outputs": [
        {
          "output_type": "stream",
          "name": "stdout",
          "text": [
            "[1] \"integer\" \"numeric\" \"integer\" \"integer\"\n"
          ]
        }
      ]
    },
    {
      "cell_type": "code",
      "metadata": {
        "colab": {
          "base_uri": "https://localhost:8080/"
        },
        "id": "NC1DYg_p7cIm",
        "outputId": "415ce48f-2e97-49aa-c230-0984ab66b86e"
      },
      "source": [
        "x <- 1\n",
        "print(c(class(x), mode(x), storage.mode(x), typeof(x)))"
      ],
      "execution_count": null,
      "outputs": [
        {
          "output_type": "stream",
          "name": "stdout",
          "text": [
            "[1] \"numeric\" \"numeric\" \"double\"  \"double\" \n"
          ]
        }
      ]
    },
    {
      "cell_type": "code",
      "metadata": {
        "colab": {
          "base_uri": "https://localhost:8080/"
        },
        "id": "BNZFIrkM7f-Y",
        "outputId": "c5d87ab6-f449-455a-a87b-be8895188519"
      },
      "source": [
        "x <- letters\n",
        "print(c(class(x), mode(x), storage.mode(x), typeof(x)))"
      ],
      "execution_count": null,
      "outputs": [
        {
          "output_type": "stream",
          "name": "stdout",
          "text": [
            "[1] \"character\" \"character\" \"character\" \"character\"\n"
          ]
        }
      ]
    },
    {
      "cell_type": "code",
      "metadata": {
        "colab": {
          "base_uri": "https://localhost:8080/"
        },
        "id": "6xW_wBWX7jfL",
        "outputId": "551d5f11-2f73-4c58-9955-39546c2b3740"
      },
      "source": [
        "x <- TRUE\n",
        "print(c(class(x), mode(x), storage.mode(x), typeof(x)))"
      ],
      "execution_count": null,
      "outputs": [
        {
          "output_type": "stream",
          "name": "stdout",
          "text": [
            "[1] \"logical\" \"logical\" \"logical\" \"logical\"\n"
          ]
        }
      ]
    },
    {
      "cell_type": "code",
      "metadata": {
        "colab": {
          "base_uri": "https://localhost:8080/"
        },
        "id": "bvgZ4q-P7mQk",
        "outputId": "ac2d6621-f0c7-408b-e1c6-1353c4863286"
      },
      "source": [
        "#In-buit Dataset\n",
        "x <- cars\n",
        "print(c(class(x), mode(x), storage.mode(x), typeof(x)))"
      ],
      "execution_count": null,
      "outputs": [
        {
          "output_type": "stream",
          "name": "stdout",
          "text": [
            "[1] \"data.frame\" \"list\"       \"list\"       \"list\"      \n"
          ]
        }
      ]
    },
    {
      "cell_type": "code",
      "metadata": {
        "colab": {
          "base_uri": "https://localhost:8080/",
          "height": 1000
        },
        "id": "yCJ5u2qc7plC",
        "outputId": "968bade5-c2b1-4c36-900c-1c70a58709a3"
      },
      "source": [
        "x"
      ],
      "execution_count": null,
      "outputs": [
        {
          "output_type": "display_data",
          "data": {
            "text/plain": [
              "   speed dist\n",
              "1   4      2 \n",
              "2   4     10 \n",
              "3   7      4 \n",
              "4   7     22 \n",
              "5   8     16 \n",
              "6   9     10 \n",
              "7  10     18 \n",
              "8  10     26 \n",
              "9  10     34 \n",
              "10 11     17 \n",
              "11 11     28 \n",
              "12 12     14 \n",
              "13 12     20 \n",
              "14 12     24 \n",
              "15 12     28 \n",
              "16 13     26 \n",
              "17 13     34 \n",
              "18 13     34 \n",
              "19 13     46 \n",
              "20 14     26 \n",
              "21 14     36 \n",
              "22 14     60 \n",
              "23 14     80 \n",
              "24 15     20 \n",
              "25 15     26 \n",
              "26 15     54 \n",
              "27 16     32 \n",
              "28 16     40 \n",
              "29 17     32 \n",
              "30 17     40 \n",
              "31 17     50 \n",
              "32 18     42 \n",
              "33 18     56 \n",
              "34 18     76 \n",
              "35 18     84 \n",
              "36 19     36 \n",
              "37 19     46 \n",
              "38 19     68 \n",
              "39 20     32 \n",
              "40 20     48 \n",
              "41 20     52 \n",
              "42 20     56 \n",
              "43 20     64 \n",
              "44 22     66 \n",
              "45 23     54 \n",
              "46 24     70 \n",
              "47 24     92 \n",
              "48 24     93 \n",
              "49 24    120 \n",
              "50 25     85 "
            ],
            "text/latex": "A data.frame: 50 × 2\n\\begin{tabular}{ll}\n speed & dist\\\\\n <dbl> & <dbl>\\\\\n\\hline\n\t  4 &   2\\\\\n\t  4 &  10\\\\\n\t  7 &   4\\\\\n\t  7 &  22\\\\\n\t  8 &  16\\\\\n\t  9 &  10\\\\\n\t 10 &  18\\\\\n\t 10 &  26\\\\\n\t 10 &  34\\\\\n\t 11 &  17\\\\\n\t 11 &  28\\\\\n\t 12 &  14\\\\\n\t 12 &  20\\\\\n\t 12 &  24\\\\\n\t 12 &  28\\\\\n\t 13 &  26\\\\\n\t 13 &  34\\\\\n\t 13 &  34\\\\\n\t 13 &  46\\\\\n\t 14 &  26\\\\\n\t 14 &  36\\\\\n\t 14 &  60\\\\\n\t 14 &  80\\\\\n\t 15 &  20\\\\\n\t 15 &  26\\\\\n\t 15 &  54\\\\\n\t 16 &  32\\\\\n\t 16 &  40\\\\\n\t 17 &  32\\\\\n\t 17 &  40\\\\\n\t 17 &  50\\\\\n\t 18 &  42\\\\\n\t 18 &  56\\\\\n\t 18 &  76\\\\\n\t 18 &  84\\\\\n\t 19 &  36\\\\\n\t 19 &  46\\\\\n\t 19 &  68\\\\\n\t 20 &  32\\\\\n\t 20 &  48\\\\\n\t 20 &  52\\\\\n\t 20 &  56\\\\\n\t 20 &  64\\\\\n\t 22 &  66\\\\\n\t 23 &  54\\\\\n\t 24 &  70\\\\\n\t 24 &  92\\\\\n\t 24 &  93\\\\\n\t 24 & 120\\\\\n\t 25 &  85\\\\\n\\end{tabular}\n",
            "text/markdown": "\nA data.frame: 50 × 2\n\n| speed &lt;dbl&gt; | dist &lt;dbl&gt; |\n|---|---|\n|  4 |   2 |\n|  4 |  10 |\n|  7 |   4 |\n|  7 |  22 |\n|  8 |  16 |\n|  9 |  10 |\n| 10 |  18 |\n| 10 |  26 |\n| 10 |  34 |\n| 11 |  17 |\n| 11 |  28 |\n| 12 |  14 |\n| 12 |  20 |\n| 12 |  24 |\n| 12 |  28 |\n| 13 |  26 |\n| 13 |  34 |\n| 13 |  34 |\n| 13 |  46 |\n| 14 |  26 |\n| 14 |  36 |\n| 14 |  60 |\n| 14 |  80 |\n| 15 |  20 |\n| 15 |  26 |\n| 15 |  54 |\n| 16 |  32 |\n| 16 |  40 |\n| 17 |  32 |\n| 17 |  40 |\n| 17 |  50 |\n| 18 |  42 |\n| 18 |  56 |\n| 18 |  76 |\n| 18 |  84 |\n| 19 |  36 |\n| 19 |  46 |\n| 19 |  68 |\n| 20 |  32 |\n| 20 |  48 |\n| 20 |  52 |\n| 20 |  56 |\n| 20 |  64 |\n| 22 |  66 |\n| 23 |  54 |\n| 24 |  70 |\n| 24 |  92 |\n| 24 |  93 |\n| 24 | 120 |\n| 25 |  85 |\n\n",
            "text/html": [
              "<table class=\"dataframe\">\n",
              "<caption>A data.frame: 50 × 2</caption>\n",
              "<thead>\n",
              "\t<tr><th scope=col>speed</th><th scope=col>dist</th></tr>\n",
              "\t<tr><th scope=col>&lt;dbl&gt;</th><th scope=col>&lt;dbl&gt;</th></tr>\n",
              "</thead>\n",
              "<tbody>\n",
              "\t<tr><td> 4</td><td>  2</td></tr>\n",
              "\t<tr><td> 4</td><td> 10</td></tr>\n",
              "\t<tr><td> 7</td><td>  4</td></tr>\n",
              "\t<tr><td> 7</td><td> 22</td></tr>\n",
              "\t<tr><td> 8</td><td> 16</td></tr>\n",
              "\t<tr><td> 9</td><td> 10</td></tr>\n",
              "\t<tr><td>10</td><td> 18</td></tr>\n",
              "\t<tr><td>10</td><td> 26</td></tr>\n",
              "\t<tr><td>10</td><td> 34</td></tr>\n",
              "\t<tr><td>11</td><td> 17</td></tr>\n",
              "\t<tr><td>11</td><td> 28</td></tr>\n",
              "\t<tr><td>12</td><td> 14</td></tr>\n",
              "\t<tr><td>12</td><td> 20</td></tr>\n",
              "\t<tr><td>12</td><td> 24</td></tr>\n",
              "\t<tr><td>12</td><td> 28</td></tr>\n",
              "\t<tr><td>13</td><td> 26</td></tr>\n",
              "\t<tr><td>13</td><td> 34</td></tr>\n",
              "\t<tr><td>13</td><td> 34</td></tr>\n",
              "\t<tr><td>13</td><td> 46</td></tr>\n",
              "\t<tr><td>14</td><td> 26</td></tr>\n",
              "\t<tr><td>14</td><td> 36</td></tr>\n",
              "\t<tr><td>14</td><td> 60</td></tr>\n",
              "\t<tr><td>14</td><td> 80</td></tr>\n",
              "\t<tr><td>15</td><td> 20</td></tr>\n",
              "\t<tr><td>15</td><td> 26</td></tr>\n",
              "\t<tr><td>15</td><td> 54</td></tr>\n",
              "\t<tr><td>16</td><td> 32</td></tr>\n",
              "\t<tr><td>16</td><td> 40</td></tr>\n",
              "\t<tr><td>17</td><td> 32</td></tr>\n",
              "\t<tr><td>17</td><td> 40</td></tr>\n",
              "\t<tr><td>17</td><td> 50</td></tr>\n",
              "\t<tr><td>18</td><td> 42</td></tr>\n",
              "\t<tr><td>18</td><td> 56</td></tr>\n",
              "\t<tr><td>18</td><td> 76</td></tr>\n",
              "\t<tr><td>18</td><td> 84</td></tr>\n",
              "\t<tr><td>19</td><td> 36</td></tr>\n",
              "\t<tr><td>19</td><td> 46</td></tr>\n",
              "\t<tr><td>19</td><td> 68</td></tr>\n",
              "\t<tr><td>20</td><td> 32</td></tr>\n",
              "\t<tr><td>20</td><td> 48</td></tr>\n",
              "\t<tr><td>20</td><td> 52</td></tr>\n",
              "\t<tr><td>20</td><td> 56</td></tr>\n",
              "\t<tr><td>20</td><td> 64</td></tr>\n",
              "\t<tr><td>22</td><td> 66</td></tr>\n",
              "\t<tr><td>23</td><td> 54</td></tr>\n",
              "\t<tr><td>24</td><td> 70</td></tr>\n",
              "\t<tr><td>24</td><td> 92</td></tr>\n",
              "\t<tr><td>24</td><td> 93</td></tr>\n",
              "\t<tr><td>24</td><td>120</td></tr>\n",
              "\t<tr><td>25</td><td> 85</td></tr>\n",
              "</tbody>\n",
              "</table>\n"
            ]
          },
          "metadata": {}
        }
      ]
    },
    {
      "cell_type": "code",
      "metadata": {
        "colab": {
          "base_uri": "https://localhost:8080/"
        },
        "id": "vnjrEeiq7say",
        "outputId": "3a227f07-9c30-4b80-d0fb-0eda55ff671e"
      },
      "source": [
        "x <- cars[1]\n",
        "print(c(class(x), mode(x), storage.mode(x), typeof(x)))"
      ],
      "execution_count": null,
      "outputs": [
        {
          "output_type": "stream",
          "name": "stdout",
          "text": [
            "[1] \"data.frame\" \"list\"       \"list\"       \"list\"      \n"
          ]
        }
      ]
    },
    {
      "cell_type": "code",
      "metadata": {
        "colab": {
          "base_uri": "https://localhost:8080/",
          "height": 1000
        },
        "id": "alQpJgWi7yq3",
        "outputId": "d7776cbd-dca6-4a69-c54f-96af38bb1802"
      },
      "source": [
        "x"
      ],
      "execution_count": null,
      "outputs": [
        {
          "output_type": "display_data",
          "data": {
            "text/plain": [
              "   speed\n",
              "1   4   \n",
              "2   4   \n",
              "3   7   \n",
              "4   7   \n",
              "5   8   \n",
              "6   9   \n",
              "7  10   \n",
              "8  10   \n",
              "9  10   \n",
              "10 11   \n",
              "11 11   \n",
              "12 12   \n",
              "13 12   \n",
              "14 12   \n",
              "15 12   \n",
              "16 13   \n",
              "17 13   \n",
              "18 13   \n",
              "19 13   \n",
              "20 14   \n",
              "21 14   \n",
              "22 14   \n",
              "23 14   \n",
              "24 15   \n",
              "25 15   \n",
              "26 15   \n",
              "27 16   \n",
              "28 16   \n",
              "29 17   \n",
              "30 17   \n",
              "31 17   \n",
              "32 18   \n",
              "33 18   \n",
              "34 18   \n",
              "35 18   \n",
              "36 19   \n",
              "37 19   \n",
              "38 19   \n",
              "39 20   \n",
              "40 20   \n",
              "41 20   \n",
              "42 20   \n",
              "43 20   \n",
              "44 22   \n",
              "45 23   \n",
              "46 24   \n",
              "47 24   \n",
              "48 24   \n",
              "49 24   \n",
              "50 25   "
            ],
            "text/latex": "A data.frame: 50 × 1\n\\begin{tabular}{l}\n speed\\\\\n <dbl>\\\\\n\\hline\n\t  4\\\\\n\t  4\\\\\n\t  7\\\\\n\t  7\\\\\n\t  8\\\\\n\t  9\\\\\n\t 10\\\\\n\t 10\\\\\n\t 10\\\\\n\t 11\\\\\n\t 11\\\\\n\t 12\\\\\n\t 12\\\\\n\t 12\\\\\n\t 12\\\\\n\t 13\\\\\n\t 13\\\\\n\t 13\\\\\n\t 13\\\\\n\t 14\\\\\n\t 14\\\\\n\t 14\\\\\n\t 14\\\\\n\t 15\\\\\n\t 15\\\\\n\t 15\\\\\n\t 16\\\\\n\t 16\\\\\n\t 17\\\\\n\t 17\\\\\n\t 17\\\\\n\t 18\\\\\n\t 18\\\\\n\t 18\\\\\n\t 18\\\\\n\t 19\\\\\n\t 19\\\\\n\t 19\\\\\n\t 20\\\\\n\t 20\\\\\n\t 20\\\\\n\t 20\\\\\n\t 20\\\\\n\t 22\\\\\n\t 23\\\\\n\t 24\\\\\n\t 24\\\\\n\t 24\\\\\n\t 24\\\\\n\t 25\\\\\n\\end{tabular}\n",
            "text/markdown": "\nA data.frame: 50 × 1\n\n| speed &lt;dbl&gt; |\n|---|\n|  4 |\n|  4 |\n|  7 |\n|  7 |\n|  8 |\n|  9 |\n| 10 |\n| 10 |\n| 10 |\n| 11 |\n| 11 |\n| 12 |\n| 12 |\n| 12 |\n| 12 |\n| 13 |\n| 13 |\n| 13 |\n| 13 |\n| 14 |\n| 14 |\n| 14 |\n| 14 |\n| 15 |\n| 15 |\n| 15 |\n| 16 |\n| 16 |\n| 17 |\n| 17 |\n| 17 |\n| 18 |\n| 18 |\n| 18 |\n| 18 |\n| 19 |\n| 19 |\n| 19 |\n| 20 |\n| 20 |\n| 20 |\n| 20 |\n| 20 |\n| 22 |\n| 23 |\n| 24 |\n| 24 |\n| 24 |\n| 24 |\n| 25 |\n\n",
            "text/html": [
              "<table class=\"dataframe\">\n",
              "<caption>A data.frame: 50 × 1</caption>\n",
              "<thead>\n",
              "\t<tr><th scope=col>speed</th></tr>\n",
              "\t<tr><th scope=col>&lt;dbl&gt;</th></tr>\n",
              "</thead>\n",
              "<tbody>\n",
              "\t<tr><td> 4</td></tr>\n",
              "\t<tr><td> 4</td></tr>\n",
              "\t<tr><td> 7</td></tr>\n",
              "\t<tr><td> 7</td></tr>\n",
              "\t<tr><td> 8</td></tr>\n",
              "\t<tr><td> 9</td></tr>\n",
              "\t<tr><td>10</td></tr>\n",
              "\t<tr><td>10</td></tr>\n",
              "\t<tr><td>10</td></tr>\n",
              "\t<tr><td>11</td></tr>\n",
              "\t<tr><td>11</td></tr>\n",
              "\t<tr><td>12</td></tr>\n",
              "\t<tr><td>12</td></tr>\n",
              "\t<tr><td>12</td></tr>\n",
              "\t<tr><td>12</td></tr>\n",
              "\t<tr><td>13</td></tr>\n",
              "\t<tr><td>13</td></tr>\n",
              "\t<tr><td>13</td></tr>\n",
              "\t<tr><td>13</td></tr>\n",
              "\t<tr><td>14</td></tr>\n",
              "\t<tr><td>14</td></tr>\n",
              "\t<tr><td>14</td></tr>\n",
              "\t<tr><td>14</td></tr>\n",
              "\t<tr><td>15</td></tr>\n",
              "\t<tr><td>15</td></tr>\n",
              "\t<tr><td>15</td></tr>\n",
              "\t<tr><td>16</td></tr>\n",
              "\t<tr><td>16</td></tr>\n",
              "\t<tr><td>17</td></tr>\n",
              "\t<tr><td>17</td></tr>\n",
              "\t<tr><td>17</td></tr>\n",
              "\t<tr><td>18</td></tr>\n",
              "\t<tr><td>18</td></tr>\n",
              "\t<tr><td>18</td></tr>\n",
              "\t<tr><td>18</td></tr>\n",
              "\t<tr><td>19</td></tr>\n",
              "\t<tr><td>19</td></tr>\n",
              "\t<tr><td>19</td></tr>\n",
              "\t<tr><td>20</td></tr>\n",
              "\t<tr><td>20</td></tr>\n",
              "\t<tr><td>20</td></tr>\n",
              "\t<tr><td>20</td></tr>\n",
              "\t<tr><td>20</td></tr>\n",
              "\t<tr><td>22</td></tr>\n",
              "\t<tr><td>23</td></tr>\n",
              "\t<tr><td>24</td></tr>\n",
              "\t<tr><td>24</td></tr>\n",
              "\t<tr><td>24</td></tr>\n",
              "\t<tr><td>24</td></tr>\n",
              "\t<tr><td>25</td></tr>\n",
              "</tbody>\n",
              "</table>\n"
            ]
          },
          "metadata": {}
        }
      ]
    },
    {
      "cell_type": "markdown",
      "metadata": {
        "id": "AV790D4F9O_S"
      },
      "source": [
        "# The environment is a virtual space that is triggered when an interpreter of a programming language is launched. Simply, the environment is a collection of all the objects, variables, and functions. Or, Environment can be assumed as a top-level object that contains the set of names/variables associated with some values."
      ]
    },
    {
      "cell_type": "code",
      "metadata": {
        "colab": {
          "base_uri": "https://localhost:8080/"
        },
        "id": "1ILCusIJ84gc",
        "outputId": "40bd9d94-01bf-4c59-914d-eb5e08d990d0"
      },
      "source": [
        "x <- new.env() #Method, object.functionality()\n",
        "print(c(class(x), mode(x), storage.mode(x), typeof(x)))"
      ],
      "execution_count": null,
      "outputs": [
        {
          "output_type": "stream",
          "name": "stdout",
          "text": [
            "[1] \"environment\" \"environment\" \"environment\" \"environment\"\n"
          ]
        }
      ]
    },
    {
      "cell_type": "code",
      "metadata": {
        "colab": {
          "base_uri": "https://localhost:8080/"
        },
        "id": "vyPQ0Wh48_OX",
        "outputId": "9877c560-d2bb-40e7-b5af-44eea7e97cc2"
      },
      "source": [
        "x <- expression(1 + 1) #Function\n",
        "print(c(class(x), mode(x), storage.mode(x), typeof(x)))"
      ],
      "execution_count": null,
      "outputs": [
        {
          "output_type": "stream",
          "name": "stdout",
          "text": [
            "[1] \"expression\" \"expression\" \"expression\" \"expression\"\n"
          ]
        }
      ]
    },
    {
      "cell_type": "code",
      "metadata": {
        "colab": {
          "base_uri": "https://localhost:8080/",
          "height": 34
        },
        "id": "Ag1GORLL9VhK",
        "outputId": "ecfa5727-7554-42a8-885e-e707916bf56d"
      },
      "source": [
        "x"
      ],
      "execution_count": null,
      "outputs": [
        {
          "output_type": "display_data",
          "data": {
            "text/plain": [
              "expression(1 + 1)"
            ]
          },
          "metadata": {}
        }
      ]
    },
    {
      "cell_type": "code",
      "metadata": {
        "colab": {
          "base_uri": "https://localhost:8080/"
        },
        "id": "_-Vh4H329XyB",
        "outputId": "68033d67-2b98-4911-f47d-04c6f90fbc33"
      },
      "source": [
        "x <- quote(y <- 1 + 1)\n",
        "print(c(class(x), mode(x), storage.mode(x), typeof(x)))"
      ],
      "execution_count": null,
      "outputs": [
        {
          "output_type": "stream",
          "name": "stdout",
          "text": [
            "[1] \"<-\"       \"call\"     \"language\" \"language\"\n"
          ]
        }
      ]
    },
    {
      "cell_type": "code",
      "metadata": {
        "colab": {
          "base_uri": "https://localhost:8080/",
          "height": 34
        },
        "id": "ZZvoIdld9aty",
        "outputId": "2ebab7d3-78f1-4348-d3d7-aa7aa15ddc3c"
      },
      "source": [
        "x"
      ],
      "execution_count": null,
      "outputs": [
        {
          "output_type": "display_data",
          "data": {
            "text/plain": [
              "y <- 1 + 1"
            ]
          },
          "metadata": {}
        }
      ]
    },
    {
      "cell_type": "code",
      "metadata": {
        "colab": {
          "base_uri": "https://localhost:8080/",
          "height": 131
        },
        "id": "IeU8RK67kxXq",
        "outputId": "e4568c1f-5946-4304-d3ee-b06ca9109b87"
      },
      "source": [
        "typeof(y)"
      ],
      "execution_count": null,
      "outputs": [
        {
          "output_type": "error",
          "ename": "ERROR",
          "evalue": "ignored",
          "traceback": [
            "Error in typeof(y): object 'y' not found\nTraceback:\n",
            "1. typeof(y)"
          ]
        }
      ]
    },
    {
      "cell_type": "code",
      "metadata": {
        "colab": {
          "base_uri": "https://localhost:8080/"
        },
        "id": "recW88Mf9sft",
        "outputId": "8cdd53ba-74aa-405e-b148-650104b535f3"
      },
      "source": [
        "x <- ls\n",
        "print(c(class(x), mode(x), storage.mode(x), typeof(x)))"
      ],
      "execution_count": null,
      "outputs": [
        {
          "output_type": "stream",
          "name": "stdout",
          "text": [
            "[1] \"function\" \"function\" \"function\" \"closure\" \n"
          ]
        }
      ]
    },
    {
      "cell_type": "code",
      "metadata": {
        "colab": {
          "base_uri": "https://localhost:8080/",
          "height": 546
        },
        "id": "CB_2Yrpo9w2P",
        "outputId": "42a9b8b6-1f80-48e5-9d7c-c9c7c469b434"
      },
      "source": [
        "x"
      ],
      "execution_count": null,
      "outputs": [
        {
          "output_type": "display_data",
          "data": {
            "text/plain": [
              "function (name, pos = -1L, envir = as.environment(pos), all.names = FALSE, \n",
              "    pattern, sorted = TRUE) \n",
              "{\n",
              "    if (!missing(name)) {\n",
              "        pos <- tryCatch(name, error = function(e) e)\n",
              "        if (inherits(pos, \"error\")) {\n",
              "            name <- substitute(name)\n",
              "            if (!is.character(name)) \n",
              "                name <- deparse(name)\n",
              "            warning(gettextf(\"%s converted to character string\", \n",
              "                sQuote(name)), domain = NA)\n",
              "            pos <- name\n",
              "        }\n",
              "    }\n",
              "    all.names <- .Internal(ls(envir, all.names, sorted))\n",
              "    if (!missing(pattern)) {\n",
              "        if ((ll <- length(grep(\"[\", pattern, fixed = TRUE))) && \n",
              "            ll != length(grep(\"]\", pattern, fixed = TRUE))) {\n",
              "            if (pattern == \"[\") {\n",
              "                pattern <- \"\\\\[\"\n",
              "                warning(\"replaced regular expression pattern '[' by  '\\\\\\\\['\")\n",
              "            }\n",
              "            else if (length(grep(\"[^\\\\\\\\]\\\\[<-\", pattern))) {\n",
              "                pattern <- sub(\"\\\\[<-\", \"\\\\\\\\\\\\[<-\", pattern)\n",
              "                warning(\"replaced '[<-' by '\\\\\\\\[<-' in regular expression pattern\")\n",
              "            }\n",
              "        }\n",
              "        grep(pattern, all.names, value = TRUE)\n",
              "    }\n",
              "    else all.names\n",
              "}\n",
              "<bytecode: 0x55ec94c242e0>\n",
              "<environment: namespace:base>"
            ],
            "text/latex": "\\begin{minted}{r}\nfunction (name, pos = -1L, envir = as.environment(pos), all.names = FALSE, \n    pattern, sorted = TRUE) \n\\{\n    if (!missing(name)) \\{\n        pos <- tryCatch(name, error = function(e) e)\n        if (inherits(pos, \"error\")) \\{\n            name <- substitute(name)\n            if (!is.character(name)) \n                name <- deparse(name)\n            warning(gettextf(\"\\%s converted to character string\", \n                sQuote(name)), domain = NA)\n            pos <- name\n        \\}\n    \\}\n    all.names <- .Internal(ls(envir, all.names, sorted))\n    if (!missing(pattern)) \\{\n        if ((ll <- length(grep(\"{[}\", pattern, fixed = TRUE))) \\&\\& \n            ll != length(grep(\"{]}\", pattern, fixed = TRUE))) \\{\n            if (pattern == \"{[}\") \\{\n                pattern <- \"\\textbackslash{}\\textbackslash{}{[}\"\n                warning(\"replaced regular expression pattern '{[}' by  '\\textbackslash{}\\textbackslash{}\\textbackslash{}\\textbackslash{}{[}'\")\n            \\}\n            else if (length(grep(\"{[}\\textasciicircum{}\\textbackslash{}\\textbackslash{}\\textbackslash{}\\textbackslash{}{]}\\textbackslash{}\\textbackslash{}{[}<-\", pattern))) \\{\n                pattern <- sub(\"\\textbackslash{}\\textbackslash{}{[}<-\", \"\\textbackslash{}\\textbackslash{}\\textbackslash{}\\textbackslash{}\\textbackslash{}\\textbackslash{}{[}<-\", pattern)\n                warning(\"replaced '{[}<-' by '\\textbackslash{}\\textbackslash{}\\textbackslash{}\\textbackslash{}{[}<-' in regular expression pattern\")\n            \\}\n        \\}\n        grep(pattern, all.names, value = TRUE)\n    \\}\n    else all.names\n\\}\n\\end{minted}",
            "text/markdown": "```r\nfunction (name, pos = -1L, envir = as.environment(pos), all.names = FALSE, \n    pattern, sorted = TRUE) \n{\n    if (!missing(name)) {\n        pos <- tryCatch(name, error = function(e) e)\n        if (inherits(pos, \"error\")) {\n            name <- substitute(name)\n            if (!is.character(name)) \n                name <- deparse(name)\n            warning(gettextf(\"%s converted to character string\", \n                sQuote(name)), domain = NA)\n            pos <- name\n        }\n    }\n    all.names <- .Internal(ls(envir, all.names, sorted))\n    if (!missing(pattern)) {\n        if ((ll <- length(grep(\"[\", pattern, fixed = TRUE))) && \n            ll != length(grep(\"]\", pattern, fixed = TRUE))) {\n            if (pattern == \"[\") {\n                pattern <- \"\\\\[\"\n                warning(\"replaced regular expression pattern '[' by  '\\\\\\\\['\")\n            }\n            else if (length(grep(\"[^\\\\\\\\]\\\\[<-\", pattern))) {\n                pattern <- sub(\"\\\\[<-\", \"\\\\\\\\\\\\[<-\", pattern)\n                warning(\"replaced '[<-' by '\\\\\\\\[<-' in regular expression pattern\")\n            }\n        }\n        grep(pattern, all.names, value = TRUE)\n    }\n    else all.names\n}\n```",
            "text/html": [
              "<pre class=language-r><code>function (name, pos = -1L, envir = as.environment(pos), all.names = FALSE, \n",
              "<span style=white-space:pre-wrap>    pattern, sorted = TRUE) </span>\n",
              "{\n",
              "<span style=white-space:pre-wrap>    if (!missing(name)) {</span>\n",
              "<span style=white-space:pre-wrap>        pos &lt;- tryCatch(name, error = function(e) e)</span>\n",
              "<span style=white-space:pre-wrap>        if (inherits(pos, \"error\")) {</span>\n",
              "<span style=white-space:pre-wrap>            name &lt;- substitute(name)</span>\n",
              "<span style=white-space:pre-wrap>            if (!is.character(name)) </span>\n",
              "<span style=white-space:pre-wrap>                name &lt;- deparse(name)</span>\n",
              "<span style=white-space:pre-wrap>            warning(gettextf(\"%s converted to character string\", </span>\n",
              "<span style=white-space:pre-wrap>                sQuote(name)), domain = NA)</span>\n",
              "<span style=white-space:pre-wrap>            pos &lt;- name</span>\n",
              "<span style=white-space:pre-wrap>        }</span>\n",
              "<span style=white-space:pre-wrap>    }</span>\n",
              "<span style=white-space:pre-wrap>    all.names &lt;- .Internal(ls(envir, all.names, sorted))</span>\n",
              "<span style=white-space:pre-wrap>    if (!missing(pattern)) {</span>\n",
              "<span style=white-space:pre-wrap>        if ((ll &lt;- length(grep(\"[\", pattern, fixed = TRUE))) &amp;&amp; </span>\n",
              "<span style=white-space:pre-wrap>            ll != length(grep(\"]\", pattern, fixed = TRUE))) {</span>\n",
              "<span style=white-space:pre-wrap>            if (pattern == \"[\") {</span>\n",
              "<span style=white-space:pre-wrap>                pattern &lt;- \"\\\\[\"</span>\n",
              "<span style=white-space:pre-wrap>                warning(\"replaced regular expression pattern '[' by  '\\\\\\\\['\")</span>\n",
              "<span style=white-space:pre-wrap>            }</span>\n",
              "<span style=white-space:pre-wrap>            else if (length(grep(\"[^\\\\\\\\]\\\\[&lt;-\", pattern))) {</span>\n",
              "<span style=white-space:pre-wrap>                pattern &lt;- sub(\"\\\\[&lt;-\", \"\\\\\\\\\\\\[&lt;-\", pattern)</span>\n",
              "<span style=white-space:pre-wrap>                warning(\"replaced '[&lt;-' by '\\\\\\\\[&lt;-' in regular expression pattern\")</span>\n",
              "<span style=white-space:pre-wrap>            }</span>\n",
              "<span style=white-space:pre-wrap>        }</span>\n",
              "<span style=white-space:pre-wrap>        grep(pattern, all.names, value = TRUE)</span>\n",
              "<span style=white-space:pre-wrap>    }</span>\n",
              "<span style=white-space:pre-wrap>    else all.names</span>\n",
              "}</code></pre>"
            ]
          },
          "metadata": {}
        }
      ]
    },
    {
      "cell_type": "markdown",
      "metadata": {
        "id": "1AX32ikD-E4B"
      },
      "source": [
        "# class can be described as the 'container' of an object, an attribute that makes this object behave externally with functions that take this particular 'type' of object as argument"
      ]
    },
    {
      "cell_type": "code",
      "metadata": {
        "colab": {
          "base_uri": "https://localhost:8080/",
          "height": 51
        },
        "id": "CCnDV-5xzBIE",
        "outputId": "363200fe-16f2-4470-8715-2f1b78656c58"
      },
      "source": [
        "(x1 <- 1:3)\n",
        "(y  <- 1:9)"
      ],
      "execution_count": null,
      "outputs": [
        {
          "output_type": "display_data",
          "data": {
            "text/plain": [
              "[1] 1 2 3"
            ],
            "text/latex": "\\begin{enumerate*}\n\\item 1\n\\item 2\n\\item 3\n\\end{enumerate*}\n",
            "text/markdown": "1. 1\n2. 2\n3. 3\n\n\n",
            "text/html": [
              "<style>\n",
              ".list-inline {list-style: none; margin:0; padding: 0}\n",
              ".list-inline>li {display: inline-block}\n",
              ".list-inline>li:not(:last-child)::after {content: \"\\00b7\"; padding: 0 .5ex}\n",
              "</style>\n",
              "<ol class=list-inline><li>1</li><li>2</li><li>3</li></ol>\n"
            ]
          },
          "metadata": {}
        },
        {
          "output_type": "display_data",
          "data": {
            "text/plain": [
              "[1] 1 2 3 4 5 6 7 8 9"
            ],
            "text/latex": "\\begin{enumerate*}\n\\item 1\n\\item 2\n\\item 3\n\\item 4\n\\item 5\n\\item 6\n\\item 7\n\\item 8\n\\item 9\n\\end{enumerate*}\n",
            "text/markdown": "1. 1\n2. 2\n3. 3\n4. 4\n5. 5\n6. 6\n7. 7\n8. 8\n9. 9\n\n\n",
            "text/html": [
              "<style>\n",
              ".list-inline {list-style: none; margin:0; padding: 0}\n",
              ".list-inline>li {display: inline-block}\n",
              ".list-inline>li:not(:last-child)::after {content: \"\\00b7\"; padding: 0 .5ex}\n",
              "</style>\n",
              "<ol class=list-inline><li>1</li><li>2</li><li>3</li><li>4</li><li>5</li><li>6</li><li>7</li><li>8</li><li>9</li></ol>\n"
            ]
          },
          "metadata": {}
        }
      ]
    },
    {
      "cell_type": "code",
      "metadata": {
        "colab": {
          "base_uri": "https://localhost:8080/",
          "height": 34
        },
        "id": "hIq7uYgHzCum",
        "outputId": "72b557fa-7d28-479e-fa5d-0553856aabf9"
      },
      "source": [
        "x1[1]"
      ],
      "execution_count": null,
      "outputs": [
        {
          "output_type": "display_data",
          "data": {
            "text/plain": [
              "[1] 1"
            ],
            "text/latex": "1",
            "text/markdown": "1",
            "text/html": [
              "1"
            ]
          },
          "metadata": {}
        }
      ]
    },
    {
      "cell_type": "code",
      "metadata": {
        "colab": {
          "base_uri": "https://localhost:8080/",
          "height": 34
        },
        "id": "bLDCHT1ZzD3x",
        "outputId": "722af104-88bd-43d6-fd79-51d18ba2ef2f"
      },
      "source": [
        "y[4]"
      ],
      "execution_count": null,
      "outputs": [
        {
          "output_type": "display_data",
          "data": {
            "text/plain": [
              "[1] 4"
            ],
            "text/latex": "4",
            "text/markdown": "4",
            "text/html": [
              "4"
            ]
          },
          "metadata": {}
        }
      ]
    },
    {
      "cell_type": "markdown",
      "metadata": {
        "id": "WMe0YS_e0ocd"
      },
      "source": [
        "# conditional statement\n",
        "#if (condition){ expr_1} else {expr_2} # else statement is optional "
      ]
    },
    {
      "cell_type": "code",
      "metadata": {
        "colab": {
          "base_uri": "https://localhost:8080/"
        },
        "id": "tDFvO3pr0j5l",
        "outputId": "d5b8f70f-50f4-4ec5-a5e2-56020dee711f"
      },
      "source": [
        "a <- 10\n",
        "if (a!=0)\n",
        "{print(1/a)\n",
        "}else {print(\"No reciprocal for x\")}"
      ],
      "execution_count": null,
      "outputs": [
        {
          "output_type": "stream",
          "name": "stdout",
          "text": [
            "[1] 0.1\n"
          ]
        }
      ]
    },
    {
      "cell_type": "code",
      "metadata": {
        "colab": {
          "base_uri": "https://localhost:8080/",
          "height": 51
        },
        "id": "x4nFtwUw6AW4",
        "outputId": "deda3580-625a-42c9-f63c-6801d09d6160"
      },
      "source": [
        "m =16\n",
        "if (m >=60) \n",
        "{print(\"Pass\")\n",
        "} else (print(\"Fail\"))"
      ],
      "execution_count": null,
      "outputs": [
        {
          "output_type": "stream",
          "name": "stdout",
          "text": [
            "[1] \"Fail\"\n"
          ]
        },
        {
          "output_type": "display_data",
          "data": {
            "text/plain": [
              "[1] \"Fail\""
            ],
            "text/latex": "'Fail'",
            "text/markdown": "'Fail'",
            "text/html": [
              "'Fail'"
            ]
          },
          "metadata": {}
        }
      ]
    },
    {
      "cell_type": "code",
      "metadata": {
        "colab": {
          "base_uri": "https://localhost:8080/"
        },
        "id": "O3WztAF20z7q",
        "outputId": "6b8316f1-bc9f-4ee9-ca2d-35995504fee7"
      },
      "source": [
        "temp <-10\n",
        "if (temp>25){print(\"Hot\")\n",
        "}else if(temp>20){print(\"Moderate\")\n",
        "}else if(temp>=15){print(\"Nice\")\n",
        "}else {print(\"Cool\")}"
      ],
      "execution_count": null,
      "outputs": [
        {
          "output_type": "stream",
          "name": "stdout",
          "text": [
            "[1] \"Cool\"\n"
          ]
        }
      ]
    },
    {
      "cell_type": "markdown",
      "metadata": {
        "id": "IdQGwxbn6LoX"
      },
      "source": [
        "**Write R programming to calculate largest of three numbers.**"
      ]
    },
    {
      "cell_type": "code",
      "metadata": {
        "colab": {
          "base_uri": "https://localhost:8080/"
        },
        "id": "IhZ6Rc7V03q3",
        "outputId": "ef2d3bc4-1316-4c20-9462-0af490981361"
      },
      "source": [
        "a <- 3\n",
        "if (a%%2!=0 || a==2) \n",
        "{print(\"Prime Number\")\n",
        "} else(\"Not a Prime Number\")"
      ],
      "execution_count": null,
      "outputs": [
        {
          "output_type": "stream",
          "name": "stdout",
          "text": [
            "[1] \"Prime Number\"\n"
          ]
        }
      ]
    },
    {
      "cell_type": "code",
      "metadata": {
        "colab": {
          "base_uri": "https://localhost:8080/"
        },
        "id": "476xRmaD06rR",
        "outputId": "ef6f1cc0-632f-46fc-9808-34a98a09429b"
      },
      "source": [
        "x <- c(1,4,5,-8,9,7,9,7)\n",
        "if (any(x<0)){print(\"It contains negative number\")} #any function\n",
        "if (all(x<0)){print(\"All negative values \")}  #all function\n",
        "if (all(x>0)){print(\"All positive values \")}  #all function"
      ],
      "execution_count": null,
      "outputs": [
        {
          "output_type": "stream",
          "name": "stdout",
          "text": [
            "[1] \"It contains negative number\"\n"
          ]
        }
      ]
    },
    {
      "cell_type": "code",
      "metadata": {
        "colab": {
          "base_uri": "https://localhost:8080/",
          "height": 34
        },
        "id": "OAhAaFNe09Yp",
        "outputId": "3bdc5381-4c72-4201-a755-f945f1f672ad"
      },
      "source": [
        "#ifelse(condition, a, b) # vectorized operation\n",
        "x <- c(0.5,0.4,0.2,0.8,0.7,0.4)\n",
        "ifelse(x>=0.5,1,0) # (x>=0.5, True Condition, False Condition)"
      ],
      "execution_count": null,
      "outputs": [
        {
          "output_type": "display_data",
          "data": {
            "text/plain": [
              "[1] 1 0 0 1 1 0"
            ],
            "text/latex": "\\begin{enumerate*}\n\\item 1\n\\item 0\n\\item 0\n\\item 1\n\\item 1\n\\item 0\n\\end{enumerate*}\n",
            "text/markdown": "1. 1\n2. 0\n3. 0\n4. 1\n5. 1\n6. 0\n\n\n",
            "text/html": [
              "<style>\n",
              ".list-inline {list-style: none; margin:0; padding: 0}\n",
              ".list-inline>li {display: inline-block}\n",
              ".list-inline>li:not(:last-child)::after {content: \"\\00b7\"; padding: 0 .5ex}\n",
              "</style>\n",
              "<ol class=list-inline><li>1</li><li>0</li><li>0</li><li>1</li><li>1</li><li>0</li></ol>\n"
            ]
          },
          "metadata": {}
        }
      ]
    },
    {
      "cell_type": "code",
      "metadata": {
        "colab": {
          "base_uri": "https://localhost:8080/",
          "height": 34
        },
        "id": "kTuTGeKwxhy6",
        "outputId": "d6aaf3fe-47ea-4888-af9c-3a18762f69dd"
      },
      "source": [
        "#ifelse(condition, a, b) # vectorized operation\n",
        "x <- c(0.5,0.4,0.2,0.8,0.7,0.4)\n",
        "ifelse(x>=0.5,\"True\",\"Not True\")"
      ],
      "execution_count": null,
      "outputs": [
        {
          "output_type": "display_data",
          "data": {
            "text/plain": [
              "[1] \"True\"     \"Not True\" \"Not True\" \"True\"     \"True\"     \"Not True\""
            ],
            "text/latex": "\\begin{enumerate*}\n\\item 'True'\n\\item 'Not True'\n\\item 'Not True'\n\\item 'True'\n\\item 'True'\n\\item 'Not True'\n\\end{enumerate*}\n",
            "text/markdown": "1. 'True'\n2. 'Not True'\n3. 'Not True'\n4. 'True'\n5. 'True'\n6. 'Not True'\n\n\n",
            "text/html": [
              "<style>\n",
              ".list-inline {list-style: none; margin:0; padding: 0}\n",
              ".list-inline>li {display: inline-block}\n",
              ".list-inline>li:not(:last-child)::after {content: \"\\00b7\"; padding: 0 .5ex}\n",
              "</style>\n",
              "<ol class=list-inline><li>'True'</li><li>'Not True'</li><li>'Not True'</li><li>'True'</li><li>'True'</li><li>'Not True'</li></ol>\n"
            ]
          },
          "metadata": {}
        }
      ]
    },
    {
      "cell_type": "markdown",
      "metadata": {
        "id": "jBtcwURDuAZN"
      },
      "source": [
        "# Friday\n",
        "# 24-09-2021 "
      ]
    },
    {
      "cell_type": "markdown",
      "metadata": {
        "id": "tmgK5U7e1PY2"
      },
      "source": [
        "\n",
        "# User defined functions\n",
        "\n",
        "# func_name <- function(argument){expression} # value of the expression is the value returned by the function\n",
        "\n",
        "# Example- A function to calculate average\n"
      ]
    },
    {
      "cell_type": "markdown",
      "metadata": {
        "id": "w6U3PniVyzCX"
      },
      "source": [
        "Advantages of Function\n",
        "\n",
        "1. Reusability of the code  from anyplace and /or ay number of times within the same program.\n",
        "\n",
        "2. Debugging is easier\n",
        "\n",
        "3. Logical improvement of the section is easier\n",
        "\n",
        "4. Modular programming "
      ]
    },
    {
      "cell_type": "code",
      "metadata": {
        "id": "qEiJw4EO1QUU",
        "colab": {
          "base_uri": "https://localhost:8080/",
          "height": 34
        },
        "outputId": "e9e3299b-1c10-4035-c109-407e1d3da95a"
      },
      "source": [
        "# define a function\n",
        "average <- function(x)\n",
        "{\n",
        "  avg <-  sum(x)/length(x) #self iterative statement\n",
        "  return(avg)\n",
        "}\n",
        "\n",
        "#call the function\n",
        "x <- c(5,7,8)\n",
        "average(x)  "
      ],
      "execution_count": null,
      "outputs": [
        {
          "output_type": "display_data",
          "data": {
            "text/plain": [
              "[1] 6.666667"
            ],
            "text/latex": "6.66666666666667",
            "text/markdown": "6.66666666666667",
            "text/html": [
              "6.66666666666667"
            ]
          },
          "metadata": {}
        }
      ]
    },
    {
      "cell_type": "code",
      "metadata": {
        "colab": {
          "base_uri": "https://localhost:8080/",
          "height": 34
        },
        "id": "Av5kozY91Lig",
        "outputId": "26ce51e8-268f-4e95-c1dc-3cbd7a53d64d"
      },
      "source": [
        "#call the function\n",
        "x <- c(50,70,80)\n",
        "average(x)"
      ],
      "execution_count": null,
      "outputs": [
        {
          "output_type": "display_data",
          "data": {
            "text/plain": [
              "[1] 66.66667"
            ],
            "text/latex": "66.6666666666667",
            "text/markdown": "66.6666666666667",
            "text/html": [
              "66.6666666666667"
            ]
          },
          "metadata": {}
        }
      ]
    },
    {
      "cell_type": "code",
      "metadata": {
        "colab": {
          "base_uri": "https://localhost:8080/",
          "height": 34
        },
        "id": "TtXC3lzz0DU8",
        "outputId": "a30c7c91-81cd-4eab-d004-a74113009a4f"
      },
      "source": [
        "x <- c(50,70,80)\n",
        "mean(x)"
      ],
      "execution_count": null,
      "outputs": [
        {
          "output_type": "display_data",
          "data": {
            "text/plain": [
              "[1] 66.66667"
            ],
            "text/latex": "66.6666666666667",
            "text/markdown": "66.6666666666667",
            "text/html": [
              "66.6666666666667"
            ]
          },
          "metadata": {}
        }
      ]
    },
    {
      "cell_type": "code",
      "metadata": {
        "colab": {
          "base_uri": "https://localhost:8080/",
          "height": 34
        },
        "id": "WcJIhPRJ1ZUH",
        "outputId": "3a4e29a0-f70b-4126-c6e8-1fea66f52035"
      },
      "source": [
        "identical(average(x),mean(x)) # testing the equality of the objects"
      ],
      "execution_count": null,
      "outputs": [
        {
          "output_type": "display_data",
          "data": {
            "text/plain": [
              "[1] TRUE"
            ],
            "text/latex": "TRUE",
            "text/markdown": "TRUE",
            "text/html": [
              "TRUE"
            ]
          },
          "metadata": {}
        }
      ]
    },
    {
      "cell_type": "code",
      "metadata": {
        "id": "w_NlemXB1eFt"
      },
      "source": [
        "# Function to check even/odd number \n",
        "iseven <- function(x){ #Formal argument or parameter\n",
        "  if (x%%2==0){ return(TRUE)}\n",
        "  else{return(FALSE)}} "
      ],
      "execution_count": null,
      "outputs": []
    },
    {
      "cell_type": "code",
      "metadata": {
        "colab": {
          "base_uri": "https://localhost:8080/",
          "height": 34
        },
        "id": "ZD1rlDoR1hkX",
        "outputId": "d7496f30-aa9c-4aef-cdbf-a53f4874dcf6"
      },
      "source": [
        "#call the function\n",
        "iseven(x=9) #Actual argument or parameter \n"
      ],
      "execution_count": null,
      "outputs": [
        {
          "output_type": "display_data",
          "data": {
            "text/plain": [
              "[1] FALSE"
            ],
            "text/latex": "FALSE",
            "text/markdown": "FALSE",
            "text/html": [
              "FALSE"
            ]
          },
          "metadata": {}
        }
      ]
    },
    {
      "cell_type": "code",
      "metadata": {
        "colab": {
          "base_uri": "https://localhost:8080/",
          "height": 51
        },
        "id": "JWJ7cNo_1jvR",
        "outputId": "e235d928-1b4f-42bb-a7cf-650e47286b17"
      },
      "source": [
        "# power function with a default value of argument\n",
        "pow <- function(x,pow=2){\n",
        "  return(x^pow)\n",
        "}\n",
        "\n",
        "# call the function\n",
        "pow(1:5) # argument with default value is not specified\n",
        "pow(1:5,3) # default value of the argument can be changed  "
      ],
      "execution_count": null,
      "outputs": [
        {
          "output_type": "display_data",
          "data": {
            "text/plain": [
              "[1]  1  4  9 16 25"
            ],
            "text/latex": "\\begin{enumerate*}\n\\item 1\n\\item 4\n\\item 9\n\\item 16\n\\item 25\n\\end{enumerate*}\n",
            "text/markdown": "1. 1\n2. 4\n3. 9\n4. 16\n5. 25\n\n\n",
            "text/html": [
              "<style>\n",
              ".list-inline {list-style: none; margin:0; padding: 0}\n",
              ".list-inline>li {display: inline-block}\n",
              ".list-inline>li:not(:last-child)::after {content: \"\\00b7\"; padding: 0 .5ex}\n",
              "</style>\n",
              "<ol class=list-inline><li>1</li><li>4</li><li>9</li><li>16</li><li>25</li></ol>\n"
            ]
          },
          "metadata": {}
        },
        {
          "output_type": "display_data",
          "data": {
            "text/plain": [
              "[1]   1   8  27  64 125"
            ],
            "text/latex": "\\begin{enumerate*}\n\\item 1\n\\item 8\n\\item 27\n\\item 64\n\\item 125\n\\end{enumerate*}\n",
            "text/markdown": "1. 1\n2. 8\n3. 27\n4. 64\n5. 125\n\n\n",
            "text/html": [
              "<style>\n",
              ".list-inline {list-style: none; margin:0; padding: 0}\n",
              ".list-inline>li {display: inline-block}\n",
              ".list-inline>li:not(:last-child)::after {content: \"\\00b7\"; padding: 0 .5ex}\n",
              "</style>\n",
              "<ol class=list-inline><li>1</li><li>8</li><li>27</li><li>64</li><li>125</li></ol>\n"
            ]
          },
          "metadata": {}
        }
      ]
    },
    {
      "cell_type": "code",
      "metadata": {
        "colab": {
          "base_uri": "https://localhost:8080/",
          "height": 50
        },
        "id": "BkpF4Agl06ri",
        "outputId": "15f33c1b-7c8a-4ba0-a673-6ec073f8c69f"
      },
      "source": [
        "# power function with a default value of argument\n",
        "pow <- function(x,y=2){\n",
        "  return(x^y)\n",
        "}\n",
        "\n",
        "# call the function\n",
        "pow(1:5) # argument with default value is not specified\n",
        "pow(1:5,3) # default value of the argument can be changed  "
      ],
      "execution_count": null,
      "outputs": [
        {
          "output_type": "display_data",
          "data": {
            "text/plain": [
              "[1]  1  4  9 16 25"
            ],
            "text/latex": "\\begin{enumerate*}\n\\item 1\n\\item 4\n\\item 9\n\\item 16\n\\item 25\n\\end{enumerate*}\n",
            "text/markdown": "1. 1\n2. 4\n3. 9\n4. 16\n5. 25\n\n\n",
            "text/html": [
              "<style>\n",
              ".list-inline {list-style: none; margin:0; padding: 0}\n",
              ".list-inline>li {display: inline-block}\n",
              ".list-inline>li:not(:last-child)::after {content: \"\\00b7\"; padding: 0 .5ex}\n",
              "</style>\n",
              "<ol class=list-inline><li>1</li><li>4</li><li>9</li><li>16</li><li>25</li></ol>\n"
            ]
          },
          "metadata": {}
        },
        {
          "output_type": "display_data",
          "data": {
            "text/plain": [
              "[1]   1   8  27  64 125"
            ],
            "text/latex": "\\begin{enumerate*}\n\\item 1\n\\item 8\n\\item 27\n\\item 64\n\\item 125\n\\end{enumerate*}\n",
            "text/markdown": "1. 1\n2. 8\n3. 27\n4. 64\n5. 125\n\n\n",
            "text/html": [
              "<style>\n",
              ".list-inline {list-style: none; margin:0; padding: 0}\n",
              ".list-inline>li {display: inline-block}\n",
              ".list-inline>li:not(:last-child)::after {content: \"\\00b7\"; padding: 0 .5ex}\n",
              "</style>\n",
              "<ol class=list-inline><li>1</li><li>8</li><li>27</li><li>64</li><li>125</li></ol>\n"
            ]
          },
          "metadata": {}
        }
      ]
    },
    {
      "cell_type": "code",
      "metadata": {
        "colab": {
          "base_uri": "https://localhost:8080/",
          "height": 34
        },
        "id": "zaRX0gvp1oGi",
        "outputId": "2a8ad85c-9fc8-461f-cca0-89fb86766b41"
      },
      "source": [
        "# function to check positive/negative number\n",
        "check <- function(x){\n",
        "  if (x>0){result <- \"Positive and non zero\"}\n",
        "  else if (x<0){result <- \"Negative\"}\n",
        "  else {result <- \"Positive and Zero\"}\n",
        "  return(result)}\n",
        "\n",
        "# call the function\n",
        "check(x=-10)"
      ],
      "execution_count": null,
      "outputs": [
        {
          "output_type": "display_data",
          "data": {
            "text/plain": [
              "[1] \"Negative\""
            ],
            "text/latex": "'Negative'",
            "text/markdown": "'Negative'",
            "text/html": [
              "'Negative'"
            ]
          },
          "metadata": {}
        }
      ]
    },
    {
      "cell_type": "code",
      "metadata": {
        "colab": {
          "base_uri": "https://localhost:8080/"
        },
        "id": "YAXeZeqi2l76",
        "outputId": "a40a44d9-36d1-4415-c8f4-7b236d8b3561"
      },
      "source": [
        "print(\"enter three numbers\")\n",
        "a=readline()\n",
        "a=as.integer(a)\n",
        "b=readline()\n",
        "b=as.integer(b)\n",
        "c=readline()\n",
        "c=as.integer(c)\n",
        "\n",
        "\n",
        "max<-function(a,b,c)\n",
        "{if((a>=b)& (a>=c))\n",
        "{print(\"a is max\")\n",
        "} else if((b>=c)& (b>=a))\n",
        "{print(\"b is max\")\n",
        "} else {print(\"c is max\")}\n",
        "}\n",
        "max(a,b,c)"
      ],
      "execution_count": null,
      "outputs": [
        {
          "output_type": "stream",
          "name": "stdout",
          "text": [
            "[1] \"enter three numbers\"\n",
            "78\n",
            "99\n",
            "34\n",
            "[1] \"b is max\"\n"
          ]
        }
      ]
    },
    {
      "cell_type": "code",
      "metadata": {
        "colab": {
          "base_uri": "https://localhost:8080/"
        },
        "id": "oKUW_QKc1rm6",
        "outputId": "dd8874be-d61e-459f-ac1a-510bbedefc93"
      },
      "source": [
        "# for Loop\n",
        "for (i in 1:5){print(i)}"
      ],
      "execution_count": null,
      "outputs": [
        {
          "output_type": "stream",
          "name": "stdout",
          "text": [
            "[1] 1\n",
            "[1] 2\n",
            "[1] 3\n",
            "[1] 4\n",
            "[1] 5\n"
          ]
        }
      ]
    },
    {
      "cell_type": "code",
      "metadata": {
        "colab": {
          "base_uri": "https://localhost:8080/"
        },
        "id": "KEsZ5dAz35DH",
        "outputId": "33cf5ae5-fbbc-4f8f-d03b-30fe69b61fd8"
      },
      "source": [
        "print(5:1)"
      ],
      "execution_count": null,
      "outputs": [
        {
          "output_type": "stream",
          "name": "stdout",
          "text": [
            "[1] 5 4 3 2 1\n"
          ]
        }
      ]
    },
    {
      "cell_type": "code",
      "metadata": {
        "colab": {
          "base_uri": "https://localhost:8080/"
        },
        "id": "Crc-HOoL387y",
        "outputId": "d5cfa640-3ab5-446e-cc69-9da3d24e1ef5"
      },
      "source": [
        "print(1:5)"
      ],
      "execution_count": null,
      "outputs": [
        {
          "output_type": "stream",
          "name": "stdout",
          "text": [
            "[1] 1 2 3 4 5\n"
          ]
        }
      ]
    },
    {
      "cell_type": "code",
      "metadata": {
        "colab": {
          "base_uri": "https://localhost:8080/",
          "height": 34
        },
        "id": "1nJ-JQTs2DSk",
        "outputId": "f5c99706-938e-43e1-91b5-649d1d47873f"
      },
      "source": [
        "# function to calculate factorial using for loop\n",
        "fac <- function(x){\n",
        "  y <- 1\n",
        "  for(i in x:1){\n",
        "    y <-y*i\n",
        "  }\n",
        "  return(y)\n",
        "}\n",
        "\n",
        "# call the function  \n",
        "fac(5)"
      ],
      "execution_count": null,
      "outputs": [
        {
          "output_type": "display_data",
          "data": {
            "text/plain": [
              "[1] 120"
            ],
            "text/latex": "120",
            "text/markdown": "120",
            "text/html": [
              "120"
            ]
          },
          "metadata": {}
        }
      ]
    },
    {
      "cell_type": "code",
      "metadata": {
        "colab": {
          "base_uri": "https://localhost:8080/"
        },
        "id": "Ak6sePMi5rnT",
        "outputId": "2a4753f6-2099-4325-a45f-5e85a6c9d285"
      },
      "source": [
        "print(\"enter the numbers\")\n",
        "num=readline()\n",
        "num = as.integer( num)\n",
        "factorial = 1\n",
        "if(num < 0) {\n",
        "print(\"Sorry, factorial does not exist for negative numbers\")\n",
        "} else if(num == 0) {\n",
        "print(\"The factorial of 0 is 1\")\n",
        "} else {\n",
        "for(i in 1:num) {\n",
        "factorial = factorial * i\n",
        "}\n",
        "cat(\"The factorial of\", num ,\"is\",factorial)\n",
        "}"
      ],
      "execution_count": null,
      "outputs": [
        {
          "output_type": "stream",
          "name": "stdout",
          "text": [
            "[1] \"enter the numbers\"\n",
            "5\n",
            "The factorial of 5 is 120"
          ]
        }
      ]
    },
    {
      "cell_type": "markdown",
      "metadata": {
        "id": "S5W7z2i77DEf"
      },
      "source": [
        "**write a function to display the reverse of the given number using function.**"
      ]
    },
    {
      "cell_type": "markdown",
      "metadata": {
        "id": "HMBeZ8WH671a"
      },
      "source": [
        "**write a function to display the sum of digits of the given number using function.**"
      ]
    },
    {
      "cell_type": "code",
      "metadata": {
        "colab": {
          "base_uri": "https://localhost:8080/"
        },
        "id": "PfNRctvr2Hab",
        "outputId": "9ce5caf9-6e31-422d-fd47-91b082f4cf7a"
      },
      "source": [
        "# While loop\n",
        "i <- 1\n",
        "while (i<=5) #Termination condition or conditional expression\n",
        "{print(i)\n",
        "  i=i+1}"
      ],
      "execution_count": null,
      "outputs": [
        {
          "output_type": "stream",
          "name": "stdout",
          "text": [
            "[1] 1\n",
            "[1] 2\n",
            "[1] 3\n",
            "[1] 4\n",
            "[1] 5\n"
          ]
        }
      ]
    },
    {
      "cell_type": "markdown",
      "metadata": {
        "id": "l9g9AGxACFYy"
      },
      "source": [
        "**Factors**\n",
        "Factors are the r-objects which are created using a vector. It stores the vector along with the distinct values of the elements in the vector as labels. The labels are always character irrespective of whether it is numeric or character or Boolean etc. in the input vector. They are useful in statistical modeling."
      ]
    },
    {
      "cell_type": "markdown",
      "metadata": {
        "id": "S-yuVobXwlM4"
      },
      "source": [
        "**Factors** are the data objects which are used to categorize the data and store it as levels. They can store both strings and integers. They are useful in the columns which have a limited number of unique values."
      ]
    },
    {
      "cell_type": "code",
      "metadata": {
        "colab": {
          "base_uri": "https://localhost:8080/"
        },
        "id": "-YF-8in5B3_z",
        "outputId": "ed66bea0-3ce4-4876-9036-812703e942dc"
      },
      "source": [
        "# Create a vector.\n",
        "apple_colors <- c('green','green','yellow','red','red','red','green','white',\"black\")\n",
        "\n",
        "# Create a factor object.\n",
        "factor_apple <- factor(apple_colors)\n",
        "\n",
        "# Print the factor.\n",
        "print(factor_apple)\n",
        "print(nlevels(factor_apple))"
      ],
      "execution_count": null,
      "outputs": [
        {
          "output_type": "stream",
          "text": [
            "[1] green  green  yellow red    red    red    green  white  black \n",
            "Levels: black green red white yellow\n",
            "[1] 5\n"
          ],
          "name": "stdout"
        }
      ]
    },
    {
      "cell_type": "code",
      "metadata": {
        "colab": {
          "base_uri": "https://localhost:8080/",
          "height": 102
        },
        "id": "uCMSWsjy73Vq",
        "outputId": "b5250a02-5344-4fd5-d42a-da9303013143"
      },
      "source": [
        "vehicle <- c(\"TVS50\", \"Scooty\",\"BMW\", \"BMW\", \"Ford\",\"Rolls ROyce\", \"Suzuki\", \"Hero Honda\", \"Ford\")\n",
        "vehicle\n",
        "fact_vehicle <- factor(vehicle)\n",
        "fact_vehicle\n",
        "print(nlevels(fact_vehicle))"
      ],
      "execution_count": null,
      "outputs": [
        {
          "output_type": "display_data",
          "data": {
            "text/plain": [
              "[1] \"TVS50\"       \"Scooty\"      \"BMW\"         \"BMW\"         \"Ford\"       \n",
              "[6] \"Rolls ROyce\" \"Suzuki\"      \"Hero Honda\"  \"Ford\"       "
            ],
            "text/latex": "\\begin{enumerate*}\n\\item 'TVS50'\n\\item 'Scooty'\n\\item 'BMW'\n\\item 'BMW'\n\\item 'Ford'\n\\item 'Rolls ROyce'\n\\item 'Suzuki'\n\\item 'Hero Honda'\n\\item 'Ford'\n\\end{enumerate*}\n",
            "text/markdown": "1. 'TVS50'\n2. 'Scooty'\n3. 'BMW'\n4. 'BMW'\n5. 'Ford'\n6. 'Rolls ROyce'\n7. 'Suzuki'\n8. 'Hero Honda'\n9. 'Ford'\n\n\n",
            "text/html": [
              "<style>\n",
              ".list-inline {list-style: none; margin:0; padding: 0}\n",
              ".list-inline>li {display: inline-block}\n",
              ".list-inline>li:not(:last-child)::after {content: \"\\00b7\"; padding: 0 .5ex}\n",
              "</style>\n",
              "<ol class=list-inline><li>'TVS50'</li><li>'Scooty'</li><li>'BMW'</li><li>'BMW'</li><li>'Ford'</li><li>'Rolls ROyce'</li><li>'Suzuki'</li><li>'Hero Honda'</li><li>'Ford'</li></ol>\n"
            ]
          },
          "metadata": {}
        },
        {
          "output_type": "display_data",
          "data": {
            "text/plain": [
              "[1] TVS50       Scooty      BMW         BMW         Ford        Rolls ROyce\n",
              "[7] Suzuki      Hero Honda  Ford       \n",
              "Levels: BMW Ford Hero Honda Rolls ROyce Scooty Suzuki TVS50"
            ],
            "text/latex": "\\begin{enumerate*}\n\\item TVS50\n\\item Scooty\n\\item BMW\n\\item BMW\n\\item Ford\n\\item Rolls ROyce\n\\item Suzuki\n\\item Hero Honda\n\\item Ford\n\\end{enumerate*}\n\n\\emph{Levels}: \\begin{enumerate*}\n\\item 'BMW'\n\\item 'Ford'\n\\item 'Hero Honda'\n\\item 'Rolls ROyce'\n\\item 'Scooty'\n\\item 'Suzuki'\n\\item 'TVS50'\n\\end{enumerate*}\n",
            "text/markdown": "1. TVS50\n2. Scooty\n3. BMW\n4. BMW\n5. Ford\n6. Rolls ROyce\n7. Suzuki\n8. Hero Honda\n9. Ford\n\n\n\n**Levels**: 1. 'BMW'\n2. 'Ford'\n3. 'Hero Honda'\n4. 'Rolls ROyce'\n5. 'Scooty'\n6. 'Suzuki'\n7. 'TVS50'\n\n\n",
            "text/html": [
              "<style>\n",
              ".list-inline {list-style: none; margin:0; padding: 0}\n",
              ".list-inline>li {display: inline-block}\n",
              ".list-inline>li:not(:last-child)::after {content: \"\\00b7\"; padding: 0 .5ex}\n",
              "</style>\n",
              "<ol class=list-inline><li>TVS50</li><li>Scooty</li><li>BMW</li><li>BMW</li><li>Ford</li><li>Rolls ROyce</li><li>Suzuki</li><li>Hero Honda</li><li>Ford</li></ol>\n",
              "\n",
              "<details>\n",
              "\t<summary style=display:list-item;cursor:pointer>\n",
              "\t\t<strong>Levels</strong>:\n",
              "\t</summary>\n",
              "\t<style>\n",
              "\t.list-inline {list-style: none; margin:0; padding: 0}\n",
              "\t.list-inline>li {display: inline-block}\n",
              "\t.list-inline>li:not(:last-child)::after {content: \"\\00b7\"; padding: 0 .5ex}\n",
              "\t</style>\n",
              "\t<ol class=list-inline><li>'BMW'</li><li>'Ford'</li><li>'Hero Honda'</li><li>'Rolls ROyce'</li><li>'Scooty'</li><li>'Suzuki'</li><li>'TVS50'</li></ol>\n",
              "</details>"
            ]
          },
          "metadata": {}
        },
        {
          "output_type": "stream",
          "name": "stdout",
          "text": [
            "[1] 7\n"
          ]
        }
      ]
    },
    {
      "cell_type": "code",
      "metadata": {
        "id": "Rtx7CBRcwaEd",
        "colab": {
          "base_uri": "https://localhost:8080/"
        },
        "outputId": "41dbeb07-5ff6-492e-db5d-449bbe7f3d65"
      },
      "source": [
        "# Create a vector as input.\n",
        "direction <- c(\"East\",\"West\",\"East\",\"North\",\"North\",\"East\",\"South\",\"South\",\"West\",\"East\",\"North\")\n",
        "\n",
        "print(direction)\n",
        "print(is.factor(direction))\n",
        "print(\"before the factorization\", nlevels(direction))\n",
        "\n",
        "# Apply the factor function.\n",
        "factor_data <- factor(direction)\n",
        "\n",
        "print(factor_data)\n",
        "print(is.factor(factor_data))\n",
        "print(\"after the factorization\",nlevels(factor_data))\n",
        "str(factor_data) #Levels and Categories"
      ],
      "execution_count": null,
      "outputs": [
        {
          "output_type": "stream",
          "name": "stdout",
          "text": [
            " [1] \"East\"  \"West\"  \"East\"  \"North\" \"North\" \"East\"  \"South\" \"South\" \"West\" \n",
            "[10] \"East\"  \"North\"\n",
            "[1] FALSE\n",
            "[1] \"before the factorization\"\n",
            " [1] East  West  East  North North East  South South West  East  North\n",
            "Levels: East North South West\n",
            "[1] TRUE\n",
            "[1] \"after the factorization\"\n",
            " Factor w/ 4 levels \"East\",\"North\",..: 1 4 1 2 2 1 3 3 4 1 ...\n"
          ]
        }
      ]
    },
    {
      "cell_type": "markdown",
      "metadata": {
        "id": "Xg2S0MG-c9f0"
      },
      "source": [
        "# **[R Sorts the levels alphabetically](https://)**"
      ]
    },
    {
      "cell_type": "markdown",
      "metadata": {
        "id": "XfstJlkh9R1H"
      },
      "source": [
        "**In order to generate factor levels in R, we make use of the gl() function. The syntax for generating factor is gl(n, k, labels) where n is an integer specifying the number of levels. k is an integer that gives out a number of replications. And, labels are simply the vector of labels for our factor.**"
      ]
    },
    {
      "cell_type": "markdown",
      "metadata": {
        "id": "O1rm0PHg9bn4"
      },
      "source": [
        "***the rep() function replicates numeric values, or text, or the values of a vector for a specific number of times. ***"
      ]
    },
    {
      "cell_type": "code",
      "metadata": {
        "colab": {
          "base_uri": "https://localhost:8080/",
          "height": 85
        },
        "id": "bsxPjS3BB5GT",
        "outputId": "5264b529-21bd-478a-e4fe-1aadf0acaf1d"
      },
      "source": [
        "#___________________________________________________________________\n",
        "# factor- a special kind of vector\n",
        "# it has known finite set of levels\n",
        "# used to store categorical data as integers(less memory usage)\n",
        "\n",
        "# gl function to create a factor\n",
        "#gl(numbers of levels,number of replications,vectors of labels)\n",
        "gl(2,5,labels=c(\"male\",\"female\"))\n",
        "\n",
        "# alternative way to create a factor\n",
        "as.factor(c(rep(\"male\",5),rep(\"female\",5))) \n"
      ],
      "execution_count": null,
      "outputs": [
        {
          "output_type": "display_data",
          "data": {
            "text/plain": [
              " [1] male   male   male   male   male   female female female female female\n",
              "Levels: male female"
            ],
            "text/latex": "\\begin{enumerate*}\n\\item male\n\\item male\n\\item male\n\\item male\n\\item male\n\\item female\n\\item female\n\\item female\n\\item female\n\\item female\n\\end{enumerate*}\n\n\\emph{Levels}: \\begin{enumerate*}\n\\item 'male'\n\\item 'female'\n\\end{enumerate*}\n",
            "text/markdown": "1. male\n2. male\n3. male\n4. male\n5. male\n6. female\n7. female\n8. female\n9. female\n10. female\n\n\n\n**Levels**: 1. 'male'\n2. 'female'\n\n\n",
            "text/html": [
              "<style>\n",
              ".list-inline {list-style: none; margin:0; padding: 0}\n",
              ".list-inline>li {display: inline-block}\n",
              ".list-inline>li:not(:last-child)::after {content: \"\\00b7\"; padding: 0 .5ex}\n",
              "</style>\n",
              "<ol class=list-inline><li>male</li><li>male</li><li>male</li><li>male</li><li>male</li><li>female</li><li>female</li><li>female</li><li>female</li><li>female</li></ol>\n",
              "\n",
              "<details>\n",
              "\t<summary style=display:list-item;cursor:pointer>\n",
              "\t\t<strong>Levels</strong>:\n",
              "\t</summary>\n",
              "\t<style>\n",
              "\t.list-inline {list-style: none; margin:0; padding: 0}\n",
              "\t.list-inline>li {display: inline-block}\n",
              "\t.list-inline>li:not(:last-child)::after {content: \"\\00b7\"; padding: 0 .5ex}\n",
              "\t</style>\n",
              "\t<ol class=list-inline><li>'male'</li><li>'female'</li></ol>\n",
              "</details>"
            ]
          },
          "metadata": {}
        },
        {
          "output_type": "display_data",
          "data": {
            "text/plain": [
              " [1] male   male   male   male   male   female female female female female\n",
              "Levels: female male"
            ],
            "text/latex": "\\begin{enumerate*}\n\\item male\n\\item male\n\\item male\n\\item male\n\\item male\n\\item female\n\\item female\n\\item female\n\\item female\n\\item female\n\\end{enumerate*}\n\n\\emph{Levels}: \\begin{enumerate*}\n\\item 'female'\n\\item 'male'\n\\end{enumerate*}\n",
            "text/markdown": "1. male\n2. male\n3. male\n4. male\n5. male\n6. female\n7. female\n8. female\n9. female\n10. female\n\n\n\n**Levels**: 1. 'female'\n2. 'male'\n\n\n",
            "text/html": [
              "<style>\n",
              ".list-inline {list-style: none; margin:0; padding: 0}\n",
              ".list-inline>li {display: inline-block}\n",
              ".list-inline>li:not(:last-child)::after {content: \"\\00b7\"; padding: 0 .5ex}\n",
              "</style>\n",
              "<ol class=list-inline><li>male</li><li>male</li><li>male</li><li>male</li><li>male</li><li>female</li><li>female</li><li>female</li><li>female</li><li>female</li></ol>\n",
              "\n",
              "<details>\n",
              "\t<summary style=display:list-item;cursor:pointer>\n",
              "\t\t<strong>Levels</strong>:\n",
              "\t</summary>\n",
              "\t<style>\n",
              "\t.list-inline {list-style: none; margin:0; padding: 0}\n",
              "\t.list-inline>li {display: inline-block}\n",
              "\t.list-inline>li:not(:last-child)::after {content: \"\\00b7\"; padding: 0 .5ex}\n",
              "\t</style>\n",
              "\t<ol class=list-inline><li>'female'</li><li>'male'</li></ol>\n",
              "</details>"
            ]
          },
          "metadata": {}
        }
      ]
    },
    {
      "cell_type": "markdown",
      "metadata": {
        "id": "SULQ-viCxeY2"
      },
      "source": [
        "# Friday \n",
        "# 01-10-2021"
      ]
    },
    {
      "cell_type": "markdown",
      "metadata": {
        "id": "q0ufpLrZCcGD"
      },
      "source": [
        "**Data Frames**\n",
        "Data frames are tabular data objects. Unlike a matrix in data frame each column can contain different modes of data. The first column can be numeric while the second column can be character and third column can be logical. It is a list of vectors of equal length."
      ]
    },
    {
      "cell_type": "code",
      "metadata": {
        "colab": {
          "base_uri": "https://localhost:8080/"
        },
        "id": "ubI1u9DCCWNi",
        "outputId": "34b98331-bef0-43cc-c012-6437f303fc2f"
      },
      "source": [
        "# Create the data frame.\n",
        "BMI <- \tdata.frame(\n",
        "   gend er = c(\"Male\", \"Male\",\"Female\"), \n",
        "   height = c(152, 171.5, 165), \n",
        "   weight = c(81,93, 78),\n",
        "   Age = c(42,38,26)\n",
        ")\n",
        "print(BMI)"
      ],
      "execution_count": null,
      "outputs": [
        {
          "output_type": "stream",
          "name": "stdout",
          "text": [
            "  gender height weight Age\n",
            "1   Male  152.0     81  42\n",
            "2   Male  171.5     93  38\n",
            "3 Female  165.0     78  26\n"
          ]
        }
      ]
    },
    {
      "cell_type": "markdown",
      "metadata": {
        "id": "bgZotxo9GwjF"
      },
      "source": [
        "**Variable Assignment**\n",
        "The variables can be assigned values using leftward, rightward and equal to operator. The values of the variables can be printed using print() or cat() function. The cat() function combines multiple items into a continuous print output."
      ]
    },
    {
      "cell_type": "code",
      "metadata": {
        "colab": {
          "base_uri": "https://localhost:8080/"
        },
        "id": "12qZ9XN0Gx-N",
        "outputId": "9c7889c7-7439-4062-d273-20fa106f133c"
      },
      "source": [
        "#In R there are four ways to assign a value to variable\n",
        "# Assignment using equal operator.\n",
        "var.1 = c(0,1,2,3)           \n",
        "\n",
        "# Assignment using leftward operator.\n",
        "var.2 <- c(\"learn\",\"R\")   \n",
        "\n",
        "# Assignment using rightward operator.   \n",
        "c(TRUE,1) -> var.3 \n",
        "\n",
        "#Using assign function\n",
        "assign('z', 999)\n",
        "\n",
        "cat(\"The value of z is:\", z,\"\\n\")\n",
        "cat (\"var.1 is \", var.1 ,\"\\n\")\n",
        "cat (\"var.2 is \", var.2 ,\"\\n\")\n",
        "cat (\"var.3 is \", var.3 ,\"\\n\")"
      ],
      "execution_count": null,
      "outputs": [
        {
          "output_type": "stream",
          "name": "stdout",
          "text": [
            "The value of z is: 999 \n",
            "var.1 is  0 1 2 3 \n",
            "var.2 is  learn R \n",
            "var.3 is  1 1 \n"
          ]
        }
      ]
    },
    {
      "cell_type": "code",
      "metadata": {
        "colab": {
          "base_uri": "https://localhost:8080/",
          "height": 34
        },
        "id": "avXHzoVLsYur",
        "outputId": "c7b8037d-7b37-47e9-fd70-182f495e7bb5"
      },
      "source": [
        "y <- c(TRUE, FALSE, 35, 2)\n",
        "y"
      ],
      "execution_count": null,
      "outputs": [
        {
          "output_type": "display_data",
          "data": {
            "text/plain": [
              "[1]  1  0 35  2"
            ],
            "text/latex": "\\begin{enumerate*}\n\\item 1\n\\item 0\n\\item 35\n\\item 2\n\\end{enumerate*}\n",
            "text/markdown": "1. 1\n2. 0\n3. 35\n4. 2\n\n\n",
            "text/html": [
              "<style>\n",
              ".list-inline {list-style: none; margin:0; padding: 0}\n",
              ".list-inline>li {display: inline-block}\n",
              ".list-inline>li:not(:last-child)::after {content: \"\\00b7\"; padding: 0 .5ex}\n",
              "</style>\n",
              "<ol class=list-inline><li>1</li><li>0</li><li>35</li><li>2</li></ol>\n"
            ]
          },
          "metadata": {}
        }
      ]
    },
    {
      "cell_type": "markdown",
      "metadata": {
        "id": "cSjSvTqBMza9"
      },
      "source": [
        "**Finding Variables**\n",
        "To know all the variables currently available in the workspace we use the ls() function. Also the ls() function can use patterns to match the variable names."
      ]
    },
    {
      "cell_type": "code",
      "metadata": {
        "colab": {
          "base_uri": "https://localhost:8080/"
        },
        "id": "d8yjIudtMyte",
        "outputId": "a6b48ba9-71bd-4675-c049-96f8b2bce1b7"
      },
      "source": [
        "print(ls())"
      ],
      "execution_count": null,
      "outputs": [
        {
          "output_type": "stream",
          "name": "stdout",
          "text": [
            "[1] \"data\"\n"
          ]
        }
      ]
    },
    {
      "cell_type": "code",
      "metadata": {
        "colab": {
          "base_uri": "https://localhost:8080/"
        },
        "id": "pMRL7S_-M2sZ",
        "outputId": "f0999014-eb48-4f1d-e8c0-09fb9e73b326"
      },
      "source": [
        "# List the variables starting with the pattern \"var\".\n",
        "print(ls(pattern = \"va\"))   "
      ],
      "execution_count": null,
      "outputs": [
        {
          "output_type": "stream",
          "name": "stdout",
          "text": [
            "[1] \"var.1\" \"var.2\" \"var.3\"\n"
          ]
        }
      ]
    },
    {
      "cell_type": "markdown",
      "metadata": {
        "id": "7j52rT79NDjE"
      },
      "source": [
        "**Deleting Variables**\n",
        "Variables can be deleted by using the rm() function."
      ]
    },
    {
      "cell_type": "code",
      "metadata": {
        "id": "2XFTiwSpNEw1"
      },
      "source": [
        "rm(var.3)"
      ],
      "execution_count": null,
      "outputs": []
    },
    {
      "cell_type": "code",
      "metadata": {
        "colab": {
          "base_uri": "https://localhost:8080/",
          "height": 131
        },
        "id": "8dlbp9QBNL80",
        "outputId": "6665fd24-6c52-4254-9f02-e1ed33e5b360"
      },
      "source": [
        "print(var.3)"
      ],
      "execution_count": null,
      "outputs": [
        {
          "output_type": "error",
          "ename": "ERROR",
          "evalue": "ignored",
          "traceback": [
            "Error in print(var.3): object 'var.3' not found\nTraceback:\n",
            "1. print(var.3)"
          ]
        }
      ]
    },
    {
      "cell_type": "markdown",
      "metadata": {
        "id": "XL0QWkIKRLBI"
      },
      "source": [
        "**Built-in Function**\n",
        "Simple examples of in-built functions are seq(), mean(), max(), sum(x) and paste(...) etc. They are directly called by user written programs."
      ]
    },
    {
      "cell_type": "code",
      "metadata": {
        "colab": {
          "base_uri": "https://localhost:8080/"
        },
        "id": "4QaRuldLRQgq",
        "outputId": "64262de9-36c3-4946-efd6-b01a89c4f078"
      },
      "source": [
        "# Create a sequence of numbers from 32 to 44.\n",
        "print(seq(32,44))\n",
        "\n",
        "# Find mean of numbers from 25 to 82.\n",
        "print(mean(1:5))\n",
        "\n",
        "# Find sum of numbers frm 41 to 68.\n",
        "print(sum(1:5))"
      ],
      "execution_count": null,
      "outputs": [
        {
          "output_type": "stream",
          "name": "stdout",
          "text": [
            " [1] 32 33 34 35 36 37 38 39 40 41 42 43 44\n",
            "[1] 3\n",
            "[1] 15\n"
          ]
        }
      ]
    },
    {
      "cell_type": "code",
      "metadata": {
        "colab": {
          "base_uri": "https://localhost:8080/",
          "height": 34
        },
        "id": "pNOiLp96ZdIc",
        "outputId": "f8f3ac70-f721-4764-bec2-4d31af675e35"
      },
      "source": [
        "w <- c(34,2,56,1,89,7)\n",
        "max(w)"
      ],
      "execution_count": null,
      "outputs": [
        {
          "output_type": "display_data",
          "data": {
            "text/plain": [
              "[1] 89"
            ],
            "text/latex": "89",
            "text/markdown": "89",
            "text/html": [
              "89"
            ]
          },
          "metadata": {}
        }
      ]
    },
    {
      "cell_type": "code",
      "metadata": {
        "colab": {
          "base_uri": "https://localhost:8080/",
          "height": 34
        },
        "id": "vG9zb33RZk07",
        "outputId": "b7854beb-2393-4d3c-bb56-41303cd4cba7"
      },
      "source": [
        "x <- c(34,2,56,1,89,7)\n",
        "min(x)"
      ],
      "execution_count": null,
      "outputs": [
        {
          "output_type": "display_data",
          "data": {
            "text/plain": [
              "[1] 1"
            ],
            "text/latex": "1",
            "text/markdown": "1",
            "text/html": [
              "1"
            ]
          },
          "metadata": {}
        }
      ]
    },
    {
      "cell_type": "code",
      "metadata": {
        "colab": {
          "base_uri": "https://localhost:8080/",
          "height": 34
        },
        "id": "2ZfcCysJZu3R",
        "outputId": "c1cc1b60-a36f-42c2-dacc-c191b852ecdf"
      },
      "source": [
        "y <- c(-34,2,-56,1,89,-7)\n",
        "abs(y)"
      ],
      "execution_count": null,
      "outputs": [
        {
          "output_type": "display_data",
          "data": {
            "text/plain": [
              "[1] 34  2 56  1 89  7"
            ],
            "text/latex": "\\begin{enumerate*}\n\\item 34\n\\item 2\n\\item 56\n\\item 1\n\\item 89\n\\item 7\n\\end{enumerate*}\n",
            "text/markdown": "1. 34\n2. 2\n3. 56\n4. 1\n5. 89\n6. 7\n\n\n",
            "text/html": [
              "<style>\n",
              ".list-inline {list-style: none; margin:0; padding: 0}\n",
              ".list-inline>li {display: inline-block}\n",
              ".list-inline>li:not(:last-child)::after {content: \"\\00b7\"; padding: 0 .5ex}\n",
              "</style>\n",
              "<ol class=list-inline><li>34</li><li>2</li><li>56</li><li>1</li><li>89</li><li>7</li></ol>\n"
            ]
          },
          "metadata": {}
        }
      ]
    },
    {
      "cell_type": "code",
      "metadata": {
        "colab": {
          "base_uri": "https://localhost:8080/",
          "height": 34
        },
        "id": "lJjR_um7Z3xI",
        "outputId": "9e7d0dc2-1155-49ae-d968-450a32f5f8b0"
      },
      "source": [
        "sqrt(x)"
      ],
      "execution_count": null,
      "outputs": [
        {
          "output_type": "display_data",
          "data": {
            "text/plain": [
              "[1] 5.830952 1.414214 7.483315 1.000000 9.433981 2.645751"
            ],
            "text/latex": "\\begin{enumerate*}\n\\item 5.8309518948453\n\\item 1.4142135623731\n\\item 7.48331477354788\n\\item 1\n\\item 9.4339811320566\n\\item 2.64575131106459\n\\end{enumerate*}\n",
            "text/markdown": "1. 5.8309518948453\n2. 1.4142135623731\n3. 7.48331477354788\n4. 1\n5. 9.4339811320566\n6. 2.64575131106459\n\n\n",
            "text/html": [
              "<style>\n",
              ".list-inline {list-style: none; margin:0; padding: 0}\n",
              ".list-inline>li {display: inline-block}\n",
              ".list-inline>li:not(:last-child)::after {content: \"\\00b7\"; padding: 0 .5ex}\n",
              "</style>\n",
              "<ol class=list-inline><li>5.8309518948453</li><li>1.4142135623731</li><li>7.48331477354788</li><li>1</li><li>9.4339811320566</li><li>2.64575131106459</li></ol>\n"
            ]
          },
          "metadata": {}
        }
      ]
    },
    {
      "cell_type": "code",
      "metadata": {
        "colab": {
          "base_uri": "https://localhost:8080/"
        },
        "id": "mBI9AFwLb2RZ",
        "outputId": "f25e8269-7ab3-4804-db95-9ef189533fc8"
      },
      "source": [
        "a<-c(0:10, 40)\n",
        "xm<-range(a)\n",
        "print(xm)"
      ],
      "execution_count": null,
      "outputs": [
        {
          "output_type": "stream",
          "name": "stdout",
          "text": [
            "[1]  0 40\n"
          ]
        }
      ]
    },
    {
      "cell_type": "markdown",
      "metadata": {
        "id": "7OVVXeu3Sv47"
      },
      "source": [
        "Median Two scenerios\n",
        "1. The size of the sequence is odd length, then you to find the exact middle value.\n",
        "\n",
        "2. Otehrwise the average teo middle numbers (13/2 = 6.5 ==> 6th+7th/2"
      ]
    },
    {
      "cell_type": "code",
      "metadata": {
        "colab": {
          "base_uri": "https://localhost:8080/"
        },
        "id": "oqvUnFGbb4zv",
        "outputId": "88cb090d-73e4-4982-9369-9807c17b54ee"
      },
      "source": [
        "a<-c(0:10, 40)\n",
        "xm<-median(a)\n",
        "print(xm)"
      ],
      "execution_count": null,
      "outputs": [
        {
          "output_type": "stream",
          "name": "stdout",
          "text": [
            "[1] 5.5\n"
          ]
        }
      ]
    },
    {
      "cell_type": "code",
      "metadata": {
        "colab": {
          "base_uri": "https://localhost:8080/"
        },
        "id": "BM6r7uQGb7zF",
        "outputId": "324566e4-c848-4905-e806-de9c35644569"
      },
      "source": [
        "a<-c(0:10, 40)\n",
        "xm<-sd(a)\n",
        "print(xm)"
      ],
      "execution_count": null,
      "outputs": [
        {
          "output_type": "stream",
          "name": "stdout",
          "text": [
            "[1] 10.58694\n"
          ]
        }
      ]
    },
    {
      "cell_type": "code",
      "metadata": {
        "colab": {
          "base_uri": "https://localhost:8080/"
        },
        "id": "L6fMdtCUcFgu",
        "outputId": "565b7ff1-8e99-49f7-a918-7a6b171d665e"
      },
      "source": [
        "a<-c(0:10, 40)\n",
        "xm<-mean(a)\n",
        "print(xm)"
      ],
      "execution_count": null,
      "outputs": [
        {
          "output_type": "stream",
          "name": "stdout",
          "text": [
            "[1] 7.916667\n"
          ]
        }
      ]
    },
    {
      "cell_type": "markdown",
      "metadata": {
        "id": "h5mktjRtaTo3"
      },
      "source": [
        "# There are many built in functions for the mathematical computations like: cos(x), tan(x), sin(x), log(x), exp(x), round(x,3), trunc(x), log10(x), ceiling(x), floor(x), scale(), diff() etc."
      ]
    },
    {
      "cell_type": "code",
      "metadata": {
        "colab": {
          "base_uri": "https://localhost:8080/"
        },
        "id": "-XWdt9B9Z5bb",
        "outputId": "ba6cb95e-3835-4c8a-b3d8-2bef9a637545"
      },
      "source": [
        "a<-\"I Love Programming\"\n",
        "print(strsplit(a, \" \"))"
      ],
      "execution_count": null,
      "outputs": [
        {
          "output_type": "stream",
          "name": "stdout",
          "text": [
            "[[1]]\n",
            "[1] \"I\"           \"Love\"        \"Programming\"\n",
            "\n"
          ]
        }
      ]
    },
    {
      "cell_type": "code",
      "metadata": {
        "colab": {
          "base_uri": "https://localhost:8080/",
          "height": 34
        },
        "id": "T0PvOvqZaSFy",
        "outputId": "cd156d50-5b3b-4ff5-ccd9-d492ed23d1ed"
      },
      "source": [
        "a<-\"I Love Programming\"\n",
        "substr(a, 3, 7)"
      ],
      "execution_count": null,
      "outputs": [
        {
          "output_type": "display_data",
          "data": {
            "text/plain": [
              "[1] \"Love \""
            ],
            "text/latex": "'Love '",
            "text/markdown": "'Love '",
            "text/html": [
              "'Love '"
            ]
          },
          "metadata": {}
        }
      ]
    },
    {
      "cell_type": "code",
      "metadata": {
        "colab": {
          "base_uri": "https://localhost:8080/",
          "height": 34
        },
        "id": "3c1-RFFvaIX1",
        "outputId": "9c20c400-cd0d-4b23-84bb-56665b194918"
      },
      "source": [
        "a<-\"I Love Programming\"\n",
        "sub(\"Programming\", \"Mathematics\", a)"
      ],
      "execution_count": null,
      "outputs": [
        {
          "output_type": "display_data",
          "data": {
            "text/plain": [
              "[1] \"I Love Mathematics\""
            ],
            "text/latex": "'I Love Mathematics'",
            "text/markdown": "'I Love Mathematics'",
            "text/html": [
              "'I Love Mathematics'"
            ]
          },
          "metadata": {}
        }
      ]
    },
    {
      "cell_type": "code",
      "metadata": {
        "colab": {
          "base_uri": "https://localhost:8080/"
        },
        "id": "WQf_0sgpbYpr",
        "outputId": "84623e24-45ae-4dd7-f4da-f0d5b789b2bc"
      },
      "source": [
        "print(tolower(a))"
      ],
      "execution_count": null,
      "outputs": [
        {
          "output_type": "stream",
          "name": "stdout",
          "text": [
            "[1] \"i love programming\"\n"
          ]
        }
      ]
    },
    {
      "cell_type": "code",
      "metadata": {
        "colab": {
          "base_uri": "https://localhost:8080/"
        },
        "id": "S8cKKmoxbhiF",
        "outputId": "fb70b744-d655-42c0-a1ad-3d2245e9a40f"
      },
      "source": [
        "print(toupper(a))"
      ],
      "execution_count": null,
      "outputs": [
        {
          "output_type": "stream",
          "name": "stdout",
          "text": [
            "[1] \"I LOVE PROGRAMMING\"\n"
          ]
        }
      ]
    },
    {
      "cell_type": "markdown",
      "metadata": {
        "id": "H7SyLKzuRVEn"
      },
      "source": [
        "**User-defined Function**"
      ]
    },
    {
      "cell_type": "code",
      "metadata": {
        "colab": {
          "base_uri": "https://localhost:8080/"
        },
        "id": "-EO9ZYZDRawc",
        "outputId": "7d926f59-f665-4830-9672-ddbf34125f26"
      },
      "source": [
        "# Create a function to print squares of numbers in sequence.\n",
        "new.function <- function(a) {\n",
        "   for(i in 1:a) {\n",
        "      b <- i^2\n",
        "      print(b)\n",
        "   }\n",
        "}\t\n",
        "# Call the function new.function supplying 6 as an argument.\n",
        "new.function(6)"
      ],
      "execution_count": null,
      "outputs": [
        {
          "output_type": "stream",
          "text": [
            "[1] 1\n",
            "[1] 4\n",
            "[1] 9\n",
            "[1] 16\n",
            "[1] 25\n",
            "[1] 36\n"
          ],
          "name": "stdout"
        }
      ]
    },
    {
      "cell_type": "markdown",
      "metadata": {
        "id": "bbLGBNWHRqiv"
      },
      "source": [
        "**Calling a Function without an Argument**"
      ]
    },
    {
      "cell_type": "code",
      "metadata": {
        "colab": {
          "base_uri": "https://localhost:8080/"
        },
        "id": "0GPqhg2DRr41",
        "outputId": "8aa88cff-99f5-4c45-f58d-3b5bea4c4e69"
      },
      "source": [
        "# Create a function without an argument.\n",
        "fun1 <- function() {\n",
        "   for(i in 1:5) {\n",
        "      print(i^2)\n",
        "   }\n",
        "}\t\n",
        "\n",
        "# Call the function without supplying an argument.\n",
        "fun1 ()"
      ],
      "execution_count": null,
      "outputs": [
        {
          "output_type": "stream",
          "name": "stdout",
          "text": [
            "[1] 1\n",
            "[1] 4\n",
            "[1] 9\n",
            "[1] 16\n",
            "[1] 25\n"
          ]
        }
      ]
    },
    {
      "cell_type": "code",
      "metadata": {
        "colab": {
          "base_uri": "https://localhost:8080/"
        },
        "id": "t5Yh29-Yt9dC",
        "outputId": "274a3dd0-8253-418b-fe14-7ca0424edc14"
      },
      "source": [
        "#Function call by Position\n",
        "f <- function(a, b) {\n",
        "print(a+b)\n",
        "    print(a-b)\n",
        " }\n",
        "f(45, 32)"
      ],
      "execution_count": null,
      "outputs": [
        {
          "output_type": "stream",
          "name": "stdout",
          "text": [
            "[1] 77\n",
            "[1] 13\n"
          ]
        }
      ]
    },
    {
      "cell_type": "markdown",
      "metadata": {
        "id": "H5qTQIiIR1-Y"
      },
      "source": [
        "**Calling a Function with Argument Values (by position and by name)**"
      ]
    },
    {
      "cell_type": "code",
      "metadata": {
        "colab": {
          "base_uri": "https://localhost:8080/"
        },
        "id": "VUAFV6YPR3ms",
        "outputId": "28b18313-112d-4c71-a39c-9c192e7fe732"
      },
      "source": [
        "# Create a function with arguments.\n",
        "new.function <- function(a,b,c) {\n",
        "   result <- a * b + c\n",
        "   print(result)\n",
        "}\n",
        "\n",
        "# Call the function by position of arguments.\n",
        "new.function(5,3,11)\n",
        "\n",
        "# Call the function by names of the arguments.\n",
        "new.function(b = 11, c = 5, a = 3)"
      ],
      "execution_count": null,
      "outputs": [
        {
          "output_type": "stream",
          "name": "stdout",
          "text": [
            "[1] 26\n",
            "[1] 38\n"
          ]
        }
      ]
    },
    {
      "cell_type": "markdown",
      "metadata": {
        "id": "cBN1X9RMR_Tm"
      },
      "source": [
        "**Calling a Function with Default Argument**"
      ]
    },
    {
      "cell_type": "code",
      "metadata": {
        "colab": {
          "base_uri": "https://localhost:8080/"
        },
        "id": "qRuQ0156SAjc",
        "outputId": "42df6220-7910-4268-9720-4c4f644146f3"
      },
      "source": [
        "# Create a function with arguments.\n",
        "new.function <- function(a = 3, b = 6) {\n",
        "   result <- a * b\n",
        "   print(result)\n",
        "}\n",
        "\n",
        "# Call the function without giving any argument.\n",
        "new.function()\n",
        "\n",
        "#Call with a single parameter\n",
        "new.function(10)\n",
        "\n",
        "# Call the function with giving new values of the argument.\n",
        "new.function(9,5)\n",
        "\n",
        "#last case\n",
        "new.function(b=100)\n",
        "\n",
        "#last case\n",
        "new.function(,60)"
      ],
      "execution_count": null,
      "outputs": [
        {
          "output_type": "stream",
          "name": "stdout",
          "text": [
            "[1] 18\n",
            "[1] 60\n",
            "[1] 45\n",
            "[1] 300\n",
            "[1] 180\n"
          ]
        }
      ]
    },
    {
      "cell_type": "markdown",
      "metadata": {
        "id": "lFwX5WSOSXY3"
      },
      "source": [
        "**Concatenating Strings - paste() function**"
      ]
    },
    {
      "cell_type": "markdown",
      "metadata": {
        "id": "VFRLBko1Sj3N"
      },
      "source": [
        "sep represents any separator between the arguments. It is optional.\n",
        "\n",
        "collapse is used to eliminate the space in between two strings. But not the space within two words of one string. "
      ]
    },
    {
      "cell_type": "code",
      "metadata": {
        "colab": {
          "base_uri": "https://localhost:8080/"
        },
        "id": "5TlsQzLySeg9",
        "outputId": "6dfbc878-d567-4f51-f615-213980964e6a"
      },
      "source": [
        "a <- \"Hello\"\n",
        "b <- 'How'\n",
        "c <- \"are you? \"\n",
        "\n",
        "print(paste(a,b,c))\n",
        "\n",
        "print(paste(a,b,c, sep = \"-\"))\n",
        "\n",
        "print(paste(a,b,c, sep = \"\", collapse = \"\"))"
      ],
      "execution_count": null,
      "outputs": [
        {
          "output_type": "stream",
          "text": [
            "[1] \"Hello How are you? \"\n",
            "[1] \"Hello-How-are you? \"\n",
            "[1] \"HelloHoware you? \"\n"
          ],
          "name": "stdout"
        }
      ]
    },
    {
      "cell_type": "markdown",
      "metadata": {
        "id": "bUEpzfKXStTO"
      },
      "source": [
        "**Formatting numbers & strings - format() function**"
      ]
    },
    {
      "cell_type": "code",
      "metadata": {
        "colab": {
          "base_uri": "https://localhost:8080/"
        },
        "id": "uPzNpbz8SrvV",
        "outputId": "c263d44d-72dd-48a1-baa2-51644609f05f"
      },
      "source": [
        "# Total number of digits displayed. Last digit rounded off.\n",
        "result <- format(23.123456789, digits = 4)\n",
        "print(result)\n",
        "\n",
        "# Display numbers in scientific notation.\n",
        "result <- format(c(6, 13.14521), scientific = TRUE)\n",
        "print(result)\n",
        "\n",
        "# The minimum number of digits to the right of the decimal point.\n",
        "result <- format(23.47, nsmall = 5)\n",
        "print(result)\n",
        "\n",
        "# Format treats everything as a string.\n",
        "result <- format(6)\n",
        "print(result)\n",
        "\n",
        "# Numbers are padded with blank in the beginning for width.\n",
        "result <- format(13.7, width = 6)\n",
        "print(result)\n",
        "\n",
        "# Left justify strings.\n",
        "result <- format(\"Hello\", width = 8, justify = \"l\")\n",
        "print(result)\n",
        "\n",
        "# Justfy string with center.\n",
        "result <- format(\"Hello\", width = 8, justify = \"c\")\n",
        "print(result)"
      ],
      "execution_count": null,
      "outputs": [
        {
          "output_type": "stream",
          "text": [
            "[1] \"23.12\"\n",
            "[1] \"6.000000e+00\" \"1.314521e+01\"\n",
            "[1] \"23.47000\"\n",
            "[1] \"6\"\n",
            "[1] \"  13.7\"\n",
            "[1] \"Hello   \"\n",
            "[1] \" Hello  \"\n"
          ],
          "name": "stdout"
        }
      ]
    },
    {
      "cell_type": "markdown",
      "metadata": {
        "id": "n1snNQHWTVm-"
      },
      "source": [
        "**Factors**"
      ]
    },
    {
      "cell_type": "code",
      "metadata": {
        "colab": {
          "base_uri": "https://localhost:8080/"
        },
        "id": "zNZhKT0cTWnF",
        "outputId": "e22b279a-11a7-461e-dab6-727b17b40590"
      },
      "source": [
        "# Create a vector as input.\n",
        "data <- c(\"East\",\"West\",\"East\",\"North\",\"North\",\"East\",\"West\",\"West\",\"West\",\"East\",\"North\")\n",
        "\n",
        "print(data)\n",
        "print(is.factor(data))\n",
        "\n",
        "# Apply the factor function.\n",
        "factor_data <- factor(data)\n",
        "\n",
        "print(factor_data)\n",
        "print(is.factor(factor_data))"
      ],
      "execution_count": null,
      "outputs": [
        {
          "output_type": "stream",
          "text": [
            " [1] \"East\"  \"West\"  \"East\"  \"North\" \"North\" \"East\"  \"West\"  \"West\"  \"West\" \n",
            "[10] \"East\"  \"North\"\n",
            "[1] FALSE\n",
            " [1] East  West  East  North North East  West  West  West  East  North\n",
            "Levels: East North West\n",
            "[1] TRUE\n"
          ],
          "name": "stdout"
        }
      ]
    },
    {
      "cell_type": "markdown",
      "metadata": {
        "id": "89B-lLFNTgmc"
      },
      "source": [
        "**Factors in Data Frame**"
      ]
    },
    {
      "cell_type": "code",
      "metadata": {
        "colab": {
          "base_uri": "https://localhost:8080/"
        },
        "id": "2Hmd8OXPThn3",
        "outputId": "e340eb5c-8f08-4c1f-b045-a2085bc70338"
      },
      "source": [
        "# Create the vectors for data frame.\n",
        "height <- c(132,151,162,139,166,147,122)\n",
        "weight <- c(48,49,66,53,67,52,40)\n",
        "gender <- c(\"male\",\"male\",\"female\",\"female\",\"male\",\"female\",\"male\")\n",
        "\n",
        "# Create the data frame.\n",
        "input_data <- data.frame(height,weight,gender)\n",
        "print(input_data)\n",
        "\n",
        "# Test if the gender column is a factor.\n",
        "print(is.factor(input_data$gender))\n",
        "\n",
        "input_data$gender <- factor(input_data$gender)\n",
        "\n",
        "# Print the gender column so see the levels.\n",
        "print(input_data$gender)"
      ],
      "execution_count": null,
      "outputs": [
        {
          "output_type": "stream",
          "name": "stdout",
          "text": [
            "  height weight gender\n",
            "1    132     48   male\n",
            "2    151     49   male\n",
            "3    162     66 female\n",
            "4    139     53 female\n",
            "5    166     67   male\n",
            "6    147     52 female\n",
            "7    122     40   male\n",
            "[1] FALSE\n",
            "[1] male   male   female female male   female male  \n",
            "Levels: female male\n"
          ]
        }
      ]
    },
    {
      "cell_type": "markdown",
      "metadata": {
        "id": "Avibpkz1TupG"
      },
      "source": [
        "**Changing the Order of Levels**"
      ]
    },
    {
      "cell_type": "code",
      "metadata": {
        "colab": {
          "base_uri": "https://localhost:8080/"
        },
        "id": "me-YIHb3Tvml",
        "outputId": "a315952b-b758-42e8-80eb-f7963f47fef5"
      },
      "source": [
        "data <- c(\"East\",\"West\",\"East\",\"North\",\"North\",\"East\",\"West\",\n",
        "   \"West\",\"West\",\"East\",\"North\")\n",
        "# Create the factors\n",
        "factor_data <- factor(data)\n",
        "print(factor_data)\n",
        "\n",
        "# Apply the factor function with required order of the level.\n",
        "new_order_data <- factor(factor_data,levels = c(\"West\",\"North\", \"East\"))\n",
        "print(new_order_data)"
      ],
      "execution_count": null,
      "outputs": [
        {
          "output_type": "stream",
          "text": [
            " [1] East  West  East  North North East  West  West  West  East  North\n",
            "Levels: East North West\n",
            " [1] East  West  East  North North East  West  West  West  East  North\n",
            "Levels: West North East\n"
          ],
          "name": "stdout"
        }
      ]
    },
    {
      "cell_type": "markdown",
      "metadata": {
        "id": "uj_MhdXBT5IV"
      },
      "source": [
        "**Create Data Frame**"
      ]
    },
    {
      "cell_type": "code",
      "metadata": {
        "colab": {
          "base_uri": "https://localhost:8080/"
        },
        "id": "IJ8LroGPT6Kl",
        "outputId": "7b3140e3-54a1-4c3e-b2b0-8377a0637f3a"
      },
      "source": [
        "# Create the data frame.\n",
        "emp.data <- data.frame(\n",
        "   emp_id = c (1:5), \n",
        "   emp_name = c(\"Rick\",\"Dan\",\"Michelle\",\"Ryan\",\"Gary\"),\n",
        "   salary = c(623.3,515.2,611.0,729.0,843.25), \n",
        "   \n",
        "   start_date = as.Date(c(\"2012-01-01\", \"2013-09-23\", \"2014-11-15\", \"2014-05-11\",\n",
        "      \"2015-03-27\")),\n",
        "   stringsAsFactors = FALSE\n",
        "   #It is a logical that indicates whether strings in a data frame should be treated as factor variables or as just plain strings.\n",
        ")\n",
        "# Print the data frame.\t\t\t\n",
        "print(emp.data) "
      ],
      "execution_count": null,
      "outputs": [
        {
          "output_type": "stream",
          "text": [
            "  emp_id emp_name salary start_date\n",
            "1      1     Rick 623.30 2012-01-01\n",
            "2      2      Dan 515.20 2013-09-23\n",
            "3      3 Michelle 611.00 2014-11-15\n",
            "4      4     Ryan 729.00 2014-05-11\n",
            "5      5     Gary 843.25 2015-03-27\n"
          ],
          "name": "stdout"
        }
      ]
    },
    {
      "cell_type": "markdown",
      "metadata": {
        "id": "dSXiFJd5UGQV"
      },
      "source": [
        "**Get the Structure of the Data Frame**"
      ]
    },
    {
      "cell_type": "code",
      "metadata": {
        "colab": {
          "base_uri": "https://localhost:8080/"
        },
        "id": "AlN6xGBaUHfd",
        "outputId": "05987691-7238-4f67-9cae-006edb59e4af"
      },
      "source": [
        "# Create the data frame.\n",
        "emp.data <- data.frame(\n",
        "   emp_id = c (1:5), \n",
        "   emp_name = c(\"Rick\",\"Dan\",\"Michelle\",\"Ryan\",\"Gary\"),\n",
        "   salary = c(623.3,515.2,611.0,729.0,843.25), \n",
        "   \n",
        "   start_date = as.Date(c(\"2012-01-01\", \"2013-09-23\", \"2014-11-15\", \"2014-05-11\",\n",
        "      \"2015-03-27\")),\n",
        "   stringsAsFactors = FALSE\n",
        ")\n",
        "# Get the structure of the data frame.\n",
        "str(emp.data)"
      ],
      "execution_count": null,
      "outputs": [
        {
          "output_type": "stream",
          "text": [
            "'data.frame':\t5 obs. of  4 variables:\n",
            " $ emp_id    : int  1 2 3 4 5\n",
            " $ emp_name  : chr  \"Rick\" \"Dan\" \"Michelle\" \"Ryan\" ...\n",
            " $ salary    : num  623 515 611 729 843\n",
            " $ start_date: Date, format: \"2012-01-01\" \"2013-09-23\" ...\n"
          ],
          "name": "stdout"
        }
      ]
    },
    {
      "cell_type": "markdown",
      "metadata": {
        "id": "EU-IdIwvUSj2"
      },
      "source": [
        "**Summary of Data in Data Frame**"
      ]
    },
    {
      "cell_type": "code",
      "metadata": {
        "colab": {
          "base_uri": "https://localhost:8080/"
        },
        "id": "ksbRyOQgUUV2",
        "outputId": "33e855b0-76a3-4b40-acac-1c55766b61fc"
      },
      "source": [
        "# Create the data frame.\n",
        "emp.data <- data.frame(\n",
        "   emp_id = c (1:5), \n",
        "   emp_name = c(\"Rick\",\"Dan\",\"Michelle\",\"Ryan\",\"Gary\"),\n",
        "   salary = c(623.3,515.2,611.0,729.0,843.25), \n",
        "   \n",
        "   start_date = as.Date(c(\"2012-01-01\", \"2013-09-23\", \"2014-11-15\", \"2014-05-11\",\n",
        "      \"2015-03-27\")),\n",
        "   stringsAsFactors = FALSE\n",
        ")\n",
        "# Print the summary.\n",
        "print(summary(emp.data))  "
      ],
      "execution_count": null,
      "outputs": [
        {
          "output_type": "stream",
          "text": [
            "     emp_id    emp_name             salary        start_date        \n",
            " Min.   :1   Length:5           Min.   :515.2   Min.   :2012-01-01  \n",
            " 1st Qu.:2   Class :character   1st Qu.:611.0   1st Qu.:2013-09-23  \n",
            " Median :3   Mode  :character   Median :623.3   Median :2014-05-11  \n",
            " Mean   :3                      Mean   :664.4   Mean   :2014-01-14  \n",
            " 3rd Qu.:4                      3rd Qu.:729.0   3rd Qu.:2014-11-15  \n",
            " Max.   :5                      Max.   :843.2   Max.   :2015-03-27  \n"
          ],
          "name": "stdout"
        }
      ]
    },
    {
      "cell_type": "markdown",
      "metadata": {
        "id": "vPqOx2dgqj2i"
      },
      "source": [
        "**Extract the first two rows and then all columns**"
      ]
    },
    {
      "cell_type": "code",
      "metadata": {
        "colab": {
          "base_uri": "https://localhost:8080/"
        },
        "id": "p_dittTmqlSx",
        "outputId": "7d70d308-5d60-4ba8-c5c8-9ec2d4ac82fb"
      },
      "source": [
        "# Create the data frame.\n",
        "emp.data <- data.frame(\n",
        "   emp_id = c (1:5),\n",
        "   emp_name = c(\"Rick\",\"Dan\",\"Michelle\",\"Ryan\",\"Gary\"),\n",
        "   salary = c(623.3,515.2,611.0,729.0,843.25),\n",
        "   \n",
        "   start_date = as.Date(c(\"2012-01-01\", \"2013-09-23\", \"2014-11-15\", \"2014-05-11\",\n",
        "      \"2015-03-27\")),\n",
        "   stringsAsFactors = FALSE\n",
        ")\n",
        "# Extract first two rows.\n",
        "result <- emp.data[1:2,]\n",
        "print(result)"
      ],
      "execution_count": null,
      "outputs": [
        {
          "output_type": "stream",
          "text": [
            "  emp_id emp_name salary start_date\n",
            "1      1     Rick  623.3 2012-01-01\n",
            "2      2      Dan  515.2 2013-09-23\n"
          ],
          "name": "stdout"
        }
      ]
    },
    {
      "cell_type": "markdown",
      "metadata": {
        "id": "RlYMvfAuqwbn"
      },
      "source": [
        "**Extract 3rd and 5th row with 2nd and 4th column**"
      ]
    },
    {
      "cell_type": "code",
      "metadata": {
        "colab": {
          "base_uri": "https://localhost:8080/"
        },
        "id": "Rl2Akjstqxso",
        "outputId": "59734b4e-6735-4a88-dc77-d9888e2679cf"
      },
      "source": [
        "# Create the data frame.\n",
        "emp.data <- data.frame(\n",
        "   emp_id = c (1:5), \n",
        "   emp_name = c(\"Rick\",\"Dan\",\"Michelle\",\"Ryan\",\"Gary\"),\n",
        "   salary = c(623.3,515.2,611.0,729.0,843.25), \n",
        "   \n",
        "\tstart_date = as.Date(c(\"2012-01-01\", \"2013-09-23\", \"2014-11-15\", \"2014-05-11\",\n",
        "      \"2015-03-27\")),\n",
        "   stringsAsFactors = FALSE\n",
        ")\n",
        "\n",
        "# Extract 3rd and 5th row with 2nd and 4th column.\n",
        "result <- emp.data[c(3,5),c(2,4)]\n",
        "print(result)"
      ],
      "execution_count": null,
      "outputs": [
        {
          "output_type": "stream",
          "text": [
            "  emp_name start_date\n",
            "3 Michelle 2014-11-15\n",
            "5     Gary 2015-03-27\n"
          ],
          "name": "stdout"
        }
      ]
    },
    {
      "cell_type": "markdown",
      "metadata": {
        "id": "ysXoubllq3Ev"
      },
      "source": [
        "**Add Column**"
      ]
    },
    {
      "cell_type": "code",
      "metadata": {
        "colab": {
          "base_uri": "https://localhost:8080/"
        },
        "id": "uB5wig1kq4Tz",
        "outputId": "7ed927b7-3e58-428c-fa1a-dad4b2e8f3ab"
      },
      "source": [
        "# Create the data frame.\n",
        "emp.data <- data.frame(\n",
        "   emp_id = c (1:5), \n",
        "   emp_name = c(\"Rick\",\"Dan\",\"Michelle\",\"Ryan\",\"Gary\"),\n",
        "   salary = c(623.3,515.2,611.0,729.0,843.25), \n",
        "   \n",
        "   start_date = as.Date(c(\"2012-01-01\", \"2013-09-23\", \"2014-11-15\", \"2014-05-11\",\n",
        "      \"2015-03-27\")),\n",
        "   stringsAsFactors = FALSE\n",
        ")\n",
        "\n",
        "# Add the \"dept\" coulmn.\n",
        "emp.data$dept <- c(\"IT\",\"Operations\",\"IT\",\"HR\",\"Finance\")\n",
        "print(emp.data)\n"
      ],
      "execution_count": null,
      "outputs": [
        {
          "output_type": "stream",
          "text": [
            "  emp_id emp_name salary start_date       dept\n",
            "1      1     Rick 623.30 2012-01-01         IT\n",
            "2      2      Dan 515.20 2013-09-23 Operations\n",
            "3      3 Michelle 611.00 2014-11-15         IT\n",
            "4      4     Ryan 729.00 2014-05-11         HR\n",
            "5      5     Gary 843.25 2015-03-27    Finance\n"
          ],
          "name": "stdout"
        }
      ]
    },
    {
      "cell_type": "markdown",
      "metadata": {
        "id": "DysdcXmjeI1r"
      },
      "source": [
        "## Monday \n",
        "# 11-10-2021 "
      ]
    },
    {
      "cell_type": "markdown",
      "metadata": {
        "id": "jYNz61inq_wn"
      },
      "source": [
        "# Merging two data frames"
      ]
    },
    {
      "cell_type": "code",
      "metadata": {
        "colab": {
          "base_uri": "https://localhost:8080/"
        },
        "id": "V_mtD1qnrAql",
        "outputId": "3266e002-9c9c-4e9f-aa90-a2673f966efa"
      },
      "source": [
        "# Create the first data frame.\n",
        "#Create a collection vectors of equal length \n",
        "emp.data <- data.frame(\n",
        "   emp_id = c (1:5), \n",
        "   emp_name = c(\"Rick\",\"Dan\",\"Michelle\",\"Ryan\",\"Gary\"),\n",
        "   salary = c(623.3,515.2,611.0,729.0,843.25), \n",
        "   \n",
        "   start_date = as.Date(c(\"2012-01-01\", \"2013-09-23\", \"2014-11-15\", \"2014-05-11\",\n",
        "      \"2015-03-27\")),\n",
        "   dept = c(\"IT\",\"Operations\",\"IT\",\"HR\",\"Finance\"),\n",
        "   stringsAsFactors = FALSE\n",
        ")\n",
        "\n",
        "# Create the second data frame\n",
        "emp.newdata <- \tdata.frame(\n",
        "   emp_id = c (100, 101, 102), \n",
        "   emp_name = c(\"Rasmi\",\"Pranab\",\"Tusar\"),\n",
        "   salary = c(578.0,722.5,632.8), \n",
        "   start_date = as.Date(c(\"2013-05-21\",\"2013-07-30\",\"2014-06-17\")),\n",
        "   dept = c(\"IT\",\"Operations\",\"Fianance\"),\n",
        "   stringsAsFactors = FALSE\n",
        ")\n",
        "\n",
        "# Bind the two data frames.\n",
        "emp.finaldata <- rbind(emp.data,emp.newdata)\n",
        "print(emp.finaldata)"
      ],
      "execution_count": null,
      "outputs": [
        {
          "output_type": "stream",
          "name": "stdout",
          "text": [
            "  emp_id emp_name salary start_date       dept\n",
            "1      1     Rick 623.30 2012-01-01         IT\n",
            "2      2      Dan 515.20 2013-09-23 Operations\n",
            "3      3 Michelle 611.00 2014-11-15         IT\n",
            "4      4     Ryan 729.00 2014-05-11         HR\n",
            "5      5     Gary 843.25 2015-03-27    Finance\n",
            "6    100    Rasmi 578.00 2013-05-21         IT\n",
            "7    101   Pranab 722.50 2013-07-30 Operations\n",
            "8    102    Tusar 632.80 2014-06-17   Fianance\n"
          ]
        }
      ]
    },
    {
      "cell_type": "code",
      "metadata": {
        "colab": {
          "base_uri": "https://localhost:8080/",
          "height": 34
        },
        "id": "LviwgBAoWaFH",
        "outputId": "c019dccb-e456-43a3-f153-d0c2260a0531"
      },
      "source": [
        "emp.finaldata$emp_name[5]"
      ],
      "execution_count": null,
      "outputs": [
        {
          "output_type": "display_data",
          "data": {
            "text/plain": [
              "[1] \"Gary\""
            ],
            "text/latex": "'Gary'",
            "text/markdown": "'Gary'",
            "text/html": [
              "'Gary'"
            ]
          },
          "metadata": {}
        }
      ]
    },
    {
      "cell_type": "markdown",
      "metadata": {
        "id": "oBWiEbisrO4N"
      },
      "source": [
        "**Get the list of all the packages installed**"
      ]
    },
    {
      "cell_type": "code",
      "metadata": {
        "id": "Rj-GVuwprLyC"
      },
      "source": [
        "library()"
      ],
      "execution_count": null,
      "outputs": []
    },
    {
      "cell_type": "markdown",
      "metadata": {
        "id": "adyKtZJCrY1l"
      },
      "source": [
        "**Install a New Package**"
      ]
    },
    {
      "cell_type": "code",
      "metadata": {
        "colab": {
          "base_uri": "https://localhost:8080/"
        },
        "id": "nSZG3crnrZ1Z",
        "outputId": "af4a8bd8-bf0b-4564-971d-f4f7b162ec3d"
      },
      "source": [
        "#install.packages(\"Package Name\")\n",
        " \n",
        "# Install the package named \"XML\".\n",
        " install.packages(\"XML\")"
      ],
      "execution_count": null,
      "outputs": [
        {
          "output_type": "stream",
          "name": "stderr",
          "text": [
            "Installing package into ‘/usr/local/lib/R/site-library’\n",
            "(as ‘lib’ is unspecified)\n",
            "\n"
          ]
        }
      ]
    },
    {
      "cell_type": "markdown",
      "metadata": {
        "id": "9J59PGLKrmIz"
      },
      "source": [
        "**Load Package to Library**\n",
        "library(\"package Name\")"
      ]
    },
    {
      "cell_type": "code",
      "metadata": {
        "id": "AIozRS0arnST"
      },
      "source": [
        "library(\"XML\")"
      ],
      "execution_count": null,
      "outputs": []
    },
    {
      "cell_type": "markdown",
      "metadata": {
        "id": "Iufz1vADsTKa"
      },
      "source": [
        "**Joining Columns and Rows in a Data Frame**"
      ]
    },
    {
      "cell_type": "code",
      "metadata": {
        "colab": {
          "base_uri": "https://localhost:8080/"
        },
        "id": "QxxgkjZLsUwF",
        "outputId": "eef99cf8-5766-4301-b498-a0016062dd99"
      },
      "source": [
        "# Create vector objects.\n",
        "city <- c(\"Tampa\",\"Seattle\",\"Hartford\",\"Denver\")\n",
        "state <- c(\"FL\",\"WA\",\"CT\",\"CO\")\n",
        "zipcode <- c(33602,98104,06161,80294)\n",
        "\n",
        "# Combine above three vectors into one data frame.\n",
        "addresses <- cbind(city,state,zipcode)\n",
        "\n",
        "# Print a header.\n",
        "cat(\"# # # # The First data frame\\n\") \n",
        "\n",
        "# Print the data frame.\n",
        "print(addresses)\n",
        "\n",
        "#**Add Row**\n",
        "# Create another data frame with similar columns\n",
        "new.address <- data.frame(\n",
        "   city = c(\"Lowry\",\"Charlotte\"),\n",
        "   state = c(\"CO\",\"FL\"),\n",
        "   zipcode = c(\"80230\",\"33949\"),\n",
        "   stringsAsFactors = FALSE\n",
        ")\n",
        "\n",
        "# Print a header.\n",
        "cat(\"# # # The Second data frame\\n\") \n",
        "\n",
        "# Print the data frame.\n",
        "print(new.address)\n",
        "\n",
        "# Combine rows form both the data frames.\n",
        "all.addresses <- rbind(addresses,new.address)\n",
        "\n",
        "# Print a header.\n",
        "cat(\"# # # The combined data frame\\n\") \n",
        "\n",
        "# Print the result.\n",
        "print(all.addresses)"
      ],
      "execution_count": null,
      "outputs": [
        {
          "output_type": "stream",
          "text": [
            "# # # # The First data frame\n",
            "     city       state zipcode\n",
            "[1,] \"Tampa\"    \"FL\"  \"33602\"\n",
            "[2,] \"Seattle\"  \"WA\"  \"98104\"\n",
            "[3,] \"Hartford\" \"CT\"  \"6161\" \n",
            "[4,] \"Denver\"   \"CO\"  \"80294\"\n",
            "# # # The Second data frame\n",
            "       city state zipcode\n",
            "1     Lowry    CO   80230\n",
            "2 Charlotte    FL   33949\n",
            "# # # The combined data frame\n",
            "       city state zipcode\n",
            "1     Tampa    FL   33602\n",
            "2   Seattle    WA   98104\n",
            "3  Hartford    CT    6161\n",
            "4    Denver    CO   80294\n",
            "5     Lowry    CO   80230\n",
            "6 Charlotte    FL   33949\n"
          ],
          "name": "stdout"
        }
      ]
    },
    {
      "cell_type": "markdown",
      "metadata": {
        "id": "3OWZDr-Ysilj"
      },
      "source": [
        "**Merging Data Frames**"
      ]
    },
    {
      "cell_type": "markdown",
      "metadata": {
        "id": "_9w2gCQXs6rj"
      },
      "source": [
        "In the example below, we consider the data sets about Diabetes in Pima Indian Women available in the library names \"MASS\". we merge the two data sets based on the values of blood pressure(\"bp\") and body mass index(\"bmi\"). "
      ]
    },
    {
      "cell_type": "code",
      "metadata": {
        "colab": {
          "base_uri": "https://localhost:8080/",
          "height": 34
        },
        "id": "R69QbJcbwdqO",
        "outputId": "d1d09a1e-e0df-41d7-d02d-42e3ad895913"
      },
      "source": [
        "# loading a library with functions and datasets \n",
        "library(MASS)\n",
        "\n",
        "# loading a data set called Pima.tr\n",
        "data(Pima.tr)\n",
        "\n",
        "# dimensions of the data frame (number of rows / number of columns)\n",
        "dim(Pima.tr)"
      ],
      "execution_count": null,
      "outputs": [
        {
          "output_type": "display_data",
          "data": {
            "text/plain": [
              "[1] 200   8"
            ],
            "text/latex": "\\begin{enumerate*}\n\\item 200\n\\item 8\n\\end{enumerate*}\n",
            "text/markdown": "1. 200\n2. 8\n\n\n",
            "text/html": [
              "<style>\n",
              ".list-inline {list-style: none; margin:0; padding: 0}\n",
              ".list-inline>li {display: inline-block}\n",
              ".list-inline>li:not(:last-child)::after {content: \"\\00b7\"; padding: 0 .5ex}\n",
              "</style>\n",
              "<ol class=list-inline><li>200</li><li>8</li></ol>\n"
            ]
          },
          "metadata": {}
        }
      ]
    },
    {
      "cell_type": "code",
      "metadata": {
        "colab": {
          "base_uri": "https://localhost:8080/",
          "height": 101
        },
        "id": "oWuy99ztSGsy",
        "outputId": "729c11c9-9c89-4626-dafa-d070948ce008"
      },
      "source": [
        "Pima.tr$npreg"
      ],
      "execution_count": null,
      "outputs": [
        {
          "output_type": "display_data",
          "data": {
            "text/plain": [
              "  [1]  5  7  5  0  0  5  3  1  3  2  0  9  1 12  1  4  1 11  1  0  2  1  4  0  1\n",
              " [26]  9  1  0  5  2  1  3  0  3  2 13  1  1  0  0  8  1  4  1  0  2  5  2  3  1\n",
              " [51]  3  2  8  1  1  4  1  1  2  8  7  1 10  6  6  5  6  3  0  0  5  3  8  2  1\n",
              " [76]  1  2  2  3 12  2  4  6 10  2  2  1  7  2  1  1  4  7  1  1 12  4  2  2 10\n",
              "[101]  3  4  3  3  4  6  6  0  1  1  4  4  7  8  1  0  9  4  1  9  1  1 12  1  5\n",
              "[126]  2  2  1  1  7  3  7  6  2  3  0  4  0  1  0  1  0  2  1  3  6  2  0  3  8\n",
              "[151] 12  9  0  0  5  7  2  2  8  3  3  2  1  4  2  4  0  6  3  1  6  5  7  4  0\n",
              "[176]  7  1  7  9  2  2 12  0  8  9  0 14 14  0  1  0  5  1  2  1  2  7  0  1  8"
            ],
            "text/latex": "\\begin{enumerate*}\n\\item 5\n\\item 7\n\\item 5\n\\item 0\n\\item 0\n\\item 5\n\\item 3\n\\item 1\n\\item 3\n\\item 2\n\\item 0\n\\item 9\n\\item 1\n\\item 12\n\\item 1\n\\item 4\n\\item 1\n\\item 11\n\\item 1\n\\item 0\n\\item 2\n\\item 1\n\\item 4\n\\item 0\n\\item 1\n\\item 9\n\\item 1\n\\item 0\n\\item 5\n\\item 2\n\\item 1\n\\item 3\n\\item 0\n\\item 3\n\\item 2\n\\item 13\n\\item 1\n\\item 1\n\\item 0\n\\item 0\n\\item 8\n\\item 1\n\\item 4\n\\item 1\n\\item 0\n\\item 2\n\\item 5\n\\item 2\n\\item 3\n\\item 1\n\\item 3\n\\item 2\n\\item 8\n\\item 1\n\\item 1\n\\item 4\n\\item 1\n\\item 1\n\\item 2\n\\item 8\n\\item 7\n\\item 1\n\\item 10\n\\item 6\n\\item 6\n\\item 5\n\\item 6\n\\item 3\n\\item 0\n\\item 0\n\\item 5\n\\item 3\n\\item 8\n\\item 2\n\\item 1\n\\item 1\n\\item 2\n\\item 2\n\\item 3\n\\item 12\n\\item 2\n\\item 4\n\\item 6\n\\item 10\n\\item 2\n\\item 2\n\\item 1\n\\item 7\n\\item 2\n\\item 1\n\\item 1\n\\item 4\n\\item 7\n\\item 1\n\\item 1\n\\item 12\n\\item 4\n\\item 2\n\\item 2\n\\item 10\n\\item 3\n\\item 4\n\\item 3\n\\item 3\n\\item 4\n\\item 6\n\\item 6\n\\item 0\n\\item 1\n\\item 1\n\\item 4\n\\item 4\n\\item 7\n\\item 8\n\\item 1\n\\item 0\n\\item 9\n\\item 4\n\\item 1\n\\item 9\n\\item 1\n\\item 1\n\\item 12\n\\item 1\n\\item 5\n\\item 2\n\\item 2\n\\item 1\n\\item 1\n\\item 7\n\\item 3\n\\item 7\n\\item 6\n\\item 2\n\\item 3\n\\item 0\n\\item 4\n\\item 0\n\\item 1\n\\item 0\n\\item 1\n\\item 0\n\\item 2\n\\item 1\n\\item 3\n\\item 6\n\\item 2\n\\item 0\n\\item 3\n\\item 8\n\\item 12\n\\item 9\n\\item 0\n\\item 0\n\\item 5\n\\item 7\n\\item 2\n\\item 2\n\\item 8\n\\item 3\n\\item 3\n\\item 2\n\\item 1\n\\item 4\n\\item 2\n\\item 4\n\\item 0\n\\item 6\n\\item 3\n\\item 1\n\\item 6\n\\item 5\n\\item 7\n\\item 4\n\\item 0\n\\item 7\n\\item 1\n\\item 7\n\\item 9\n\\item 2\n\\item 2\n\\item 12\n\\item 0\n\\item 8\n\\item 9\n\\item 0\n\\item 14\n\\item 14\n\\item 0\n\\item 1\n\\item 0\n\\item 5\n\\item 1\n\\item 2\n\\item 1\n\\item 2\n\\item 7\n\\item 0\n\\item 1\n\\item 8\n\\end{enumerate*}\n",
            "text/markdown": "1. 5\n2. 7\n3. 5\n4. 0\n5. 0\n6. 5\n7. 3\n8. 1\n9. 3\n10. 2\n11. 0\n12. 9\n13. 1\n14. 12\n15. 1\n16. 4\n17. 1\n18. 11\n19. 1\n20. 0\n21. 2\n22. 1\n23. 4\n24. 0\n25. 1\n26. 9\n27. 1\n28. 0\n29. 5\n30. 2\n31. 1\n32. 3\n33. 0\n34. 3\n35. 2\n36. 13\n37. 1\n38. 1\n39. 0\n40. 0\n41. 8\n42. 1\n43. 4\n44. 1\n45. 0\n46. 2\n47. 5\n48. 2\n49. 3\n50. 1\n51. 3\n52. 2\n53. 8\n54. 1\n55. 1\n56. 4\n57. 1\n58. 1\n59. 2\n60. 8\n61. 7\n62. 1\n63. 10\n64. 6\n65. 6\n66. 5\n67. 6\n68. 3\n69. 0\n70. 0\n71. 5\n72. 3\n73. 8\n74. 2\n75. 1\n76. 1\n77. 2\n78. 2\n79. 3\n80. 12\n81. 2\n82. 4\n83. 6\n84. 10\n85. 2\n86. 2\n87. 1\n88. 7\n89. 2\n90. 1\n91. 1\n92. 4\n93. 7\n94. 1\n95. 1\n96. 12\n97. 4\n98. 2\n99. 2\n100. 10\n101. 3\n102. 4\n103. 3\n104. 3\n105. 4\n106. 6\n107. 6\n108. 0\n109. 1\n110. 1\n111. 4\n112. 4\n113. 7\n114. 8\n115. 1\n116. 0\n117. 9\n118. 4\n119. 1\n120. 9\n121. 1\n122. 1\n123. 12\n124. 1\n125. 5\n126. 2\n127. 2\n128. 1\n129. 1\n130. 7\n131. 3\n132. 7\n133. 6\n134. 2\n135. 3\n136. 0\n137. 4\n138. 0\n139. 1\n140. 0\n141. 1\n142. 0\n143. 2\n144. 1\n145. 3\n146. 6\n147. 2\n148. 0\n149. 3\n150. 8\n151. 12\n152. 9\n153. 0\n154. 0\n155. 5\n156. 7\n157. 2\n158. 2\n159. 8\n160. 3\n161. 3\n162. 2\n163. 1\n164. 4\n165. 2\n166. 4\n167. 0\n168. 6\n169. 3\n170. 1\n171. 6\n172. 5\n173. 7\n174. 4\n175. 0\n176. 7\n177. 1\n178. 7\n179. 9\n180. 2\n181. 2\n182. 12\n183. 0\n184. 8\n185. 9\n186. 0\n187. 14\n188. 14\n189. 0\n190. 1\n191. 0\n192. 5\n193. 1\n194. 2\n195. 1\n196. 2\n197. 7\n198. 0\n199. 1\n200. 8\n\n\n",
            "text/html": [
              "<style>\n",
              ".list-inline {list-style: none; margin:0; padding: 0}\n",
              ".list-inline>li {display: inline-block}\n",
              ".list-inline>li:not(:last-child)::after {content: \"\\00b7\"; padding: 0 .5ex}\n",
              "</style>\n",
              "<ol class=list-inline><li>5</li><li>7</li><li>5</li><li>0</li><li>0</li><li>5</li><li>3</li><li>1</li><li>3</li><li>2</li><li>0</li><li>9</li><li>1</li><li>12</li><li>1</li><li>4</li><li>1</li><li>11</li><li>1</li><li>0</li><li>2</li><li>1</li><li>4</li><li>0</li><li>1</li><li>9</li><li>1</li><li>0</li><li>5</li><li>2</li><li>1</li><li>3</li><li>0</li><li>3</li><li>2</li><li>13</li><li>1</li><li>1</li><li>0</li><li>0</li><li>8</li><li>1</li><li>4</li><li>1</li><li>0</li><li>2</li><li>5</li><li>2</li><li>3</li><li>1</li><li>3</li><li>2</li><li>8</li><li>1</li><li>1</li><li>4</li><li>1</li><li>1</li><li>2</li><li>8</li><li>7</li><li>1</li><li>10</li><li>6</li><li>6</li><li>5</li><li>6</li><li>3</li><li>0</li><li>0</li><li>5</li><li>3</li><li>8</li><li>2</li><li>1</li><li>1</li><li>2</li><li>2</li><li>3</li><li>12</li><li>2</li><li>4</li><li>6</li><li>10</li><li>2</li><li>2</li><li>1</li><li>7</li><li>2</li><li>1</li><li>1</li><li>4</li><li>7</li><li>1</li><li>1</li><li>12</li><li>4</li><li>2</li><li>2</li><li>10</li><li>3</li><li>4</li><li>3</li><li>3</li><li>4</li><li>6</li><li>6</li><li>0</li><li>1</li><li>1</li><li>4</li><li>4</li><li>7</li><li>8</li><li>1</li><li>0</li><li>9</li><li>4</li><li>1</li><li>9</li><li>1</li><li>1</li><li>12</li><li>1</li><li>5</li><li>2</li><li>2</li><li>1</li><li>1</li><li>7</li><li>3</li><li>7</li><li>6</li><li>2</li><li>3</li><li>0</li><li>4</li><li>0</li><li>1</li><li>0</li><li>1</li><li>0</li><li>2</li><li>1</li><li>3</li><li>6</li><li>2</li><li>0</li><li>3</li><li>8</li><li>12</li><li>9</li><li>0</li><li>0</li><li>5</li><li>7</li><li>2</li><li>2</li><li>8</li><li>3</li><li>3</li><li>2</li><li>1</li><li>4</li><li>2</li><li>4</li><li>0</li><li>6</li><li>3</li><li>1</li><li>6</li><li>5</li><li>7</li><li>4</li><li>0</li><li>7</li><li>1</li><li>7</li><li>9</li><li>2</li><li>2</li><li>12</li><li>0</li><li>8</li><li>9</li><li>0</li><li>14</li><li>14</li><li>0</li><li>1</li><li>0</li><li>5</li><li>1</li><li>2</li><li>1</li><li>2</li><li>7</li><li>0</li><li>1</li><li>8</li></ol>\n"
            ]
          },
          "metadata": {}
        }
      ]
    },
    {
      "cell_type": "code",
      "metadata": {
        "colab": {
          "base_uri": "https://localhost:8080/",
          "height": 118
        },
        "id": "2XJLUU1tSLLK",
        "outputId": "e9af4815-ab91-4246-e7f9-5c2543b535ea"
      },
      "source": [
        "Pima.tr$age"
      ],
      "execution_count": null,
      "outputs": [
        {
          "output_type": "display_data",
          "data": {
            "text/plain": [
              "  [1] 24 55 35 26 23 52 25 24 63 31 33 45 59 44 29 21 21 51 42 21 27 42 34 21 24\n",
              " [26] 32 21 24 33 27 23 22 33 24 29 57 22 22 27 22 58 22 31 21 25 31 28 28 24 22\n",
              " [51] 24 22 45 21 22 28 30 26 26 43 41 21 39 46 27 25 29 24 22 26 29 25 60 23 52\n",
              " [76] 46 23 26 23 62 21 37 49 41 26 25 32 31 21 21 22 38 54 23 28 58 27 23 21 51\n",
              "[101] 46 30 30 27 23 55 24 36 21 32 37 37 31 52 21 59 36 29 24 40 22 24 38 30 58\n",
              "[126] 28 21 23 41 41 32 60 41 25 34 26 28 21 21 31 33 35 27 24 30 27 22 21 26 42\n",
              "[151] 48 33 28 22 26 40 62 21 39 28 34 24 50 28 28 28 21 40 29 24 40 28 41 31 24\n",
              "[176] 37 23 39 41 30 22 41 22 43 40 21 46 38 22 45 23 34 24 26 23 24 43 22 23 46"
            ],
            "text/latex": "\\begin{enumerate*}\n\\item 24\n\\item 55\n\\item 35\n\\item 26\n\\item 23\n\\item 52\n\\item 25\n\\item 24\n\\item 63\n\\item 31\n\\item 33\n\\item 45\n\\item 59\n\\item 44\n\\item 29\n\\item 21\n\\item 21\n\\item 51\n\\item 42\n\\item 21\n\\item 27\n\\item 42\n\\item 34\n\\item 21\n\\item 24\n\\item 32\n\\item 21\n\\item 24\n\\item 33\n\\item 27\n\\item 23\n\\item 22\n\\item 33\n\\item 24\n\\item 29\n\\item 57\n\\item 22\n\\item 22\n\\item 27\n\\item 22\n\\item 58\n\\item 22\n\\item 31\n\\item 21\n\\item 25\n\\item 31\n\\item 28\n\\item 28\n\\item 24\n\\item 22\n\\item 24\n\\item 22\n\\item 45\n\\item 21\n\\item 22\n\\item 28\n\\item 30\n\\item 26\n\\item 26\n\\item 43\n\\item 41\n\\item 21\n\\item 39\n\\item 46\n\\item 27\n\\item 25\n\\item 29\n\\item 24\n\\item 22\n\\item 26\n\\item 29\n\\item 25\n\\item 60\n\\item 23\n\\item 52\n\\item 46\n\\item 23\n\\item 26\n\\item 23\n\\item 62\n\\item 21\n\\item 37\n\\item 49\n\\item 41\n\\item 26\n\\item 25\n\\item 32\n\\item 31\n\\item 21\n\\item 21\n\\item 22\n\\item 38\n\\item 54\n\\item 23\n\\item 28\n\\item 58\n\\item 27\n\\item 23\n\\item 21\n\\item 51\n\\item 46\n\\item 30\n\\item 30\n\\item 27\n\\item 23\n\\item 55\n\\item 24\n\\item 36\n\\item 21\n\\item 32\n\\item 37\n\\item 37\n\\item 31\n\\item 52\n\\item 21\n\\item 59\n\\item 36\n\\item 29\n\\item 24\n\\item 40\n\\item 22\n\\item 24\n\\item 38\n\\item 30\n\\item 58\n\\item 28\n\\item 21\n\\item 23\n\\item 41\n\\item 41\n\\item 32\n\\item 60\n\\item 41\n\\item 25\n\\item 34\n\\item 26\n\\item 28\n\\item 21\n\\item 21\n\\item 31\n\\item 33\n\\item 35\n\\item 27\n\\item 24\n\\item 30\n\\item 27\n\\item 22\n\\item 21\n\\item 26\n\\item 42\n\\item 48\n\\item 33\n\\item 28\n\\item 22\n\\item 26\n\\item 40\n\\item 62\n\\item 21\n\\item 39\n\\item 28\n\\item 34\n\\item 24\n\\item 50\n\\item 28\n\\item 28\n\\item 28\n\\item 21\n\\item 40\n\\item 29\n\\item 24\n\\item 40\n\\item 28\n\\item 41\n\\item 31\n\\item 24\n\\item 37\n\\item 23\n\\item 39\n\\item 41\n\\item 30\n\\item 22\n\\item 41\n\\item 22\n\\item 43\n\\item 40\n\\item 21\n\\item 46\n\\item 38\n\\item 22\n\\item 45\n\\item 23\n\\item 34\n\\item 24\n\\item 26\n\\item 23\n\\item 24\n\\item 43\n\\item 22\n\\item 23\n\\item 46\n\\end{enumerate*}\n",
            "text/markdown": "1. 24\n2. 55\n3. 35\n4. 26\n5. 23\n6. 52\n7. 25\n8. 24\n9. 63\n10. 31\n11. 33\n12. 45\n13. 59\n14. 44\n15. 29\n16. 21\n17. 21\n18. 51\n19. 42\n20. 21\n21. 27\n22. 42\n23. 34\n24. 21\n25. 24\n26. 32\n27. 21\n28. 24\n29. 33\n30. 27\n31. 23\n32. 22\n33. 33\n34. 24\n35. 29\n36. 57\n37. 22\n38. 22\n39. 27\n40. 22\n41. 58\n42. 22\n43. 31\n44. 21\n45. 25\n46. 31\n47. 28\n48. 28\n49. 24\n50. 22\n51. 24\n52. 22\n53. 45\n54. 21\n55. 22\n56. 28\n57. 30\n58. 26\n59. 26\n60. 43\n61. 41\n62. 21\n63. 39\n64. 46\n65. 27\n66. 25\n67. 29\n68. 24\n69. 22\n70. 26\n71. 29\n72. 25\n73. 60\n74. 23\n75. 52\n76. 46\n77. 23\n78. 26\n79. 23\n80. 62\n81. 21\n82. 37\n83. 49\n84. 41\n85. 26\n86. 25\n87. 32\n88. 31\n89. 21\n90. 21\n91. 22\n92. 38\n93. 54\n94. 23\n95. 28\n96. 58\n97. 27\n98. 23\n99. 21\n100. 51\n101. 46\n102. 30\n103. 30\n104. 27\n105. 23\n106. 55\n107. 24\n108. 36\n109. 21\n110. 32\n111. 37\n112. 37\n113. 31\n114. 52\n115. 21\n116. 59\n117. 36\n118. 29\n119. 24\n120. 40\n121. 22\n122. 24\n123. 38\n124. 30\n125. 58\n126. 28\n127. 21\n128. 23\n129. 41\n130. 41\n131. 32\n132. 60\n133. 41\n134. 25\n135. 34\n136. 26\n137. 28\n138. 21\n139. 21\n140. 31\n141. 33\n142. 35\n143. 27\n144. 24\n145. 30\n146. 27\n147. 22\n148. 21\n149. 26\n150. 42\n151. 48\n152. 33\n153. 28\n154. 22\n155. 26\n156. 40\n157. 62\n158. 21\n159. 39\n160. 28\n161. 34\n162. 24\n163. 50\n164. 28\n165. 28\n166. 28\n167. 21\n168. 40\n169. 29\n170. 24\n171. 40\n172. 28\n173. 41\n174. 31\n175. 24\n176. 37\n177. 23\n178. 39\n179. 41\n180. 30\n181. 22\n182. 41\n183. 22\n184. 43\n185. 40\n186. 21\n187. 46\n188. 38\n189. 22\n190. 45\n191. 23\n192. 34\n193. 24\n194. 26\n195. 23\n196. 24\n197. 43\n198. 22\n199. 23\n200. 46\n\n\n",
            "text/html": [
              "<style>\n",
              ".list-inline {list-style: none; margin:0; padding: 0}\n",
              ".list-inline>li {display: inline-block}\n",
              ".list-inline>li:not(:last-child)::after {content: \"\\00b7\"; padding: 0 .5ex}\n",
              "</style>\n",
              "<ol class=list-inline><li>24</li><li>55</li><li>35</li><li>26</li><li>23</li><li>52</li><li>25</li><li>24</li><li>63</li><li>31</li><li>33</li><li>45</li><li>59</li><li>44</li><li>29</li><li>21</li><li>21</li><li>51</li><li>42</li><li>21</li><li>27</li><li>42</li><li>34</li><li>21</li><li>24</li><li>32</li><li>21</li><li>24</li><li>33</li><li>27</li><li>23</li><li>22</li><li>33</li><li>24</li><li>29</li><li>57</li><li>22</li><li>22</li><li>27</li><li>22</li><li>58</li><li>22</li><li>31</li><li>21</li><li>25</li><li>31</li><li>28</li><li>28</li><li>24</li><li>22</li><li>24</li><li>22</li><li>45</li><li>21</li><li>22</li><li>28</li><li>30</li><li>26</li><li>26</li><li>43</li><li>41</li><li>21</li><li>39</li><li>46</li><li>27</li><li>25</li><li>29</li><li>24</li><li>22</li><li>26</li><li>29</li><li>25</li><li>60</li><li>23</li><li>52</li><li>46</li><li>23</li><li>26</li><li>23</li><li>62</li><li>21</li><li>37</li><li>49</li><li>41</li><li>26</li><li>25</li><li>32</li><li>31</li><li>21</li><li>21</li><li>22</li><li>38</li><li>54</li><li>23</li><li>28</li><li>58</li><li>27</li><li>23</li><li>21</li><li>51</li><li>46</li><li>30</li><li>30</li><li>27</li><li>23</li><li>55</li><li>24</li><li>36</li><li>21</li><li>32</li><li>37</li><li>37</li><li>31</li><li>52</li><li>21</li><li>59</li><li>36</li><li>29</li><li>24</li><li>40</li><li>22</li><li>24</li><li>38</li><li>30</li><li>58</li><li>28</li><li>21</li><li>23</li><li>41</li><li>41</li><li>32</li><li>60</li><li>41</li><li>25</li><li>34</li><li>26</li><li>28</li><li>21</li><li>21</li><li>31</li><li>33</li><li>35</li><li>27</li><li>24</li><li>30</li><li>27</li><li>22</li><li>21</li><li>26</li><li>42</li><li>48</li><li>33</li><li>28</li><li>22</li><li>26</li><li>40</li><li>62</li><li>21</li><li>39</li><li>28</li><li>34</li><li>24</li><li>50</li><li>28</li><li>28</li><li>28</li><li>21</li><li>40</li><li>29</li><li>24</li><li>40</li><li>28</li><li>41</li><li>31</li><li>24</li><li>37</li><li>23</li><li>39</li><li>41</li><li>30</li><li>22</li><li>41</li><li>22</li><li>43</li><li>40</li><li>21</li><li>46</li><li>38</li><li>22</li><li>45</li><li>23</li><li>34</li><li>24</li><li>26</li><li>23</li><li>24</li><li>43</li><li>22</li><li>23</li><li>46</li></ol>\n"
            ]
          },
          "metadata": {}
        }
      ]
    },
    {
      "cell_type": "markdown",
      "metadata": {
        "id": "ymv03srRQCoe"
      },
      "source": [
        "# **Monday**\n",
        "\n",
        "# 18-10-2021"
      ]
    },
    {
      "cell_type": "markdown",
      "metadata": {
        "id": "hpGx7tw_tg1d"
      },
      "source": [
        "**Exploratory Data Analysis Types**\n",
        "\n",
        "Univariate   ==> Analyzing only a single parameter \n",
        "\n",
        "Bivariate  ==> Two parameters\n",
        "\n",
        "Multivariate  ==> Multiple columns "
      ]
    },
    {
      "cell_type": "code",
      "metadata": {
        "colab": {
          "base_uri": "https://localhost:8080/",
          "height": 437
        },
        "id": "va7KMWDDSWA6",
        "outputId": "dafc1fce-45d3-4b34-c87d-2d79f0195ad8"
      },
      "source": [
        "# Get the input values.\n",
        "input <- Pima.tr[,c('npreg','age')]\n",
        "\n",
        "# Plot the chart for Pima \n",
        "plot(x = input$age, y = input$npreg,\n",
        "   xlab = \"Age\",\n",
        "   ylab = \"Number of Pregnancy\",\n",
        "   xlim = c(10,60),\n",
        "   ylim = c(0,30),\t\t \n",
        "   main = \"Age vs Number of Pregnancy\"\n",
        ")"
      ],
      "execution_count": null,
      "outputs": [
        {
          "output_type": "display_data",
          "data": {
            "image/png": "[encoded data removed]",
            "text/plain": [
              "Plot with title “Age vs Number of Pregnancy”"
            ]
          },
          "metadata": {
            "image/png": {
              "width": 420,
              "height": 420
            }
          }
        }
      ]
    },
    {
      "cell_type": "code",
      "metadata": {
        "colab": {
          "base_uri": "https://localhost:8080/",
          "height": 34
        },
        "id": "0EVqhZ_5P19D",
        "outputId": "c2b56c0a-d9d0-46b7-ce0e-06ad2b7cc9db"
      },
      "source": [
        "# Get the input values.\n",
        "input <- Pima.tr[,c('npreg','age')]\n",
        "\n",
        "# Give the chart file a name.\n",
        "png(file = \"scatter.png\")\n",
        "\n",
        "# Plot the chart for Pima \n",
        "plot(x = input$age, y = input$npreg,\n",
        "   xlab = \"Age\",\n",
        "   ylab = \"Number of Pregnancy\",\n",
        "   xlim = c(10,60),\n",
        "   ylim = c(0,30),\t\t \n",
        "   main = \"Age vs Number of Pregnancy\"\n",
        ")\n",
        "\n",
        "# Save the file.\n",
        "dev.off()"
      ],
      "execution_count": null,
      "outputs": [
        {
          "output_type": "display_data",
          "data": {
            "text/plain": [
              "png \n",
              "  2 "
            ],
            "text/latex": "\\textbf{png:} 2",
            "text/markdown": "**png:** 2",
            "text/html": [
              "<strong>png:</strong> 2"
            ]
          },
          "metadata": {}
        }
      ]
    },
    {
      "cell_type": "code",
      "metadata": {
        "colab": {
          "base_uri": "https://localhost:8080/",
          "height": 383
        },
        "id": "64FCZQhvT3m4",
        "outputId": "7a9a5561-da03-4b94-c846-1c5e3009b493"
      },
      "source": [
        "#Load car dataset\n",
        "install.packages(\"car\")\n",
        "library(\"car\")"
      ],
      "execution_count": null,
      "outputs": [
        {
          "output_type": "stream",
          "name": "stderr",
          "text": [
            "Installing package into ‘/usr/local/lib/R/site-library’\n",
            "(as ‘lib’ is unspecified)\n",
            "\n",
            "also installing the dependencies ‘matrixStats’, ‘RcppArmadillo’, ‘numDeriv’, ‘SparseM’, ‘MatrixModels’, ‘conquer’, ‘sp’, ‘openxlsx’, ‘minqa’, ‘nloptr’, ‘RcppEigen’, ‘carData’, ‘abind’, ‘pbkrtest’, ‘quantreg’, ‘maptools’, ‘rio’, ‘lme4’\n",
            "\n",
            "\n",
            "Warning message in install.packages(\"car\"):\n",
            "“installation of package ‘nloptr’ had non-zero exit status”\n",
            "Warning message in install.packages(\"car\"):\n",
            "“installation of package ‘lme4’ had non-zero exit status”\n",
            "Warning message in install.packages(\"car\"):\n",
            "“installation of package ‘pbkrtest’ had non-zero exit status”\n",
            "Warning message in install.packages(\"car\"):\n",
            "“installation of package ‘car’ had non-zero exit status”\n"
          ]
        },
        {
          "output_type": "error",
          "ename": "ERROR",
          "evalue": "ignored",
          "traceback": [
            "Error in library(\"car\"): there is no package called ‘car’\nTraceback:\n",
            "1. library(\"car\")"
          ]
        }
      ]
    },
    {
      "cell_type": "code",
      "metadata": {
        "id": "2XW1NK7R-O_m"
      },
      "source": [
        "head(mtcars)"
      ],
      "execution_count": null,
      "outputs": []
    },
    {
      "cell_type": "code",
      "metadata": {
        "colab": {
          "base_uri": "https://localhost:8080/",
          "height": 437
        },
        "id": "kvMlgtAT9764",
        "outputId": "3f5e17c7-15a5-4c05-f5b1-7a56c733c291"
      },
      "source": [
        "x <- mtcars$wt\n",
        "y <- mtcars$mpg\n",
        "# Plot with main and axis titles\n",
        "# Change point shape (pch = 19) and remove frame.\n",
        "plot(x, y, main = \"Main title\",\n",
        "     xlab = \"X axis title\", ylab = \"Y axis title\",\n",
        "     pch = 19, frame = FALSE)\n",
        "# Add regression line\n",
        "plot(x, y, main = \"Main title\",\n",
        "     xlab = \"X axis title\", ylab = \"Y axis title\",\n",
        "     pch = 19, frame = FALSE)\n",
        "abline(lm(y ~ x, data = mtcars), col = \"red\")"
      ],
      "execution_count": null,
      "outputs": [
        {
          "output_type": "display_data",
          "data": {
            "image/png": "[encoded data removed]",
            "text/plain": [
              "Plot with title “Main title”"
            ]
          },
          "metadata": {
            "image/png": {
              "width": 420,
              "height": 420
            }
          }
        }
      ]
    },
    {
      "cell_type": "code",
      "metadata": {
        "colab": {
          "base_uri": "https://localhost:8080/",
          "height": 437
        },
        "id": "YkjX4mcq-j8D",
        "outputId": "a87f7ba4-e727-48b8-ca8d-5488ed41b8c9"
      },
      "source": [
        "# Add loess fit\n",
        "plot(x, y, main = \"Main title\",\n",
        "     xlab = \"X axis title\", ylab = \"Y axis title\",\n",
        "     pch = 19, frame = FALSE)\n",
        "lines(lowess(x, y), col = \"blue\")"
      ],
      "execution_count": null,
      "outputs": [
        {
          "output_type": "display_data",
          "data": {
            "image/png": "[encoded data removed]",
            "text/plain": [
              "Plot with title “Main title”"
            ]
          },
          "metadata": {
            "image/png": {
              "width": 420,
              "height": 420
            }
          }
        }
      ]
    },
    {
      "cell_type": "code",
      "metadata": {
        "colab": {
          "base_uri": "https://localhost:8080/",
          "height": 437
        },
        "id": "HF3JJVfb-u9M",
        "outputId": "d970741a-7c0b-46d3-947e-9ef64091d884"
      },
      "source": [
        "scatterplot(wt ~ mpg, data = mtcars)"
      ],
      "execution_count": null,
      "outputs": [
        {
          "output_type": "display_data",
          "data": {
            "image/png": "[encoded data removed]",
            "text/plain": [
              "plot without title"
            ]
          },
          "metadata": {
            "image/png": {
              "width": 420,
              "height": 420
            }
          }
        }
      ]
    },
    {
      "cell_type": "markdown",
      "metadata": {
        "id": "6uVRuhr--7FS"
      },
      "source": [
        "# 3D Scatter Plot"
      ]
    },
    {
      "cell_type": "code",
      "metadata": {
        "colab": {
          "base_uri": "https://localhost:8080/",
          "height": 282
        },
        "id": "0rTuEJqe-yZR",
        "outputId": "b1a110d0-9731-444e-80fa-c5faae43239e"
      },
      "source": [
        "head(iris)"
      ],
      "execution_count": null,
      "outputs": [
        {
          "output_type": "display_data",
          "data": {
            "text/plain": [
              "  Sepal.Length Sepal.Width Petal.Length Petal.Width Species\n",
              "1 5.1          3.5         1.4          0.2         setosa \n",
              "2 4.9          3.0         1.4          0.2         setosa \n",
              "3 4.7          3.2         1.3          0.2         setosa \n",
              "4 4.6          3.1         1.5          0.2         setosa \n",
              "5 5.0          3.6         1.4          0.2         setosa \n",
              "6 5.4          3.9         1.7          0.4         setosa "
            ],
            "text/latex": "A data.frame: 6 × 5\n\\begin{tabular}{r|lllll}\n  & Sepal.Length & Sepal.Width & Petal.Length & Petal.Width & Species\\\\\n  & <dbl> & <dbl> & <dbl> & <dbl> & <fct>\\\\\n\\hline\n\t1 & 5.1 & 3.5 & 1.4 & 0.2 & setosa\\\\\n\t2 & 4.9 & 3.0 & 1.4 & 0.2 & setosa\\\\\n\t3 & 4.7 & 3.2 & 1.3 & 0.2 & setosa\\\\\n\t4 & 4.6 & 3.1 & 1.5 & 0.2 & setosa\\\\\n\t5 & 5.0 & 3.6 & 1.4 & 0.2 & setosa\\\\\n\t6 & 5.4 & 3.9 & 1.7 & 0.4 & setosa\\\\\n\\end{tabular}\n",
            "text/markdown": "\nA data.frame: 6 × 5\n\n| <!--/--> | Sepal.Length &lt;dbl&gt; | Sepal.Width &lt;dbl&gt; | Petal.Length &lt;dbl&gt; | Petal.Width &lt;dbl&gt; | Species &lt;fct&gt; |\n|---|---|---|---|---|---|\n| 1 | 5.1 | 3.5 | 1.4 | 0.2 | setosa |\n| 2 | 4.9 | 3.0 | 1.4 | 0.2 | setosa |\n| 3 | 4.7 | 3.2 | 1.3 | 0.2 | setosa |\n| 4 | 4.6 | 3.1 | 1.5 | 0.2 | setosa |\n| 5 | 5.0 | 3.6 | 1.4 | 0.2 | setosa |\n| 6 | 5.4 | 3.9 | 1.7 | 0.4 | setosa |\n\n",
            "text/html": [
              "<table class=\"dataframe\">\n",
              "<caption>A data.frame: 6 × 5</caption>\n",
              "<thead>\n",
              "\t<tr><th></th><th scope=col>Sepal.Length</th><th scope=col>Sepal.Width</th><th scope=col>Petal.Length</th><th scope=col>Petal.Width</th><th scope=col>Species</th></tr>\n",
              "\t<tr><th></th><th scope=col>&lt;dbl&gt;</th><th scope=col>&lt;dbl&gt;</th><th scope=col>&lt;dbl&gt;</th><th scope=col>&lt;dbl&gt;</th><th scope=col>&lt;fct&gt;</th></tr>\n",
              "</thead>\n",
              "<tbody>\n",
              "\t<tr><th scope=row>1</th><td>5.1</td><td>3.5</td><td>1.4</td><td>0.2</td><td>setosa</td></tr>\n",
              "\t<tr><th scope=row>2</th><td>4.9</td><td>3.0</td><td>1.4</td><td>0.2</td><td>setosa</td></tr>\n",
              "\t<tr><th scope=row>3</th><td>4.7</td><td>3.2</td><td>1.3</td><td>0.2</td><td>setosa</td></tr>\n",
              "\t<tr><th scope=row>4</th><td>4.6</td><td>3.1</td><td>1.5</td><td>0.2</td><td>setosa</td></tr>\n",
              "\t<tr><th scope=row>5</th><td>5.0</td><td>3.6</td><td>1.4</td><td>0.2</td><td>setosa</td></tr>\n",
              "\t<tr><th scope=row>6</th><td>5.4</td><td>3.9</td><td>1.7</td><td>0.4</td><td>setosa</td></tr>\n",
              "</tbody>\n",
              "</table>\n"
            ]
          },
          "metadata": {}
        }
      ]
    },
    {
      "cell_type": "code",
      "metadata": {
        "colab": {
          "base_uri": "https://localhost:8080/"
        },
        "id": "C6gNOdGy_HS0",
        "outputId": "182c2f02-2fac-4383-8054-57b05a5a5203"
      },
      "source": [
        "install.packages(\"scatterplot3d\")\n",
        "library(\"scatterplot3d\")"
      ],
      "execution_count": null,
      "outputs": [
        {
          "output_type": "stream",
          "name": "stderr",
          "text": [
            "Installing package into ‘/usr/local/lib/R/site-library’\n",
            "(as ‘lib’ is unspecified)\n",
            "\n"
          ]
        }
      ]
    },
    {
      "cell_type": "code",
      "metadata": {
        "colab": {
          "base_uri": "https://localhost:8080/",
          "height": 437
        },
        "id": "V0QWuAOO--nF",
        "outputId": "e1f3b3f4-4539-42f9-a5e4-ab9a25101442"
      },
      "source": [
        "# Prepare the data set\n",
        "x <- iris$Sepal.Length\n",
        "y <- iris$Sepal.Width\n",
        "z <- iris$Petal.Length\n",
        "grps <- as.factor(iris$Species)\n",
        "# Plot\n",
        "scatterplot3d(x, y, z, pch = 16)"
      ],
      "execution_count": null,
      "outputs": [
        {
          "output_type": "display_data",
          "data": {
            "image/png": "[encoded data removed]",
            "text/plain": [
              "plot without title"
            ]
          },
          "metadata": {
            "image/png": {
              "width": 420,
              "height": 420
            }
          }
        }
      ]
    },
    {
      "cell_type": "code",
      "metadata": {
        "colab": {
          "base_uri": "https://localhost:8080/",
          "height": 437
        },
        "id": "RcF-UEfb_GFr",
        "outputId": "2d54a4c0-c5bd-4c43-cbee-e45eed512e24"
      },
      "source": [
        "# Change color by groups\n",
        "# add grids and remove the box around the plot\n",
        "# Change axis labels: xlab, ylab and zlab\n",
        "colors <- c(\"#999999\", \"#E69F00\", \"#56B4E9\")\n",
        "scatterplot3d(x, y, z, pch = 16, color = colors[grps],\n",
        "              grid = TRUE, box = FALSE, xlab = \"Sepal length\", \n",
        "              ylab = \"Sepal width\", zlab = \"Petal length\")"
      ],
      "execution_count": null,
      "outputs": [
        {
          "output_type": "display_data",
          "data": {
            "image/png": "[encoded data removed]",
            "text/plain": [
              "plot without title"
            ]
          },
          "metadata": {
            "image/png": {
              "width": 420,
              "height": 420
            }
          }
        }
      ]
    },
    {
      "cell_type": "code",
      "metadata": {
        "colab": {
          "base_uri": "https://localhost:8080/",
          "height": 34
        },
        "id": "83V_lStwwju0",
        "outputId": "fcae9d34-46f3-4f9f-8be0-516bb6ab3c36"
      },
      "source": [
        "# loading a data set called Pima.tr\n",
        "data(Pima.te)\n",
        "\n",
        "# dimensions of the data frame (number of rows / number of columns)\n",
        "dim(Pima.te)"
      ],
      "execution_count": null,
      "outputs": [
        {
          "output_type": "display_data",
          "data": {
            "text/plain": [
              "[1] 332   8"
            ],
            "text/latex": "\\begin{enumerate*}\n\\item 332\n\\item 8\n\\end{enumerate*}\n",
            "text/markdown": "1. 332\n2. 8\n\n\n",
            "text/html": [
              "<style>\n",
              ".list-inline {list-style: none; margin:0; padding: 0}\n",
              ".list-inline>li {display: inline-block}\n",
              ".list-inline>li:not(:last-child)::after {content: \"\\00b7\"; padding: 0 .5ex}\n",
              "</style>\n",
              "<ol class=list-inline><li>332</li><li>8</li></ol>\n"
            ]
          },
          "metadata": {}
        }
      ]
    },
    {
      "cell_type": "code",
      "metadata": {
        "colab": {
          "base_uri": "https://localhost:8080/",
          "height": 221
        },
        "id": "Zi5dZhcStFw-",
        "outputId": "c7e73eca-13e1-47f2-8c84-6e2bccbdf964"
      },
      "source": [
        "head(Pima.te, 4)"
      ],
      "execution_count": null,
      "outputs": [
        {
          "output_type": "display_data",
          "data": {
            "text/plain": [
              "  npreg glu bp skin bmi  ped   age type\n",
              "1 6     148 72 35   33.6 0.627 50  Yes \n",
              "2 1      85 66 29   26.6 0.351 31  No  \n",
              "3 1      89 66 23   28.1 0.167 21  No  \n",
              "4 3      78 50 32   31.0 0.248 26  Yes "
            ],
            "text/latex": "A data.frame: 4 × 8\n\\begin{tabular}{r|llllllll}\n  & npreg & glu & bp & skin & bmi & ped & age & type\\\\\n  & <int> & <int> & <int> & <int> & <dbl> & <dbl> & <int> & <fct>\\\\\n\\hline\n\t1 & 6 & 148 & 72 & 35 & 33.6 & 0.627 & 50 & Yes\\\\\n\t2 & 1 &  85 & 66 & 29 & 26.6 & 0.351 & 31 & No \\\\\n\t3 & 1 &  89 & 66 & 23 & 28.1 & 0.167 & 21 & No \\\\\n\t4 & 3 &  78 & 50 & 32 & 31.0 & 0.248 & 26 & Yes\\\\\n\\end{tabular}\n",
            "text/markdown": "\nA data.frame: 4 × 8\n\n| <!--/--> | npreg &lt;int&gt; | glu &lt;int&gt; | bp &lt;int&gt; | skin &lt;int&gt; | bmi &lt;dbl&gt; | ped &lt;dbl&gt; | age &lt;int&gt; | type &lt;fct&gt; |\n|---|---|---|---|---|---|---|---|---|\n| 1 | 6 | 148 | 72 | 35 | 33.6 | 0.627 | 50 | Yes |\n| 2 | 1 |  85 | 66 | 29 | 26.6 | 0.351 | 31 | No  |\n| 3 | 1 |  89 | 66 | 23 | 28.1 | 0.167 | 21 | No  |\n| 4 | 3 |  78 | 50 | 32 | 31.0 | 0.248 | 26 | Yes |\n\n",
            "text/html": [
              "<table class=\"dataframe\">\n",
              "<caption>A data.frame: 4 × 8</caption>\n",
              "<thead>\n",
              "\t<tr><th></th><th scope=col>npreg</th><th scope=col>glu</th><th scope=col>bp</th><th scope=col>skin</th><th scope=col>bmi</th><th scope=col>ped</th><th scope=col>age</th><th scope=col>type</th></tr>\n",
              "\t<tr><th></th><th scope=col>&lt;int&gt;</th><th scope=col>&lt;int&gt;</th><th scope=col>&lt;int&gt;</th><th scope=col>&lt;int&gt;</th><th scope=col>&lt;dbl&gt;</th><th scope=col>&lt;dbl&gt;</th><th scope=col>&lt;int&gt;</th><th scope=col>&lt;fct&gt;</th></tr>\n",
              "</thead>\n",
              "<tbody>\n",
              "\t<tr><th scope=row>1</th><td>6</td><td>148</td><td>72</td><td>35</td><td>33.6</td><td>0.627</td><td>50</td><td>Yes</td></tr>\n",
              "\t<tr><th scope=row>2</th><td>1</td><td> 85</td><td>66</td><td>29</td><td>26.6</td><td>0.351</td><td>31</td><td>No </td></tr>\n",
              "\t<tr><th scope=row>3</th><td>1</td><td> 89</td><td>66</td><td>23</td><td>28.1</td><td>0.167</td><td>21</td><td>No </td></tr>\n",
              "\t<tr><th scope=row>4</th><td>3</td><td> 78</td><td>50</td><td>32</td><td>31.0</td><td>0.248</td><td>26</td><td>Yes</td></tr>\n",
              "</tbody>\n",
              "</table>\n"
            ]
          },
          "metadata": {}
        }
      ]
    },
    {
      "cell_type": "code",
      "metadata": {
        "colab": {
          "base_uri": "https://localhost:8080/",
          "height": 221
        },
        "id": "E1c9NMacv-ID",
        "outputId": "333ca11a-cf7a-4354-9b31-35c91bb4d74c"
      },
      "source": [
        "head(Pima.tr, 4)"
      ],
      "execution_count": null,
      "outputs": [
        {
          "output_type": "display_data",
          "data": {
            "text/plain": [
              "  npreg glu bp skin bmi  ped   age type\n",
              "1 5      86 68 28   30.2 0.364 24  No  \n",
              "2 7     195 70 33   25.1 0.163 55  Yes \n",
              "3 5      77 82 41   35.8 0.156 35  No  \n",
              "4 0     165 76 43   47.9 0.259 26  No  "
            ],
            "text/latex": "A data.frame: 4 × 8\n\\begin{tabular}{r|llllllll}\n  & npreg & glu & bp & skin & bmi & ped & age & type\\\\\n  & <int> & <int> & <int> & <int> & <dbl> & <dbl> & <int> & <fct>\\\\\n\\hline\n\t1 & 5 &  86 & 68 & 28 & 30.2 & 0.364 & 24 & No \\\\\n\t2 & 7 & 195 & 70 & 33 & 25.1 & 0.163 & 55 & Yes\\\\\n\t3 & 5 &  77 & 82 & 41 & 35.8 & 0.156 & 35 & No \\\\\n\t4 & 0 & 165 & 76 & 43 & 47.9 & 0.259 & 26 & No \\\\\n\\end{tabular}\n",
            "text/markdown": "\nA data.frame: 4 × 8\n\n| <!--/--> | npreg &lt;int&gt; | glu &lt;int&gt; | bp &lt;int&gt; | skin &lt;int&gt; | bmi &lt;dbl&gt; | ped &lt;dbl&gt; | age &lt;int&gt; | type &lt;fct&gt; |\n|---|---|---|---|---|---|---|---|---|\n| 1 | 5 |  86 | 68 | 28 | 30.2 | 0.364 | 24 | No  |\n| 2 | 7 | 195 | 70 | 33 | 25.1 | 0.163 | 55 | Yes |\n| 3 | 5 |  77 | 82 | 41 | 35.8 | 0.156 | 35 | No  |\n| 4 | 0 | 165 | 76 | 43 | 47.9 | 0.259 | 26 | No  |\n\n",
            "text/html": [
              "<table class=\"dataframe\">\n",
              "<caption>A data.frame: 4 × 8</caption>\n",
              "<thead>\n",
              "\t<tr><th></th><th scope=col>npreg</th><th scope=col>glu</th><th scope=col>bp</th><th scope=col>skin</th><th scope=col>bmi</th><th scope=col>ped</th><th scope=col>age</th><th scope=col>type</th></tr>\n",
              "\t<tr><th></th><th scope=col>&lt;int&gt;</th><th scope=col>&lt;int&gt;</th><th scope=col>&lt;int&gt;</th><th scope=col>&lt;int&gt;</th><th scope=col>&lt;dbl&gt;</th><th scope=col>&lt;dbl&gt;</th><th scope=col>&lt;int&gt;</th><th scope=col>&lt;fct&gt;</th></tr>\n",
              "</thead>\n",
              "<tbody>\n",
              "\t<tr><th scope=row>1</th><td>5</td><td> 86</td><td>68</td><td>28</td><td>30.2</td><td>0.364</td><td>24</td><td>No </td></tr>\n",
              "\t<tr><th scope=row>2</th><td>7</td><td>195</td><td>70</td><td>33</td><td>25.1</td><td>0.163</td><td>55</td><td>Yes</td></tr>\n",
              "\t<tr><th scope=row>3</th><td>5</td><td> 77</td><td>82</td><td>41</td><td>35.8</td><td>0.156</td><td>35</td><td>No </td></tr>\n",
              "\t<tr><th scope=row>4</th><td>0</td><td>165</td><td>76</td><td>43</td><td>47.9</td><td>0.259</td><td>26</td><td>No </td></tr>\n",
              "</tbody>\n",
              "</table>\n"
            ]
          },
          "metadata": {}
        }
      ]
    },
    {
      "cell_type": "code",
      "metadata": {
        "colab": {
          "base_uri": "https://localhost:8080/",
          "height": 646
        },
        "id": "hD2jS7Ngsj40",
        "outputId": "c8a125c3-8cb5-488c-fdf6-3e3f7f301225"
      },
      "source": [
        "library(MASS)\n",
        "merged.Pima <- merge(x = Pima.te, y = Pima.tr,\n",
        "   by.x = c(\"bp\", \"bmi\"),\n",
        "   by.y = c(\"bp\", \"bmi\")\n",
        ")\n",
        "print(merged.Pima)\n",
        "nrow(merged.Pima)"
      ],
      "execution_count": null,
      "outputs": [
        {
          "output_type": "stream",
          "name": "stdout",
          "text": [
            "   bp  bmi npreg.x glu.x skin.x ped.x age.x type.x npreg.y glu.y skin.y ped.y\n",
            "1  60 33.8       1   117     23 0.466    27     No       2   125     20 0.088\n",
            "2  64 29.7       2    75     24 0.370    33     No       2   100     23 0.368\n",
            "3  64 31.2       5   189     33 0.583    29    Yes       3   158     13 0.295\n",
            "4  64 33.2       4   117     27 0.230    24     No       1    96     27 0.289\n",
            "5  66 38.1       3   115     39 0.150    28     No       1   114     36 0.289\n",
            "6  68 38.5       2   100     25 0.324    26     No       7   129     49 0.439\n",
            "7  70 27.4       1   116     28 0.204    21     No       0   124     20 0.254\n",
            "8  70 33.1       4    91     32 0.446    22     No       9   123     44 0.374\n",
            "9  70 35.4       9   124     33 0.282    34     No       6   134     23 0.542\n",
            "10 72 25.6       1   157     21 0.123    24     No       4    99     17 0.294\n",
            "11 72 37.7       5    95     33 0.370    27     No       6   103     32 0.324\n",
            "12 74 25.9       9   134     33 0.460    81     No       8   126     38 0.162\n",
            "13 74 25.9       1    95     21 0.673    36     No       8   126     38 0.162\n",
            "14 78 27.6       5    88     30 0.258    37     No       6   125     31 0.565\n",
            "15 78 27.6      10   122     31 0.512    45     No       6   125     31 0.565\n",
            "16 78 39.4       2   112     50 0.175    24     No       4   112     40 0.236\n",
            "17 88 34.5       1   117     24 0.403    40    Yes       4   127     11 0.598\n",
            "   age.y type.y\n",
            "1     31     No\n",
            "2     21     No\n",
            "3     24     No\n",
            "4     21     No\n",
            "5     21     No\n",
            "6     43    Yes\n",
            "7     36    Yes\n",
            "8     40     No\n",
            "9     29    Yes\n",
            "10    28     No\n",
            "11    55     No\n",
            "12    39     No\n",
            "13    39     No\n",
            "14    49    Yes\n",
            "15    49    Yes\n",
            "16    38     No\n",
            "17    28     No\n"
          ]
        },
        {
          "output_type": "display_data",
          "data": {
            "text/plain": [
              "[1] 17"
            ],
            "text/latex": "17",
            "text/markdown": "17",
            "text/html": [
              "17"
            ]
          },
          "metadata": {}
        }
      ]
    },
    {
      "cell_type": "code",
      "metadata": {
        "colab": {
          "base_uri": "https://localhost:8080/",
          "height": 34
        },
        "id": "1jFCCYiQw3uC",
        "outputId": "b1486a53-5ffe-44b4-d0b4-891d7aaf8a96"
      },
      "source": [
        "dim(merged.Pima)"
      ],
      "execution_count": null,
      "outputs": [
        {
          "output_type": "display_data",
          "data": {
            "text/plain": [
              "[1] 17 14"
            ],
            "text/latex": "\\begin{enumerate*}\n\\item 17\n\\item 14\n\\end{enumerate*}\n",
            "text/markdown": "1. 17\n2. 14\n\n\n",
            "text/html": [
              "<style>\n",
              ".list-inline {list-style: none; margin:0; padding: 0}\n",
              ".list-inline>li {display: inline-block}\n",
              ".list-inline>li:not(:last-child)::after {content: \"\\00b7\"; padding: 0 .5ex}\n",
              "</style>\n",
              "<ol class=list-inline><li>17</li><li>14</li></ol>\n"
            ]
          },
          "metadata": {
            "tags": []
          }
        }
      ]
    },
    {
      "cell_type": "markdown",
      "metadata": {
        "id": "eIKgJ_wuydvS"
      },
      "source": [
        "**Uploading a csv file into COLab**"
      ]
    },
    {
      "cell_type": "code",
      "metadata": {
        "id": "alW3hUzfikjV",
        "colab": {
          "base_uri": "https://localhost:8080/"
        },
        "outputId": "f413ed80-d21d-4ee4-afd9-5d94ee1e92c9"
      },
      "source": [
        "data <-read.csv(\"/student.csv\")\n",
        "#/student.csv\n",
        "#/student.csv\n",
        "print(data)\n"
      ],
      "execution_count": null,
      "outputs": [
        {
          "output_type": "stream",
          "name": "stdout",
          "text": [
            "   name m1 m2 m3  m4 m5\n",
            "1     a 94 77 49  85 52\n",
            "2     b 85 23 94  12 47\n",
            "3     c 71 55 54  57 50\n",
            "4     d 28 83 26  10 59\n",
            "5     e 40 34 52  33 68\n",
            "6     a 17 98 11  63 71\n",
            "7     b 40 67 62  97 22\n",
            "8     c 49 33 77  63 98\n",
            "9     d 38 76 44  33 37\n",
            "10    e 97 70 66 100 96\n",
            "11    a 29 33 25  89 80\n",
            "12    b 36 74 46  29 11\n",
            "13    c 36 79 98  13 52\n",
            "14    d 22 46 73  88 17\n",
            "15    e 92 25 48  26 44\n",
            "16    a 47 25 37  19 67\n",
            "17    b 24 68 78  35 89\n",
            "18    c 25 30 30  41 51\n",
            "19    d 38 39 75  33 67\n"
          ]
        }
      ]
    },
    {
      "cell_type": "code",
      "metadata": {
        "colab": {
          "base_uri": "https://localhost:8080/",
          "height": 221
        },
        "id": "U12VTUrYy0Aj",
        "outputId": "4855a4be-1752-4c6c-b203-10b0afbab207"
      },
      "source": [
        "head(data,4)"
      ],
      "execution_count": null,
      "outputs": [
        {
          "output_type": "display_data",
          "data": {
            "text/plain": [
              "  name m1 m2 m3 m4 m5\n",
              "1 a    94 77 49 85 52\n",
              "2 b    85 23 94 12 47\n",
              "3 c    71 55 54 57 50\n",
              "4 d    28 83 26 10 59"
            ],
            "text/latex": "A data.frame: 4 × 6\n\\begin{tabular}{r|llllll}\n  & name & m1 & m2 & m3 & m4 & m5\\\\\n  & <chr> & <int> & <int> & <int> & <int> & <int>\\\\\n\\hline\n\t1 & a & 94 & 77 & 49 & 85 & 52\\\\\n\t2 & b & 85 & 23 & 94 & 12 & 47\\\\\n\t3 & c & 71 & 55 & 54 & 57 & 50\\\\\n\t4 & d & 28 & 83 & 26 & 10 & 59\\\\\n\\end{tabular}\n",
            "text/markdown": "\nA data.frame: 4 × 6\n\n| <!--/--> | name &lt;chr&gt; | m1 &lt;int&gt; | m2 &lt;int&gt; | m3 &lt;int&gt; | m4 &lt;int&gt; | m5 &lt;int&gt; |\n|---|---|---|---|---|---|---|\n| 1 | a | 94 | 77 | 49 | 85 | 52 |\n| 2 | b | 85 | 23 | 94 | 12 | 47 |\n| 3 | c | 71 | 55 | 54 | 57 | 50 |\n| 4 | d | 28 | 83 | 26 | 10 | 59 |\n\n",
            "text/html": [
              "<table class=\"dataframe\">\n",
              "<caption>A data.frame: 4 × 6</caption>\n",
              "<thead>\n",
              "\t<tr><th></th><th scope=col>name</th><th scope=col>m1</th><th scope=col>m2</th><th scope=col>m3</th><th scope=col>m4</th><th scope=col>m5</th></tr>\n",
              "\t<tr><th></th><th scope=col>&lt;chr&gt;</th><th scope=col>&lt;int&gt;</th><th scope=col>&lt;int&gt;</th><th scope=col>&lt;int&gt;</th><th scope=col>&lt;int&gt;</th><th scope=col>&lt;int&gt;</th></tr>\n",
              "</thead>\n",
              "<tbody>\n",
              "\t<tr><th scope=row>1</th><td>a</td><td>94</td><td>77</td><td>49</td><td>85</td><td>52</td></tr>\n",
              "\t<tr><th scope=row>2</th><td>b</td><td>85</td><td>23</td><td>94</td><td>12</td><td>47</td></tr>\n",
              "\t<tr><th scope=row>3</th><td>c</td><td>71</td><td>55</td><td>54</td><td>57</td><td>50</td></tr>\n",
              "\t<tr><th scope=row>4</th><td>d</td><td>28</td><td>83</td><td>26</td><td>10</td><td>59</td></tr>\n",
              "</tbody>\n",
              "</table>\n"
            ]
          },
          "metadata": {}
        }
      ]
    },
    {
      "cell_type": "code",
      "metadata": {
        "colab": {
          "base_uri": "https://localhost:8080/",
          "height": 221
        },
        "id": "JOSa0c9Ey23-",
        "outputId": "b501c7a5-ff92-42bc-b70d-fee7223c980c"
      },
      "source": [
        "tail(data,4)"
      ],
      "execution_count": null,
      "outputs": [
        {
          "output_type": "display_data",
          "data": {
            "text/plain": [
              "   name m1 m2 m3 m4 m5\n",
              "16 a    47 25 37 19 67\n",
              "17 b    24 68 78 35 89\n",
              "18 c    25 30 30 41 51\n",
              "19 d    38 39 75 33 67"
            ],
            "text/latex": "A data.frame: 4 × 6\n\\begin{tabular}{r|llllll}\n  & name & m1 & m2 & m3 & m4 & m5\\\\\n  & <chr> & <int> & <int> & <int> & <int> & <int>\\\\\n\\hline\n\t16 & a & 47 & 25 & 37 & 19 & 67\\\\\n\t17 & b & 24 & 68 & 78 & 35 & 89\\\\\n\t18 & c & 25 & 30 & 30 & 41 & 51\\\\\n\t19 & d & 38 & 39 & 75 & 33 & 67\\\\\n\\end{tabular}\n",
            "text/markdown": "\nA data.frame: 4 × 6\n\n| <!--/--> | name &lt;chr&gt; | m1 &lt;int&gt; | m2 &lt;int&gt; | m3 &lt;int&gt; | m4 &lt;int&gt; | m5 &lt;int&gt; |\n|---|---|---|---|---|---|---|\n| 16 | a | 47 | 25 | 37 | 19 | 67 |\n| 17 | b | 24 | 68 | 78 | 35 | 89 |\n| 18 | c | 25 | 30 | 30 | 41 | 51 |\n| 19 | d | 38 | 39 | 75 | 33 | 67 |\n\n",
            "text/html": [
              "<table class=\"dataframe\">\n",
              "<caption>A data.frame: 4 × 6</caption>\n",
              "<thead>\n",
              "\t<tr><th></th><th scope=col>name</th><th scope=col>m1</th><th scope=col>m2</th><th scope=col>m3</th><th scope=col>m4</th><th scope=col>m5</th></tr>\n",
              "\t<tr><th></th><th scope=col>&lt;chr&gt;</th><th scope=col>&lt;int&gt;</th><th scope=col>&lt;int&gt;</th><th scope=col>&lt;int&gt;</th><th scope=col>&lt;int&gt;</th><th scope=col>&lt;int&gt;</th></tr>\n",
              "</thead>\n",
              "<tbody>\n",
              "\t<tr><th scope=row>16</th><td>a</td><td>47</td><td>25</td><td>37</td><td>19</td><td>67</td></tr>\n",
              "\t<tr><th scope=row>17</th><td>b</td><td>24</td><td>68</td><td>78</td><td>35</td><td>89</td></tr>\n",
              "\t<tr><th scope=row>18</th><td>c</td><td>25</td><td>30</td><td>30</td><td>41</td><td>51</td></tr>\n",
              "\t<tr><th scope=row>19</th><td>d</td><td>38</td><td>39</td><td>75</td><td>33</td><td>67</td></tr>\n",
              "</tbody>\n",
              "</table>\n"
            ]
          },
          "metadata": {}
        }
      ]
    },
    {
      "cell_type": "code",
      "metadata": {
        "colab": {
          "base_uri": "https://localhost:8080/"
        },
        "id": "zUqJVtT7fzdj",
        "outputId": "e7aa3eeb-eba0-4af0-cb7e-be6aa974df1f"
      },
      "source": [
        "data$total = data$m1 + data$m2 + data$m3 + data$m4 + data$m5\n",
        "print(data$total)"
      ],
      "execution_count": null,
      "outputs": [
        {
          "output_type": "stream",
          "name": "stdout",
          "text": [
            " [1] 357 261 287 206 227 260 288 320 228 429 256 196 278 246 235 195 294 177 252\n"
          ]
        }
      ]
    },
    {
      "cell_type": "code",
      "metadata": {
        "colab": {
          "base_uri": "https://localhost:8080/",
          "height": 34
        },
        "id": "LBi-JkX2gKbB",
        "outputId": "4d7a4ec1-52da-47c2-9d43-e2fa976d893c"
      },
      "source": [
        "data$average = data$total/5\n",
        "data$average"
      ],
      "execution_count": null,
      "outputs": [
        {
          "output_type": "display_data",
          "data": {
            "text/plain": [
              " [1] 71.4 52.2 57.4 41.2 45.4 52.0 57.6 64.0 45.6 85.8 51.2 39.2 55.6 49.2 47.0\n",
              "[16] 39.0 58.8 35.4 50.4"
            ],
            "text/latex": "\\begin{enumerate*}\n\\item 71.4\n\\item 52.2\n\\item 57.4\n\\item 41.2\n\\item 45.4\n\\item 52\n\\item 57.6\n\\item 64\n\\item 45.6\n\\item 85.8\n\\item 51.2\n\\item 39.2\n\\item 55.6\n\\item 49.2\n\\item 47\n\\item 39\n\\item 58.8\n\\item 35.4\n\\item 50.4\n\\end{enumerate*}\n",
            "text/markdown": "1. 71.4\n2. 52.2\n3. 57.4\n4. 41.2\n5. 45.4\n6. 52\n7. 57.6\n8. 64\n9. 45.6\n10. 85.8\n11. 51.2\n12. 39.2\n13. 55.6\n14. 49.2\n15. 47\n16. 39\n17. 58.8\n18. 35.4\n19. 50.4\n\n\n",
            "text/html": [
              "<style>\n",
              ".list-inline {list-style: none; margin:0; padding: 0}\n",
              ".list-inline>li {display: inline-block}\n",
              ".list-inline>li:not(:last-child)::after {content: \"\\00b7\"; padding: 0 .5ex}\n",
              "</style>\n",
              "<ol class=list-inline><li>71.4</li><li>52.2</li><li>57.4</li><li>41.2</li><li>45.4</li><li>52</li><li>57.6</li><li>64</li><li>45.6</li><li>85.8</li><li>51.2</li><li>39.2</li><li>55.6</li><li>49.2</li><li>47</li><li>39</li><li>58.8</li><li>35.4</li><li>50.4</li></ol>\n"
            ]
          },
          "metadata": {}
        }
      ]
    },
    {
      "cell_type": "code",
      "metadata": {
        "id": "dGlffeOngifh"
      },
      "source": [
        "write.csv(data,\"/marksheet.csv\")"
      ],
      "execution_count": null,
      "outputs": []
    },
    {
      "cell_type": "code",
      "metadata": {
        "colab": {
          "base_uri": "https://localhost:8080/"
        },
        "id": "vrZgkp6OgrDE",
        "outputId": "a7340f10-2134-417d-f7c0-30b3278f0a3e"
      },
      "source": [
        "mark <-read.csv(\"/marksheet.csv\")\n",
        "#/marksheet.csv\n",
        "\n",
        "print(mark )"
      ],
      "execution_count": null,
      "outputs": [
        {
          "output_type": "stream",
          "name": "stdout",
          "text": [
            "    X name m1 m2 m3  m4 m5 total average\n",
            "1   1    a 94 77 49  85 52   357    71.4\n",
            "2   2    b 85 23 94  12 47   261    52.2\n",
            "3   3    c 71 55 54  57 50   287    57.4\n",
            "4   4    d 28 83 26  10 59   206    41.2\n",
            "5   5    e 40 34 52  33 68   227    45.4\n",
            "6   6    a 17 98 11  63 71   260    52.0\n",
            "7   7    b 40 67 62  97 22   288    57.6\n",
            "8   8    c 49 33 77  63 98   320    64.0\n",
            "9   9    d 38 76 44  33 37   228    45.6\n",
            "10 10    e 97 70 66 100 96   429    85.8\n",
            "11 11    a 29 33 25  89 80   256    51.2\n",
            "12 12    b 36 74 46  29 11   196    39.2\n",
            "13 13    c 36 79 98  13 52   278    55.6\n",
            "14 14    d 22 46 73  88 17   246    49.2\n",
            "15 15    e 92 25 48  26 44   235    47.0\n",
            "16 16    a 47 25 37  19 67   195    39.0\n",
            "17 17    b 24 68 78  35 89   294    58.8\n",
            "18 18    c 25 30 30  41 51   177    35.4\n",
            "19 19    d 38 39 75  33 67   252    50.4\n"
          ]
        }
      ]
    },
    {
      "cell_type": "code",
      "metadata": {
        "colab": {
          "base_uri": "https://localhost:8080/",
          "height": 437
        },
        "id": "_a9-Hrx0h6Z0",
        "outputId": "aee98bdf-1187-4547-f4d8-55f6c45cdabd"
      },
      "source": [
        "hist(data$average,\n",
        "  xlab = \"average\",\n",
        "  main = \"Histogram of AVERAGE\",\n",
        "  breaks = 5\n",
        ") # set number of bins"
      ],
      "execution_count": null,
      "outputs": [
        {
          "output_type": "display_data",
          "data": {
            "image/png": "[encoded data removed]",
            "text/plain": [
              "Plot with title “Histogram of AVERAGE”"
            ]
          },
          "metadata": {
            "image/png": {
              "width": 420,
              "height": 420
            }
          }
        }
      ]
    },
    {
      "cell_type": "code",
      "metadata": {
        "colab": {
          "base_uri": "https://localhost:8080/",
          "height": 437
        },
        "id": "cOvUw5VAiIN7",
        "outputId": "a2990ff4-5091-40e2-da58-195cf8240c14"
      },
      "source": [
        "library(ggplot2)\n",
        "\n",
        "ggplot(data) +\n",
        "  aes(x = average) +\n",
        "  geom_histogram(bins = 5L, fill = \"#0c4c9a\") +\n",
        "  theme_minimal()"
      ],
      "execution_count": null,
      "outputs": [
        {
          "output_type": "display_data",
          "data": {
            "image/png": "[encoded data removed]",
            "text/plain": [
              "plot without title"
            ]
          },
          "metadata": {
            "image/png": {
              "width": 420,
              "height": 420
            }
          }
        }
      ]
    },
    {
      "cell_type": "code",
      "metadata": {
        "colab": {
          "base_uri": "https://localhost:8080/",
          "height": 437
        },
        "id": "gduwPt-9iWwb",
        "outputId": "630908fa-4570-48a6-9d85-0262e8ec1011"
      },
      "source": [
        "boxplot(data$average,\n",
        "  ylab = \"average\"\n",
        ")"
      ],
      "execution_count": null,
      "outputs": [
        {
          "output_type": "display_data",
          "data": {
            "image/png": "[encoded data removed]",
            "text/plain": [
              "plot without title"
            ]
          },
          "metadata": {
            "image/png": {
              "width": 420,
              "height": 420
            }
          }
        }
      ]
    },
    {
      "cell_type": "code",
      "metadata": {
        "colab": {
          "base_uri": "https://localhost:8080/",
          "height": 437
        },
        "id": "pbuoDlHBidSR",
        "outputId": "8ea7fb7c-3fd3-477f-a766-0868994eaefb"
      },
      "source": [
        "ggplot(data) +\n",
        "  aes(x = \"\", y = average) +\n",
        "  geom_boxplot(fill = \"#0c4c8a\") +\n",
        "  theme_minimal()"
      ],
      "execution_count": null,
      "outputs": [
        {
          "output_type": "display_data",
          "data": {
            "image/png": "[encoded data removed]",
            "text/plain": [
              "plot without title"
            ]
          },
          "metadata": {
            "image/png": {
              "width": 420,
              "height": 420
            }
          }
        }
      ]
    },
    {
      "cell_type": "code",
      "metadata": {
        "colab": {
          "base_uri": "https://localhost:8080/"
        },
        "id": "KnqXtJ9iiin0",
        "outputId": "a1665e7d-803f-4975-f661-4df7b0e5058b"
      },
      "source": [
        "print(boxplot.stats(data$average)$out)"
      ],
      "execution_count": null,
      "outputs": [
        {
          "output_type": "stream",
          "name": "stdout",
          "text": [
            "[1] 85.8\n"
          ]
        }
      ]
    },
    {
      "cell_type": "code",
      "metadata": {
        "colab": {
          "base_uri": "https://localhost:8080/"
        },
        "id": "Fges2aHLjByu",
        "outputId": "057f9cc3-fc9e-4e3f-ac6d-2026c2c6dc30"
      },
      "source": [
        "print(boxplot.stats(data$average))"
      ],
      "execution_count": null,
      "outputs": [
        {
          "output_type": "stream",
          "name": "stdout",
          "text": [
            "$stats\n",
            "[1] 35.4 45.5 51.2 57.5 71.4\n",
            "\n",
            "$n\n",
            "[1] 19\n",
            "\n",
            "$conf\n",
            "[1] 46.85028 55.54972\n",
            "\n",
            "$out\n",
            "[1] 85.8\n",
            "\n"
          ]
        }
      ]
    },
    {
      "cell_type": "code",
      "metadata": {
        "id": "tchSH7u4ita1"
      },
      "source": [
        "data$average[5]=1000"
      ],
      "execution_count": null,
      "outputs": []
    },
    {
      "cell_type": "code",
      "metadata": {
        "colab": {
          "base_uri": "https://localhost:8080/",
          "height": 686
        },
        "id": "nG9JcyrujRbL",
        "outputId": "bd2d0229-9c83-4ef2-cb76-3d06c0223710"
      },
      "source": [
        "data"
      ],
      "execution_count": null,
      "outputs": [
        {
          "output_type": "display_data",
          "data": {
            "text/plain": [
              "   name m1 m2 m3 m4  m5 total average\n",
              "1  a    94 77 49  85 52 357     71.4 \n",
              "2  b    85 23 94  12 47 261     52.2 \n",
              "3  c    71 55 54  57 50 287     57.4 \n",
              "4  d    28 83 26  10 59 206     41.2 \n",
              "5  e    40 34 52  33 68 227   1000.0 \n",
              "6  a    17 98 11  63 71 260     52.0 \n",
              "7  b    40 67 62  97 22 288     57.6 \n",
              "8  c    49 33 77  63 98 320     64.0 \n",
              "9  d    38 76 44  33 37 228     45.6 \n",
              "10 e    97 70 66 100 96 429     85.8 \n",
              "11 a    29 33 25  89 80 256     51.2 \n",
              "12 b    36 74 46  29 11 196     39.2 \n",
              "13 c    36 79 98  13 52 278     55.6 \n",
              "14 d    22 46 73  88 17 246     49.2 \n",
              "15 e    92 25 48  26 44 235     47.0 \n",
              "16 a    47 25 37  19 67 195     39.0 \n",
              "17 b    24 68 78  35 89 294     58.8 \n",
              "18 c    25 30 30  41 51 177     35.4 \n",
              "19 d    38 39 75  33 67 252     50.4 "
            ],
            "text/latex": "A data.frame: 19 × 8\n\\begin{tabular}{llllllll}\n name & m1 & m2 & m3 & m4 & m5 & total & average\\\\\n <chr> & <int> & <int> & <int> & <int> & <int> & <int> & <dbl>\\\\\n\\hline\n\t a & 94 & 77 & 49 &  85 & 52 & 357 &   71.4\\\\\n\t b & 85 & 23 & 94 &  12 & 47 & 261 &   52.2\\\\\n\t c & 71 & 55 & 54 &  57 & 50 & 287 &   57.4\\\\\n\t d & 28 & 83 & 26 &  10 & 59 & 206 &   41.2\\\\\n\t e & 40 & 34 & 52 &  33 & 68 & 227 & 1000.0\\\\\n\t a & 17 & 98 & 11 &  63 & 71 & 260 &   52.0\\\\\n\t b & 40 & 67 & 62 &  97 & 22 & 288 &   57.6\\\\\n\t c & 49 & 33 & 77 &  63 & 98 & 320 &   64.0\\\\\n\t d & 38 & 76 & 44 &  33 & 37 & 228 &   45.6\\\\\n\t e & 97 & 70 & 66 & 100 & 96 & 429 &   85.8\\\\\n\t a & 29 & 33 & 25 &  89 & 80 & 256 &   51.2\\\\\n\t b & 36 & 74 & 46 &  29 & 11 & 196 &   39.2\\\\\n\t c & 36 & 79 & 98 &  13 & 52 & 278 &   55.6\\\\\n\t d & 22 & 46 & 73 &  88 & 17 & 246 &   49.2\\\\\n\t e & 92 & 25 & 48 &  26 & 44 & 235 &   47.0\\\\\n\t a & 47 & 25 & 37 &  19 & 67 & 195 &   39.0\\\\\n\t b & 24 & 68 & 78 &  35 & 89 & 294 &   58.8\\\\\n\t c & 25 & 30 & 30 &  41 & 51 & 177 &   35.4\\\\\n\t d & 38 & 39 & 75 &  33 & 67 & 252 &   50.4\\\\\n\\end{tabular}\n",
            "text/markdown": "\nA data.frame: 19 × 8\n\n| name &lt;chr&gt; | m1 &lt;int&gt; | m2 &lt;int&gt; | m3 &lt;int&gt; | m4 &lt;int&gt; | m5 &lt;int&gt; | total &lt;int&gt; | average &lt;dbl&gt; |\n|---|---|---|---|---|---|---|---|\n| a | 94 | 77 | 49 |  85 | 52 | 357 |   71.4 |\n| b | 85 | 23 | 94 |  12 | 47 | 261 |   52.2 |\n| c | 71 | 55 | 54 |  57 | 50 | 287 |   57.4 |\n| d | 28 | 83 | 26 |  10 | 59 | 206 |   41.2 |\n| e | 40 | 34 | 52 |  33 | 68 | 227 | 1000.0 |\n| a | 17 | 98 | 11 |  63 | 71 | 260 |   52.0 |\n| b | 40 | 67 | 62 |  97 | 22 | 288 |   57.6 |\n| c | 49 | 33 | 77 |  63 | 98 | 320 |   64.0 |\n| d | 38 | 76 | 44 |  33 | 37 | 228 |   45.6 |\n| e | 97 | 70 | 66 | 100 | 96 | 429 |   85.8 |\n| a | 29 | 33 | 25 |  89 | 80 | 256 |   51.2 |\n| b | 36 | 74 | 46 |  29 | 11 | 196 |   39.2 |\n| c | 36 | 79 | 98 |  13 | 52 | 278 |   55.6 |\n| d | 22 | 46 | 73 |  88 | 17 | 246 |   49.2 |\n| e | 92 | 25 | 48 |  26 | 44 | 235 |   47.0 |\n| a | 47 | 25 | 37 |  19 | 67 | 195 |   39.0 |\n| b | 24 | 68 | 78 |  35 | 89 | 294 |   58.8 |\n| c | 25 | 30 | 30 |  41 | 51 | 177 |   35.4 |\n| d | 38 | 39 | 75 |  33 | 67 | 252 |   50.4 |\n\n",
            "text/html": [
              "<table class=\"dataframe\">\n",
              "<caption>A data.frame: 19 × 8</caption>\n",
              "<thead>\n",
              "\t<tr><th scope=col>name</th><th scope=col>m1</th><th scope=col>m2</th><th scope=col>m3</th><th scope=col>m4</th><th scope=col>m5</th><th scope=col>total</th><th scope=col>average</th></tr>\n",
              "\t<tr><th scope=col>&lt;chr&gt;</th><th scope=col>&lt;int&gt;</th><th scope=col>&lt;int&gt;</th><th scope=col>&lt;int&gt;</th><th scope=col>&lt;int&gt;</th><th scope=col>&lt;int&gt;</th><th scope=col>&lt;int&gt;</th><th scope=col>&lt;dbl&gt;</th></tr>\n",
              "</thead>\n",
              "<tbody>\n",
              "\t<tr><td>a</td><td>94</td><td>77</td><td>49</td><td> 85</td><td>52</td><td>357</td><td>  71.4</td></tr>\n",
              "\t<tr><td>b</td><td>85</td><td>23</td><td>94</td><td> 12</td><td>47</td><td>261</td><td>  52.2</td></tr>\n",
              "\t<tr><td>c</td><td>71</td><td>55</td><td>54</td><td> 57</td><td>50</td><td>287</td><td>  57.4</td></tr>\n",
              "\t<tr><td>d</td><td>28</td><td>83</td><td>26</td><td> 10</td><td>59</td><td>206</td><td>  41.2</td></tr>\n",
              "\t<tr><td>e</td><td>40</td><td>34</td><td>52</td><td> 33</td><td>68</td><td>227</td><td>1000.0</td></tr>\n",
              "\t<tr><td>a</td><td>17</td><td>98</td><td>11</td><td> 63</td><td>71</td><td>260</td><td>  52.0</td></tr>\n",
              "\t<tr><td>b</td><td>40</td><td>67</td><td>62</td><td> 97</td><td>22</td><td>288</td><td>  57.6</td></tr>\n",
              "\t<tr><td>c</td><td>49</td><td>33</td><td>77</td><td> 63</td><td>98</td><td>320</td><td>  64.0</td></tr>\n",
              "\t<tr><td>d</td><td>38</td><td>76</td><td>44</td><td> 33</td><td>37</td><td>228</td><td>  45.6</td></tr>\n",
              "\t<tr><td>e</td><td>97</td><td>70</td><td>66</td><td>100</td><td>96</td><td>429</td><td>  85.8</td></tr>\n",
              "\t<tr><td>a</td><td>29</td><td>33</td><td>25</td><td> 89</td><td>80</td><td>256</td><td>  51.2</td></tr>\n",
              "\t<tr><td>b</td><td>36</td><td>74</td><td>46</td><td> 29</td><td>11</td><td>196</td><td>  39.2</td></tr>\n",
              "\t<tr><td>c</td><td>36</td><td>79</td><td>98</td><td> 13</td><td>52</td><td>278</td><td>  55.6</td></tr>\n",
              "\t<tr><td>d</td><td>22</td><td>46</td><td>73</td><td> 88</td><td>17</td><td>246</td><td>  49.2</td></tr>\n",
              "\t<tr><td>e</td><td>92</td><td>25</td><td>48</td><td> 26</td><td>44</td><td>235</td><td>  47.0</td></tr>\n",
              "\t<tr><td>a</td><td>47</td><td>25</td><td>37</td><td> 19</td><td>67</td><td>195</td><td>  39.0</td></tr>\n",
              "\t<tr><td>b</td><td>24</td><td>68</td><td>78</td><td> 35</td><td>89</td><td>294</td><td>  58.8</td></tr>\n",
              "\t<tr><td>c</td><td>25</td><td>30</td><td>30</td><td> 41</td><td>51</td><td>177</td><td>  35.4</td></tr>\n",
              "\t<tr><td>d</td><td>38</td><td>39</td><td>75</td><td> 33</td><td>67</td><td>252</td><td>  50.4</td></tr>\n",
              "</tbody>\n",
              "</table>\n"
            ]
          },
          "metadata": {}
        }
      ]
    },
    {
      "cell_type": "code",
      "metadata": {
        "colab": {
          "base_uri": "https://localhost:8080/"
        },
        "id": "h0cKM7RFjTiD",
        "outputId": "693aec57-d89c-4632-aabb-448c1f63de33"
      },
      "source": [
        "print(boxplot.stats(data$average)$out)"
      ],
      "execution_count": null,
      "outputs": [
        {
          "output_type": "stream",
          "name": "stdout",
          "text": [
            "[1] 1000.0   85.8\n"
          ]
        }
      ]
    },
    {
      "cell_type": "code",
      "metadata": {
        "colab": {
          "base_uri": "https://localhost:8080/"
        },
        "id": "IFcd8eTijWlw",
        "outputId": "4e439b15-afb5-43e7-bac4-9eb6151917fa"
      },
      "source": [
        "out <- boxplot.stats(data$average)$out\n",
        "out_ind <- which(data$average %in% c(out))\n",
        "print(out_ind)"
      ],
      "execution_count": null,
      "outputs": [
        {
          "output_type": "stream",
          "name": "stdout",
          "text": [
            "[1]  5 10\n"
          ]
        }
      ]
    },
    {
      "cell_type": "code",
      "metadata": {
        "colab": {
          "base_uri": "https://localhost:8080/",
          "height": 159
        },
        "id": "9oHgeRDAjmzg",
        "outputId": "7ea80706-84e8-4e5a-839f-00d6d4ac5771"
      },
      "source": [
        "data[out_ind, ]"
      ],
      "execution_count": null,
      "outputs": [
        {
          "output_type": "display_data",
          "data": {
            "text/plain": [
              "   name m1 m2 m3 m4  m5 total average\n",
              "5  e    40 34 52  33 68 227   1000.0 \n",
              "10 e    97 70 66 100 96 429     85.8 "
            ],
            "text/latex": "A data.frame: 2 × 8\n\\begin{tabular}{r|llllllll}\n  & name & m1 & m2 & m3 & m4 & m5 & total & average\\\\\n  & <chr> & <int> & <int> & <int> & <int> & <int> & <int> & <dbl>\\\\\n\\hline\n\t5 & e & 40 & 34 & 52 &  33 & 68 & 227 & 1000.0\\\\\n\t10 & e & 97 & 70 & 66 & 100 & 96 & 429 &   85.8\\\\\n\\end{tabular}\n",
            "text/markdown": "\nA data.frame: 2 × 8\n\n| <!--/--> | name &lt;chr&gt; | m1 &lt;int&gt; | m2 &lt;int&gt; | m3 &lt;int&gt; | m4 &lt;int&gt; | m5 &lt;int&gt; | total &lt;int&gt; | average &lt;dbl&gt; |\n|---|---|---|---|---|---|---|---|---|\n| 5 | e | 40 | 34 | 52 |  33 | 68 | 227 | 1000.0 |\n| 10 | e | 97 | 70 | 66 | 100 | 96 | 429 |   85.8 |\n\n",
            "text/html": [
              "<table class=\"dataframe\">\n",
              "<caption>A data.frame: 2 × 8</caption>\n",
              "<thead>\n",
              "\t<tr><th></th><th scope=col>name</th><th scope=col>m1</th><th scope=col>m2</th><th scope=col>m3</th><th scope=col>m4</th><th scope=col>m5</th><th scope=col>total</th><th scope=col>average</th></tr>\n",
              "\t<tr><th></th><th scope=col>&lt;chr&gt;</th><th scope=col>&lt;int&gt;</th><th scope=col>&lt;int&gt;</th><th scope=col>&lt;int&gt;</th><th scope=col>&lt;int&gt;</th><th scope=col>&lt;int&gt;</th><th scope=col>&lt;int&gt;</th><th scope=col>&lt;dbl&gt;</th></tr>\n",
              "</thead>\n",
              "<tbody>\n",
              "\t<tr><th scope=row>5</th><td>e</td><td>40</td><td>34</td><td>52</td><td> 33</td><td>68</td><td>227</td><td>1000.0</td></tr>\n",
              "\t<tr><th scope=row>10</th><td>e</td><td>97</td><td>70</td><td>66</td><td>100</td><td>96</td><td>429</td><td>  85.8</td></tr>\n",
              "</tbody>\n",
              "</table>\n"
            ]
          },
          "metadata": {}
        }
      ]
    },
    {
      "cell_type": "code",
      "metadata": {
        "colab": {
          "base_uri": "https://localhost:8080/"
        },
        "id": "465cO-e3jpOb",
        "outputId": "3f1f0b35-cc36-446e-b11c-380818b8cfcc"
      },
      "source": [
        "boxplot(data$average,\n",
        "  ylab = \"average\",\n",
        "  main = \"Boxplot of highway miles per gallon\"\n",
        ")\n",
        "mtext(paste(\"Outliers: \", paste(out, collapse = \", \")))"
      ],
      "execution_count": null,
      "outputs": [
        {
          "output_type": "display_data",
          "data": {
            "image/png": "[encoded data removed]",
            "text/plain": [
              "Plot with title “Boxplot of highway miles per gallon”"
            ]
          },
          "metadata": {
            "image/png": {
              "width": 420,
              "height": 420
            }
          }
        }
      ]
    },
    {
      "cell_type": "markdown",
      "metadata": {
        "id": "fAoXlgjZ_c55"
      },
      "source": [
        "# **Data Imputation**\n",
        "\n",
        "List of R Packages\n",
        "\n",
        "MICE\n",
        "\n",
        "Amelia\n",
        "\n",
        "missForest\n",
        "\n",
        "Hmisc\n",
        "\n",
        "mi\n",
        "\n"
      ]
    },
    {
      "cell_type": "markdown",
      "metadata": {
        "id": "_winZuiJzK9C"
      },
      "source": [
        "NA ==> Not Available \n",
        "\n",
        "?\n",
        "\n",
        "??\n",
        "\n",
        "???\n",
        "\n",
        "NULL"
      ]
    },
    {
      "cell_type": "markdown",
      "metadata": {
        "id": "AmdKKk0iDeBs"
      },
      "source": [
        "# Precisely, the methods used by this package are:\n",
        "PMM (Predictive Mean Matching) — For numeric variables\n",
        "\n",
        "\n",
        "logreg(Logistic Regression) — For Binary Variables(with 2 levels)\n",
        "\n",
        "\n",
        "polyreg(Bayesian polytomous regression) — For Factor Variables (>= 2 levels)\n",
        "\n",
        "\n",
        "Proportional odds model (ordered, >= 2 levels)"
      ]
    },
    {
      "cell_type": "markdown",
      "metadata": {
        "id": "_rY3IqIjDhUJ"
      },
      "source": [
        "# **Mean/ Mode/ Median Imputation**"
      ]
    },
    {
      "cell_type": "markdown",
      "metadata": {
        "id": "fMmzOt3XDo0d"
      },
      "source": [
        "# **Similar case Imputation**"
      ]
    },
    {
      "cell_type": "markdown",
      "metadata": {
        "id": "OOKXloNfEDwm"
      },
      "source": [
        "# **Prediction Models:Regression, ANOVA, Logistic regression**"
      ]
    },
    {
      "cell_type": "markdown",
      "metadata": {
        "id": "WRDy-izREL8Y"
      },
      "source": [
        "# **KNN Imputation**"
      ]
    },
    {
      "cell_type": "markdown",
      "metadata": {
        "id": "As32V7HBEPSs"
      },
      "source": [
        "# **The missForest is an implementation of random forest algorithm.**"
      ]
    },
    {
      "cell_type": "code",
      "metadata": {
        "colab": {
          "base_uri": "https://localhost:8080/"
        },
        "id": "vD72hqGDFU6P",
        "outputId": "4e2acaad-9688-488c-a5fc-f5fea7323f73"
      },
      "source": [
        "install.packages(\"mice\")\n",
        "install.packages(\"VIM\")\n",
        "install.packages(\"lattice\")\n",
        "#Loading the mice package\n",
        "library(mice)\n",
        "\n",
        "#Loading the following package for looking at the missing values\n",
        "library(VIM)\n",
        "library(lattice)\n"
      ],
      "execution_count": null,
      "outputs": [
        {
          "output_type": "stream",
          "name": "stderr",
          "text": [
            "Installing package into ‘/usr/local/lib/R/site-library’\n",
            "(as ‘lib’ is unspecified)\n",
            "\n",
            "Installing package into ‘/usr/local/lib/R/site-library’\n",
            "(as ‘lib’ is unspecified)\n",
            "\n",
            "also installing the dependencies ‘listenv’, ‘parallelly’, ‘future’, ‘globals’, ‘future.apply’, ‘progressr’, ‘SQUAREM’, ‘lava’, ‘prodlim’, ‘iterators’, ‘gower’, ‘ipred’, ‘timeDate’, ‘foreach’, ‘ModelMetrics’, ‘plyr’, ‘pROC’, ‘recipes’, ‘reshape2’, ‘matrixStats’, ‘caret’, ‘RcppArmadillo’, ‘numDeriv’, ‘SparseM’, ‘MatrixModels’, ‘conquer’, ‘minqa’, ‘nloptr’, ‘zoo’, ‘carData’, ‘abind’, ‘pbkrtest’, ‘quantreg’, ‘maptools’, ‘lme4’, ‘DEoptimR’, ‘lmtest’, ‘proxy’, ‘RcppEigen’, ‘car’, ‘robustbase’, ‘sp’, ‘vcd’, ‘e1071’, ‘laeken’, ‘ranger’\n",
            "\n",
            "\n",
            "Installing package into ‘/usr/local/lib/R/site-library’\n",
            "(as ‘lib’ is unspecified)\n",
            "\n",
            "Loading required package: colorspace\n",
            "\n",
            "Loading required package: grid\n",
            "\n",
            "VIM is ready to use.\n",
            "\n",
            "\n",
            "Suggestions and bug-reports can be submitted at: https://github.com/statistikat/VIM/issues\n",
            "\n",
            "\n",
            "Attaching package: ‘VIM’\n",
            "\n",
            "\n",
            "The following object is masked from ‘package:datasets’:\n",
            "\n",
            "    sleep\n",
            "\n",
            "\n"
          ]
        }
      ]
    },
    {
      "cell_type": "code",
      "metadata": {
        "id": "yodX9wEWFIPu",
        "colab": {
          "base_uri": "https://localhost:8080/"
        },
        "outputId": "c0b6ad3b-e60c-43d8-92cf-47c1d3e4d895"
      },
      "source": [
        "# First look at the data\n",
        "data(nhanes)\n",
        "str(nhanes)"
      ],
      "execution_count": null,
      "outputs": [
        {
          "output_type": "stream",
          "name": "stdout",
          "text": [
            "'data.frame':\t25 obs. of  4 variables:\n",
            " $ age: num  1 2 1 3 1 3 1 1 2 2 ...\n",
            " $ bmi: num  NA 22.7 NA NA 20.4 NA 22.5 30.1 22 NA ...\n",
            " $ hyp: num  NA 1 1 NA 1 NA 1 1 1 NA ...\n",
            " $ chl: num  NA 187 187 NA 113 184 118 187 238 NA ...\n"
          ]
        }
      ]
    },
    {
      "cell_type": "code",
      "metadata": {
        "id": "S_-EhZtDI3tR"
      },
      "source": [
        "#Convert Age to factor\n",
        "nhanes$age=as.factor(nhanes$age)"
      ],
      "execution_count": null,
      "outputs": []
    },
    {
      "cell_type": "code",
      "metadata": {
        "id": "JGMbXuuLI8Sv",
        "colab": {
          "base_uri": "https://localhost:8080/",
          "height": 670
        },
        "outputId": "b2367054-a681-4667-d42e-8658752c2106"
      },
      "source": [
        "#understand the missing value pattern\n",
        "md.pattern(nhanes)"
      ],
      "execution_count": null,
      "outputs": [
        {
          "output_type": "display_data",
          "data": {
            "text/plain": [
              "   age hyp bmi chl   \n",
              "13 1   1   1    1   0\n",
              "3  1   1   1    0   1\n",
              "1  1   1   0    1   1\n",
              "1  1   0   0    1   2\n",
              "7  1   0   0    0   3\n",
              "   0   8   9   10  27"
            ],
            "text/latex": "A matrix: 6 × 5 of type dbl\n\\begin{tabular}{r|lllll}\n  & age & hyp & bmi & chl & \\\\\n\\hline\n\t13 & 1 & 1 & 1 &  1 &  0\\\\\n\t3 & 1 & 1 & 1 &  0 &  1\\\\\n\t1 & 1 & 1 & 0 &  1 &  1\\\\\n\t1 & 1 & 0 & 0 &  1 &  2\\\\\n\t7 & 1 & 0 & 0 &  0 &  3\\\\\n\t & 0 & 8 & 9 & 10 & 27\\\\\n\\end{tabular}\n",
            "text/markdown": "\nA matrix: 6 × 5 of type dbl\n\n| <!--/--> | age | hyp | bmi | chl | <!----> |\n|---|---|---|---|---|---|\n| 13 | 1 | 1 | 1 |  1 |  0 |\n| 3 | 1 | 1 | 1 |  0 |  1 |\n| 1 | 1 | 1 | 0 |  1 |  1 |\n| 1 | 1 | 0 | 0 |  1 |  2 |\n| 7 | 1 | 0 | 0 |  0 |  3 |\n| <!----> | 0 | 8 | 9 | 10 | 27 |\n\n",
            "text/html": [
              "<table class=\"dataframe\">\n",
              "<caption>A matrix: 6 × 5 of type dbl</caption>\n",
              "<thead>\n",
              "\t<tr><th></th><th scope=col>age</th><th scope=col>hyp</th><th scope=col>bmi</th><th scope=col>chl</th><th scope=col></th></tr>\n",
              "</thead>\n",
              "<tbody>\n",
              "\t<tr><th scope=row>13</th><td>1</td><td>1</td><td>1</td><td> 1</td><td> 0</td></tr>\n",
              "\t<tr><th scope=row>3</th><td>1</td><td>1</td><td>1</td><td> 0</td><td> 1</td></tr>\n",
              "\t<tr><th scope=row>1</th><td>1</td><td>1</td><td>0</td><td> 1</td><td> 1</td></tr>\n",
              "\t<tr><th scope=row>1</th><td>1</td><td>0</td><td>0</td><td> 1</td><td> 2</td></tr>\n",
              "\t<tr><th scope=row>7</th><td>1</td><td>0</td><td>0</td><td> 0</td><td> 3</td></tr>\n",
              "\t<tr><th scope=row></th><td>0</td><td>8</td><td>9</td><td>10</td><td>27</td></tr>\n",
              "</tbody>\n",
              "</table>\n"
            ]
          },
          "metadata": {}
        },
        {
          "output_type": "display_data",
          "data": {
            "image/png": "[encoded data removed]",
            "text/plain": [
              "plot without title"
            ]
          },
          "metadata": {
            "image/png": {
              "width": 420,
              "height": 420
            }
          }
        }
      ]
    },
    {
      "cell_type": "code",
      "metadata": {
        "id": "OjKkKd4tJ3LC",
        "colab": {
          "base_uri": "https://localhost:8080/",
          "height": 554
        },
        "outputId": "6e21de50-8f21-4b73-d948-add04f025a58"
      },
      "source": [
        "#plot the missing values\n",
        "nhanes_miss = aggr(nhanes, col=mdc(1:2), numbers=TRUE, sortVars=TRUE, labels=names(nhanes), cex.axis=.7, gap=3, ylab=c(\"Proportion of missingness\",\"Missingness Pattern\"))"
      ],
      "execution_count": null,
      "outputs": [
        {
          "output_type": "stream",
          "name": "stdout",
          "text": [
            "\n",
            " Variables sorted by number of missings: \n",
            " Variable Count\n",
            "      chl  0.40\n",
            "      bmi  0.36\n",
            "      hyp  0.32\n",
            "      age  0.00\n"
          ]
        },
        {
          "output_type": "display_data",
          "data": {
            "image/png": "[encoded data removed]",
            "text/plain": [
              "plot without title"
            ]
          },
          "metadata": {
            "image/png": {
              "width": 420,
              "height": 420
            }
          }
        }
      ]
    },
    {
      "cell_type": "code",
      "metadata": {
        "colab": {
          "base_uri": "https://localhost:8080/"
        },
        "id": "FugU8LXqMhrw",
        "outputId": "6099ea3f-c7d9-4748-8135-c32834585802"
      },
      "source": [
        "#Imputing missing values using mice\n",
        "mice_imputes = mice(nhanes, m=5, maxit = 40)"
      ],
      "execution_count": null,
      "outputs": [
        {
          "output_type": "stream",
          "name": "stdout",
          "text": [
            "\n",
            " iter imp variable\n",
            "  1   1  bmi  hyp  chl\n",
            "  1   2  bmi  hyp  chl\n",
            "  1   3  bmi  hyp  chl\n",
            "  1   4  bmi  hyp  chl\n",
            "  1   5  bmi  hyp  chl\n",
            "  2   1  bmi  hyp  chl\n",
            "  2   2  bmi  hyp  chl\n",
            "  2   3  bmi  hyp  chl\n",
            "  2   4  bmi  hyp  chl\n",
            "  2   5  bmi  hyp  chl\n",
            "  3   1  bmi  hyp  chl\n",
            "  3   2  bmi  hyp  chl\n",
            "  3   3  bmi  hyp  chl\n",
            "  3   4  bmi  hyp  chl\n",
            "  3   5  bmi  hyp  chl\n",
            "  4   1  bmi  hyp  chl\n",
            "  4   2  bmi  hyp  chl\n",
            "  4   3  bmi  hyp  chl\n",
            "  4   4  bmi  hyp  chl\n",
            "  4   5  bmi  hyp  chl\n",
            "  5   1  bmi  hyp  chl\n",
            "  5   2  bmi  hyp  chl\n",
            "  5   3  bmi  hyp  chl\n",
            "  5   4  bmi  hyp  chl\n",
            "  5   5  bmi  hyp  chl\n",
            "  6   1  bmi  hyp  chl\n",
            "  6   2  bmi  hyp  chl\n",
            "  6   3  bmi  hyp  chl\n",
            "  6   4  bmi  hyp  chl\n",
            "  6   5  bmi  hyp  chl\n",
            "  7   1  bmi  hyp  chl\n",
            "  7   2  bmi  hyp  chl\n",
            "  7   3  bmi  hyp  chl\n",
            "  7   4  bmi  hyp  chl\n",
            "  7   5  bmi  hyp  chl\n",
            "  8   1  bmi  hyp  chl\n",
            "  8   2  bmi  hyp  chl\n",
            "  8   3  bmi  hyp  chl\n",
            "  8   4  bmi  hyp  chl\n",
            "  8   5  bmi  hyp  chl\n",
            "  9   1  bmi  hyp  chl\n",
            "  9   2  bmi  hyp  chl\n",
            "  9   3  bmi  hyp  chl\n",
            "  9   4  bmi  hyp  chl\n",
            "  9   5  bmi  hyp  chl\n",
            "  10   1  bmi  hyp  chl\n",
            "  10   2  bmi  hyp  chl\n",
            "  10   3  bmi  hyp  chl\n",
            "  10   4  bmi  hyp  chl\n",
            "  10   5  bmi  hyp  chl\n",
            "  11   1  bmi  hyp  chl\n",
            "  11   2  bmi  hyp  chl\n",
            "  11   3  bmi  hyp  chl\n",
            "  11   4  bmi  hyp  chl\n",
            "  11   5  bmi  hyp  chl\n",
            "  12   1  bmi  hyp  chl\n",
            "  12   2  bmi  hyp  chl\n",
            "  12   3  bmi  hyp  chl\n",
            "  12   4  bmi  hyp  chl\n",
            "  12   5  bmi  hyp  chl\n",
            "  13   1  bmi  hyp  chl\n",
            "  13   2  bmi  hyp  chl\n",
            "  13   3  bmi  hyp  chl\n",
            "  13   4  bmi  hyp  chl\n",
            "  13   5  bmi  hyp  chl\n",
            "  14   1  bmi  hyp  chl\n",
            "  14   2  bmi  hyp  chl\n",
            "  14   3  bmi  hyp  chl\n",
            "  14   4  bmi  hyp  chl\n",
            "  14   5  bmi  hyp  chl\n",
            "  15   1  bmi  hyp  chl\n",
            "  15   2  bmi  hyp  chl\n",
            "  15   3  bmi  hyp  chl\n",
            "  15   4  bmi  hyp  chl\n",
            "  15   5  bmi  hyp  chl\n",
            "  16   1  bmi  hyp  chl\n",
            "  16   2  bmi  hyp  chl\n",
            "  16   3  bmi  hyp  chl\n",
            "  16   4  bmi  hyp  chl\n",
            "  16   5  bmi  hyp  chl\n",
            "  17   1  bmi  hyp  chl\n",
            "  17   2  bmi  hyp  chl\n",
            "  17   3  bmi  hyp  chl\n",
            "  17   4  bmi  hyp  chl\n",
            "  17   5  bmi  hyp  chl\n",
            "  18   1  bmi  hyp  chl\n",
            "  18   2  bmi  hyp  chl\n",
            "  18   3  bmi  hyp  chl\n",
            "  18   4  bmi  hyp  chl\n",
            "  18   5  bmi  hyp  chl\n",
            "  19   1  bmi  hyp  chl\n",
            "  19   2  bmi  hyp  chl\n",
            "  19   3  bmi  hyp  chl\n",
            "  19   4  bmi  hyp  chl\n",
            "  19   5  bmi  hyp  chl\n",
            "  20   1  bmi  hyp  chl\n",
            "  20   2  bmi  hyp  chl\n",
            "  20   3  bmi  hyp  chl\n",
            "  20   4  bmi  hyp  chl\n",
            "  20   5  bmi  hyp  chl\n",
            "  21   1  bmi  hyp  chl\n",
            "  21   2  bmi  hyp  chl\n",
            "  21   3  bmi  hyp  chl\n",
            "  21   4  bmi  hyp  chl\n",
            "  21   5  bmi  hyp  chl\n",
            "  22   1  bmi  hyp  chl\n",
            "  22   2  bmi  hyp  chl\n",
            "  22   3  bmi  hyp  chl\n",
            "  22   4  bmi  hyp  chl\n",
            "  22   5  bmi  hyp  chl\n",
            "  23   1  bmi  hyp  chl\n",
            "  23   2  bmi  hyp  chl\n",
            "  23   3  bmi  hyp  chl\n",
            "  23   4  bmi  hyp  chl\n",
            "  23   5  bmi  hyp  chl\n",
            "  24   1  bmi  hyp  chl\n",
            "  24   2  bmi  hyp  chl\n",
            "  24   3  bmi  hyp  chl\n",
            "  24   4  bmi  hyp  chl\n",
            "  24   5  bmi  hyp  chl\n",
            "  25   1  bmi  hyp  chl\n",
            "  25   2  bmi  hyp  chl\n",
            "  25   3  bmi  hyp  chl\n",
            "  25   4  bmi  hyp  chl\n",
            "  25   5  bmi  hyp  chl\n",
            "  26   1  bmi  hyp  chl\n",
            "  26   2  bmi  hyp  chl\n",
            "  26   3  bmi  hyp  chl\n",
            "  26   4  bmi  hyp  chl\n",
            "  26   5  bmi  hyp  chl\n",
            "  27   1  bmi  hyp  chl\n",
            "  27   2  bmi  hyp  chl\n",
            "  27   3  bmi  hyp  chl\n",
            "  27   4  bmi  hyp  chl\n",
            "  27   5  bmi  hyp  chl\n",
            "  28   1  bmi  hyp  chl\n",
            "  28   2  bmi  hyp  chl\n",
            "  28   3  bmi  hyp  chl\n",
            "  28   4  bmi  hyp  chl\n",
            "  28   5  bmi  hyp  chl\n",
            "  29   1  bmi  hyp  chl\n",
            "  29   2  bmi  hyp  chl\n",
            "  29   3  bmi  hyp  chl\n",
            "  29   4  bmi  hyp  chl\n",
            "  29   5  bmi  hyp  chl\n",
            "  30   1  bmi  hyp  chl\n",
            "  30   2  bmi  hyp  chl\n",
            "  30   3  bmi  hyp  chl\n",
            "  30   4  bmi  hyp  chl\n",
            "  30   5  bmi  hyp  chl\n",
            "  31   1  bmi  hyp  chl\n",
            "  31   2  bmi  hyp  chl\n",
            "  31   3  bmi  hyp  chl\n",
            "  31   4  bmi  hyp  chl\n",
            "  31   5  bmi  hyp  chl\n",
            "  32   1  bmi  hyp  chl\n",
            "  32   2  bmi  hyp  chl\n",
            "  32   3  bmi  hyp  chl\n",
            "  32   4  bmi  hyp  chl\n",
            "  32   5  bmi  hyp  chl\n",
            "  33   1  bmi  hyp  chl\n",
            "  33   2  bmi  hyp  chl\n",
            "  33   3  bmi  hyp  chl\n",
            "  33   4  bmi  hyp  chl\n",
            "  33   5  bmi  hyp  chl\n",
            "  34   1  bmi  hyp  chl\n",
            "  34   2  bmi  hyp  chl\n",
            "  34   3  bmi  hyp  chl\n",
            "  34   4  bmi  hyp  chl\n",
            "  34   5  bmi  hyp  chl\n",
            "  35   1  bmi  hyp  chl\n",
            "  35   2  bmi  hyp  chl\n",
            "  35   3  bmi  hyp  chl\n",
            "  35   4  bmi  hyp  chl\n",
            "  35   5  bmi  hyp  chl\n",
            "  36   1  bmi  hyp  chl\n",
            "  36   2  bmi  hyp  chl\n",
            "  36   3  bmi  hyp  chl\n",
            "  36   4  bmi  hyp  chl\n",
            "  36   5  bmi  hyp  chl\n",
            "  37   1  bmi  hyp  chl\n",
            "  37   2  bmi  hyp  chl\n",
            "  37   3  bmi  hyp  chl\n",
            "  37   4  bmi  hyp  chl\n",
            "  37   5  bmi  hyp  chl\n",
            "  38   1  bmi  hyp  chl\n",
            "  38   2  bmi  hyp  chl\n",
            "  38   3  bmi  hyp  chl\n",
            "  38   4  bmi  hyp  chl\n",
            "  38   5  bmi  hyp  chl\n",
            "  39   1  bmi  hyp  chl\n",
            "  39   2  bmi  hyp  chl\n",
            "  39   3  bmi  hyp  chl\n",
            "  39   4  bmi  hyp  chl\n",
            "  39   5  bmi  hyp  chl\n",
            "  40   1  bmi  hyp  chl\n",
            "  40   2  bmi  hyp  chl\n",
            "  40   3  bmi  hyp  chl\n",
            "  40   4  bmi  hyp  chl\n",
            "  40   5  bmi  hyp  chl\n"
          ]
        }
      ]
    },
    {
      "cell_type": "code",
      "metadata": {
        "colab": {
          "base_uri": "https://localhost:8080/",
          "height": 34
        },
        "id": "UdnsGpnMMdbG",
        "outputId": "101654c7-7603-4af7-ebfa-2b6040dfbf88"
      },
      "source": [
        "mice_imputes$method"
      ],
      "execution_count": null,
      "outputs": [
        {
          "output_type": "display_data",
          "data": {
            "text/plain": [
              "  age   bmi   hyp   chl \n",
              "   \"\" \"pmm\" \"pmm\" \"pmm\" "
            ],
            "text/latex": "\\begin{description*}\n\\item[age] ''\n\\item[bmi] 'pmm'\n\\item[hyp] 'pmm'\n\\item[chl] 'pmm'\n\\end{description*}\n",
            "text/markdown": "age\n:   ''bmi\n:   'pmm'hyp\n:   'pmm'chl\n:   'pmm'\n\n",
            "text/html": [
              "<style>\n",
              ".dl-inline {width: auto; margin:0; padding: 0}\n",
              ".dl-inline>dt, .dl-inline>dd {float: none; width: auto; display: inline-block}\n",
              ".dl-inline>dt::after {content: \":\\0020\"; padding-right: .5ex}\n",
              ".dl-inline>dt:not(:first-of-type) {padding-left: .5ex}\n",
              "</style><dl class=dl-inline><dt>age</dt><dd>''</dd><dt>bmi</dt><dd>'pmm'</dd><dt>hyp</dt><dd>'pmm'</dd><dt>chl</dt><dd>'pmm'</dd></dl>\n"
            ]
          },
          "metadata": {}
        }
      ]
    },
    {
      "cell_type": "code",
      "metadata": {
        "id": "K7Np2qS3J-a5"
      },
      "source": [
        "#Imputed dataset\n",
        "Imputed_data=complete(mice_imputes,5)"
      ],
      "execution_count": null,
      "outputs": []
    },
    {
      "cell_type": "markdown",
      "metadata": {
        "id": "OgemXZY9NE1H"
      },
      "source": [
        "Goodness of fit\n",
        "\n",
        "The values are imputed but how good were they? The xyplot() and densityplot() functions come into picture and help us verify our imputations"
      ]
    },
    {
      "cell_type": "code",
      "metadata": {
        "colab": {
          "base_uri": "https://localhost:8080/",
          "height": 437
        },
        "id": "p4gJnpQOMtN2",
        "outputId": "083a3ca3-eb1e-414e-ac41-053e31719c7e"
      },
      "source": [
        "#Plotting and comparing values with xyplot()\n",
        "xyplot(mice_imputes, bmi ~ chl | .imp, pch = 20, cex = 1.4)"
      ],
      "execution_count": null,
      "outputs": [
        {
          "output_type": "display_data",
          "data": {
            "image/png": "[encoded data removed]",
            "text/plain": [
              "plot without title"
            ]
          },
          "metadata": {
            "image/png": {
              "width": 420,
              "height": 420
            }
          }
        }
      ]
    },
    {
      "cell_type": "markdown",
      "metadata": {
        "id": "5gyV1ZfkNCIq"
      },
      "source": [
        "Here again, the blue ones are the observed data and red ones are imputed data. The red points should ideally be similar to the blue ones so that the imputed values are similar. We can also look at the density plot of the data."
      ]
    },
    {
      "cell_type": "code",
      "metadata": {
        "colab": {
          "base_uri": "https://localhost:8080/",
          "height": 437
        },
        "id": "uxiNndovNBBK",
        "outputId": "763336bd-d6af-4605-a415-77547be1ca23"
      },
      "source": [
        "#make a density plot\n",
        "densityplot(mice_imputes)"
      ],
      "execution_count": null,
      "outputs": [
        {
          "output_type": "display_data",
          "data": {
            "image/png": "[encoded data removed]",
            "text/plain": [
              "plot without title"
            ]
          },
          "metadata": {
            "image/png": {
              "width": 420,
              "height": 420
            }
          }
        }
      ]
    },
    {
      "cell_type": "code",
      "metadata": {
        "colab": {
          "base_uri": "https://localhost:8080/"
        },
        "id": "5tqZLKo8c1U_",
        "outputId": "a7ff780e-e15f-4795-dfc6-a24b1af9840b"
      },
      "source": [
        "v <- LETTERS[1:3]\n",
        "\n",
        "#for ( i in v) {\n",
        "\n",
        "print(v)\n",
        "\n",
        "#}"
      ],
      "execution_count": null,
      "outputs": [
        {
          "output_type": "stream",
          "name": "stdout",
          "text": [
            "[1] \"A\" \"B\" \"C\"\n"
          ]
        }
      ]
    },
    {
      "cell_type": "code",
      "metadata": {
        "colab": {
          "base_uri": "https://localhost:8080/"
        },
        "id": "JZqf1P7Sh5MK",
        "outputId": "b851f1d3-6a0b-430b-a392-4ce7fb6aac68"
      },
      "source": [
        "print(mean(1:5))"
      ],
      "execution_count": null,
      "outputs": [
        {
          "output_type": "stream",
          "name": "stdout",
          "text": [
            "[1] 3\n"
          ]
        }
      ]
    },
    {
      "cell_type": "code",
      "metadata": {
        "id": "PEB09imJiCs7",
        "colab": {
          "base_uri": "https://localhost:8080/",
          "height": 34
        },
        "outputId": "6fae1c0f-abb3-478f-df09-e7a39bd49c9b"
      },
      "source": [
        "paste(\"a\", \"b\", se = \":\")"
      ],
      "execution_count": null,
      "outputs": [
        {
          "output_type": "display_data",
          "data": {
            "text/plain": [
              "[1] \"a b :\""
            ],
            "text/latex": "'a b :'",
            "text/markdown": "'a b :'",
            "text/html": [
              "'a b :'"
            ]
          },
          "metadata": {}
        }
      ]
    }
  ]
}